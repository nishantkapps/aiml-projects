{
  "nbformat": 4,
  "nbformat_minor": 0,
  "metadata": {
    "colab": {
      "provenance": [],
      "mount_file_id": "1LWka9HyAJj4CdbWihGhjuBTsrBNraFqA",
      "authorship_tag": "ABX9TyNRkqszGTlzneOF0iPC50M/",
      "include_colab_link": true
    },
    "kernelspec": {
      "name": "python3",
      "display_name": "Python 3"
    },
    "language_info": {
      "name": "python"
    },
    "accelerator": "GPU"
  },
  "cells": [
    {
      "cell_type": "markdown",
      "metadata": {
        "id": "view-in-github",
        "colab_type": "text"
      },
      "source": [
        "<a href=\"https://colab.research.google.com/github/nishantkapps/aiml-projects/blob/main/Denoising_Autoencoder.ipynb\" target=\"_parent\"><img src=\"https://colab.research.google.com/assets/colab-badge.svg\" alt=\"Open In Colab\"/></a>"
      ]
    },
    {
      "cell_type": "code",
      "execution_count": null,
      "metadata": {
        "id": "u1IIgU48vFg2"
      },
      "outputs": [],
      "source": [
        "import keras\n",
        "import numpy as np\n",
        "import matplotlib.pyplot as plt\n",
        "%matplotlib inline\n",
        "from keras.layers import Layer\n",
        "from keras.datasets import mnist\n",
        "from keras.models import Model\n",
        "from keras.layers import Input, add\n",
        "from keras.layers.core import  Dense, Dropout, Activation, Flatten, Reshape\n",
        "from keras import regularizers\n",
        "from keras.regularizers import l2\n",
        "from keras.layers.convolutional import Conv2D, MaxPooling2D, UpSampling2D, ZeroPadding2D\n",
        "from keras.utils import np_utils"
      ]
    },
    {
      "cell_type": "markdown",
      "source": [
        "## **Read MNIST data and preprocess data to the format needed by Autoencoder**"
      ],
      "metadata": {
        "id": "PrXXPZ3Vwkpa"
      }
    },
    {
      "cell_type": "code",
      "source": [
        "# Load the data mnist\n",
        "# We do not need labels as autoencoder is unsupervised network\n",
        "# for this, we are using _ instead of y_train/y_test\n",
        "(x_train, _), (x_test, _)=mnist.load_data()\n",
        "x_train.shape"
      ],
      "metadata": {
        "colab": {
          "base_uri": "https://localhost:8080/"
        },
        "id": "Hio9PW4vvjLF",
        "outputId": "219b75df-f33c-4bbc-8073-cde2f051e77d"
      },
      "execution_count": null,
      "outputs": [
        {
          "output_type": "stream",
          "name": "stdout",
          "text": [
            "Downloading data from https://storage.googleapis.com/tensorflow/tf-keras-datasets/mnist.npz\n",
            "11493376/11490434 [==============================] - 0s 0us/step\n",
            "11501568/11490434 [==============================] - 0s 0us/step\n"
          ]
        },
        {
          "output_type": "execute_result",
          "data": {
            "text/plain": [
              "(60000, 28, 28)"
            ]
          },
          "metadata": {},
          "execution_count": 2
        }
      ]
    },
    {
      "cell_type": "code",
      "source": [
        "# Reshape to add channel - for GrayScale images from MNIST, channel is 1\n",
        "x_train = x_train.reshape(x_train.shape[0], x_train.shape[1], x_train.shape[2], 1)\n",
        "x_test = x_test.reshape(x_test.shape[0], x_test.shape[1], x_test.shape[2], 1)"
      ],
      "metadata": {
        "id": "SuNe4To7wPXU"
      },
      "execution_count": null,
      "outputs": []
    },
    {
      "cell_type": "code",
      "source": [
        "# Normalize the data pixel values to be in 0 to 1 range\n",
        "x_train = x_train.astype('float32')/255.\n",
        "x_test = x_test.astype('float32')/255."
      ],
      "metadata": {
        "id": "1_ScJXf_xaO1"
      },
      "execution_count": null,
      "outputs": []
    },
    {
      "cell_type": "code",
      "source": [
        "# Flatten the images for fully connected layer (all 784 (28X28) pixels need to go as input)\n",
        "x_train = x_train.reshape(x_train.shape[0],np.prod(x_train.shape[1:]))\n",
        "x_test = x_test.reshape(x_test.shape[0],np.prod(x_test.shape[1:]))"
      ],
      "metadata": {
        "id": "UiwWIw2ZySSL"
      },
      "execution_count": null,
      "outputs": []
    },
    {
      "cell_type": "markdown",
      "source": [
        "## **Add noise to images**"
      ],
      "metadata": {
        "id": "bml42v65x2rR"
      }
    },
    {
      "cell_type": "code",
      "source": [
        "###  Create the noise\n",
        "### -------------------------------------------------------------\n",
        "###  1. New image with noise must have same dimensions\n",
        "###  2. New image should follow the same distribution ( loc - Mean, scale - Std Dev )\n",
        "###  3. Select Noise factor ( 0.0 - 1.0 )\n",
        "noise_factor = 0.2\n",
        "x_train_noisy = x_train+noise_factor*np.random.normal(loc=0.0,scale=1.0,size=x_train.shape)\n",
        "x_test_noisy = x_test+noise_factor*np.random.normal(loc=0.0,scale=1.0,size=x_test.shape)\n",
        "x_train_noisy = np.clip(x_train_noisy,0.,1.)\n",
        "x_test_noisy = np.clip(x_test_noisy,0.,1.)"
      ],
      "metadata": {
        "id": "M1ekhbBDyFj7"
      },
      "execution_count": null,
      "outputs": []
    },
    {
      "cell_type": "markdown",
      "source": [
        "## **Design the Network**"
      ],
      "metadata": {
        "id": "-Dvrre0c09BY"
      }
    },
    {
      "cell_type": "code",
      "source": [
        "from keras.models import Sequential\n",
        "from keras.layers import Dense"
      ],
      "metadata": {
        "id": "FmGpn_l20fvm"
      },
      "execution_count": null,
      "outputs": []
    },
    {
      "cell_type": "code",
      "source": [
        "num_pixels=784"
      ],
      "metadata": {
        "id": "d7OvIFEL1fQd"
      },
      "execution_count": null,
      "outputs": []
    },
    {
      "cell_type": "code",
      "source": [
        "# Create a model\n",
        "model = Sequential()\n",
        "\n",
        "# Encoder Network\n",
        "model.add(Dense(500,input_dim=num_pixels,activation='relu'))\n",
        "model.add(Dense(300,activation='relu'))\n",
        "model.add(Dense(100,activation='relu'))\n",
        "\n",
        "# Decoder Network\n",
        "model.add(Dense(300,activation='relu'))\n",
        "model.add(Dense(500,activation='relu'))\n",
        "model.add(Dense(784,activation='sigmoid'))\n",
        "model.summary()\n"
      ],
      "metadata": {
        "colab": {
          "base_uri": "https://localhost:8080/"
        },
        "id": "gW9yC33Q1LMO",
        "outputId": "4b8c523f-bc81-4c48-aa9a-8b31cfaa6308"
      },
      "execution_count": null,
      "outputs": [
        {
          "output_type": "stream",
          "name": "stdout",
          "text": [
            "Model: \"sequential\"\n",
            "_________________________________________________________________\n",
            " Layer (type)                Output Shape              Param #   \n",
            "=================================================================\n",
            " dense (Dense)               (None, 500)               392500    \n",
            "                                                                 \n",
            " dense_1 (Dense)             (None, 300)               150300    \n",
            "                                                                 \n",
            " dense_2 (Dense)             (None, 100)               30100     \n",
            "                                                                 \n",
            " dense_3 (Dense)             (None, 300)               30300     \n",
            "                                                                 \n",
            " dense_4 (Dense)             (None, 500)               150500    \n",
            "                                                                 \n",
            " dense_5 (Dense)             (None, 784)               392784    \n",
            "                                                                 \n",
            "=================================================================\n",
            "Total params: 1,146,484\n",
            "Trainable params: 1,146,484\n",
            "Non-trainable params: 0\n",
            "_________________________________________________________________\n"
          ]
        }
      ]
    },
    {
      "cell_type": "code",
      "source": [
        "model.compile(optimizer='adam',loss='mean_squared_error')"
      ],
      "metadata": {
        "id": "QzW_5e462XFY"
      },
      "execution_count": null,
      "outputs": []
    },
    {
      "cell_type": "code",
      "source": [
        "epochs=5\n",
        "batch_size=200\n",
        "history = model.fit(x_train_noisy,x_train, validation_data=(x_test_noisy,x_test), epochs=epochs, batch_size=batch_size)"
      ],
      "metadata": {
        "colab": {
          "base_uri": "https://localhost:8080/"
        },
        "id": "14pJMuss27cv",
        "outputId": "e913488d-d7da-4bed-9480-7f6f66002368"
      },
      "execution_count": null,
      "outputs": [
        {
          "output_type": "stream",
          "name": "stdout",
          "text": [
            "Epoch 1/5\n",
            "300/300 [==============================] - 1s 4ms/step - loss: 0.0107 - val_loss: 0.0098\n",
            "Epoch 2/5\n",
            "300/300 [==============================] - 1s 4ms/step - loss: 0.0096 - val_loss: 0.0090\n",
            "Epoch 3/5\n",
            "300/300 [==============================] - 1s 4ms/step - loss: 0.0088 - val_loss: 0.0083\n",
            "Epoch 4/5\n",
            "300/300 [==============================] - 1s 4ms/step - loss: 0.0082 - val_loss: 0.0080\n",
            "Epoch 5/5\n",
            "300/300 [==============================] - 1s 4ms/step - loss: 0.0077 - val_loss: 0.0075\n"
          ]
        }
      ]
    },
    {
      "cell_type": "code",
      "source": [
        "# final image\n",
        "denoised_img = model.predict(x_test_noisy)"
      ],
      "metadata": {
        "id": "sa5IJA1c3tqQ"
      },
      "execution_count": null,
      "outputs": []
    },
    {
      "cell_type": "code",
      "source": [
        "n = 10\n",
        "plt.figure(figsize=(20, 6))\n",
        "for i in range(n):\n",
        "    # display original\n",
        "    ax = plt.subplot(3, n, i+1)\n",
        "    plt.imshow(x_test_noisy[i].reshape(28, 28))\n",
        "    plt.gray()\n",
        "    ax.get_xaxis().set_visible(False)\n",
        "    ax.get_yaxis().set_visible(False)\n",
        "\n",
        "    # display reconstruction\n",
        "    ax = plt.subplot(3, n, i+n+1)\n",
        "    plt.imshow(denoised_img[i].reshape(28, 28))\n",
        "    plt.gray()\n",
        "    ax.get_xaxis().set_visible(False)\n",
        "    ax.get_yaxis().set_visible(False)\n",
        "\n",
        "plt.show()"
      ],
      "metadata": {
        "colab": {
          "base_uri": "https://localhost:8080/",
          "height": 231
        },
        "id": "kN6D_Dwl4HQD",
        "outputId": "cfbfc305-fb02-4153-d964-4f6b58c8eda0"
      },
      "execution_count": null,
      "outputs": [
        {
          "output_type": "display_data",
          "data": {
            "text/plain": [
              "<Figure size 1440x432 with 20 Axes>"
            ],
            "image/png": "[encoded data removed]"
          },
          "metadata": {
            "needs_background": "light"
          }
        }
      ]
    },
    {
      "cell_type": "markdown",
      "source": [
        "## **Variational Auto Encoder (VAE)**"
      ],
      "metadata": {
        "id": "s4BNr4vZ6Fmi"
      }
    },
    {
      "cell_type": "code",
      "source": [
        "# Autoencoder, RBN models are used for reconstructing images\n",
        "# VAE / GAN can create new images ( Generative Adversarial Network is predominantly used to create new images )"
      ],
      "metadata": {
        "id": "Qf39XwT96NM4"
      },
      "execution_count": null,
      "outputs": []
    }
  ]
}