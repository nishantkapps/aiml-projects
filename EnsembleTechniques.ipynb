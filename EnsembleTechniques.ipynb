{
  "nbformat": 4,
  "nbformat_minor": 0,
  "metadata": {
    "colab": {
      "provenance": [],
      "mount_file_id": "18zDrLzE_A968dxqvopmm_YtzmqqtS7sH",
      "authorship_tag": "ABX9TyNHsOQ4osO9XhKOQovd67CV",
      "include_colab_link": true
    },
    "kernelspec": {
      "name": "python3",
      "display_name": "Python 3"
    },
    "language_info": {
      "name": "python"
    }
  },
  "cells": [
    {
      "cell_type": "markdown",
      "metadata": {
        "id": "view-in-github",
        "colab_type": "text"
      },
      "source": [
        "<a href=\"https://colab.research.google.com/github/nishantkapps/aiml-projects/blob/main/EnsembleTechniques.ipynb\" target=\"_parent\"><img src=\"https://colab.research.google.com/assets/colab-badge.svg\" alt=\"Open In Colab\"/></a>"
      ]
    },
    {
      "cell_type": "markdown",
      "source": [
        "## **Great Learning / Deakin (MDS) Project Submission**\n",
        "## **Ensemble Techniques Project**\n",
        "## &emsp; - By Nishant Killedar\n",
        "<hr>\n",
        "\n",
        "> A telecom company wants to use their historical customer data and leverage machine learning to predict behaviour in an attempt to retain customers. The end goal is to develop focused customer retention programs\n",
        "\n",
        "> The objective, as a data scientist hired by the telecom company, is to build a model that will help to identify the potential customers who have a higher probability to churn. This will help the company to understand the pain points and patterns of customer churn and will increase the focus on strategising customer retention.\n",
        "\n",
        "**Demonstrate the ability to fetch, process and leverage data to generate useful predictions using Ensemble Techniques .**\n",
        "<br><br>\n",
        "<hr> "
      ],
      "metadata": {
        "id": "YjD98Wz50DO3"
      }
    },
    {
      "cell_type": "code",
      "execution_count": 1,
      "metadata": {
        "id": "5DSTOo6YLnB-"
      },
      "outputs": [],
      "source": [
        "import pandas as pd\n",
        "import numpy as np\n",
        "import seaborn as sns\n",
        "import matplotlib.pyplot as plt\n",
        "%matplotlib inline\n",
        "from sklearn.preprocessing import StandardScaler \n",
        "from sklearn.model_selection import train_test_split, GridSearchCV\n",
        "from sklearn.tree import DecisionTreeClassifier\n",
        "from sklearn.ensemble import RandomForestClassifier, AdaBoostClassifier, GradientBoostingClassifier\n",
        "from sklearn.metrics import accuracy_score, classification_report"
      ]
    },
    {
      "cell_type": "markdown",
      "source": [
        "<hr>\n",
        "\n",
        "**Section 1 : Data Understanding & Exploration: [5 Marks]**\n",
        "<li>A. Read ‘TelcomCustomer-Churn_1.csv’ as a DataFrame and assign it to a variable. [1 Mark]\n",
        "<li>B. Read ‘TelcomCustomer-Churn_2.csv’ as a DataFrame and assign it to a variable. [1 Mark]\n",
        "<li>C. Merge both the DataFrames on key ‘customerID’ to form a single DataFrame [2 Mark]\n",
        "<li>D. Verify if all the columns are incorporated in the merged DataFrame by using simple comparison Operator in Python. [1 Mark]\n",
        "\n",
        "<hr>"
      ],
      "metadata": {
        "id": "bkG6VeUP1aOG"
      }
    },
    {
      "cell_type": "code",
      "source": [
        "tcc1 = pd.read_csv('/content/drive/MyDrive/datasets/ensm/TelcomCustomer-Churn_1.csv')\n",
        "tcc2 = pd.read_csv('/content/drive/MyDrive/datasets/ensm/TelcomCustomer-Churn_2.csv')"
      ],
      "metadata": {
        "id": "gMsg7QoROah1"
      },
      "execution_count": 19,
      "outputs": []
    },
    {
      "cell_type": "code",
      "source": [
        "print('TelcomCustomer-Churn_1 :', tcc1.shape)\n",
        "print('TelcomCustomer-Churn_2 :', tcc2.shape)"
      ],
      "metadata": {
        "colab": {
          "base_uri": "https://localhost:8080/"
        },
        "id": "IR5z2ZM0QB5r",
        "outputId": "04bb0ced-fd27-4459-98f4-127e3f21e1fe"
      },
      "execution_count": 20,
      "outputs": [
        {
          "output_type": "stream",
          "name": "stdout",
          "text": [
            "TelcomCustomer-Churn_1 : (7043, 10)\n",
            "TelcomCustomer-Churn_2 : (7043, 12)\n"
          ]
        }
      ]
    },
    {
      "cell_type": "code",
      "source": [
        "data = pd.merge(tcc1, tcc2, on='customerID')\n",
        "print('Merged DataFrame :',data.shape)"
      ],
      "metadata": {
        "colab": {
          "base_uri": "https://localhost:8080/"
        },
        "id": "sdCeyWCIPpTo",
        "outputId": "4ff10bca-8bfc-4148-d99f-35bd5b9172ea"
      },
      "execution_count": 21,
      "outputs": [
        {
          "output_type": "stream",
          "name": "stdout",
          "text": [
            "Merged DataFrame : (7043, 21)\n"
          ]
        }
      ]
    },
    {
      "cell_type": "code",
      "source": [
        "all_cols = (tcc1.columns).append(tcc2.columns).drop_duplicates()\n",
        "merge_cols  = data.columns\n",
        "if set(all_cols).difference(set(merge_cols)) == set() : \n",
        "  print('All columns are included in the merge data frame')"
      ],
      "metadata": {
        "colab": {
          "base_uri": "https://localhost:8080/"
        },
        "id": "X6KxjHwEQYVj",
        "outputId": "1fff1378-9305-4930-e7aa-b2d1173a4dbc"
      },
      "execution_count": 22,
      "outputs": [
        {
          "output_type": "stream",
          "name": "stdout",
          "text": [
            "All columns are included in the merge data frame\n"
          ]
        }
      ]
    },
    {
      "cell_type": "markdown",
      "source": [
        "<hr>\n",
        "\n",
        "**Section 2 : Data Cleaning & Analysis: [15 Marks]**\n",
        "<li>A. Impute missing/unexpected values in the DataFrame. [2 Marks]\n",
        "<li>B. Make sure all the variables with continuous values are of ‘Float’ type. [2 Marks]<br>\n",
        "&emsp;&emsp;[For Example: MonthlyCharges, TotalCharges]\n",
        "<li>C. Create a function that will accept a DataFrame as input and return pie-charts for all the appropriate Categorical features. Clearly show percentage distribution in the pie-chart. [4 Marks]\n",
        "<li>D. Share insights for Q2.c. [2 Marks]\n",
        "<li>E. Encode all the appropriate Categorical features with the best suitable approach. [2 Marks]\n",
        "<li>F. Split the data into 80% train and 20% test. [1 Marks]\n",
        "<li>G. Normalize/Standardize the data with the best suitable approach. [2 Marks]\n",
        "\n",
        "<hr>"
      ],
      "metadata": {
        "id": "0VyRHhee18ar"
      }
    },
    {
      "cell_type": "code",
      "source": [
        "# Convert the type of the TotalCharges column to Float with coerce \n",
        "# This will make sure the NaN values show up in the isnull().sum() \n",
        "data['TotalCharges'] = data['TotalCharges'].apply(pd.to_numeric, errors='coerce')\n",
        "data.isnull().sum()"
      ],
      "metadata": {
        "colab": {
          "base_uri": "https://localhost:8080/"
        },
        "id": "y5Axzqej3aE_",
        "outputId": "ffa28bac-aeb1-4874-948d-55b1671e037d"
      },
      "execution_count": 26,
      "outputs": [
        {
          "output_type": "execute_result",
          "data": {
            "text/plain": [
              "customerID           0\n",
              "gender               0\n",
              "SeniorCitizen        0\n",
              "Partner              0\n",
              "Dependents           0\n",
              "tenure               0\n",
              "PhoneService         0\n",
              "MultipleLines        0\n",
              "InternetService      0\n",
              "OnlineSecurity       0\n",
              "OnlineBackup         0\n",
              "DeviceProtection     0\n",
              "TechSupport          0\n",
              "StreamingTV          0\n",
              "StreamingMovies      0\n",
              "Contract             0\n",
              "PaperlessBilling     0\n",
              "PaymentMethod        0\n",
              "MonthlyCharges       0\n",
              "TotalCharges        11\n",
              "Churn                0\n",
              "dtype: int64"
            ]
          },
          "metadata": {},
          "execution_count": 26
        }
      ]
    },
    {
      "cell_type": "markdown",
      "source": [
        "<hr>\n",
        "\n",
        "> <li>TotalCharges has 11 rows with null values <br>\n",
        "> <li>Let's look @ the relationship between monthly charges & total charges \n",
        "> <li>First, calculate what is the ratio of Total to Monthly charges \n",
        "> <li>Take the median of all Total to Monthly ratios ( excluding the NaN rows )\n",
        "> <li>Multiply the Monthly Charges with this median & populate Total Charges for NaN rows<br>\n",
        "\n",
        "> **We can just do the median of TotalCharges, however as MonthlyCharges are typically included in TotalCharges, finding the median ratio between these 2 features and applying it to the null rows will make it more accurate**\n",
        "\n",
        "<hr>"
      ],
      "metadata": {
        "id": "oaj1fBfa2hTn"
      }
    },
    {
      "cell_type": "code",
      "source": [
        "sns.boxplot(data['MonthlyCharges']/data['TotalCharges'], showfliers=False)"
      ],
      "metadata": {
        "colab": {
          "base_uri": "https://localhost:8080/",
          "height": 447
        },
        "id": "p2TttA-QsUFC",
        "outputId": "f973c73e-84e5-4bda-9271-5be2ea829414"
      },
      "execution_count": 27,
      "outputs": [
        {
          "output_type": "execute_result",
          "data": {
            "text/plain": [
              "<Axes: >"
            ]
          },
          "metadata": {},
          "execution_count": 27
        },
        {
          "output_type": "display_data",
          "data": {
            "text/plain": [
              "<Figure size 640x480 with 1 Axes>"
            ],
            "image/png": "[encoded data removed]"
          },
          "metadata": {}
        }
      ]
    },
    {
      "cell_type": "code",
      "source": [
        "factor = data['TotalCharges']/data['MonthlyCharges']\n",
        "factor = factor.dropna() # drop NaN values so that we can calculate the median for the rest\n",
        "median = np.median(factor)"
      ],
      "metadata": {
        "id": "FZJpI2ay-q-o"
      },
      "execution_count": 31,
      "outputs": []
    },
    {
      "cell_type": "code",
      "source": [
        "data.loc[data.loc[:,'TotalCharges'].isnull(),'TotalCharges']=data.loc[:,'MonthlyCharges']*median"
      ],
      "metadata": {
        "id": "VH4RWnzx-xfL"
      },
      "execution_count": 32,
      "outputs": []
    },
    {
      "cell_type": "code",
      "source": [
        "data.isnull().sum()"
      ],
      "metadata": {
        "colab": {
          "base_uri": "https://localhost:8080/"
        },
        "id": "y-gdUV41_sKs",
        "outputId": "4a3b6bf9-d24f-4ad3-c8e3-c82cf02d2672"
      },
      "execution_count": 33,
      "outputs": [
        {
          "output_type": "execute_result",
          "data": {
            "text/plain": [
              "customerID          0\n",
              "gender              0\n",
              "SeniorCitizen       0\n",
              "Partner             0\n",
              "Dependents          0\n",
              "tenure              0\n",
              "PhoneService        0\n",
              "MultipleLines       0\n",
              "InternetService     0\n",
              "OnlineSecurity      0\n",
              "OnlineBackup        0\n",
              "DeviceProtection    0\n",
              "TechSupport         0\n",
              "StreamingTV         0\n",
              "StreamingMovies     0\n",
              "Contract            0\n",
              "PaperlessBilling    0\n",
              "PaymentMethod       0\n",
              "MonthlyCharges      0\n",
              "TotalCharges        0\n",
              "Churn               0\n",
              "dtype: int64"
            ]
          },
          "metadata": {},
          "execution_count": 33
        }
      ]
    },
    {
      "cell_type": "code",
      "source": [
        "data['SeniorCitizen'].value_counts()"
      ],
      "metadata": {
        "colab": {
          "base_uri": "https://localhost:8080/"
        },
        "id": "Yiqh-rQpG957",
        "outputId": "74726ccf-fcbd-49af-ab28-305dd901470f"
      },
      "execution_count": 34,
      "outputs": [
        {
          "output_type": "execute_result",
          "data": {
            "text/plain": [
              "0    5901\n",
              "1    1142\n",
              "Name: SeniorCitizen, dtype: int64"
            ]
          },
          "metadata": {},
          "execution_count": 34
        }
      ]
    },
    {
      "cell_type": "markdown",
      "source": [
        "<hr>\n",
        "\n",
        "> <li>TotalCharges is of type Object, convert this to Float <br>\n",
        "> <li>SeniorCitizen is of type int, however it is a categorical variable, so convert to Object ( for analysis only ) <br>\n",
        "\n",
        "<hr>"
      ],
      "metadata": {
        "id": "xmpqb8jVAaFs"
      }
    },
    {
      "cell_type": "code",
      "source": [
        "data['TotalCharges'] = data['TotalCharges'].apply(pd.to_numeric, errors='coerce')\n",
        "data['SeniorCitizen'] = data['SeniorCitizen'].astype('object')"
      ],
      "metadata": {
        "id": "e7NQ7EHP5zkv"
      },
      "execution_count": 35,
      "outputs": []
    },
    {
      "cell_type": "code",
      "source": [
        "data.info()"
      ],
      "metadata": {
        "colab": {
          "base_uri": "https://localhost:8080/"
        },
        "id": "nqywoYti3p02",
        "outputId": "5de582ce-5f15-4c26-fc44-a11c0602def2"
      },
      "execution_count": 36,
      "outputs": [
        {
          "output_type": "stream",
          "name": "stdout",
          "text": [
            "<class 'pandas.core.frame.DataFrame'>\n",
            "Int64Index: 7043 entries, 0 to 7042\n",
            "Data columns (total 21 columns):\n",
            " #   Column            Non-Null Count  Dtype  \n",
            "---  ------            --------------  -----  \n",
            " 0   customerID        7043 non-null   object \n",
            " 1   gender            7043 non-null   object \n",
            " 2   SeniorCitizen     7043 non-null   object \n",
            " 3   Partner           7043 non-null   object \n",
            " 4   Dependents        7043 non-null   object \n",
            " 5   tenure            7043 non-null   int64  \n",
            " 6   PhoneService      7043 non-null   object \n",
            " 7   MultipleLines     7043 non-null   object \n",
            " 8   InternetService   7043 non-null   object \n",
            " 9   OnlineSecurity    7043 non-null   object \n",
            " 10  OnlineBackup      7043 non-null   object \n",
            " 11  DeviceProtection  7043 non-null   object \n",
            " 12  TechSupport       7043 non-null   object \n",
            " 13  StreamingTV       7043 non-null   object \n",
            " 14  StreamingMovies   7043 non-null   object \n",
            " 15  Contract          7043 non-null   object \n",
            " 16  PaperlessBilling  7043 non-null   object \n",
            " 17  PaymentMethod     7043 non-null   object \n",
            " 18  MonthlyCharges    7043 non-null   float64\n",
            " 19  TotalCharges      7043 non-null   float64\n",
            " 20  Churn             7043 non-null   object \n",
            "dtypes: float64(2), int64(1), object(18)\n",
            "memory usage: 1.4+ MB\n"
          ]
        }
      ]
    },
    {
      "cell_type": "markdown",
      "source": [
        "<hr>\n",
        "\n",
        "> <li>Function to take dataframe as input & print Pie Charts\n",
        "> <li>An additional parameter 'churn' has been provided to view distribution across categorical variables for churned customers \n",
        "\n",
        "<hr>"
      ],
      "metadata": {
        "id": "Xa2namx4AukR"
      }
    },
    {
      "cell_type": "code",
      "source": [
        "def create_pie_charts(data, churn='all') :\n",
        "  # Set basic plot font size\n",
        "  plt.rc('font', size=8) #controls default text size\n",
        "  \n",
        "  # Identify all categorical columns \n",
        "  cat_cols = data.select_dtypes(include=object).columns.tolist()\n",
        "  del cat_cols[0]\n",
        "  del cat_cols[-1]\n",
        "\n",
        "  # Setup subplots \n",
        "  fig, axs = plt.subplots(4,4, figsize=(10,12))\n",
        "  palette_color = sns.color_palette('muted')\n",
        "\n",
        "  # Loop through each subplot \n",
        "  for i, ax in enumerate(axs.flat) :\n",
        "    col = cat_cols[i]\n",
        "    if churn != 'all' :\n",
        "      coldata = data[data['Churn']==churn][col].value_counts()\n",
        "    else : \n",
        "      coldata = data[col].value_counts()\n",
        "    labels = coldata.index.tolist()\n",
        "    ax.grid(True)\n",
        "    ax.set_title(col, fontsize=8)\n",
        "    ax.pie(coldata, colors=palette_color, autopct='%.0f%%')\n",
        "    ax.legend(labels)   \n",
        "\n",
        "  plt.show()"
      ],
      "metadata": {
        "id": "8v3obA5HA-Cg"
      },
      "execution_count": 37,
      "outputs": []
    },
    {
      "cell_type": "code",
      "source": [
        "# Pie charts for categorical variables for all customer data \n",
        "create_pie_charts(data)"
      ],
      "metadata": {
        "colab": {
          "base_uri": "https://localhost:8080/",
          "height": 944
        },
        "id": "9sM27TGHXyXJ",
        "outputId": "de14748a-fe1c-4d9e-dfe1-dce94c05fdae"
      },
      "execution_count": 38,
      "outputs": [
        {
          "output_type": "display_data",
          "data": {
            "text/plain": [
              "<Figure size 1000x1200 with 16 Axes>"
            ],
            "image/png": "[encoded data removed]"
          },
          "metadata": {}
        }
      ]
    },
    {
      "cell_type": "markdown",
      "source": [
        "<hr>\n",
        "\n",
        "**Insights based on the pie charts ( univariate analysis )**\n",
        "> <li>The telecom companies' products are used equally by men and women \n",
        "> <li>88% of customers are on a month-to-month contract. This is an area which can be improved, so we can tie in customers for longer duration\n",
        "> <li> 25% of customers are still not on paperless billing, which adds to printing cost. This can be reduced, will require effort on capturing contact information for our customers & getting their consent \n",
        "> <li> 16% of customers still mail us a check for payments, which can be converted to automatic payments, as this delays receivables \n",
        "> <li> 22% of customers do not utilize internet service, this can be an area of focus to increase internet sales\n",
        "> <li> 40% of customers do not stream movies using their internet connection, they can be offered a lower cost internet service based on usage for retention and tap into more similar customers\n",
        "> <li> 44% customers do not use online backup or device protection services. These services can be offered to customers at a slightly lower cost or free for 1st year \n",
        "\n",
        "<hr>"
      ],
      "metadata": {
        "id": "4U7r9kQehHqQ"
      }
    },
    {
      "cell_type": "markdown",
      "source": [
        "<hr>\n",
        "\n",
        "**Encode all categorical variables**\n",
        "\n",
        "> <li> First, select all categorical columns and store them in a list\n",
        "> <li> Delete the customerID column from this list as it is not categorical\n",
        "> <li> Review the unique values for each categorical feature \n",
        "> <li> Replace unique values with numbers ( Label Encoding can be used but the approach of using a struct to replace provides better control on values )\n",
        "> <li> Change the type for SeniorCitizen column to int (we had converted it to object earlier for our analysis)\n",
        "<hr>"
      ],
      "metadata": {
        "id": "aye2kSu2s6pF"
      }
    },
    {
      "cell_type": "code",
      "source": [
        "cat_cols = data.select_dtypes(include=object).columns.tolist()\n",
        "del cat_cols[0]\n",
        "\n",
        "pd.DataFrame(data[cat_cols]\n",
        "             .melt(var_name='column', value_name='value')\n",
        "             .value_counts()).rename(columns={0: 'counts'}).sort_values(by=['column', 'counts'])"
      ],
      "metadata": {
        "colab": {
          "base_uri": "https://localhost:8080/",
          "height": 1000
        },
        "id": "tinCGCunCShI",
        "outputId": "6c56acda-9712-43ef-ab10-de86b1fa3e7d"
      },
      "execution_count": 39,
      "outputs": [
        {
          "output_type": "execute_result",
          "data": {
            "text/plain": [
              "                                            counts\n",
              "column           value                            \n",
              "Churn            Yes                          1869\n",
              "                 No                           5174\n",
              "Contract         One year                     1473\n",
              "                 Two year                     1695\n",
              "                 Month-to-month               3875\n",
              "Dependents       Yes                          2110\n",
              "                 No                           4933\n",
              "DeviceProtection No internet service          1526\n",
              "                 Yes                          2422\n",
              "                 No                           3095\n",
              "InternetService  No                           1526\n",
              "                 DSL                          2421\n",
              "                 Fiber optic                  3096\n",
              "MultipleLines    No phone service              682\n",
              "                 Yes                          2971\n",
              "                 No                           3390\n",
              "OnlineBackup     No internet service          1526\n",
              "                 Yes                          2429\n",
              "                 No                           3088\n",
              "OnlineSecurity   No internet service          1526\n",
              "                 Yes                          2019\n",
              "                 No                           3498\n",
              "PaperlessBilling No                           2872\n",
              "                 Yes                          4171\n",
              "Partner          Yes                          3402\n",
              "                 No                           3641\n",
              "PaymentMethod    Credit card (automatic)      1522\n",
              "                 Bank transfer (automatic)    1544\n",
              "                 Mailed check                 1612\n",
              "                 Electronic check             2365\n",
              "PhoneService     No                            682\n",
              "                 Yes                          6361\n",
              "SeniorCitizen    1                            1142\n",
              "                 0                            5901\n",
              "StreamingMovies  No internet service          1526\n",
              "                 Yes                          2732\n",
              "                 No                           2785\n",
              "StreamingTV      No internet service          1526\n",
              "                 Yes                          2707\n",
              "                 No                           2810\n",
              "TechSupport      No internet service          1526\n",
              "                 Yes                          2044\n",
              "                 No                           3473\n",
              "gender           Female                       3488\n",
              "                 Male                         3555"
            ],
            "text/html": [
              "\n",
              "  <div id=\"df-f28fb2c4-3ff8-4aa4-919e-dda84033a397\">\n",
              "    <div class=\"colab-df-container\">\n",
              "      <div>\n",
              "<style scoped>\n",
              "    .dataframe tbody tr th:only-of-type {\n",
              "        vertical-align: middle;\n",
              "    }\n",
              "\n",
              "    .dataframe tbody tr th {\n",
              "        vertical-align: top;\n",
              "    }\n",
              "\n",
              "    .dataframe thead th {\n",
              "        text-align: right;\n",
              "    }\n",
              "</style>\n",
              "<table border=\"1\" class=\"dataframe\">\n",
              "  <thead>\n",
              "    <tr style=\"text-align: right;\">\n",
              "      <th></th>\n",
              "      <th></th>\n",
              "      <th>counts</th>\n",
              "    </tr>\n",
              "    <tr>\n",
              "      <th>column</th>\n",
              "      <th>value</th>\n",
              "      <th></th>\n",
              "    </tr>\n",
              "  </thead>\n",
              "  <tbody>\n",
              "    <tr>\n",
              "      <th rowspan=\"2\" valign=\"top\">Churn</th>\n",
              "      <th>Yes</th>\n",
              "      <td>1869</td>\n",
              "    </tr>\n",
              "    <tr>\n",
              "      <th>No</th>\n",
              "      <td>5174</td>\n",
              "    </tr>\n",
              "    <tr>\n",
              "      <th rowspan=\"3\" valign=\"top\">Contract</th>\n",
              "      <th>One year</th>\n",
              "      <td>1473</td>\n",
              "    </tr>\n",
              "    <tr>\n",
              "      <th>Two year</th>\n",
              "      <td>1695</td>\n",
              "    </tr>\n",
              "    <tr>\n",
              "      <th>Month-to-month</th>\n",
              "      <td>3875</td>\n",
              "    </tr>\n",
              "    <tr>\n",
              "      <th rowspan=\"2\" valign=\"top\">Dependents</th>\n",
              "      <th>Yes</th>\n",
              "      <td>2110</td>\n",
              "    </tr>\n",
              "    <tr>\n",
              "      <th>No</th>\n",
              "      <td>4933</td>\n",
              "    </tr>\n",
              "    <tr>\n",
              "      <th rowspan=\"3\" valign=\"top\">DeviceProtection</th>\n",
              "      <th>No internet service</th>\n",
              "      <td>1526</td>\n",
              "    </tr>\n",
              "    <tr>\n",
              "      <th>Yes</th>\n",
              "      <td>2422</td>\n",
              "    </tr>\n",
              "    <tr>\n",
              "      <th>No</th>\n",
              "      <td>3095</td>\n",
              "    </tr>\n",
              "    <tr>\n",
              "      <th rowspan=\"3\" valign=\"top\">InternetService</th>\n",
              "      <th>No</th>\n",
              "      <td>1526</td>\n",
              "    </tr>\n",
              "    <tr>\n",
              "      <th>DSL</th>\n",
              "      <td>2421</td>\n",
              "    </tr>\n",
              "    <tr>\n",
              "      <th>Fiber optic</th>\n",
              "      <td>3096</td>\n",
              "    </tr>\n",
              "    <tr>\n",
              "      <th rowspan=\"3\" valign=\"top\">MultipleLines</th>\n",
              "      <th>No phone service</th>\n",
              "      <td>682</td>\n",
              "    </tr>\n",
              "    <tr>\n",
              "      <th>Yes</th>\n",
              "      <td>2971</td>\n",
              "    </tr>\n",
              "    <tr>\n",
              "      <th>No</th>\n",
              "      <td>3390</td>\n",
              "    </tr>\n",
              "    <tr>\n",
              "      <th rowspan=\"3\" valign=\"top\">OnlineBackup</th>\n",
              "      <th>No internet service</th>\n",
              "      <td>1526</td>\n",
              "    </tr>\n",
              "    <tr>\n",
              "      <th>Yes</th>\n",
              "      <td>2429</td>\n",
              "    </tr>\n",
              "    <tr>\n",
              "      <th>No</th>\n",
              "      <td>3088</td>\n",
              "    </tr>\n",
              "    <tr>\n",
              "      <th rowspan=\"3\" valign=\"top\">OnlineSecurity</th>\n",
              "      <th>No internet service</th>\n",
              "      <td>1526</td>\n",
              "    </tr>\n",
              "    <tr>\n",
              "      <th>Yes</th>\n",
              "      <td>2019</td>\n",
              "    </tr>\n",
              "    <tr>\n",
              "      <th>No</th>\n",
              "      <td>3498</td>\n",
              "    </tr>\n",
              "    <tr>\n",
              "      <th rowspan=\"2\" valign=\"top\">PaperlessBilling</th>\n",
              "      <th>No</th>\n",
              "      <td>2872</td>\n",
              "    </tr>\n",
              "    <tr>\n",
              "      <th>Yes</th>\n",
              "      <td>4171</td>\n",
              "    </tr>\n",
              "    <tr>\n",
              "      <th rowspan=\"2\" valign=\"top\">Partner</th>\n",
              "      <th>Yes</th>\n",
              "      <td>3402</td>\n",
              "    </tr>\n",
              "    <tr>\n",
              "      <th>No</th>\n",
              "      <td>3641</td>\n",
              "    </tr>\n",
              "    <tr>\n",
              "      <th rowspan=\"4\" valign=\"top\">PaymentMethod</th>\n",
              "      <th>Credit card (automatic)</th>\n",
              "      <td>1522</td>\n",
              "    </tr>\n",
              "    <tr>\n",
              "      <th>Bank transfer (automatic)</th>\n",
              "      <td>1544</td>\n",
              "    </tr>\n",
              "    <tr>\n",
              "      <th>Mailed check</th>\n",
              "      <td>1612</td>\n",
              "    </tr>\n",
              "    <tr>\n",
              "      <th>Electronic check</th>\n",
              "      <td>2365</td>\n",
              "    </tr>\n",
              "    <tr>\n",
              "      <th rowspan=\"2\" valign=\"top\">PhoneService</th>\n",
              "      <th>No</th>\n",
              "      <td>682</td>\n",
              "    </tr>\n",
              "    <tr>\n",
              "      <th>Yes</th>\n",
              "      <td>6361</td>\n",
              "    </tr>\n",
              "    <tr>\n",
              "      <th rowspan=\"2\" valign=\"top\">SeniorCitizen</th>\n",
              "      <th>1</th>\n",
              "      <td>1142</td>\n",
              "    </tr>\n",
              "    <tr>\n",
              "      <th>0</th>\n",
              "      <td>5901</td>\n",
              "    </tr>\n",
              "    <tr>\n",
              "      <th rowspan=\"3\" valign=\"top\">StreamingMovies</th>\n",
              "      <th>No internet service</th>\n",
              "      <td>1526</td>\n",
              "    </tr>\n",
              "    <tr>\n",
              "      <th>Yes</th>\n",
              "      <td>2732</td>\n",
              "    </tr>\n",
              "    <tr>\n",
              "      <th>No</th>\n",
              "      <td>2785</td>\n",
              "    </tr>\n",
              "    <tr>\n",
              "      <th rowspan=\"3\" valign=\"top\">StreamingTV</th>\n",
              "      <th>No internet service</th>\n",
              "      <td>1526</td>\n",
              "    </tr>\n",
              "    <tr>\n",
              "      <th>Yes</th>\n",
              "      <td>2707</td>\n",
              "    </tr>\n",
              "    <tr>\n",
              "      <th>No</th>\n",
              "      <td>2810</td>\n",
              "    </tr>\n",
              "    <tr>\n",
              "      <th rowspan=\"3\" valign=\"top\">TechSupport</th>\n",
              "      <th>No internet service</th>\n",
              "      <td>1526</td>\n",
              "    </tr>\n",
              "    <tr>\n",
              "      <th>Yes</th>\n",
              "      <td>2044</td>\n",
              "    </tr>\n",
              "    <tr>\n",
              "      <th>No</th>\n",
              "      <td>3473</td>\n",
              "    </tr>\n",
              "    <tr>\n",
              "      <th rowspan=\"2\" valign=\"top\">gender</th>\n",
              "      <th>Female</th>\n",
              "      <td>3488</td>\n",
              "    </tr>\n",
              "    <tr>\n",
              "      <th>Male</th>\n",
              "      <td>3555</td>\n",
              "    </tr>\n",
              "  </tbody>\n",
              "</table>\n",
              "</div>\n",
              "      <button class=\"colab-df-convert\" onclick=\"convertToInteractive('df-f28fb2c4-3ff8-4aa4-919e-dda84033a397')\"\n",
              "              title=\"Convert this dataframe to an interactive table.\"\n",
              "              style=\"display:none;\">\n",
              "        \n",
              "  <svg xmlns=\"http://www.w3.org/2000/svg\" height=\"24px\"viewBox=\"0 0 24 24\"\n",
              "       width=\"24px\">\n",
              "    <path d=\"M0 0h24v24H0V0z\" fill=\"none\"/>\n",
              "    <path d=\"M18.56 5.44l.94 2.06.94-2.06 2.06-.94-2.06-.94-.94-2.06-.94 2.06-2.06.94zm-11 1L8.5 8.5l.94-2.06 2.06-.94-2.06-.94L8.5 2.5l-.94 2.06-2.06.94zm10 10l.94 2.06.94-2.06 2.06-.94-2.06-.94-.94-2.06-.94 2.06-2.06.94z\"/><path d=\"M17.41 7.96l-1.37-1.37c-.4-.4-.92-.59-1.43-.59-.52 0-1.04.2-1.43.59L10.3 9.45l-7.72 7.72c-.78.78-.78 2.05 0 2.83L4 21.41c.39.39.9.59 1.41.59.51 0 1.02-.2 1.41-.59l7.78-7.78 2.81-2.81c.8-.78.8-2.07 0-2.86zM5.41 20L4 18.59l7.72-7.72 1.47 1.35L5.41 20z\"/>\n",
              "  </svg>\n",
              "      </button>\n",
              "      \n",
              "  <style>\n",
              "    .colab-df-container {\n",
              "      display:flex;\n",
              "      flex-wrap:wrap;\n",
              "      gap: 12px;\n",
              "    }\n",
              "\n",
              "    .colab-df-convert {\n",
              "      background-color: #E8F0FE;\n",
              "      border: none;\n",
              "      border-radius: 50%;\n",
              "      cursor: pointer;\n",
              "      display: none;\n",
              "      fill: #1967D2;\n",
              "      height: 32px;\n",
              "      padding: 0 0 0 0;\n",
              "      width: 32px;\n",
              "    }\n",
              "\n",
              "    .colab-df-convert:hover {\n",
              "      background-color: #E2EBFA;\n",
              "      box-shadow: 0px 1px 2px rgba(60, 64, 67, 0.3), 0px 1px 3px 1px rgba(60, 64, 67, 0.15);\n",
              "      fill: #174EA6;\n",
              "    }\n",
              "\n",
              "    [theme=dark] .colab-df-convert {\n",
              "      background-color: #3B4455;\n",
              "      fill: #D2E3FC;\n",
              "    }\n",
              "\n",
              "    [theme=dark] .colab-df-convert:hover {\n",
              "      background-color: #434B5C;\n",
              "      box-shadow: 0px 1px 3px 1px rgba(0, 0, 0, 0.15);\n",
              "      filter: drop-shadow(0px 1px 2px rgba(0, 0, 0, 0.3));\n",
              "      fill: #FFFFFF;\n",
              "    }\n",
              "  </style>\n",
              "\n",
              "      <script>\n",
              "        const buttonEl =\n",
              "          document.querySelector('#df-f28fb2c4-3ff8-4aa4-919e-dda84033a397 button.colab-df-convert');\n",
              "        buttonEl.style.display =\n",
              "          google.colab.kernel.accessAllowed ? 'block' : 'none';\n",
              "\n",
              "        async function convertToInteractive(key) {\n",
              "          const element = document.querySelector('#df-f28fb2c4-3ff8-4aa4-919e-dda84033a397');\n",
              "          const dataTable =\n",
              "            await google.colab.kernel.invokeFunction('convertToInteractive',\n",
              "                                                     [key], {});\n",
              "          if (!dataTable) return;\n",
              "\n",
              "          const docLinkHtml = 'Like what you see? Visit the ' +\n",
              "            '<a target=\"_blank\" href=https://colab.research.google.com/notebooks/data_table.ipynb>data table notebook</a>'\n",
              "            + ' to learn more about interactive tables.';\n",
              "          element.innerHTML = '';\n",
              "          dataTable['output_type'] = 'display_data';\n",
              "          await google.colab.output.renderOutput(dataTable, element);\n",
              "          const docLink = document.createElement('div');\n",
              "          docLink.innerHTML = docLinkHtml;\n",
              "          element.appendChild(docLink);\n",
              "        }\n",
              "      </script>\n",
              "    </div>\n",
              "  </div>\n",
              "  "
            ]
          },
          "metadata": {},
          "execution_count": 39
        }
      ]
    },
    {
      "cell_type": "code",
      "source": [
        "replaceStruct = {\n",
        "                \"Churn\" : {\"No\": 0, \"Yes\": 1 },\n",
        "                \"Contract\": {\"One year\": 1, \"Two year\":2 , \"Month-to-month\": 0},\n",
        "                \"Dependents\" : {\"No\": 0, \"Yes\": 1 },\n",
        "                \"DeviceProtection\" : {\"No internet service\": -1, \"No\": 0 ,\"Yes\": 1},\n",
        "                \"InternetService\" : {\"No\": 0, \"DSL\": 1, \"Fiber optic\": 2 },\n",
        "                \"MultipleLines\" : {\"No phone service\" : -1,\"No\":0, \"Yes\":1},\n",
        "                \"OnlineBackup\" : {\"No internet service\": -1, \"No\": 0 ,\"Yes\": 1},\n",
        "                \"OnlineSecurity\" : {\"No internet service\": -1, \"No\": 0 ,\"Yes\": 1},\n",
        "                \"PaperlessBilling\" : {\"No\": 0, \"Yes\": 1 },\n",
        "                \"PhoneService\" : {\"No\": 0, \"Yes\": 1 },\n",
        "                \"Partner\" : {\"No\": 0, \"Yes\": 1 },\n",
        "                \"PaymentMethod\": {\"Credit card (automatic)\": 0, \"Bank transfer (automatic)\":1 , \"Mailed check\": 2, \"Electronic check\": 3},   \n",
        "                \"Partner\" : {\"No\": 0, \"Yes\": 1 },  \n",
        "                \"StreamingMovies\" : {\"No internet service\": -1, \"No\": 0 ,\"Yes\": 1},\n",
        "                \"StreamingTV\" : {\"No internet service\": -1, \"No\": 0 ,\"Yes\": 1},\n",
        "                \"TechSupport\" : {\"No internet service\": -1, \"No\": 0 ,\"Yes\": 1},\n",
        "                \"gender\" : {\"Female\":1, \"Male\":0}\n",
        "                 }"
      ],
      "metadata": {
        "id": "EiOkscUZfjGV"
      },
      "execution_count": 40,
      "outputs": []
    },
    {
      "cell_type": "code",
      "source": [
        "data=data.replace(replaceStruct)\n",
        "data['SeniorCitizen'] = data['SeniorCitizen'].astype('int')"
      ],
      "metadata": {
        "id": "WP0kdtblj80k"
      },
      "execution_count": 41,
      "outputs": []
    },
    {
      "cell_type": "code",
      "source": [
        "data.info()"
      ],
      "metadata": {
        "colab": {
          "base_uri": "https://localhost:8080/"
        },
        "id": "pm3vp_DHk9vr",
        "outputId": "7a161902-783f-4afa-af4a-13ab450412c2"
      },
      "execution_count": 42,
      "outputs": [
        {
          "output_type": "stream",
          "name": "stdout",
          "text": [
            "<class 'pandas.core.frame.DataFrame'>\n",
            "Int64Index: 7043 entries, 0 to 7042\n",
            "Data columns (total 21 columns):\n",
            " #   Column            Non-Null Count  Dtype  \n",
            "---  ------            --------------  -----  \n",
            " 0   customerID        7043 non-null   object \n",
            " 1   gender            7043 non-null   int64  \n",
            " 2   SeniorCitizen     7043 non-null   int64  \n",
            " 3   Partner           7043 non-null   int64  \n",
            " 4   Dependents        7043 non-null   int64  \n",
            " 5   tenure            7043 non-null   int64  \n",
            " 6   PhoneService      7043 non-null   int64  \n",
            " 7   MultipleLines     7043 non-null   int64  \n",
            " 8   InternetService   7043 non-null   int64  \n",
            " 9   OnlineSecurity    7043 non-null   int64  \n",
            " 10  OnlineBackup      7043 non-null   int64  \n",
            " 11  DeviceProtection  7043 non-null   int64  \n",
            " 12  TechSupport       7043 non-null   int64  \n",
            " 13  StreamingTV       7043 non-null   int64  \n",
            " 14  StreamingMovies   7043 non-null   int64  \n",
            " 15  Contract          7043 non-null   int64  \n",
            " 16  PaperlessBilling  7043 non-null   int64  \n",
            " 17  PaymentMethod     7043 non-null   int64  \n",
            " 18  MonthlyCharges    7043 non-null   float64\n",
            " 19  TotalCharges      7043 non-null   float64\n",
            " 20  Churn             7043 non-null   int64  \n",
            "dtypes: float64(2), int64(18), object(1)\n",
            "memory usage: 1.4+ MB\n"
          ]
        }
      ]
    },
    {
      "cell_type": "markdown",
      "source": [
        "<hr> \n",
        "\n",
        "><li> Data is now ready for normalization and splitting \n",
        "\n",
        "<hr>"
      ],
      "metadata": {
        "id": "cR-djcg4t7HR"
      }
    },
    {
      "cell_type": "code",
      "source": [
        "x=data.iloc[:,1:20]\n",
        "y=data['Churn']\n",
        "x_train, x_test, y_train, y_test = train_test_split(x,y,random_state=42, train_size=0.8)"
      ],
      "metadata": {
        "id": "kJfSBZKfuCC1"
      },
      "execution_count": 43,
      "outputs": []
    },
    {
      "cell_type": "code",
      "source": [
        "print('Train Set % :',(x_train.shape[0]/x.shape[0])*100)\n",
        "print('Test Set % :',(x_test.shape[0]/x.shape[0])*100)"
      ],
      "metadata": {
        "colab": {
          "base_uri": "https://localhost:8080/"
        },
        "id": "vP-g_DB8xJJX",
        "outputId": "eb04c45b-870c-4116-f941-983702e7a7c2"
      },
      "execution_count": 47,
      "outputs": [
        {
          "output_type": "stream",
          "name": "stdout",
          "text": [
            "Train Set % : 79.99432060201619\n",
            "Test Set % : 20.005679397983815\n"
          ]
        }
      ]
    },
    {
      "cell_type": "code",
      "source": [
        "ss = StandardScaler()\n",
        "x_train_std = ss.fit_transform(x_train)\n",
        "x_test_std = ss.transform(x_test)"
      ],
      "metadata": {
        "id": "VQYGH2V0x0lb"
      },
      "execution_count": 48,
      "outputs": []
    },
    {
      "cell_type": "markdown",
      "source": [
        "<hr>\n",
        "\n",
        "**Section 3 : Model building and performance improvement : [40 Marks]**\n",
        "<li>A. Train a model using Decision tree and check the performance of the model on train and test data ( 4 marks )\n",
        "<li>B. Use grid search and improve the performance of the Decision tree model , check the performance of the model on train and test data , provide the \n",
        "differences observed in performance in Q3.a and Q3.b ( 5 marks )\n",
        "<li>C. Train a model using Random forest and check the performance of the model on train and test data ( 4 marks )\n",
        "<li>D. Use grid search and improve the performance of the Random tree model , check the performance of the model on train and test data , provide the \n",
        "differences observed in performance in Q3.c and Q3.d ( 5 marks )\n",
        "<li>E. Train a model using Adaboost and check the performance of the model on train and test data ( 4 marks )\n",
        "<li>F. Use grid search and improve the performance of the Adaboost model , check the performance of the model on train and test data , provide the \n",
        "differences observed in performance in Q3.e and Q3.f ( 5 marks )\n",
        "<li>G. Train a model using GradientBoost and check the performance of the model on train and test data ( 4 marks )\n",
        "<li>H. Use grid search and improve the performance of the GradientBoost model , check the performance of the model on train and test data , provide \n",
        "the differences observed in performance in Q3.g and Q3.h ( 5 marks )\n",
        "<li>I. Provide detailed analysis of the below steps (4 marks ) :<br>\n",
        "&emsp; &emsp;(1) Compare the performance of each model in train stage and test stage<br>\n",
        "&emsp; &emsp;(2) Provide your observation on which model performed the best<br>\n",
        "&emsp; &emsp;(3) Provide your reasoning on why the model performed best<br>\n",
        "&emsp; &emsp;(4) Provide your final conclusion on your observation<br>\n",
        "\n",
        "<hr>"
      ],
      "metadata": {
        "id": "sIFth25syVlN"
      }
    },
    {
      "cell_type": "code",
      "source": [
        "clf_dtc = DecisionTreeClassifier()\n",
        "clf_rfc = RandomForestClassifier()\n",
        "clf_abc = AdaBoostClassifier()\n",
        "clf_gbc = GradientBoostingClassifier()"
      ],
      "metadata": {
        "id": "yha05pijyUBO"
      },
      "execution_count": 49,
      "outputs": []
    },
    {
      "cell_type": "markdown",
      "source": [
        "<hr>\n",
        "\n",
        "**A. Train a model using Decision tree and check the performance of the model on train and test data**\n",
        "\n",
        "<hr>"
      ],
      "metadata": {
        "id": "BFE1RxTI1Ns2"
      }
    },
    {
      "cell_type": "code",
      "source": [
        "clf_dtc.fit(x_train_std, y_train)\n",
        "y_pred_trn = clf_dtc.predict(x_train_std)\n",
        "y_pred_tst = clf_dtc.predict(x_test_std)\n",
        "dtc_acc_trn = accuracy_score(y_pred_trn, y_train)\n",
        "dtc_acc_tst = accuracy_score(y_pred_tst, y_test)\n",
        "print('Train Accuracy :', dtc_acc_trn)\n",
        "print('Test Accuracy :', dtc_acc_tst)"
      ],
      "metadata": {
        "colab": {
          "base_uri": "https://localhost:8080/"
        },
        "id": "-LJ4XlWZ1d2M",
        "outputId": "c46af58c-eddc-4c03-c445-1c17c10e5346"
      },
      "execution_count": 50,
      "outputs": [
        {
          "output_type": "stream",
          "name": "stdout",
          "text": [
            "Train Accuracy : 0.9985800496982605\n",
            "Test Accuracy : 0.7331440738112136\n"
          ]
        }
      ]
    },
    {
      "cell_type": "markdown",
      "source": [
        "*The Decision Tree model is overfitting, train accuracy is 99% where as test accuracy is approximately 74%*"
      ],
      "metadata": {
        "id": "v2ZzvgV3Ezhf"
      }
    },
    {
      "cell_type": "markdown",
      "source": [
        "**B. Use grid search and improve the performance of the Decision tree model**"
      ],
      "metadata": {
        "id": "ka5hFQWEzGLR"
      }
    },
    {
      "cell_type": "code",
      "source": [
        "clf_dtc.get_params()"
      ],
      "metadata": {
        "colab": {
          "base_uri": "https://localhost:8080/"
        },
        "id": "uJBzytfQ2avN",
        "outputId": "d2e6cfe1-08df-409d-ceed-8bb0347f8571"
      },
      "execution_count": 51,
      "outputs": [
        {
          "output_type": "execute_result",
          "data": {
            "text/plain": [
              "{'ccp_alpha': 0.0,\n",
              " 'class_weight': None,\n",
              " 'criterion': 'gini',\n",
              " 'max_depth': None,\n",
              " 'max_features': None,\n",
              " 'max_leaf_nodes': None,\n",
              " 'min_impurity_decrease': 0.0,\n",
              " 'min_samples_leaf': 1,\n",
              " 'min_samples_split': 2,\n",
              " 'min_weight_fraction_leaf': 0.0,\n",
              " 'random_state': None,\n",
              " 'splitter': 'best'}"
            ]
          },
          "metadata": {},
          "execution_count": 51
        }
      ]
    },
    {
      "cell_type": "markdown",
      "source": [
        "*Use grid search and improve the performance of the Decision tree model*"
      ],
      "metadata": {
        "id": "cXoBqUKhzWzX"
      }
    },
    {
      "cell_type": "code",
      "source": [
        "max_depth_range = np.arange(3,10)\n",
        "min_samples_leaf_range = np.arange(1,5)\n",
        "params = {'criterion': ['entropy', 'gini']\n",
        "          ,'max_depth': max_depth_range\n",
        "          ,'min_samples_leaf': min_samples_leaf_range}\n",
        "dtc_gcv = GridSearchCV(clf_dtc, params, cv=5)\n",
        "dtc_gcv.fit(x_train_std, y_train)"
      ],
      "metadata": {
        "colab": {
          "base_uri": "https://localhost:8080/",
          "height": 116
        },
        "id": "hXVhztHp24ql",
        "outputId": "ce29a351-e6ec-43b6-805a-eeeb49a66d8c"
      },
      "execution_count": 52,
      "outputs": [
        {
          "output_type": "execute_result",
          "data": {
            "text/plain": [
              "GridSearchCV(cv=5, estimator=DecisionTreeClassifier(),\n",
              "             param_grid={'criterion': ['entropy', 'gini'],\n",
              "                         'max_depth': array([3, 4, 5, 6, 7, 8, 9]),\n",
              "                         'min_samples_leaf': array([1, 2, 3, 4])})"
            ],
            "text/html": [
              "<style>#sk-container-id-1 {color: black;background-color: white;}#sk-container-id-1 pre{padding: 0;}#sk-container-id-1 div.sk-toggleable {background-color: white;}#sk-container-id-1 label.sk-toggleable__label {cursor: pointer;display: block;width: 100%;margin-bottom: 0;padding: 0.3em;box-sizing: border-box;text-align: center;}#sk-container-id-1 label.sk-toggleable__label-arrow:before {content: \"▸\";float: left;margin-right: 0.25em;color: #696969;}#sk-container-id-1 label.sk-toggleable__label-arrow:hover:before {color: black;}#sk-container-id-1 div.sk-estimator:hover label.sk-toggleable__label-arrow:before {color: black;}#sk-container-id-1 div.sk-toggleable__content {max-height: 0;max-width: 0;overflow: hidden;text-align: left;background-color: #f0f8ff;}#sk-container-id-1 div.sk-toggleable__content pre {margin: 0.2em;color: black;border-radius: 0.25em;background-color: #f0f8ff;}#sk-container-id-1 input.sk-toggleable__control:checked~div.sk-toggleable__content {max-height: 200px;max-width: 100%;overflow: auto;}#sk-container-id-1 input.sk-toggleable__control:checked~label.sk-toggleable__label-arrow:before {content: \"▾\";}#sk-container-id-1 div.sk-estimator input.sk-toggleable__control:checked~label.sk-toggleable__label {background-color: #d4ebff;}#sk-container-id-1 div.sk-label input.sk-toggleable__control:checked~label.sk-toggleable__label {background-color: #d4ebff;}#sk-container-id-1 input.sk-hidden--visually {border: 0;clip: rect(1px 1px 1px 1px);clip: rect(1px, 1px, 1px, 1px);height: 1px;margin: -1px;overflow: hidden;padding: 0;position: absolute;width: 1px;}#sk-container-id-1 div.sk-estimator {font-family: monospace;background-color: #f0f8ff;border: 1px dotted black;border-radius: 0.25em;box-sizing: border-box;margin-bottom: 0.5em;}#sk-container-id-1 div.sk-estimator:hover {background-color: #d4ebff;}#sk-container-id-1 div.sk-parallel-item::after {content: \"\";width: 100%;border-bottom: 1px solid gray;flex-grow: 1;}#sk-container-id-1 div.sk-label:hover label.sk-toggleable__label {background-color: #d4ebff;}#sk-container-id-1 div.sk-serial::before {content: \"\";position: absolute;border-left: 1px solid gray;box-sizing: border-box;top: 0;bottom: 0;left: 50%;z-index: 0;}#sk-container-id-1 div.sk-serial {display: flex;flex-direction: column;align-items: center;background-color: white;padding-right: 0.2em;padding-left: 0.2em;position: relative;}#sk-container-id-1 div.sk-item {position: relative;z-index: 1;}#sk-container-id-1 div.sk-parallel {display: flex;align-items: stretch;justify-content: center;background-color: white;position: relative;}#sk-container-id-1 div.sk-item::before, #sk-container-id-1 div.sk-parallel-item::before {content: \"\";position: absolute;border-left: 1px solid gray;box-sizing: border-box;top: 0;bottom: 0;left: 50%;z-index: -1;}#sk-container-id-1 div.sk-parallel-item {display: flex;flex-direction: column;z-index: 1;position: relative;background-color: white;}#sk-container-id-1 div.sk-parallel-item:first-child::after {align-self: flex-end;width: 50%;}#sk-container-id-1 div.sk-parallel-item:last-child::after {align-self: flex-start;width: 50%;}#sk-container-id-1 div.sk-parallel-item:only-child::after {width: 0;}#sk-container-id-1 div.sk-dashed-wrapped {border: 1px dashed gray;margin: 0 0.4em 0.5em 0.4em;box-sizing: border-box;padding-bottom: 0.4em;background-color: white;}#sk-container-id-1 div.sk-label label {font-family: monospace;font-weight: bold;display: inline-block;line-height: 1.2em;}#sk-container-id-1 div.sk-label-container {text-align: center;}#sk-container-id-1 div.sk-container {/* jupyter's `normalize.less` sets `[hidden] { display: none; }` but bootstrap.min.css set `[hidden] { display: none !important; }` so we also need the `!important` here to be able to override the default hidden behavior on the sphinx rendered scikit-learn.org. See: https://github.com/scikit-learn/scikit-learn/issues/21755 */display: inline-block !important;position: relative;}#sk-container-id-1 div.sk-text-repr-fallback {display: none;}</style><div id=\"sk-container-id-1\" class=\"sk-top-container\"><div class=\"sk-text-repr-fallback\"><pre>GridSearchCV(cv=5, estimator=DecisionTreeClassifier(),\n",
              "             param_grid={&#x27;criterion&#x27;: [&#x27;entropy&#x27;, &#x27;gini&#x27;],\n",
              "                         &#x27;max_depth&#x27;: array([3, 4, 5, 6, 7, 8, 9]),\n",
              "                         &#x27;min_samples_leaf&#x27;: array([1, 2, 3, 4])})</pre><b>In a Jupyter environment, please rerun this cell to show the HTML representation or trust the notebook. <br />On GitHub, the HTML representation is unable to render, please try loading this page with nbviewer.org.</b></div><div class=\"sk-container\" hidden><div class=\"sk-item sk-dashed-wrapped\"><div class=\"sk-label-container\"><div class=\"sk-label sk-toggleable\"><input class=\"sk-toggleable__control sk-hidden--visually\" id=\"sk-estimator-id-1\" type=\"checkbox\" ><label for=\"sk-estimator-id-1\" class=\"sk-toggleable__label sk-toggleable__label-arrow\">GridSearchCV</label><div class=\"sk-toggleable__content\"><pre>GridSearchCV(cv=5, estimator=DecisionTreeClassifier(),\n",
              "             param_grid={&#x27;criterion&#x27;: [&#x27;entropy&#x27;, &#x27;gini&#x27;],\n",
              "                         &#x27;max_depth&#x27;: array([3, 4, 5, 6, 7, 8, 9]),\n",
              "                         &#x27;min_samples_leaf&#x27;: array([1, 2, 3, 4])})</pre></div></div></div><div class=\"sk-parallel\"><div class=\"sk-parallel-item\"><div class=\"sk-item\"><div class=\"sk-label-container\"><div class=\"sk-label sk-toggleable\"><input class=\"sk-toggleable__control sk-hidden--visually\" id=\"sk-estimator-id-2\" type=\"checkbox\" ><label for=\"sk-estimator-id-2\" class=\"sk-toggleable__label sk-toggleable__label-arrow\">estimator: DecisionTreeClassifier</label><div class=\"sk-toggleable__content\"><pre>DecisionTreeClassifier()</pre></div></div></div><div class=\"sk-serial\"><div class=\"sk-item\"><div class=\"sk-estimator sk-toggleable\"><input class=\"sk-toggleable__control sk-hidden--visually\" id=\"sk-estimator-id-3\" type=\"checkbox\" ><label for=\"sk-estimator-id-3\" class=\"sk-toggleable__label sk-toggleable__label-arrow\">DecisionTreeClassifier</label><div class=\"sk-toggleable__content\"><pre>DecisionTreeClassifier()</pre></div></div></div></div></div></div></div></div></div></div>"
            ]
          },
          "metadata": {},
          "execution_count": 52
        }
      ]
    },
    {
      "cell_type": "markdown",
      "source": [
        "*Check the performance of the model on train and test data*"
      ],
      "metadata": {
        "id": "MOhXz3rKzdVZ"
      }
    },
    {
      "cell_type": "code",
      "source": [
        "dtc_best = dtc_gcv.best_estimator_\n",
        "dtc_best.fit(x_train_std, y_train)\n",
        "y_pred_trn = dtc_best.predict(x_train_std)\n",
        "y_pred = dtc_best.predict(x_test_std)\n",
        "dtc_best_acc_tst = accuracy_score(y_pred, y_test)\n",
        "dtc_best_acc_trn = accuracy_score(y_pred_trn, y_train)"
      ],
      "metadata": {
        "id": "e7twro9n36EZ"
      },
      "execution_count": 54,
      "outputs": []
    },
    {
      "cell_type": "code",
      "source": [
        "print('Train Accuracy :', dtc_best_acc_trn)\n",
        "print('Test Accuracy :', dtc_best_acc_tst)\n",
        "print('Best Parameters :', dtc_gcv.best_params_)"
      ],
      "metadata": {
        "colab": {
          "base_uri": "https://localhost:8080/"
        },
        "id": "QCGboehpy6wZ",
        "outputId": "c5552b13-1166-4fd9-a68f-bc7a7f495bdc"
      },
      "execution_count": 55,
      "outputs": [
        {
          "output_type": "stream",
          "name": "stdout",
          "text": [
            "Train Accuracy : 0.7987220447284346\n",
            "Test Accuracy : 0.8034066713981547\n",
            "Best Parameters : {'criterion': 'gini', 'max_depth': 5, 'min_samples_leaf': 2}\n"
          ]
        }
      ]
    },
    {
      "cell_type": "markdown",
      "source": [
        "*Provide the differences observed in performance in Q3.a and Q3.b*\n",
        "<hr> \n",
        "\n",
        "After tuning hyperparameters, the train accuracy has gone down to 80%, however the model is predicting on test data with the same accuracy. The model is performing better than the decision tree model before tuning \n"
      ],
      "metadata": {
        "id": "9NYKBOUIzoji"
      }
    },
    {
      "cell_type": "markdown",
      "source": [
        "<hr>\n",
        "\n",
        "**C. Train a model using Random Forest and check the performance of the model on train and test data**\n",
        "\n",
        "<hr>"
      ],
      "metadata": {
        "id": "DJ04uwiZ4sGx"
      }
    },
    {
      "cell_type": "code",
      "source": [
        "clf_rfc.fit(x_train_std, y_train)\n",
        "y_pred_trn = clf_rfc.predict(x_train_std)\n",
        "y_pred_tst = clf_rfc.predict(x_test_std)\n",
        "rfc_acc_trn = accuracy_score(y_pred_trn, y_train)\n",
        "rfc_acc_tst = accuracy_score(y_pred_tst, y_test)\n",
        "print('Train Accuracy :', rfc_acc_trn)\n",
        "print('Test Accuracy :', rfc_acc_tst)"
      ],
      "metadata": {
        "colab": {
          "base_uri": "https://localhost:8080/"
        },
        "outputId": "64a57fae-1620-4a83-faa8-103c350304e2",
        "id": "SPqwk2aB4sG6"
      },
      "execution_count": 56,
      "outputs": [
        {
          "output_type": "stream",
          "name": "stdout",
          "text": [
            "Train Accuracy : 0.9985800496982605\n",
            "Test Accuracy : 0.7963094393186657\n"
          ]
        }
      ]
    },
    {
      "cell_type": "markdown",
      "source": [
        "\n",
        "*The Random Forest model is overfitting, train accuracy is 99% where as test accuracy is approximately 79%*\n"
      ],
      "metadata": {
        "id": "NhHJGnKxGU6c"
      }
    },
    {
      "cell_type": "markdown",
      "source": [
        "<hr>\n",
        "\n",
        "**D. Use grid search and improve the performance of the Random Forest model**\n",
        "<hr>"
      ],
      "metadata": {
        "id": "h2uoyjwR0SLi"
      }
    },
    {
      "cell_type": "code",
      "source": [
        "clf_rfc.get_params()"
      ],
      "metadata": {
        "colab": {
          "base_uri": "https://localhost:8080/"
        },
        "outputId": "99ad199e-7ac1-4203-a9fb-2c840bbf2490",
        "id": "XXmbMJIW4sG7"
      },
      "execution_count": 57,
      "outputs": [
        {
          "output_type": "execute_result",
          "data": {
            "text/plain": [
              "{'bootstrap': True,\n",
              " 'ccp_alpha': 0.0,\n",
              " 'class_weight': None,\n",
              " 'criterion': 'gini',\n",
              " 'max_depth': None,\n",
              " 'max_features': 'sqrt',\n",
              " 'max_leaf_nodes': None,\n",
              " 'max_samples': None,\n",
              " 'min_impurity_decrease': 0.0,\n",
              " 'min_samples_leaf': 1,\n",
              " 'min_samples_split': 2,\n",
              " 'min_weight_fraction_leaf': 0.0,\n",
              " 'n_estimators': 100,\n",
              " 'n_jobs': None,\n",
              " 'oob_score': False,\n",
              " 'random_state': None,\n",
              " 'verbose': 0,\n",
              " 'warm_start': False}"
            ]
          },
          "metadata": {},
          "execution_count": 57
        }
      ]
    },
    {
      "cell_type": "markdown",
      "source": [
        "*Use grid search and improve the performance of the Random tree model*"
      ],
      "metadata": {
        "id": "RQhLvYQY0z16"
      }
    },
    {
      "cell_type": "code",
      "source": [
        "max_depth_range_rfc = np.arange(3,10)\n",
        "min_samples_leaf_range_rfc = np.arange(1,5)\n",
        "params = {'criterion': ['entropy', 'gini']\n",
        "          ,'max_depth': max_depth_range_rfc\n",
        "          ,'min_samples_leaf': min_samples_leaf_range_rfc}\n",
        "rfc_gcv = GridSearchCV(clf_rfc, params, cv=5)\n",
        "rfc_gcv.fit(x_train_std, y_train)"
      ],
      "metadata": {
        "colab": {
          "base_uri": "https://localhost:8080/",
          "height": 116
        },
        "outputId": "d8738af8-e3c3-4918-c1fd-6b41ee9c0085",
        "id": "mfJCwVBJ4sG7"
      },
      "execution_count": 58,
      "outputs": [
        {
          "output_type": "execute_result",
          "data": {
            "text/plain": [
              "GridSearchCV(cv=5, estimator=RandomForestClassifier(),\n",
              "             param_grid={'criterion': ['entropy', 'gini'],\n",
              "                         'max_depth': array([3, 4, 5, 6, 7, 8, 9]),\n",
              "                         'min_samples_leaf': array([1, 2, 3, 4])})"
            ],
            "text/html": [
              "<style>#sk-container-id-2 {color: black;background-color: white;}#sk-container-id-2 pre{padding: 0;}#sk-container-id-2 div.sk-toggleable {background-color: white;}#sk-container-id-2 label.sk-toggleable__label {cursor: pointer;display: block;width: 100%;margin-bottom: 0;padding: 0.3em;box-sizing: border-box;text-align: center;}#sk-container-id-2 label.sk-toggleable__label-arrow:before {content: \"▸\";float: left;margin-right: 0.25em;color: #696969;}#sk-container-id-2 label.sk-toggleable__label-arrow:hover:before {color: black;}#sk-container-id-2 div.sk-estimator:hover label.sk-toggleable__label-arrow:before {color: black;}#sk-container-id-2 div.sk-toggleable__content {max-height: 0;max-width: 0;overflow: hidden;text-align: left;background-color: #f0f8ff;}#sk-container-id-2 div.sk-toggleable__content pre {margin: 0.2em;color: black;border-radius: 0.25em;background-color: #f0f8ff;}#sk-container-id-2 input.sk-toggleable__control:checked~div.sk-toggleable__content {max-height: 200px;max-width: 100%;overflow: auto;}#sk-container-id-2 input.sk-toggleable__control:checked~label.sk-toggleable__label-arrow:before {content: \"▾\";}#sk-container-id-2 div.sk-estimator input.sk-toggleable__control:checked~label.sk-toggleable__label {background-color: #d4ebff;}#sk-container-id-2 div.sk-label input.sk-toggleable__control:checked~label.sk-toggleable__label {background-color: #d4ebff;}#sk-container-id-2 input.sk-hidden--visually {border: 0;clip: rect(1px 1px 1px 1px);clip: rect(1px, 1px, 1px, 1px);height: 1px;margin: -1px;overflow: hidden;padding: 0;position: absolute;width: 1px;}#sk-container-id-2 div.sk-estimator {font-family: monospace;background-color: #f0f8ff;border: 1px dotted black;border-radius: 0.25em;box-sizing: border-box;margin-bottom: 0.5em;}#sk-container-id-2 div.sk-estimator:hover {background-color: #d4ebff;}#sk-container-id-2 div.sk-parallel-item::after {content: \"\";width: 100%;border-bottom: 1px solid gray;flex-grow: 1;}#sk-container-id-2 div.sk-label:hover label.sk-toggleable__label {background-color: #d4ebff;}#sk-container-id-2 div.sk-serial::before {content: \"\";position: absolute;border-left: 1px solid gray;box-sizing: border-box;top: 0;bottom: 0;left: 50%;z-index: 0;}#sk-container-id-2 div.sk-serial {display: flex;flex-direction: column;align-items: center;background-color: white;padding-right: 0.2em;padding-left: 0.2em;position: relative;}#sk-container-id-2 div.sk-item {position: relative;z-index: 1;}#sk-container-id-2 div.sk-parallel {display: flex;align-items: stretch;justify-content: center;background-color: white;position: relative;}#sk-container-id-2 div.sk-item::before, #sk-container-id-2 div.sk-parallel-item::before {content: \"\";position: absolute;border-left: 1px solid gray;box-sizing: border-box;top: 0;bottom: 0;left: 50%;z-index: -1;}#sk-container-id-2 div.sk-parallel-item {display: flex;flex-direction: column;z-index: 1;position: relative;background-color: white;}#sk-container-id-2 div.sk-parallel-item:first-child::after {align-self: flex-end;width: 50%;}#sk-container-id-2 div.sk-parallel-item:last-child::after {align-self: flex-start;width: 50%;}#sk-container-id-2 div.sk-parallel-item:only-child::after {width: 0;}#sk-container-id-2 div.sk-dashed-wrapped {border: 1px dashed gray;margin: 0 0.4em 0.5em 0.4em;box-sizing: border-box;padding-bottom: 0.4em;background-color: white;}#sk-container-id-2 div.sk-label label {font-family: monospace;font-weight: bold;display: inline-block;line-height: 1.2em;}#sk-container-id-2 div.sk-label-container {text-align: center;}#sk-container-id-2 div.sk-container {/* jupyter's `normalize.less` sets `[hidden] { display: none; }` but bootstrap.min.css set `[hidden] { display: none !important; }` so we also need the `!important` here to be able to override the default hidden behavior on the sphinx rendered scikit-learn.org. See: https://github.com/scikit-learn/scikit-learn/issues/21755 */display: inline-block !important;position: relative;}#sk-container-id-2 div.sk-text-repr-fallback {display: none;}</style><div id=\"sk-container-id-2\" class=\"sk-top-container\"><div class=\"sk-text-repr-fallback\"><pre>GridSearchCV(cv=5, estimator=RandomForestClassifier(),\n",
              "             param_grid={&#x27;criterion&#x27;: [&#x27;entropy&#x27;, &#x27;gini&#x27;],\n",
              "                         &#x27;max_depth&#x27;: array([3, 4, 5, 6, 7, 8, 9]),\n",
              "                         &#x27;min_samples_leaf&#x27;: array([1, 2, 3, 4])})</pre><b>In a Jupyter environment, please rerun this cell to show the HTML representation or trust the notebook. <br />On GitHub, the HTML representation is unable to render, please try loading this page with nbviewer.org.</b></div><div class=\"sk-container\" hidden><div class=\"sk-item sk-dashed-wrapped\"><div class=\"sk-label-container\"><div class=\"sk-label sk-toggleable\"><input class=\"sk-toggleable__control sk-hidden--visually\" id=\"sk-estimator-id-4\" type=\"checkbox\" ><label for=\"sk-estimator-id-4\" class=\"sk-toggleable__label sk-toggleable__label-arrow\">GridSearchCV</label><div class=\"sk-toggleable__content\"><pre>GridSearchCV(cv=5, estimator=RandomForestClassifier(),\n",
              "             param_grid={&#x27;criterion&#x27;: [&#x27;entropy&#x27;, &#x27;gini&#x27;],\n",
              "                         &#x27;max_depth&#x27;: array([3, 4, 5, 6, 7, 8, 9]),\n",
              "                         &#x27;min_samples_leaf&#x27;: array([1, 2, 3, 4])})</pre></div></div></div><div class=\"sk-parallel\"><div class=\"sk-parallel-item\"><div class=\"sk-item\"><div class=\"sk-label-container\"><div class=\"sk-label sk-toggleable\"><input class=\"sk-toggleable__control sk-hidden--visually\" id=\"sk-estimator-id-5\" type=\"checkbox\" ><label for=\"sk-estimator-id-5\" class=\"sk-toggleable__label sk-toggleable__label-arrow\">estimator: RandomForestClassifier</label><div class=\"sk-toggleable__content\"><pre>RandomForestClassifier()</pre></div></div></div><div class=\"sk-serial\"><div class=\"sk-item\"><div class=\"sk-estimator sk-toggleable\"><input class=\"sk-toggleable__control sk-hidden--visually\" id=\"sk-estimator-id-6\" type=\"checkbox\" ><label for=\"sk-estimator-id-6\" class=\"sk-toggleable__label sk-toggleable__label-arrow\">RandomForestClassifier</label><div class=\"sk-toggleable__content\"><pre>RandomForestClassifier()</pre></div></div></div></div></div></div></div></div></div></div>"
            ]
          },
          "metadata": {},
          "execution_count": 58
        }
      ]
    },
    {
      "cell_type": "markdown",
      "source": [
        "*Check the performance of the model on train and test data*"
      ],
      "metadata": {
        "id": "HgF0gokO04hL"
      }
    },
    {
      "cell_type": "code",
      "source": [
        "rfc_best = rfc_gcv.best_estimator_\n",
        "rfc_best.fit(x_train_std, y_train)\n",
        "y_pred_tst = rfc_best.predict(x_test_std)\n",
        "y_pred_trn = rfc_best.predict(x_train_std)\n",
        "rfc_best_acc_trn = accuracy_score(y_pred_trn, y_train)\n",
        "rfc_best_acc_tst = accuracy_score(y_pred_tst, y_test)\n",
        "print('Train Accuracy :', rfc_best_acc_trn)\n",
        "print('Test Accuracy :', rfc_best_acc_tst)\n",
        "print('Best Parameters :', rfc_gcv.best_params_)"
      ],
      "metadata": {
        "colab": {
          "base_uri": "https://localhost:8080/"
        },
        "outputId": "80a9cf13-3dc7-4ca3-ecf8-d592df85b27f",
        "id": "nLO5LHE24sG7"
      },
      "execution_count": 59,
      "outputs": [
        {
          "output_type": "stream",
          "name": "stdout",
          "text": [
            "Train Accuracy : 0.8306709265175719\n",
            "Test Accuracy : 0.8140525195173882\n",
            "Best Parameters : {'criterion': 'entropy', 'max_depth': 8, 'min_samples_leaf': 3}\n"
          ]
        }
      ]
    },
    {
      "cell_type": "markdown",
      "source": [
        "*Provide the differences observed in performance in Q3.c and Q3.d*\n",
        "<hr>\n",
        "\n",
        "After tuning hyperparameters, the train accuracy has gone down to 84%, however the model is predicting on test data with 81.5% accuracy. The model is performing better than the random forest before tuning"
      ],
      "metadata": {
        "id": "zZlE36SF0-Bl"
      }
    },
    {
      "cell_type": "markdown",
      "source": [
        "<hr>\n",
        "\n",
        "**E. Train a model using Ada Boost Classifier and check the performance of the model on train and test data**\n",
        "<hr>"
      ],
      "metadata": {
        "id": "w4imWCYp9lvM"
      }
    },
    {
      "cell_type": "code",
      "source": [
        "clf_abc.fit(x_train_std, y_train)\n",
        "y_pred_trn = clf_abc.predict(x_train_std)\n",
        "y_pred_tst = clf_abc.predict(x_test_std)\n",
        "abc_acc_trn = accuracy_score(y_pred_trn, y_train)\n",
        "abc_acc_tst = accuracy_score(y_pred_tst, y_test)\n",
        "print('Train Accuracy :', abc_acc_trn)\n",
        "print('Test Accuracy :', abc_acc_tst)"
      ],
      "metadata": {
        "colab": {
          "base_uri": "https://localhost:8080/"
        },
        "outputId": "98983103-cb9f-4d88-f28a-f1eaff68c33e",
        "id": "TdI36XhD9lvV"
      },
      "execution_count": 60,
      "outputs": [
        {
          "output_type": "stream",
          "name": "stdout",
          "text": [
            "Train Accuracy : 0.8107916222932198\n",
            "Test Accuracy : 0.815471965933286\n"
          ]
        }
      ]
    },
    {
      "cell_type": "markdown",
      "source": [
        "\n",
        "*The AdaBoost model is performing well & not overfitting. This is expected from AdaBoost as the algorithm does not overfit the data*\n"
      ],
      "metadata": {
        "id": "hS2D-WFUHeDt"
      }
    },
    {
      "cell_type": "markdown",
      "source": [
        "<hr>\n",
        "\n",
        "**F. Use grid search and improve the performance of the AdaBoost model**\n",
        "<hr>"
      ],
      "metadata": {
        "id": "GBmX7KUQ3pBr"
      }
    },
    {
      "cell_type": "code",
      "source": [
        "clf_abc.get_params()"
      ],
      "metadata": {
        "colab": {
          "base_uri": "https://localhost:8080/"
        },
        "outputId": "40a418c7-ed3f-47f1-e496-02323266aea6",
        "id": "xjtPscKY9lvW"
      },
      "execution_count": 61,
      "outputs": [
        {
          "output_type": "execute_result",
          "data": {
            "text/plain": [
              "{'algorithm': 'SAMME.R',\n",
              " 'base_estimator': 'deprecated',\n",
              " 'estimator': None,\n",
              " 'learning_rate': 1.0,\n",
              " 'n_estimators': 50,\n",
              " 'random_state': None}"
            ]
          },
          "metadata": {},
          "execution_count": 61
        }
      ]
    },
    {
      "cell_type": "markdown",
      "source": [
        "*Use grid search and improve the performance of the Adaboost model*"
      ],
      "metadata": {
        "id": "F4ATvvKR4I3L"
      }
    },
    {
      "cell_type": "code",
      "source": [
        "learning_rate_range_abc = np.arange(0.95,1,0.01)\n",
        "n_estimators_range_abc = np.arange(50,80,10)\n",
        "params = { 'learning_rate': learning_rate_range_abc\n",
        "          ,'n_estimators': n_estimators_range_abc}\n",
        "abc_gcv = GridSearchCV(clf_abc, params, cv=5)\n",
        "abc_gcv.fit(x_train_std, y_train)"
      ],
      "metadata": {
        "colab": {
          "base_uri": "https://localhost:8080/",
          "height": 116
        },
        "outputId": "517deb24-bf3d-411e-d194-c9b92b2636a8",
        "id": "GTQ9WVsn9lvW"
      },
      "execution_count": 62,
      "outputs": [
        {
          "output_type": "execute_result",
          "data": {
            "text/plain": [
              "GridSearchCV(cv=5, estimator=AdaBoostClassifier(),\n",
              "             param_grid={'learning_rate': array([0.95, 0.96, 0.97, 0.98, 0.99, 1.  ]),\n",
              "                         'n_estimators': array([50, 60, 70])})"
            ],
            "text/html": [
              "<style>#sk-container-id-3 {color: black;background-color: white;}#sk-container-id-3 pre{padding: 0;}#sk-container-id-3 div.sk-toggleable {background-color: white;}#sk-container-id-3 label.sk-toggleable__label {cursor: pointer;display: block;width: 100%;margin-bottom: 0;padding: 0.3em;box-sizing: border-box;text-align: center;}#sk-container-id-3 label.sk-toggleable__label-arrow:before {content: \"▸\";float: left;margin-right: 0.25em;color: #696969;}#sk-container-id-3 label.sk-toggleable__label-arrow:hover:before {color: black;}#sk-container-id-3 div.sk-estimator:hover label.sk-toggleable__label-arrow:before {color: black;}#sk-container-id-3 div.sk-toggleable__content {max-height: 0;max-width: 0;overflow: hidden;text-align: left;background-color: #f0f8ff;}#sk-container-id-3 div.sk-toggleable__content pre {margin: 0.2em;color: black;border-radius: 0.25em;background-color: #f0f8ff;}#sk-container-id-3 input.sk-toggleable__control:checked~div.sk-toggleable__content {max-height: 200px;max-width: 100%;overflow: auto;}#sk-container-id-3 input.sk-toggleable__control:checked~label.sk-toggleable__label-arrow:before {content: \"▾\";}#sk-container-id-3 div.sk-estimator input.sk-toggleable__control:checked~label.sk-toggleable__label {background-color: #d4ebff;}#sk-container-id-3 div.sk-label input.sk-toggleable__control:checked~label.sk-toggleable__label {background-color: #d4ebff;}#sk-container-id-3 input.sk-hidden--visually {border: 0;clip: rect(1px 1px 1px 1px);clip: rect(1px, 1px, 1px, 1px);height: 1px;margin: -1px;overflow: hidden;padding: 0;position: absolute;width: 1px;}#sk-container-id-3 div.sk-estimator {font-family: monospace;background-color: #f0f8ff;border: 1px dotted black;border-radius: 0.25em;box-sizing: border-box;margin-bottom: 0.5em;}#sk-container-id-3 div.sk-estimator:hover {background-color: #d4ebff;}#sk-container-id-3 div.sk-parallel-item::after {content: \"\";width: 100%;border-bottom: 1px solid gray;flex-grow: 1;}#sk-container-id-3 div.sk-label:hover label.sk-toggleable__label {background-color: #d4ebff;}#sk-container-id-3 div.sk-serial::before {content: \"\";position: absolute;border-left: 1px solid gray;box-sizing: border-box;top: 0;bottom: 0;left: 50%;z-index: 0;}#sk-container-id-3 div.sk-serial {display: flex;flex-direction: column;align-items: center;background-color: white;padding-right: 0.2em;padding-left: 0.2em;position: relative;}#sk-container-id-3 div.sk-item {position: relative;z-index: 1;}#sk-container-id-3 div.sk-parallel {display: flex;align-items: stretch;justify-content: center;background-color: white;position: relative;}#sk-container-id-3 div.sk-item::before, #sk-container-id-3 div.sk-parallel-item::before {content: \"\";position: absolute;border-left: 1px solid gray;box-sizing: border-box;top: 0;bottom: 0;left: 50%;z-index: -1;}#sk-container-id-3 div.sk-parallel-item {display: flex;flex-direction: column;z-index: 1;position: relative;background-color: white;}#sk-container-id-3 div.sk-parallel-item:first-child::after {align-self: flex-end;width: 50%;}#sk-container-id-3 div.sk-parallel-item:last-child::after {align-self: flex-start;width: 50%;}#sk-container-id-3 div.sk-parallel-item:only-child::after {width: 0;}#sk-container-id-3 div.sk-dashed-wrapped {border: 1px dashed gray;margin: 0 0.4em 0.5em 0.4em;box-sizing: border-box;padding-bottom: 0.4em;background-color: white;}#sk-container-id-3 div.sk-label label {font-family: monospace;font-weight: bold;display: inline-block;line-height: 1.2em;}#sk-container-id-3 div.sk-label-container {text-align: center;}#sk-container-id-3 div.sk-container {/* jupyter's `normalize.less` sets `[hidden] { display: none; }` but bootstrap.min.css set `[hidden] { display: none !important; }` so we also need the `!important` here to be able to override the default hidden behavior on the sphinx rendered scikit-learn.org. See: https://github.com/scikit-learn/scikit-learn/issues/21755 */display: inline-block !important;position: relative;}#sk-container-id-3 div.sk-text-repr-fallback {display: none;}</style><div id=\"sk-container-id-3\" class=\"sk-top-container\"><div class=\"sk-text-repr-fallback\"><pre>GridSearchCV(cv=5, estimator=AdaBoostClassifier(),\n",
              "             param_grid={&#x27;learning_rate&#x27;: array([0.95, 0.96, 0.97, 0.98, 0.99, 1.  ]),\n",
              "                         &#x27;n_estimators&#x27;: array([50, 60, 70])})</pre><b>In a Jupyter environment, please rerun this cell to show the HTML representation or trust the notebook. <br />On GitHub, the HTML representation is unable to render, please try loading this page with nbviewer.org.</b></div><div class=\"sk-container\" hidden><div class=\"sk-item sk-dashed-wrapped\"><div class=\"sk-label-container\"><div class=\"sk-label sk-toggleable\"><input class=\"sk-toggleable__control sk-hidden--visually\" id=\"sk-estimator-id-7\" type=\"checkbox\" ><label for=\"sk-estimator-id-7\" class=\"sk-toggleable__label sk-toggleable__label-arrow\">GridSearchCV</label><div class=\"sk-toggleable__content\"><pre>GridSearchCV(cv=5, estimator=AdaBoostClassifier(),\n",
              "             param_grid={&#x27;learning_rate&#x27;: array([0.95, 0.96, 0.97, 0.98, 0.99, 1.  ]),\n",
              "                         &#x27;n_estimators&#x27;: array([50, 60, 70])})</pre></div></div></div><div class=\"sk-parallel\"><div class=\"sk-parallel-item\"><div class=\"sk-item\"><div class=\"sk-label-container\"><div class=\"sk-label sk-toggleable\"><input class=\"sk-toggleable__control sk-hidden--visually\" id=\"sk-estimator-id-8\" type=\"checkbox\" ><label for=\"sk-estimator-id-8\" class=\"sk-toggleable__label sk-toggleable__label-arrow\">estimator: AdaBoostClassifier</label><div class=\"sk-toggleable__content\"><pre>AdaBoostClassifier()</pre></div></div></div><div class=\"sk-serial\"><div class=\"sk-item\"><div class=\"sk-estimator sk-toggleable\"><input class=\"sk-toggleable__control sk-hidden--visually\" id=\"sk-estimator-id-9\" type=\"checkbox\" ><label for=\"sk-estimator-id-9\" class=\"sk-toggleable__label sk-toggleable__label-arrow\">AdaBoostClassifier</label><div class=\"sk-toggleable__content\"><pre>AdaBoostClassifier()</pre></div></div></div></div></div></div></div></div></div></div>"
            ]
          },
          "metadata": {},
          "execution_count": 62
        }
      ]
    },
    {
      "cell_type": "markdown",
      "source": [
        "*Check the performance of the model on train and test data*"
      ],
      "metadata": {
        "id": "AEs9aCC94N0F"
      }
    },
    {
      "cell_type": "code",
      "source": [
        "abc_best = abc_gcv.best_estimator_\n",
        "abc_best.fit(x_train_std, y_train)\n",
        "y_pred_trn = abc_best.predict(x_train_std)\n",
        "y_pred_tst = abc_best.predict(x_test_std)\n",
        "abc_best_acc_trn = accuracy_score(y_pred_trn, y_train)\n",
        "abc_best_acc_tst = accuracy_score(y_pred_tst, y_test)\n",
        "print('Train Accuracy :', abc_best_acc_trn)\n",
        "print('Test Accuracy :', abc_best_acc_tst)\n",
        "print('Best Parameters :', abc_gcv.best_params_)"
      ],
      "metadata": {
        "colab": {
          "base_uri": "https://localhost:8080/"
        },
        "outputId": "9245d7bc-315e-44da-98a5-9cd0b6abe3c5",
        "id": "IOrgyu-Z9lvW"
      },
      "execution_count": 63,
      "outputs": [
        {
          "output_type": "stream",
          "name": "stdout",
          "text": [
            "Train Accuracy : 0.8065317713880015\n",
            "Test Accuracy : 0.8105039034776437\n",
            "Best Parameters : {'learning_rate': 0.96, 'n_estimators': 60}\n"
          ]
        }
      ]
    },
    {
      "cell_type": "markdown",
      "source": [
        "*Provide the differences observed in performance in Q3.e and Q3.f*\n",
        "<hr>\n",
        "<li>GridSearchCV tuning did not result in any improvement (same performance)\n",
        "<li>This could be because of the params range that was supplied to the model \n",
        "<li>The accuracy of the original ( default parameters ) model is better in case of AdaBoost "
      ],
      "metadata": {
        "id": "PpunIKj94UI_"
      }
    },
    {
      "cell_type": "markdown",
      "source": [
        "<hr> \n",
        "\n",
        "**G. Train a model using Gradient Boosting Classifier and check the performance of the model on train and test data**\n",
        "<hr>"
      ],
      "metadata": {
        "id": "7iRi9Kpe_vaA"
      }
    },
    {
      "cell_type": "code",
      "source": [
        "clf_gbc.fit(x_train_std, y_train)\n",
        "y_pred_trn = clf_gbc.predict(x_train_std)\n",
        "y_pred_tst = clf_gbc.predict(x_test_std)\n",
        "gbc_acc_trn = accuracy_score(y_pred_trn, y_train)\n",
        "gbc_acc_tst = accuracy_score(y_pred_tst, y_test)\n",
        "print('Train Accuracy :', gbc_acc_trn)\n",
        "print('Test Accuracy :', gbc_acc_tst)"
      ],
      "metadata": {
        "colab": {
          "base_uri": "https://localhost:8080/"
        },
        "outputId": "a7792938-06e5-4ca4-d3d0-c1f06d8e028b",
        "id": "lAu9OVVY_vaP"
      },
      "execution_count": 64,
      "outputs": [
        {
          "output_type": "stream",
          "name": "stdout",
          "text": [
            "Train Accuracy : 0.8246361377351793\n",
            "Test Accuracy : 0.8105039034776437\n"
          ]
        }
      ]
    },
    {
      "cell_type": "markdown",
      "source": [
        "*The Gradient Boosting model is performing well & not overfitting as expected and similar to AdaBoost model*"
      ],
      "metadata": {
        "id": "-9FJ9GggJNxY"
      }
    },
    {
      "cell_type": "markdown",
      "source": [
        "<hr>\n",
        "\n",
        "**H. Use grid search and improve the performance of the AdaBoost model**\n",
        "<hr>"
      ],
      "metadata": {
        "id": "Pw1DB2OZ5JwP"
      }
    },
    {
      "cell_type": "code",
      "source": [
        "clf_gbc.get_params()"
      ],
      "metadata": {
        "colab": {
          "base_uri": "https://localhost:8080/"
        },
        "outputId": "d81e82bf-b409-4c7a-b4d5-6504990994ee",
        "id": "-guvyGTw_vaP"
      },
      "execution_count": 65,
      "outputs": [
        {
          "output_type": "execute_result",
          "data": {
            "text/plain": [
              "{'ccp_alpha': 0.0,\n",
              " 'criterion': 'friedman_mse',\n",
              " 'init': None,\n",
              " 'learning_rate': 0.1,\n",
              " 'loss': 'log_loss',\n",
              " 'max_depth': 3,\n",
              " 'max_features': None,\n",
              " 'max_leaf_nodes': None,\n",
              " 'min_impurity_decrease': 0.0,\n",
              " 'min_samples_leaf': 1,\n",
              " 'min_samples_split': 2,\n",
              " 'min_weight_fraction_leaf': 0.0,\n",
              " 'n_estimators': 100,\n",
              " 'n_iter_no_change': None,\n",
              " 'random_state': None,\n",
              " 'subsample': 1.0,\n",
              " 'tol': 0.0001,\n",
              " 'validation_fraction': 0.1,\n",
              " 'verbose': 0,\n",
              " 'warm_start': False}"
            ]
          },
          "metadata": {},
          "execution_count": 65
        }
      ]
    },
    {
      "cell_type": "markdown",
      "source": [
        "*Use grid search and improve the performance of the GradientBoost model*"
      ],
      "metadata": {
        "id": "Hpesh1M45OUN"
      }
    },
    {
      "cell_type": "code",
      "source": [
        "max_depth_range_gbc = np.arange(3,10)\n",
        "min_samples_leaf_range_gbc = np.arange(1,5)\n",
        "params = {'criterion': ['friedman_mse', 'squared_error']\n",
        "          ,'max_depth': max_depth_range_gbc }\n",
        "gbc_gcv = GridSearchCV(clf_gbc, params, cv=5)\n",
        "gbc_gcv.fit(x_train_std, y_train)"
      ],
      "metadata": {
        "colab": {
          "base_uri": "https://localhost:8080/",
          "height": 116
        },
        "outputId": "306989af-1586-4e02-e446-470b6dbfc685",
        "id": "Z4Xa1qav_vaP"
      },
      "execution_count": 66,
      "outputs": [
        {
          "output_type": "execute_result",
          "data": {
            "text/plain": [
              "GridSearchCV(cv=5, estimator=GradientBoostingClassifier(),\n",
              "             param_grid={'criterion': ['friedman_mse', 'squared_error'],\n",
              "                         'max_depth': array([3, 4, 5, 6, 7, 8, 9])})"
            ],
            "text/html": [
              "<style>#sk-container-id-4 {color: black;background-color: white;}#sk-container-id-4 pre{padding: 0;}#sk-container-id-4 div.sk-toggleable {background-color: white;}#sk-container-id-4 label.sk-toggleable__label {cursor: pointer;display: block;width: 100%;margin-bottom: 0;padding: 0.3em;box-sizing: border-box;text-align: center;}#sk-container-id-4 label.sk-toggleable__label-arrow:before {content: \"▸\";float: left;margin-right: 0.25em;color: #696969;}#sk-container-id-4 label.sk-toggleable__label-arrow:hover:before {color: black;}#sk-container-id-4 div.sk-estimator:hover label.sk-toggleable__label-arrow:before {color: black;}#sk-container-id-4 div.sk-toggleable__content {max-height: 0;max-width: 0;overflow: hidden;text-align: left;background-color: #f0f8ff;}#sk-container-id-4 div.sk-toggleable__content pre {margin: 0.2em;color: black;border-radius: 0.25em;background-color: #f0f8ff;}#sk-container-id-4 input.sk-toggleable__control:checked~div.sk-toggleable__content {max-height: 200px;max-width: 100%;overflow: auto;}#sk-container-id-4 input.sk-toggleable__control:checked~label.sk-toggleable__label-arrow:before {content: \"▾\";}#sk-container-id-4 div.sk-estimator input.sk-toggleable__control:checked~label.sk-toggleable__label {background-color: #d4ebff;}#sk-container-id-4 div.sk-label input.sk-toggleable__control:checked~label.sk-toggleable__label {background-color: #d4ebff;}#sk-container-id-4 input.sk-hidden--visually {border: 0;clip: rect(1px 1px 1px 1px);clip: rect(1px, 1px, 1px, 1px);height: 1px;margin: -1px;overflow: hidden;padding: 0;position: absolute;width: 1px;}#sk-container-id-4 div.sk-estimator {font-family: monospace;background-color: #f0f8ff;border: 1px dotted black;border-radius: 0.25em;box-sizing: border-box;margin-bottom: 0.5em;}#sk-container-id-4 div.sk-estimator:hover {background-color: #d4ebff;}#sk-container-id-4 div.sk-parallel-item::after {content: \"\";width: 100%;border-bottom: 1px solid gray;flex-grow: 1;}#sk-container-id-4 div.sk-label:hover label.sk-toggleable__label {background-color: #d4ebff;}#sk-container-id-4 div.sk-serial::before {content: \"\";position: absolute;border-left: 1px solid gray;box-sizing: border-box;top: 0;bottom: 0;left: 50%;z-index: 0;}#sk-container-id-4 div.sk-serial {display: flex;flex-direction: column;align-items: center;background-color: white;padding-right: 0.2em;padding-left: 0.2em;position: relative;}#sk-container-id-4 div.sk-item {position: relative;z-index: 1;}#sk-container-id-4 div.sk-parallel {display: flex;align-items: stretch;justify-content: center;background-color: white;position: relative;}#sk-container-id-4 div.sk-item::before, #sk-container-id-4 div.sk-parallel-item::before {content: \"\";position: absolute;border-left: 1px solid gray;box-sizing: border-box;top: 0;bottom: 0;left: 50%;z-index: -1;}#sk-container-id-4 div.sk-parallel-item {display: flex;flex-direction: column;z-index: 1;position: relative;background-color: white;}#sk-container-id-4 div.sk-parallel-item:first-child::after {align-self: flex-end;width: 50%;}#sk-container-id-4 div.sk-parallel-item:last-child::after {align-self: flex-start;width: 50%;}#sk-container-id-4 div.sk-parallel-item:only-child::after {width: 0;}#sk-container-id-4 div.sk-dashed-wrapped {border: 1px dashed gray;margin: 0 0.4em 0.5em 0.4em;box-sizing: border-box;padding-bottom: 0.4em;background-color: white;}#sk-container-id-4 div.sk-label label {font-family: monospace;font-weight: bold;display: inline-block;line-height: 1.2em;}#sk-container-id-4 div.sk-label-container {text-align: center;}#sk-container-id-4 div.sk-container {/* jupyter's `normalize.less` sets `[hidden] { display: none; }` but bootstrap.min.css set `[hidden] { display: none !important; }` so we also need the `!important` here to be able to override the default hidden behavior on the sphinx rendered scikit-learn.org. See: https://github.com/scikit-learn/scikit-learn/issues/21755 */display: inline-block !important;position: relative;}#sk-container-id-4 div.sk-text-repr-fallback {display: none;}</style><div id=\"sk-container-id-4\" class=\"sk-top-container\"><div class=\"sk-text-repr-fallback\"><pre>GridSearchCV(cv=5, estimator=GradientBoostingClassifier(),\n",
              "             param_grid={&#x27;criterion&#x27;: [&#x27;friedman_mse&#x27;, &#x27;squared_error&#x27;],\n",
              "                         &#x27;max_depth&#x27;: array([3, 4, 5, 6, 7, 8, 9])})</pre><b>In a Jupyter environment, please rerun this cell to show the HTML representation or trust the notebook. <br />On GitHub, the HTML representation is unable to render, please try loading this page with nbviewer.org.</b></div><div class=\"sk-container\" hidden><div class=\"sk-item sk-dashed-wrapped\"><div class=\"sk-label-container\"><div class=\"sk-label sk-toggleable\"><input class=\"sk-toggleable__control sk-hidden--visually\" id=\"sk-estimator-id-10\" type=\"checkbox\" ><label for=\"sk-estimator-id-10\" class=\"sk-toggleable__label sk-toggleable__label-arrow\">GridSearchCV</label><div class=\"sk-toggleable__content\"><pre>GridSearchCV(cv=5, estimator=GradientBoostingClassifier(),\n",
              "             param_grid={&#x27;criterion&#x27;: [&#x27;friedman_mse&#x27;, &#x27;squared_error&#x27;],\n",
              "                         &#x27;max_depth&#x27;: array([3, 4, 5, 6, 7, 8, 9])})</pre></div></div></div><div class=\"sk-parallel\"><div class=\"sk-parallel-item\"><div class=\"sk-item\"><div class=\"sk-label-container\"><div class=\"sk-label sk-toggleable\"><input class=\"sk-toggleable__control sk-hidden--visually\" id=\"sk-estimator-id-11\" type=\"checkbox\" ><label for=\"sk-estimator-id-11\" class=\"sk-toggleable__label sk-toggleable__label-arrow\">estimator: GradientBoostingClassifier</label><div class=\"sk-toggleable__content\"><pre>GradientBoostingClassifier()</pre></div></div></div><div class=\"sk-serial\"><div class=\"sk-item\"><div class=\"sk-estimator sk-toggleable\"><input class=\"sk-toggleable__control sk-hidden--visually\" id=\"sk-estimator-id-12\" type=\"checkbox\" ><label for=\"sk-estimator-id-12\" class=\"sk-toggleable__label sk-toggleable__label-arrow\">GradientBoostingClassifier</label><div class=\"sk-toggleable__content\"><pre>GradientBoostingClassifier()</pre></div></div></div></div></div></div></div></div></div></div>"
            ]
          },
          "metadata": {},
          "execution_count": 66
        }
      ]
    },
    {
      "cell_type": "markdown",
      "source": [
        "*Check the performance of the model on train and test data*"
      ],
      "metadata": {
        "id": "TqU8A6zA5nIT"
      }
    },
    {
      "cell_type": "code",
      "source": [
        "gbc_best = gbc_gcv.best_estimator_\n",
        "gbc_best.fit(x_train_std, y_train)\n",
        "y_pred_trn = gbc_best.predict(x_train_std)\n",
        "y_pred_tst = gbc_best.predict(x_test_std)\n",
        "gbc_best_acc_trn = accuracy_score(y_pred_trn, y_train)\n",
        "gbc_best_acc_tst = accuracy_score(y_pred_tst, y_test)\n",
        "print('Train Accuracy :', gbc_best_acc_trn)\n",
        "print('Test Accuracy :', gbc_best_acc_tst)\n",
        "print('Best Parameters :', gbc_gcv.best_params_)"
      ],
      "metadata": {
        "colab": {
          "base_uri": "https://localhost:8080/"
        },
        "outputId": "069a89f2-eedd-467b-e18a-2d5987ea3544",
        "id": "i5iKJy0g_vaQ"
      },
      "execution_count": 67,
      "outputs": [
        {
          "output_type": "stream",
          "name": "stdout",
          "text": [
            "Train Accuracy : 0.8246361377351793\n",
            "Test Accuracy : 0.8105039034776437\n",
            "Best Parameters : {'criterion': 'friedman_mse', 'max_depth': 3}\n"
          ]
        }
      ]
    },
    {
      "cell_type": "markdown",
      "source": [
        "*Provide the differences observed in performance in Q3.g and Q3.h*\n",
        "<hr>\n",
        "\n",
        "<li>GridSearchCV tuning did not result in any improvement \n",
        "<li>This could be because of the params range / list that was supplied to the model. \n",
        "<li>The accuracy of the original ( default parameters ) model is same"
      ],
      "metadata": {
        "id": "p2CtD_v65t5K"
      }
    },
    {
      "cell_type": "markdown",
      "source": [
        "<hr>\n",
        "\n",
        "**I. Provide detailed analysis of the below steps**\n",
        "<hr>"
      ],
      "metadata": {
        "id": "kVGtdv0K6J5U"
      }
    },
    {
      "cell_type": "markdown",
      "source": [
        "*(1) Compare the performance of each model in train stage and test stage*"
      ],
      "metadata": {
        "id": "fJsqZ34g6VBS"
      }
    },
    {
      "cell_type": "code",
      "source": [
        "acc_data = [['Decision Tree',dtc_acc_trn, dtc_acc_tst, dtc_best_acc_trn, dtc_best_acc_tst],\n",
        "            ['Random Forest',rfc_acc_trn, rfc_acc_tst, rfc_best_acc_trn, rfc_best_acc_tst],\n",
        "            ['Ada Boost',abc_acc_trn, abc_acc_tst, abc_best_acc_trn, abc_best_acc_tst],\n",
        "            ['Gradient Boosting',gbc_acc_trn, gbc_acc_tst, gbc_best_acc_trn, gbc_best_acc_tst]\n",
        "            ]\n",
        "acc_table = pd.DataFrame(acc_data)\n",
        "acc_table.columns = ['Model', 'Train Acc (Default)', 'Test Acc (Default)', 'Train Acc (GridCV)','Test Acc (GridCV)']\n",
        "acc_table"
      ],
      "metadata": {
        "colab": {
          "base_uri": "https://localhost:8080/",
          "height": 174
        },
        "id": "6EAjssKeJ6v5",
        "outputId": "45334a0b-5dfb-427d-d6e8-8224f31776f1"
      },
      "execution_count": 70,
      "outputs": [
        {
          "output_type": "execute_result",
          "data": {
            "text/plain": [
              "               Model  Train Acc (Default)  Test Acc (Default)  \\\n",
              "0      Decision Tree             0.998580            0.733144   \n",
              "1      Random Forest             0.998580            0.796309   \n",
              "2          Ada Boost             0.810792            0.815472   \n",
              "3  Gradient Boosting             0.824636            0.810504   \n",
              "\n",
              "   Train Acc (GridCV)  Test Acc (GridCV)  \n",
              "0            0.798722           0.803407  \n",
              "1            0.830671           0.814053  \n",
              "2            0.806532           0.810504  \n",
              "3            0.824636           0.810504  "
            ],
            "text/html": [
              "\n",
              "  <div id=\"df-48f02146-50bf-4c0e-b799-8312b6875e82\">\n",
              "    <div class=\"colab-df-container\">\n",
              "      <div>\n",
              "<style scoped>\n",
              "    .dataframe tbody tr th:only-of-type {\n",
              "        vertical-align: middle;\n",
              "    }\n",
              "\n",
              "    .dataframe tbody tr th {\n",
              "        vertical-align: top;\n",
              "    }\n",
              "\n",
              "    .dataframe thead th {\n",
              "        text-align: right;\n",
              "    }\n",
              "</style>\n",
              "<table border=\"1\" class=\"dataframe\">\n",
              "  <thead>\n",
              "    <tr style=\"text-align: right;\">\n",
              "      <th></th>\n",
              "      <th>Model</th>\n",
              "      <th>Train Acc (Default)</th>\n",
              "      <th>Test Acc (Default)</th>\n",
              "      <th>Train Acc (GridCV)</th>\n",
              "      <th>Test Acc (GridCV)</th>\n",
              "    </tr>\n",
              "  </thead>\n",
              "  <tbody>\n",
              "    <tr>\n",
              "      <th>0</th>\n",
              "      <td>Decision Tree</td>\n",
              "      <td>0.998580</td>\n",
              "      <td>0.733144</td>\n",
              "      <td>0.798722</td>\n",
              "      <td>0.803407</td>\n",
              "    </tr>\n",
              "    <tr>\n",
              "      <th>1</th>\n",
              "      <td>Random Forest</td>\n",
              "      <td>0.998580</td>\n",
              "      <td>0.796309</td>\n",
              "      <td>0.830671</td>\n",
              "      <td>0.814053</td>\n",
              "    </tr>\n",
              "    <tr>\n",
              "      <th>2</th>\n",
              "      <td>Ada Boost</td>\n",
              "      <td>0.810792</td>\n",
              "      <td>0.815472</td>\n",
              "      <td>0.806532</td>\n",
              "      <td>0.810504</td>\n",
              "    </tr>\n",
              "    <tr>\n",
              "      <th>3</th>\n",
              "      <td>Gradient Boosting</td>\n",
              "      <td>0.824636</td>\n",
              "      <td>0.810504</td>\n",
              "      <td>0.824636</td>\n",
              "      <td>0.810504</td>\n",
              "    </tr>\n",
              "  </tbody>\n",
              "</table>\n",
              "</div>\n",
              "      <button class=\"colab-df-convert\" onclick=\"convertToInteractive('df-48f02146-50bf-4c0e-b799-8312b6875e82')\"\n",
              "              title=\"Convert this dataframe to an interactive table.\"\n",
              "              style=\"display:none;\">\n",
              "        \n",
              "  <svg xmlns=\"http://www.w3.org/2000/svg\" height=\"24px\"viewBox=\"0 0 24 24\"\n",
              "       width=\"24px\">\n",
              "    <path d=\"M0 0h24v24H0V0z\" fill=\"none\"/>\n",
              "    <path d=\"M18.56 5.44l.94 2.06.94-2.06 2.06-.94-2.06-.94-.94-2.06-.94 2.06-2.06.94zm-11 1L8.5 8.5l.94-2.06 2.06-.94-2.06-.94L8.5 2.5l-.94 2.06-2.06.94zm10 10l.94 2.06.94-2.06 2.06-.94-2.06-.94-.94-2.06-.94 2.06-2.06.94z\"/><path d=\"M17.41 7.96l-1.37-1.37c-.4-.4-.92-.59-1.43-.59-.52 0-1.04.2-1.43.59L10.3 9.45l-7.72 7.72c-.78.78-.78 2.05 0 2.83L4 21.41c.39.39.9.59 1.41.59.51 0 1.02-.2 1.41-.59l7.78-7.78 2.81-2.81c.8-.78.8-2.07 0-2.86zM5.41 20L4 18.59l7.72-7.72 1.47 1.35L5.41 20z\"/>\n",
              "  </svg>\n",
              "      </button>\n",
              "      \n",
              "  <style>\n",
              "    .colab-df-container {\n",
              "      display:flex;\n",
              "      flex-wrap:wrap;\n",
              "      gap: 12px;\n",
              "    }\n",
              "\n",
              "    .colab-df-convert {\n",
              "      background-color: #E8F0FE;\n",
              "      border: none;\n",
              "      border-radius: 50%;\n",
              "      cursor: pointer;\n",
              "      display: none;\n",
              "      fill: #1967D2;\n",
              "      height: 32px;\n",
              "      padding: 0 0 0 0;\n",
              "      width: 32px;\n",
              "    }\n",
              "\n",
              "    .colab-df-convert:hover {\n",
              "      background-color: #E2EBFA;\n",
              "      box-shadow: 0px 1px 2px rgba(60, 64, 67, 0.3), 0px 1px 3px 1px rgba(60, 64, 67, 0.15);\n",
              "      fill: #174EA6;\n",
              "    }\n",
              "\n",
              "    [theme=dark] .colab-df-convert {\n",
              "      background-color: #3B4455;\n",
              "      fill: #D2E3FC;\n",
              "    }\n",
              "\n",
              "    [theme=dark] .colab-df-convert:hover {\n",
              "      background-color: #434B5C;\n",
              "      box-shadow: 0px 1px 3px 1px rgba(0, 0, 0, 0.15);\n",
              "      filter: drop-shadow(0px 1px 2px rgba(0, 0, 0, 0.3));\n",
              "      fill: #FFFFFF;\n",
              "    }\n",
              "  </style>\n",
              "\n",
              "      <script>\n",
              "        const buttonEl =\n",
              "          document.querySelector('#df-48f02146-50bf-4c0e-b799-8312b6875e82 button.colab-df-convert');\n",
              "        buttonEl.style.display =\n",
              "          google.colab.kernel.accessAllowed ? 'block' : 'none';\n",
              "\n",
              "        async function convertToInteractive(key) {\n",
              "          const element = document.querySelector('#df-48f02146-50bf-4c0e-b799-8312b6875e82');\n",
              "          const dataTable =\n",
              "            await google.colab.kernel.invokeFunction('convertToInteractive',\n",
              "                                                     [key], {});\n",
              "          if (!dataTable) return;\n",
              "\n",
              "          const docLinkHtml = 'Like what you see? Visit the ' +\n",
              "            '<a target=\"_blank\" href=https://colab.research.google.com/notebooks/data_table.ipynb>data table notebook</a>'\n",
              "            + ' to learn more about interactive tables.';\n",
              "          element.innerHTML = '';\n",
              "          dataTable['output_type'] = 'display_data';\n",
              "          await google.colab.output.renderOutput(dataTable, element);\n",
              "          const docLink = document.createElement('div');\n",
              "          docLink.innerHTML = docLinkHtml;\n",
              "          element.appendChild(docLink);\n",
              "        }\n",
              "      </script>\n",
              "    </div>\n",
              "  </div>\n",
              "  "
            ]
          },
          "metadata": {},
          "execution_count": 70
        }
      ]
    },
    {
      "cell_type": "markdown",
      "source": [
        "*(2) Provide your observation on which model performed the best*\n",
        "<hr> \n",
        "\n",
        "Overall, the AdaBoost model with default parameters performed the best on Test & Train Data. The accuracy is 81%"
      ],
      "metadata": {
        "id": "B5vks1656u4L"
      }
    },
    {
      "cell_type": "markdown",
      "source": [
        "*(3) Provide your reasoning on why the model performed best*\n",
        "<hr>\n",
        "\n",
        "The AdaBoost model performed better as it is designed to reduce error in classification by using weights to penalize incorrect classifications. This model also does not overfit as the algorithm uses weak models as the starting point"
      ],
      "metadata": {
        "id": "kb5BNIgkLjuo"
      }
    },
    {
      "cell_type": "markdown",
      "source": [
        "*(4) Provide your final conclusion on your observation*\n",
        "<hr> \n",
        "\n",
        "<li>Overall, Boosting models (AdaBoost/GradientBoosting) performed better than Decision Tree or Random Forest. The key issue with DT & RF models is overfitting which can be corrected by tuning parameters.<br><br>\n",
        "\n",
        "<li>The dataset also has only 27% customers who have churned and 73% who have not churned, so to improve the accuracy we can employ sampling methods (upsampling/downsampling). This may help increase accuracy by a few % points <br><br>\n",
        "\n",
        "<li>However, even with 80% accuracy, we will be able to target those customers who are likely to churn and drive marketing or customer service efforts to drive retention and add-on sales <br><br>\n",
        "\n"
      ],
      "metadata": {
        "id": "Mm9VSPr28xWk"
      }
    },
    {
      "cell_type": "code",
      "source": [
        "data['Churn'].value_counts(normalize=True)"
      ],
      "metadata": {
        "colab": {
          "base_uri": "https://localhost:8080/"
        },
        "id": "6cfLlQLh9Wg_",
        "outputId": "8ca518a7-e1c9-4f35-e196-50151ee3357e"
      },
      "execution_count": 72,
      "outputs": [
        {
          "output_type": "execute_result",
          "data": {
            "text/plain": [
              "0    0.73463\n",
              "1    0.26537\n",
              "Name: Churn, dtype: float64"
            ]
          },
          "metadata": {},
          "execution_count": 72
        }
      ]
    },
    {
      "cell_type": "code",
      "source": [
        "%%shell\n",
        "jupyter nbconvert --to html '/content/EnsembleTechniques.ipynb'"
      ],
      "metadata": {
        "id": "vrl_D6I-OJMr"
      },
      "execution_count": null,
      "outputs": []
    }
  ]
}