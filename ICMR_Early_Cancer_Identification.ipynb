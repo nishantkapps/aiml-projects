{
  "nbformat": 4,
  "nbformat_minor": 0,
  "metadata": {
    "colab": {
      "provenance": [],
      "mount_file_id": "1ybulGQKQXS96wd_6UKy8htR4H6C_5Jex",
      "authorship_tag": "ABX9TyPEAErKIndSOgAu6hWQTmdW",
      "include_colab_link": true
    },
    "kernelspec": {
      "name": "python3",
      "display_name": "Python 3"
    },
    "language_info": {
      "name": "python"
    }
  },
  "cells": [
    {
      "cell_type": "markdown",
      "metadata": {
        "id": "view-in-github",
        "colab_type": "text"
      },
      "source": [
        "<a href=\"https://colab.research.google.com/github/nishantkapps/aiml-projects/blob/main/ICMR_Early_Cancer_Identification.ipynb\" target=\"_parent\"><img src=\"https://colab.research.google.com/assets/colab-badge.svg\" alt=\"Open In Colab\"/></a>"
      ]
    },
    {
      "cell_type": "code",
      "execution_count": null,
      "metadata": {
        "id": "NCvBL_AlBUkQ"
      },
      "outputs": [],
      "source": [
        "import os\n",
        "import pandas as pd\n",
        "import numpy as np\n",
        "import seaborn as sns\n",
        "import fastcluster as fc"
      ]
    },
    {
      "cell_type": "code",
      "source": [
        "! pip install fastcluster"
      ],
      "metadata": {
        "colab": {
          "base_uri": "https://localhost:8080/"
        },
        "id": "BIyZM39VmKon",
        "outputId": "bb130e67-0582-400a-e9a8-26ca404b4081"
      },
      "execution_count": null,
      "outputs": [
        {
          "output_type": "stream",
          "name": "stdout",
          "text": [
            "Looking in indexes: https://pypi.org/simple, https://us-python.pkg.dev/colab-wheels/public/simple/\n",
            "Collecting fastcluster\n",
            "  Downloading fastcluster-1.2.6-cp38-cp38-manylinux_2_5_x86_64.manylinux1_x86_64.manylinux_2_17_x86_64.manylinux2014_x86_64.whl (194 kB)\n",
            "\u001b[2K     \u001b[90m━━━━━━━━━━━━━━━━━━━━━━━━━━━━━━━━━━━━━━━\u001b[0m \u001b[32m194.1/194.1 KB\u001b[0m \u001b[31m4.9 MB/s\u001b[0m eta \u001b[36m0:00:00\u001b[0m\n",
            "\u001b[?25hRequirement already satisfied: numpy>=1.9 in /usr/local/lib/python3.8/dist-packages (from fastcluster) (1.21.6)\n",
            "Installing collected packages: fastcluster\n",
            "Successfully installed fastcluster-1.2.6\n"
          ]
        }
      ]
    },
    {
      "cell_type": "markdown",
      "source": [
        "# Read data and labels & merge the datasets"
      ],
      "metadata": {
        "id": "6b2jOVdvLbXf"
      }
    },
    {
      "cell_type": "code",
      "source": [
        "main_path = '/content/drive/MyDrive/datasets/early-cancer-detection'\n",
        "datacsv = os.path.join(main_path,'data.csv')\n",
        "labelscsv = os.path.join(main_path,'labels.csv')"
      ],
      "metadata": {
        "id": "94pER8XPCeUI"
      },
      "execution_count": null,
      "outputs": []
    },
    {
      "cell_type": "code",
      "source": [
        "data = pd.read_csv(datacsv)\n",
        "labels = pd.read_csv(labelscsv)"
      ],
      "metadata": {
        "id": "fgNX-y9TDBEd"
      },
      "execution_count": null,
      "outputs": []
    },
    {
      "cell_type": "code",
      "source": [
        "df = pd.merge(data,labels, on='Unnamed: 0')"
      ],
      "metadata": {
        "id": "05immLhCDMhS"
      },
      "execution_count": null,
      "outputs": []
    },
    {
      "cell_type": "code",
      "source": [
        "df.head()"
      ],
      "metadata": {
        "colab": {
          "base_uri": "https://localhost:8080/",
          "height": 317
        },
        "id": "SDaKbpIOwRVm",
        "outputId": "9d543f59-2beb-48cb-9892-78b052a597a4"
      },
      "execution_count": null,
      "outputs": [
        {
          "output_type": "execute_result",
          "data": {
            "text/plain": [
              "  Unnamed: 0  gene_0    gene_1    gene_2    gene_3     gene_4  gene_5  \\\n",
              "0   sample_0     0.0  2.017209  3.265527  5.478487  10.431999     0.0   \n",
              "1   sample_1     0.0  0.592732  1.588421  7.586157   9.623011     0.0   \n",
              "2   sample_2     0.0  3.511759  4.327199  6.881787   9.870730     0.0   \n",
              "3   sample_3     0.0  3.663618  4.507649  6.659068  10.196184     0.0   \n",
              "4   sample_4     0.0  2.655741  2.821547  6.539454   9.738265     0.0   \n",
              "\n",
              "     gene_6    gene_7  gene_8  ...  gene_20522  gene_20523  gene_20524  \\\n",
              "0  7.175175  0.591871     0.0  ...    8.210257    9.723516    7.220030   \n",
              "1  6.816049  0.000000     0.0  ...    7.323865    9.740931    6.256586   \n",
              "2  6.972130  0.452595     0.0  ...    8.127123   10.908640    5.401607   \n",
              "3  7.843375  0.434882     0.0  ...    8.792959   10.141520    8.942805   \n",
              "4  6.566967  0.360982     0.0  ...    8.891425   10.373790    7.181162   \n",
              "\n",
              "   gene_20525  gene_20526  gene_20527  gene_20528  gene_20529  gene_20530  \\\n",
              "0    9.119813   12.003135    9.650743    8.921326    5.286759         0.0   \n",
              "1    8.381612   12.674552   10.517059    9.397854    2.094168         0.0   \n",
              "2    9.911597    9.045255    9.788359   10.090470    1.683023         0.0   \n",
              "3    9.601208   11.392682    9.694814    9.684365    3.292001         0.0   \n",
              "4    9.846910   11.922439    9.217749    9.461191    5.110372         0.0   \n",
              "\n",
              "   Class  \n",
              "0   PRAD  \n",
              "1   LUAD  \n",
              "2   PRAD  \n",
              "3   PRAD  \n",
              "4   BRCA  \n",
              "\n",
              "[5 rows x 20533 columns]"
            ],
            "text/html": [
              "\n",
              "  <div id=\"df-d00d9986-e405-4042-a8ff-31b42acc433b\">\n",
              "    <div class=\"colab-df-container\">\n",
              "      <div>\n",
              "<style scoped>\n",
              "    .dataframe tbody tr th:only-of-type {\n",
              "        vertical-align: middle;\n",
              "    }\n",
              "\n",
              "    .dataframe tbody tr th {\n",
              "        vertical-align: top;\n",
              "    }\n",
              "\n",
              "    .dataframe thead th {\n",
              "        text-align: right;\n",
              "    }\n",
              "</style>\n",
              "<table border=\"1\" class=\"dataframe\">\n",
              "  <thead>\n",
              "    <tr style=\"text-align: right;\">\n",
              "      <th></th>\n",
              "      <th>Unnamed: 0</th>\n",
              "      <th>gene_0</th>\n",
              "      <th>gene_1</th>\n",
              "      <th>gene_2</th>\n",
              "      <th>gene_3</th>\n",
              "      <th>gene_4</th>\n",
              "      <th>gene_5</th>\n",
              "      <th>gene_6</th>\n",
              "      <th>gene_7</th>\n",
              "      <th>gene_8</th>\n",
              "      <th>...</th>\n",
              "      <th>gene_20522</th>\n",
              "      <th>gene_20523</th>\n",
              "      <th>gene_20524</th>\n",
              "      <th>gene_20525</th>\n",
              "      <th>gene_20526</th>\n",
              "      <th>gene_20527</th>\n",
              "      <th>gene_20528</th>\n",
              "      <th>gene_20529</th>\n",
              "      <th>gene_20530</th>\n",
              "      <th>Class</th>\n",
              "    </tr>\n",
              "  </thead>\n",
              "  <tbody>\n",
              "    <tr>\n",
              "      <th>0</th>\n",
              "      <td>sample_0</td>\n",
              "      <td>0.0</td>\n",
              "      <td>2.017209</td>\n",
              "      <td>3.265527</td>\n",
              "      <td>5.478487</td>\n",
              "      <td>10.431999</td>\n",
              "      <td>0.0</td>\n",
              "      <td>7.175175</td>\n",
              "      <td>0.591871</td>\n",
              "      <td>0.0</td>\n",
              "      <td>...</td>\n",
              "      <td>8.210257</td>\n",
              "      <td>9.723516</td>\n",
              "      <td>7.220030</td>\n",
              "      <td>9.119813</td>\n",
              "      <td>12.003135</td>\n",
              "      <td>9.650743</td>\n",
              "      <td>8.921326</td>\n",
              "      <td>5.286759</td>\n",
              "      <td>0.0</td>\n",
              "      <td>PRAD</td>\n",
              "    </tr>\n",
              "    <tr>\n",
              "      <th>1</th>\n",
              "      <td>sample_1</td>\n",
              "      <td>0.0</td>\n",
              "      <td>0.592732</td>\n",
              "      <td>1.588421</td>\n",
              "      <td>7.586157</td>\n",
              "      <td>9.623011</td>\n",
              "      <td>0.0</td>\n",
              "      <td>6.816049</td>\n",
              "      <td>0.000000</td>\n",
              "      <td>0.0</td>\n",
              "      <td>...</td>\n",
              "      <td>7.323865</td>\n",
              "      <td>9.740931</td>\n",
              "      <td>6.256586</td>\n",
              "      <td>8.381612</td>\n",
              "      <td>12.674552</td>\n",
              "      <td>10.517059</td>\n",
              "      <td>9.397854</td>\n",
              "      <td>2.094168</td>\n",
              "      <td>0.0</td>\n",
              "      <td>LUAD</td>\n",
              "    </tr>\n",
              "    <tr>\n",
              "      <th>2</th>\n",
              "      <td>sample_2</td>\n",
              "      <td>0.0</td>\n",
              "      <td>3.511759</td>\n",
              "      <td>4.327199</td>\n",
              "      <td>6.881787</td>\n",
              "      <td>9.870730</td>\n",
              "      <td>0.0</td>\n",
              "      <td>6.972130</td>\n",
              "      <td>0.452595</td>\n",
              "      <td>0.0</td>\n",
              "      <td>...</td>\n",
              "      <td>8.127123</td>\n",
              "      <td>10.908640</td>\n",
              "      <td>5.401607</td>\n",
              "      <td>9.911597</td>\n",
              "      <td>9.045255</td>\n",
              "      <td>9.788359</td>\n",
              "      <td>10.090470</td>\n",
              "      <td>1.683023</td>\n",
              "      <td>0.0</td>\n",
              "      <td>PRAD</td>\n",
              "    </tr>\n",
              "    <tr>\n",
              "      <th>3</th>\n",
              "      <td>sample_3</td>\n",
              "      <td>0.0</td>\n",
              "      <td>3.663618</td>\n",
              "      <td>4.507649</td>\n",
              "      <td>6.659068</td>\n",
              "      <td>10.196184</td>\n",
              "      <td>0.0</td>\n",
              "      <td>7.843375</td>\n",
              "      <td>0.434882</td>\n",
              "      <td>0.0</td>\n",
              "      <td>...</td>\n",
              "      <td>8.792959</td>\n",
              "      <td>10.141520</td>\n",
              "      <td>8.942805</td>\n",
              "      <td>9.601208</td>\n",
              "      <td>11.392682</td>\n",
              "      <td>9.694814</td>\n",
              "      <td>9.684365</td>\n",
              "      <td>3.292001</td>\n",
              "      <td>0.0</td>\n",
              "      <td>PRAD</td>\n",
              "    </tr>\n",
              "    <tr>\n",
              "      <th>4</th>\n",
              "      <td>sample_4</td>\n",
              "      <td>0.0</td>\n",
              "      <td>2.655741</td>\n",
              "      <td>2.821547</td>\n",
              "      <td>6.539454</td>\n",
              "      <td>9.738265</td>\n",
              "      <td>0.0</td>\n",
              "      <td>6.566967</td>\n",
              "      <td>0.360982</td>\n",
              "      <td>0.0</td>\n",
              "      <td>...</td>\n",
              "      <td>8.891425</td>\n",
              "      <td>10.373790</td>\n",
              "      <td>7.181162</td>\n",
              "      <td>9.846910</td>\n",
              "      <td>11.922439</td>\n",
              "      <td>9.217749</td>\n",
              "      <td>9.461191</td>\n",
              "      <td>5.110372</td>\n",
              "      <td>0.0</td>\n",
              "      <td>BRCA</td>\n",
              "    </tr>\n",
              "  </tbody>\n",
              "</table>\n",
              "<p>5 rows × 20533 columns</p>\n",
              "</div>\n",
              "      <button class=\"colab-df-convert\" onclick=\"convertToInteractive('df-d00d9986-e405-4042-a8ff-31b42acc433b')\"\n",
              "              title=\"Convert this dataframe to an interactive table.\"\n",
              "              style=\"display:none;\">\n",
              "        \n",
              "  <svg xmlns=\"http://www.w3.org/2000/svg\" height=\"24px\"viewBox=\"0 0 24 24\"\n",
              "       width=\"24px\">\n",
              "    <path d=\"M0 0h24v24H0V0z\" fill=\"none\"/>\n",
              "    <path d=\"M18.56 5.44l.94 2.06.94-2.06 2.06-.94-2.06-.94-.94-2.06-.94 2.06-2.06.94zm-11 1L8.5 8.5l.94-2.06 2.06-.94-2.06-.94L8.5 2.5l-.94 2.06-2.06.94zm10 10l.94 2.06.94-2.06 2.06-.94-2.06-.94-.94-2.06-.94 2.06-2.06.94z\"/><path d=\"M17.41 7.96l-1.37-1.37c-.4-.4-.92-.59-1.43-.59-.52 0-1.04.2-1.43.59L10.3 9.45l-7.72 7.72c-.78.78-.78 2.05 0 2.83L4 21.41c.39.39.9.59 1.41.59.51 0 1.02-.2 1.41-.59l7.78-7.78 2.81-2.81c.8-.78.8-2.07 0-2.86zM5.41 20L4 18.59l7.72-7.72 1.47 1.35L5.41 20z\"/>\n",
              "  </svg>\n",
              "      </button>\n",
              "      \n",
              "  <style>\n",
              "    .colab-df-container {\n",
              "      display:flex;\n",
              "      flex-wrap:wrap;\n",
              "      gap: 12px;\n",
              "    }\n",
              "\n",
              "    .colab-df-convert {\n",
              "      background-color: #E8F0FE;\n",
              "      border: none;\n",
              "      border-radius: 50%;\n",
              "      cursor: pointer;\n",
              "      display: none;\n",
              "      fill: #1967D2;\n",
              "      height: 32px;\n",
              "      padding: 0 0 0 0;\n",
              "      width: 32px;\n",
              "    }\n",
              "\n",
              "    .colab-df-convert:hover {\n",
              "      background-color: #E2EBFA;\n",
              "      box-shadow: 0px 1px 2px rgba(60, 64, 67, 0.3), 0px 1px 3px 1px rgba(60, 64, 67, 0.15);\n",
              "      fill: #174EA6;\n",
              "    }\n",
              "\n",
              "    [theme=dark] .colab-df-convert {\n",
              "      background-color: #3B4455;\n",
              "      fill: #D2E3FC;\n",
              "    }\n",
              "\n",
              "    [theme=dark] .colab-df-convert:hover {\n",
              "      background-color: #434B5C;\n",
              "      box-shadow: 0px 1px 3px 1px rgba(0, 0, 0, 0.15);\n",
              "      filter: drop-shadow(0px 1px 2px rgba(0, 0, 0, 0.3));\n",
              "      fill: #FFFFFF;\n",
              "    }\n",
              "  </style>\n",
              "\n",
              "      <script>\n",
              "        const buttonEl =\n",
              "          document.querySelector('#df-d00d9986-e405-4042-a8ff-31b42acc433b button.colab-df-convert');\n",
              "        buttonEl.style.display =\n",
              "          google.colab.kernel.accessAllowed ? 'block' : 'none';\n",
              "\n",
              "        async function convertToInteractive(key) {\n",
              "          const element = document.querySelector('#df-d00d9986-e405-4042-a8ff-31b42acc433b');\n",
              "          const dataTable =\n",
              "            await google.colab.kernel.invokeFunction('convertToInteractive',\n",
              "                                                     [key], {});\n",
              "          if (!dataTable) return;\n",
              "\n",
              "          const docLinkHtml = 'Like what you see? Visit the ' +\n",
              "            '<a target=\"_blank\" href=https://colab.research.google.com/notebooks/data_table.ipynb>data table notebook</a>'\n",
              "            + ' to learn more about interactive tables.';\n",
              "          element.innerHTML = '';\n",
              "          dataTable['output_type'] = 'display_data';\n",
              "          await google.colab.output.renderOutput(dataTable, element);\n",
              "          const docLink = document.createElement('div');\n",
              "          docLink.innerHTML = docLinkHtml;\n",
              "          element.appendChild(docLink);\n",
              "        }\n",
              "      </script>\n",
              "    </div>\n",
              "  </div>\n",
              "  "
            ]
          },
          "metadata": {},
          "execution_count": 64
        }
      ]
    },
    {
      "cell_type": "markdown",
      "source": [
        "# Plot the merged dataset as a hierarchically clustered heatmap"
      ],
      "metadata": {
        "id": "hFjJwxqLLQJE"
      }
    },
    {
      "cell_type": "code",
      "source": [
        "datamrg = df.iloc[:,1:-1]"
      ],
      "metadata": {
        "id": "RPvGl1WyEmKj"
      },
      "execution_count": null,
      "outputs": []
    },
    {
      "cell_type": "code",
      "source": [
        "hier = fc.linkage(datamrg)"
      ],
      "metadata": {
        "id": "0BuPS5AHEHxI"
      },
      "execution_count": null,
      "outputs": []
    },
    {
      "cell_type": "code",
      "source": [
        "sns.clustermap(hier, figsize=(14, 8))"
      ],
      "metadata": {
        "colab": {
          "base_uri": "https://localhost:8080/",
          "height": 602
        },
        "id": "pQ_TROQyHS1r",
        "outputId": "4448d39a-6b6f-40ab-85e4-03d6d9011f03"
      },
      "execution_count": null,
      "outputs": [
        {
          "output_type": "execute_result",
          "data": {
            "text/plain": [
              "<seaborn.matrix.ClusterGrid at 0x7fe88aa65b50>"
            ]
          },
          "metadata": {},
          "execution_count": 11
        },
        {
          "output_type": "display_data",
          "data": {
            "text/plain": [
              "<Figure size 1008x576 with 4 Axes>"
            ],
            "image/png": "[encoded data removed]"
          },
          "metadata": {
            "needs_background": "light"
          }
        }
      ]
    },
    {
      "cell_type": "markdown",
      "source": [
        "# Null Hypothesis Testing"
      ],
      "metadata": {
        "id": "EynGh62RLGPC"
      }
    },
    {
      "cell_type": "code",
      "source": [
        "from scipy.stats import f_oneway\n",
        "from sklearn.preprocessing import LabelEncoder"
      ],
      "metadata": {
        "id": "kKDr4eEHKmin"
      },
      "execution_count": null,
      "outputs": []
    },
    {
      "cell_type": "code",
      "source": [
        "from scipy import stats\n",
        "grps = pd.unique(df['Class'].unique())\n",
        "d_data = { grp : df[df['Class'] == grp]['gene_0'] for grp in grps }\n",
        "F, p = stats.f_oneway(d_data['PRAD'], d_data['LUAD'], d_data['BRCA'],d_data['KIRC'],d_data['COAD'])\n",
        "print(\"p-value for significance is: \", p)\n",
        "if p < 0.05: print(\"reject null hypothesis\")\n",
        "else: print(\"accept null hypothesis\")"
      ],
      "metadata": {
        "colab": {
          "base_uri": "https://localhost:8080/"
        },
        "id": "XkUbYZTWtOCC",
        "outputId": "3cf62007-d05e-4a7b-d0a3-cd0bcfbd4c82"
      },
      "execution_count": null,
      "outputs": [
        {
          "output_type": "stream",
          "name": "stdout",
          "text": [
            "p-value for significance is:  0.07505540778266195\n",
            "accept null hypothesis\n"
          ]
        }
      ]
    },
    {
      "cell_type": "markdown",
      "source": [
        "# Dimensionality Reduction using the following algorithms\n",
        "\n",
        "<li> PCA\n",
        "<li> LDA\n",
        "<li> t-SNE\n",
        "\n",
        "\n"
      ],
      "metadata": {
        "id": "eMPJq0zlLmZp"
      }
    },
    {
      "cell_type": "code",
      "source": [
        "from sklearn.decomposition import PCA, LatentDirichletAllocation\n",
        "from sklearn.model_selection import train_test_split"
      ],
      "metadata": {
        "id": "4R8OCYzGMDok"
      },
      "execution_count": null,
      "outputs": []
    },
    {
      "cell_type": "code",
      "source": [
        "x = df.iloc[:,1:-1]\n",
        "y = df.iloc[:,-1]\n",
        "x_train, x_test, y_train, y_test = train_test_split(x,y,test_size=0.7)"
      ],
      "metadata": {
        "id": "3VZBdw1JpJqz"
      },
      "execution_count": null,
      "outputs": []
    },
    {
      "cell_type": "code",
      "source": [
        "pca = PCA(n_components=0.95, svd_solver='full')\n",
        "pca.fit(x_train,y_train)"
      ],
      "metadata": {
        "colab": {
          "base_uri": "https://localhost:8080/"
        },
        "id": "R2qK6e4So211",
        "outputId": "b4996ce6-3fab-46af-e3f7-aabc165aae56"
      },
      "execution_count": null,
      "outputs": [
        {
          "output_type": "execute_result",
          "data": {
            "text/plain": [
              "PCA(n_components=0.95, svd_solver='full')"
            ]
          },
          "metadata": {},
          "execution_count": 58
        }
      ]
    },
    {
      "cell_type": "code",
      "source": [
        "pca.explained_variance_ratio_"
      ],
      "metadata": {
        "colab": {
          "base_uri": "https://localhost:8080/"
        },
        "id": "hW0o6wSZpz2D",
        "outputId": "3c5b6442-ff73-4cde-ec13-87be479a9889"
      },
      "execution_count": null,
      "outputs": [
        {
          "output_type": "execute_result",
          "data": {
            "text/plain": [
              "array([0.1709429 , 0.10729403, 0.09996461, 0.0584023 , 0.03882354,\n",
              "       0.03441939, 0.0252601 , 0.01796396, 0.0155898 , 0.01363636,\n",
              "       0.01110863, 0.01001828, 0.00835574, 0.00809987, 0.00737461,\n",
              "       0.00681369, 0.00659694, 0.00632151, 0.00572076, 0.00570388,\n",
              "       0.00538438, 0.00515832, 0.00510993, 0.00479899, 0.00473131,\n",
              "       0.00460381, 0.0044206 , 0.0043242 , 0.00412756, 0.00402612,\n",
              "       0.00396144, 0.00390461, 0.00370282, 0.00368916, 0.00360157,\n",
              "       0.00355359, 0.00348955, 0.00340707, 0.0032883 , 0.00323014,\n",
              "       0.00314402, 0.0031176 , 0.00307408, 0.00303255, 0.00297367,\n",
              "       0.00291724, 0.00289386, 0.0028871 , 0.00275691, 0.00268951,\n",
              "       0.00267113, 0.00265862, 0.00263509, 0.00257309, 0.00253876,\n",
              "       0.00251818, 0.00251162, 0.00246511, 0.00243377, 0.00237005,\n",
              "       0.00233875, 0.00232825, 0.00225859, 0.0022418 , 0.00222676,\n",
              "       0.00221962, 0.00218771, 0.00214448, 0.00213242, 0.00209099,\n",
              "       0.00207221, 0.00204259, 0.00202751, 0.00201263, 0.0019933 ,\n",
              "       0.00197601, 0.00193521, 0.00191563, 0.00191142, 0.00189105,\n",
              "       0.00185665, 0.0018497 , 0.00184681, 0.00184018, 0.00181223,\n",
              "       0.00178629, 0.00178086, 0.00174921, 0.00173579, 0.00170803,\n",
              "       0.00170114, 0.00169808, 0.00167234, 0.00166141, 0.00164106,\n",
              "       0.0016211 , 0.00160057, 0.00159036, 0.00158671, 0.00156135,\n",
              "       0.00155139, 0.00153935, 0.00153444, 0.00150321, 0.00148578,\n",
              "       0.00147255, 0.00145013, 0.00143614, 0.00143303, 0.001411  ,\n",
              "       0.00140519, 0.0013888 , 0.00138747, 0.00137678, 0.00136715,\n",
              "       0.00136386, 0.0013445 , 0.00134083, 0.0013386 , 0.00132496,\n",
              "       0.00130007, 0.00129193, 0.00128398, 0.00127304, 0.00126254,\n",
              "       0.00124806, 0.00123877, 0.00122358, 0.00121594, 0.0012021 ,\n",
              "       0.00119687, 0.00118954, 0.00118014, 0.00117523, 0.00116312,\n",
              "       0.0011588 , 0.00114902, 0.00113259, 0.00112594, 0.00111875,\n",
              "       0.00111001, 0.00110151, 0.00109678, 0.00108463, 0.00108287,\n",
              "       0.0010699 , 0.00106716, 0.00105463, 0.00103977, 0.00103526,\n",
              "       0.00102937, 0.00102019, 0.001012  , 0.00100433, 0.0009931 ,\n",
              "       0.00098661, 0.00098253, 0.00097759, 0.00095598, 0.00094651,\n",
              "       0.00094316, 0.00093904, 0.00093015, 0.0009249 , 0.0009211 ,\n",
              "       0.00090691])"
            ]
          },
          "metadata": {},
          "execution_count": 59
        }
      ]
    }
  ]
}