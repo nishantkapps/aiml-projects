{
  "nbformat": 4,
  "nbformat_minor": 0,
  "metadata": {
    "colab": {
      "provenance": [],
      "mount_file_id": "1pTL-VBQDw4bzZfltRVmG9e9Cscpnj0kf",
      "authorship_tag": "ABX9TyM0ztmgpTdiEBCyctWhoU1T",
      "include_colab_link": true
    },
    "kernelspec": {
      "name": "python3",
      "display_name": "Python 3"
    },
    "language_info": {
      "name": "python"
    }
  },
  "cells": [
    {
      "cell_type": "markdown",
      "metadata": {
        "id": "view-in-github",
        "colab_type": "text"
      },
      "source": [
        "<a href=\"https://colab.research.google.com/github/nishantkapps/aiml-projects/blob/main/Image_Generator.ipynb\" target=\"_parent\"><img src=\"https://colab.research.google.com/assets/colab-badge.svg\" alt=\"Open In Colab\"/></a>"
      ]
    },
    {
      "cell_type": "code",
      "execution_count": null,
      "metadata": {
        "id": "61cY4aJQ3Rvc"
      },
      "outputs": [],
      "source": [
        "import cv2\n",
        "import os\n",
        "import glob\n",
        "import pandas as pd\n",
        "import numpy as np"
      ]
    },
    {
      "cell_type": "code",
      "source": [
        "# Set the directory paths to point to image directories\n",
        "# Use os.path.join to set test / train paths to the right directory\n",
        "\n",
        "main_path = '/content/drive/MyDrive/datasets/lunginf/data'\n",
        "test_path = os.path.join(main_path,\"test\")\n",
        "train_path = os.path.join(main_path, \"train\")"
      ],
      "metadata": {
        "id": "IWtA-G1i4AWk"
      },
      "execution_count": null,
      "outputs": []
    },
    {
      "cell_type": "code",
      "source": [
        "# Get the file paths for all images\n",
        "# Glob takes only 1 argument which is the path to all files * will include all files in the directory\n",
        "# You can use extend to add more file types to the glob object\n",
        "\n",
        "train_Healthy = glob.glob(train_path+\"/Healthy/*.jpeg\")\n",
        "train_Type_1 = glob.glob(train_path+\"/Type 1 disease/*.jpg\")\n",
        "train_Type_1.extend(glob.glob(train_path+\"/Type 1 disease/*.jpeg\"))\n",
        "train_Type_1.extend(glob.glob(train_path+\"/Type 1 disease/*.png\"))\n",
        "train_Type_2 = glob.glob(train_path+\"/Type 2 disease/*.jpeg\")"
      ],
      "metadata": {
        "id": "AQms7hcW5NF9"
      },
      "execution_count": null,
      "outputs": []
    },
    {
      "cell_type": "code",
      "source": [
        "# Do the same for test as well\n",
        "\n",
        "test_Healthy = glob.glob(test_path+\"/Healthy/*.jpeg\")\n",
        "test_Type_1 = glob.glob(test_path+\"/Type 1 disease/*.jpg\")\n",
        "test_Type_1.extend(glob.glob(test_path+\"/Type 1 disease/*.jpeg\"))\n",
        "test_Type_1.extend(glob.glob(test_path+\"/Type 1 disease/*.png\"))\n",
        "test_Type_2 = glob.glob(test_path+\"/Type 2 disease/*.jpeg\")"
      ],
      "metadata": {
        "id": "AAefKO7q6tES"
      },
      "execution_count": null,
      "outputs": []
    },
    {
      "cell_type": "code",
      "source": [
        "# Concatenate all the train paths together into one list\n",
        "# Convert to a dataframe that contains class & image file path\n",
        "\n",
        "train_list = [x for x in train_Healthy]\n",
        "train_list.extend([x for x in train_Type_1])\n",
        "train_list.extend([x for x in train_Type_2])\n",
        "df_train = pd.DataFrame(np.concatenate([['Healthy']*len(train_Healthy),\n",
        "                                        ['Type 1 disease']*len(train_Type_1),\n",
        "                                        ['Type 2 disease']*len(train_Type_2)\n",
        "                                        ]),\n",
        "                        columns=['class']\n",
        "                        )\n",
        "df_train['image']=[x for x in train_list]"
      ],
      "metadata": {
        "id": "rcM_LVIf67Q3"
      },
      "execution_count": null,
      "outputs": []
    },
    {
      "cell_type": "code",
      "source": [
        "# Do the same for test\n",
        "\n",
        "test_list = [x for x in test_Healthy]\n",
        "test_list.extend([x for x in test_Type_1])\n",
        "test_list.extend([x for x in test_Type_2])\n",
        "df_test = pd.DataFrame(np.concatenate([['Healthy']*len(test_Healthy),\n",
        "                                        ['Type 1 disease']*len(test_Type_1),\n",
        "                                        ['Type 2 disease']*len(test_Type_2)\n",
        "                                        ]),\n",
        "                        columns=['class']\n",
        "                        )\n",
        "df_test['image']=[x for x in test_list]"
      ],
      "metadata": {
        "id": "9nsYfiLY9cEf"
      },
      "execution_count": null,
      "outputs": []
    },
    {
      "cell_type": "code",
      "source": [
        "df_train.shape"
      ],
      "metadata": {
        "colab": {
          "base_uri": "https://localhost:8080/"
        },
        "id": "pclU7aZA8Yp-",
        "outputId": "0968cd3e-7603-4e4c-d081-2e48d599fef5"
      },
      "execution_count": null,
      "outputs": [
        {
          "output_type": "execute_result",
          "data": {
            "text/plain": [
              "(251, 2)"
            ]
          },
          "metadata": {},
          "execution_count": 7
        }
      ]
    },
    {
      "cell_type": "code",
      "source": [
        "df_test.shape"
      ],
      "metadata": {
        "id": "Gn1-pVfO9lv5",
        "outputId": "29db4eda-9c7b-4886-b1d6-c8e7528f3bf2",
        "colab": {
          "base_uri": "https://localhost:8080/"
        }
      },
      "execution_count": null,
      "outputs": [
        {
          "output_type": "execute_result",
          "data": {
            "text/plain": [
              "(66, 2)"
            ]
          },
          "metadata": {},
          "execution_count": 8
        }
      ]
    },
    {
      "cell_type": "code",
      "source": [
        "tr1 = cv2.imread(train_list[0])"
      ],
      "metadata": {
        "id": "SmtZ9dwhxxPJ"
      },
      "execution_count": null,
      "outputs": []
    },
    {
      "cell_type": "code",
      "source": [
        "tr1.shape"
      ],
      "metadata": {
        "colab": {
          "base_uri": "https://localhost:8080/"
        },
        "id": "_Pmabo5Px6xo",
        "outputId": "f4c0ae90-6b77-43a8-cc5b-aa8abf8b9f9a"
      },
      "execution_count": null,
      "outputs": [
        {
          "output_type": "execute_result",
          "data": {
            "text/plain": [
              "(2124, 2522, 3)"
            ]
          },
          "metadata": {},
          "execution_count": 12
        }
      ]
    }
  ]
}