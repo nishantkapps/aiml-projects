{
  "nbformat": 4,
  "nbformat_minor": 0,
  "metadata": {
    "colab": {
      "provenance": [],
      "machine_shape": "hm",
      "gpuType": "T4",
      "mount_file_id": "1A362p-AKhMh4e1tZ4dubXOdwxxBJ1uOS",
      "authorship_tag": "ABX9TyOm2tvSrh2BL5yTPmBWUT2x",
      "include_colab_link": true
    },
    "kernelspec": {
      "name": "python3",
      "display_name": "Python 3"
    },
    "language_info": {
      "name": "python"
    },
    "accelerator": "GPU"
  },
  "cells": [
    {
      "cell_type": "markdown",
      "metadata": {
        "id": "view-in-github",
        "colab_type": "text"
      },
      "source": [
        "<a href=\"https://colab.research.google.com/github/nishantkapps/aiml-projects/blob/main/NLP_Project.ipynb\" target=\"_parent\"><img src=\"https://colab.research.google.com/assets/colab-badge.svg\" alt=\"Open In Colab\"/></a>"
      ]
    },
    {
      "cell_type": "markdown",
      "source": [
        "## **Great Learning / Deakin (MDS) Project Submission**\n",
        "<hr>\n",
        "\n",
        ">**Natural Language Processing (NLP) Project 1**<br>\n",
        ">*Goal : Demonstrate the ability to build a text classifier*<br>\n",
        ">*Domain : Digital content and entertainment industry* <br>\n",
        ">*Developer : Nishant Killedar*\n",
        "<br>\n",
        "\n",
        "> **CONTEXT:** The objective of this project is to build a text classification model that analyses the customer's sentiments based on their reviews in the IMDB database. The model uses a complex deep learning model to build an embedding layer followed by a classification algorithm to analyse the sentiment of the customers.\n",
        "<br>\n",
        "\n",
        "> **PROJECT OBJECTIVE**: To Build a sequential NLP classifier which can use input text parameters to determine the customer sentiments.\n",
        "\n",
        "<hr>"
      ],
      "metadata": {
        "id": "MgNQvDJgvZXt"
      }
    },
    {
      "cell_type": "markdown",
      "source": [
        "### **Section 0 : Functions for preprocessing data, building and training the model**"
      ],
      "metadata": {
        "id": "IKZfo9n1arfr"
      }
    },
    {
      "cell_type": "code",
      "execution_count": null,
      "metadata": {
        "id": "E9uzjcyqRDLF"
      },
      "outputs": [],
      "source": [
        "from tensorflow.keras.datasets import imdb\n",
        "from tensorflow.keras.models import Sequential\n",
        "from tensorflow.keras.layers import Dense, Dropout, Activation, Embedding, LSTM, SimpleRNN, GRU, Bidirectional, BatchNormalization\n",
        "from tensorflow.keras.preprocessing import sequence\n",
        "from tensorflow.keras.callbacks import EarlyStopping, ModelCheckpoint\n",
        "import numpy as np\n",
        "import keras\n",
        "import seaborn as sns\n",
        "import matplotlib.pyplot as plt\n",
        "from sklearn.metrics import classification_report, confusion_matrix, accuracy_score"
      ]
    },
    {
      "cell_type": "code",
      "source": [
        "def load_imdb_data(num_words=None):\n",
        "  (xtrain, ytrain), (xtest, ytest) = imdb.load_data(num_words=num_words)\n",
        "  return (xtrain, ytrain, xtest, ytest)"
      ],
      "metadata": {
        "id": "xLxOyBqveVia"
      },
      "execution_count": null,
      "outputs": []
    },
    {
      "cell_type": "code",
      "source": [
        "def pad_sequences(xtrain, xtest, maxl):\n",
        "  xtrain = sequence.pad_sequences(xtrain, maxlen=maxl)\n",
        "  xtest = sequence.pad_sequences(xtest, maxlen=maxl)\n",
        "  return (xtrain, xtest)"
      ],
      "metadata": {
        "id": "kxRuS7mgfFl7"
      },
      "execution_count": null,
      "outputs": []
    },
    {
      "cell_type": "code",
      "source": [
        "def vector_to_sentence(vector):\n",
        "  INDEX_FROM = 3\n",
        "  word_index = keras.datasets.imdb.get_word_index()\n",
        "  word_index = {k:(v+INDEX_FROM) for k,v in word_index.items()}\n",
        "  word_index[\"<PAD>\"] = 0\n",
        "  word_index[\"<START>\"] = 1\n",
        "  word_index[\"<UNK>\"] = 2\n",
        "  word_index[\"<UNUSED>\"] = 3\n",
        "\n",
        "  word = {value:key for key,value in word_index.items() }\n",
        "  return(' '.join(word[id] for id in vector if word[id] not in ['<PAD>', '<START>', '<UNK>', '<UNUSED>'] ))"
      ],
      "metadata": {
        "id": "miP6CnYZeaL5"
      },
      "execution_count": null,
      "outputs": []
    },
    {
      "cell_type": "code",
      "source": [
        "def print_feature_labels(xdata, ydata):\n",
        "  print(\"----- Vector, Label, Sentence ----------\")\n",
        "  print('Feature     :', xdata)\n",
        "  print('Label       :', ydata)\n",
        "  print('Sentence    :', vector_to_sentence(xdata))\n",
        "  print(\"----------------------------------------\")"
      ],
      "metadata": {
        "id": "g8yUQpuJgeOE"
      },
      "execution_count": null,
      "outputs": []
    },
    {
      "cell_type": "code",
      "source": [
        "def print_shape(xtrain, ytrain, xtest, ytest):\n",
        "  print(\"----- Shape of the Data --------\")\n",
        "  print(\"X Train      \", xtrain.shape)\n",
        "  print(\"Y Train      \", ytrain.shape)\n",
        "  print(\"X Test       \", xtest.shape)\n",
        "  print(\"Y Test       \", ytest.shape)\n",
        "  print(\"--------------------------------\")"
      ],
      "metadata": {
        "id": "weZkob7BhDAc"
      },
      "execution_count": null,
      "outputs": []
    },
    {
      "cell_type": "code",
      "source": [
        "def build_NN_model(algorithm):\n",
        "  model = Sequential()\n",
        "  model.add(Embedding(10000, 128, input_length=250))\n",
        "  if algorithm == 'lstm' :\n",
        "    model.add(LSTM(128, activation='tanh', return_sequences=False))\n",
        "  if algorithm == 'rnn' :\n",
        "    model.add(SimpleRNN(128, activation='tanh', return_sequences=False))\n",
        "  if algorithm == 'blstm' :\n",
        "    model.add(GRU(128, activation='tanh', return_sequences=False))\n",
        "  if algorithm == 'gru' :\n",
        "    model.add(Bidirectional(LSTM(128, activation='tanh', return_sequences=False)))\n",
        "  model.add(Dropout(0.2))\n",
        "  model.add(BatchNormalization())\n",
        "  model.add(Dense(1, activation='sigmoid'))\n",
        "  return model"
      ],
      "metadata": {
        "id": "kLGGwYRXrSgW"
      },
      "execution_count": null,
      "outputs": []
    },
    {
      "cell_type": "code",
      "source": [
        "def compile_NN_model(model):\n",
        "  model.compile(loss='binary_crossentropy',\n",
        "              optimizer='adam',\n",
        "              metrics=['accuracy'])\n",
        "  return model"
      ],
      "metadata": {
        "id": "G6RcBpi5syVz"
      },
      "execution_count": null,
      "outputs": []
    },
    {
      "cell_type": "code",
      "source": [
        "def train_NN_model(algorithm, xtrain, ytrain, xtest, ytest):\n",
        "  model = build_NN_model(algorithm)\n",
        "  model = compile_NN_model(model)\n",
        "  early_stopping = EarlyStopping(monitor='val_loss', patience=4)\n",
        "  history = model.fit(xtrain, ytrain,\n",
        "          batch_size=32,\n",
        "          epochs=5,\n",
        "          validation_data=(xtest, ytest),\n",
        "          callbacks=[early_stopping])\n",
        "  return model, history"
      ],
      "metadata": {
        "id": "X4nJKg2BtPy3"
      },
      "execution_count": null,
      "outputs": []
    },
    {
      "cell_type": "code",
      "source": [
        "def predict_NN_model(model, xtest, ytest):\n",
        "  ypred = (model.predict(xtest)>0.5).astype(int)\n",
        "  return ypred"
      ],
      "metadata": {
        "id": "hJz7eo8au4S5"
      },
      "execution_count": null,
      "outputs": []
    },
    {
      "cell_type": "markdown",
      "source": [
        "### **Section 1 : Import and analyse the data set. [5 Marks]**\n",
        "<font color='gray'>Hint: Use `imdb.load_ method; Get train and test set; Take 10000 most frequent words</font>"
      ],
      "metadata": {
        "id": "Lar6dihAxNTD"
      }
    },
    {
      "cell_type": "code",
      "source": [
        "maxl = 250\n",
        "maxf = 10000"
      ],
      "metadata": {
        "id": "-Jv_CtNsU9gv"
      },
      "execution_count": null,
      "outputs": []
    },
    {
      "cell_type": "code",
      "source": [
        "xtrain, ytrain, xtest, ytest = load_imdb_data(maxf)"
      ],
      "metadata": {
        "id": "SinS6BKPfjCD",
        "colab": {
          "base_uri": "https://localhost:8080/"
        },
        "outputId": "c9c21df8-cbb2-4aae-a341-e8132633e19e"
      },
      "execution_count": null,
      "outputs": [
        {
          "output_type": "stream",
          "name": "stdout",
          "text": [
            "Downloading data from https://storage.googleapis.com/tensorflow/tf-keras-datasets/imdb.npz\n",
            "17464789/17464789 [==============================] - 0s 0us/step\n"
          ]
        }
      ]
    },
    {
      "cell_type": "code",
      "source": [
        "print(xtrain.shape)\n",
        "print(ytrain.shape)"
      ],
      "metadata": {
        "colab": {
          "base_uri": "https://localhost:8080/"
        },
        "id": "rEPnGKehwt3Z",
        "outputId": "c2867b7b-7ef4-463b-ae53-3f011a1b79e0"
      },
      "execution_count": null,
      "outputs": [
        {
          "output_type": "stream",
          "name": "stdout",
          "text": [
            "(25000,)\n",
            "(25000,)\n"
          ]
        }
      ]
    },
    {
      "cell_type": "code",
      "source": [
        "print(xtrain[0])\n",
        "print(ytrain[0])\n",
        "print(vector_to_sentence(xtrain[0]))"
      ],
      "metadata": {
        "colab": {
          "base_uri": "https://localhost:8080/"
        },
        "id": "ARnoP9Z3xKjd",
        "outputId": "a0b92835-9cf3-43b8-fc14-ff6563bd720f"
      },
      "execution_count": null,
      "outputs": [
        {
          "output_type": "stream",
          "name": "stdout",
          "text": [
            "[1, 14, 22, 16, 43, 530, 973, 1622, 1385, 65, 458, 4468, 66, 3941, 4, 173, 36, 256, 5, 25, 100, 43, 838, 112, 50, 670, 2, 9, 35, 480, 284, 5, 150, 4, 172, 112, 167, 2, 336, 385, 39, 4, 172, 4536, 1111, 17, 546, 38, 13, 447, 4, 192, 50, 16, 6, 147, 2025, 19, 14, 22, 4, 1920, 4613, 469, 4, 22, 71, 87, 12, 16, 43, 530, 38, 76, 15, 13, 1247, 4, 22, 17, 515, 17, 12, 16, 626, 18, 2, 5, 62, 386, 12, 8, 316, 8, 106, 5, 4, 2223, 5244, 16, 480, 66, 3785, 33, 4, 130, 12, 16, 38, 619, 5, 25, 124, 51, 36, 135, 48, 25, 1415, 33, 6, 22, 12, 215, 28, 77, 52, 5, 14, 407, 16, 82, 2, 8, 4, 107, 117, 5952, 15, 256, 4, 2, 7, 3766, 5, 723, 36, 71, 43, 530, 476, 26, 400, 317, 46, 7, 4, 2, 1029, 13, 104, 88, 4, 381, 15, 297, 98, 32, 2071, 56, 26, 141, 6, 194, 7486, 18, 4, 226, 22, 21, 134, 476, 26, 480, 5, 144, 30, 5535, 18, 51, 36, 28, 224, 92, 25, 104, 4, 226, 65, 16, 38, 1334, 88, 12, 16, 283, 5, 16, 4472, 113, 103, 32, 15, 16, 5345, 19, 178, 32]\n",
            "1\n",
            "Downloading data from https://storage.googleapis.com/tensorflow/tf-keras-datasets/imdb_word_index.json\n",
            "1641221/1641221 [==============================] - 0s 0us/step\n",
            "this film was just brilliant casting location scenery story direction everyone's really suited the part they played and you could just imagine being there robert is an amazing actor and now the same being director father came from the same scottish island as myself so i loved the fact there was a real connection with this film the witty remarks throughout the film were great it was just brilliant so much that i bought the film as soon as it was released for and would recommend it to everyone to watch and the fly fishing was amazing really cried at the end it was so sad and you know what they say if you cry at a film it must have been good and this definitely was also to the two little boy's that played the of norman and paul they were just brilliant children are often left out of the list i think because the stars that play them all grown up are such a big profile for the whole film but these children are amazing and should be praised for what they have done don't you think the whole story was so lovely because it was true and was someone's life after all that was shared with us all\n"
          ]
        }
      ]
    },
    {
      "cell_type": "code",
      "source": [
        "unique, counts = np.unique(ytrain, return_counts=True)\n",
        "dict(zip(unique, counts))"
      ],
      "metadata": {
        "colab": {
          "base_uri": "https://localhost:8080/"
        },
        "id": "1EmQJEi93H2D",
        "outputId": "3884cf1b-c65a-4ca1-e625-43efb4a6c4ca"
      },
      "execution_count": null,
      "outputs": [
        {
          "output_type": "execute_result",
          "data": {
            "text/plain": [
              "{0: 12500, 1: 12500}"
            ]
          },
          "metadata": {},
          "execution_count": 15
        }
      ]
    },
    {
      "cell_type": "markdown",
      "source": [
        "### **Section 2 : Perform relevant sequence adding on the data. [5 Marks]**"
      ],
      "metadata": {
        "id": "EaiRqT_zYnJO"
      }
    },
    {
      "cell_type": "code",
      "source": [
        "xtrain, xtest = pad_sequences(xtrain, xtest, maxl)"
      ],
      "metadata": {
        "id": "iUKZ5OOzlTZP"
      },
      "execution_count": null,
      "outputs": []
    },
    {
      "cell_type": "markdown",
      "source": [
        "### **Section 3 : Perform following data analysis: [5 Marks]**\n",
        "<li> Print shape of features and labels\n",
        "<li> Print value of any one feature and it's label"
      ],
      "metadata": {
        "id": "-yzZUbvCYxci"
      }
    },
    {
      "cell_type": "code",
      "source": [
        "print_shape(xtrain, ytrain, xtest, ytest)"
      ],
      "metadata": {
        "colab": {
          "base_uri": "https://localhost:8080/"
        },
        "id": "RAojS_uCVWw_",
        "outputId": "d6478ca4-daa7-4d04-9d91-383b4ef9914a"
      },
      "execution_count": null,
      "outputs": [
        {
          "output_type": "stream",
          "name": "stdout",
          "text": [
            "----- Shape of the Data --------\n",
            "X Train       (25000, 250)\n",
            "Y Train       (25000,)\n",
            "X Test        (25000, 250)\n",
            "Y Test        (25000,)\n",
            "--------------------------------\n"
          ]
        }
      ]
    },
    {
      "cell_type": "code",
      "source": [
        "print_feature_labels(xtrain[0], ytrain[0])"
      ],
      "metadata": {
        "colab": {
          "base_uri": "https://localhost:8080/"
        },
        "id": "VL-dC7CaVg51",
        "outputId": "01b82797-7c19-46c0-eaef-aabb851d9ce2"
      },
      "execution_count": null,
      "outputs": [
        {
          "output_type": "stream",
          "name": "stdout",
          "text": [
            "----- Vector, Label, Sentence ----------\n",
            "Feature     : [   0    0    0    0    0    0    0    0    0    0    0    0    0    0\n",
            "    0    0    0    0    0    0    0    0    0    0    0    0    0    0\n",
            "    0    0    0    0    1   14   22   16   43  530  973 1622 1385   65\n",
            "  458 4468   66 3941    4  173   36  256    5   25  100   43  838  112\n",
            "   50  670    2    9   35  480  284    5  150    4  172  112  167    2\n",
            "  336  385   39    4  172 4536 1111   17  546   38   13  447    4  192\n",
            "   50   16    6  147 2025   19   14   22    4 1920 4613  469    4   22\n",
            "   71   87   12   16   43  530   38   76   15   13 1247    4   22   17\n",
            "  515   17   12   16  626   18    2    5   62  386   12    8  316    8\n",
            "  106    5    4 2223 5244   16  480   66 3785   33    4  130   12   16\n",
            "   38  619    5   25  124   51   36  135   48   25 1415   33    6   22\n",
            "   12  215   28   77   52    5   14  407   16   82    2    8    4  107\n",
            "  117 5952   15  256    4    2    7 3766    5  723   36   71   43  530\n",
            "  476   26  400  317   46    7    4    2 1029   13  104   88    4  381\n",
            "   15  297   98   32 2071   56   26  141    6  194 7486   18    4  226\n",
            "   22   21  134  476   26  480    5  144   30 5535   18   51   36   28\n",
            "  224   92   25  104    4  226   65   16   38 1334   88   12   16  283\n",
            "    5   16 4472  113  103   32   15   16 5345   19  178   32]\n",
            "Label       : 1\n",
            "Sentence    : this film was just brilliant casting location scenery story direction everyone's really suited the part they played and you could just imagine being there robert is an amazing actor and now the same being director father came from the same scottish island as myself so i loved the fact there was a real connection with this film the witty remarks throughout the film were great it was just brilliant so much that i bought the film as soon as it was released for and would recommend it to everyone to watch and the fly fishing was amazing really cried at the end it was so sad and you know what they say if you cry at a film it must have been good and this definitely was also to the two little boy's that played the of norman and paul they were just brilliant children are often left out of the list i think because the stars that play them all grown up are such a big profile for the whole film but these children are amazing and should be praised for what they have done don't you think the whole story was so lovely because it was true and was someone's life after all that was shared with us all\n",
            "----------------------------------------\n"
          ]
        }
      ]
    },
    {
      "cell_type": "markdown",
      "source": [
        "### **Section 4 : Decode the feature value to get original sentence [5 Marks]**"
      ],
      "metadata": {
        "id": "q0B7TW3uZIsv"
      }
    },
    {
      "cell_type": "code",
      "source": [
        "print_feature_labels(xtrain[500], ytrain[500])"
      ],
      "metadata": {
        "colab": {
          "base_uri": "https://localhost:8080/"
        },
        "id": "npiMBSqTiyXu",
        "outputId": "9000c2cd-caa7-4c2c-9086-3c346ea534dc"
      },
      "execution_count": null,
      "outputs": [
        {
          "output_type": "stream",
          "name": "stdout",
          "text": [
            "----- Vector, Label, Sentence ----------\n",
            "Feature     : [   0    0    0    0    0    0    0    0    0    0    0    0    0    0\n",
            "    0    0    0    0    0    0    0    0    0    0    0    0    0    0\n",
            "    0    0    0    0    0    0    0    0    0    0    0    0    0    0\n",
            "    0    0    0    0    0    0    0    0    0    0    0    0    0    0\n",
            "    0    0    0    0    0    0    0    0    0    0    0    0    0    0\n",
            "    0    0    0    0    0    0    0    0    0    0    0    0    0    0\n",
            "    0    0    0    0    0    0    0    0    0    0    0    0    0    0\n",
            "    0    0    0    0    0    0    0    0    0    0    0    0    0    0\n",
            "    0    0    0    0    0    0    0    0    0    0    0    0    0    0\n",
            "    0    0    0    0    0    0    0    0    0    0    0    0    0    0\n",
            "    0    0    0    0    0    0    0    0    0    0    0    0    0    0\n",
            "    0    0    0    0    0    0    0    0    0    0    0    0    0    0\n",
            "    0    0    0    0    0    0    0    0    0    0    0    0    0    0\n",
            "    0    0    0    0    0    0    0    0    1    5  198  138  254    8\n",
            "  967   10   10   39    4 1158  213    7  650 7660 1475  213    7  650\n",
            "   13  215  135   13 1583  754 2359  133  252   50    9   49 1104  136\n",
            "   32    4 1109  304  133 1812   21   15  191  607    4  910  552    7\n",
            "  229    5  226   20  198  138   10   10  241   46    7  158]\n",
            "Label       : 0\n",
            "Sentence    : and that's why hard to rate br br from the adult point of view hmm student point of view i must say i fell nearly asleep here sure there is some laughing scene all the credit takes here eddie but that can't save the disney type of script and whole movie that's why br br 2 out of 10\n",
            "----------------------------------------\n"
          ]
        }
      ]
    },
    {
      "cell_type": "markdown",
      "source": [
        "### **Section 5 : Design, train, tune and test a sequential model. [5 Marks]**\n",
        "<font color='gray'>Hint : The aim here Is to import the text, process it such a way that it can be taken as an inout to the ML/NN classifiers. Be analytical and experimental here in trying new approaches to design the best model.</font>"
      ],
      "metadata": {
        "id": "wvNTmbeEZUbO"
      }
    },
    {
      "cell_type": "markdown",
      "source": [
        "**Train a LSTM model using the data**"
      ],
      "metadata": {
        "id": "ZZCW0F510sW0"
      }
    },
    {
      "cell_type": "code",
      "source": [
        "lstm, lstm_hist = train_NN_model('lstm', xtrain, ytrain, xtest, ytest)"
      ],
      "metadata": {
        "colab": {
          "base_uri": "https://localhost:8080/"
        },
        "id": "aaRPSFGjshWf",
        "outputId": "d5aabc45-a439-4aef-e492-5c04fde92fb3"
      },
      "execution_count": null,
      "outputs": [
        {
          "output_type": "stream",
          "name": "stdout",
          "text": [
            "Epoch 1/5\n",
            "782/782 [==============================] - 47s 54ms/step - loss: 0.4313 - accuracy: 0.7980 - val_loss: 0.3284 - val_accuracy: 0.8572\n",
            "Epoch 2/5\n",
            "782/782 [==============================] - 18s 22ms/step - loss: 0.2496 - accuracy: 0.9014 - val_loss: 0.3428 - val_accuracy: 0.8556\n",
            "Epoch 3/5\n",
            "782/782 [==============================] - 14s 18ms/step - loss: 0.1871 - accuracy: 0.9276 - val_loss: 0.4956 - val_accuracy: 0.8132\n",
            "Epoch 4/5\n",
            "782/782 [==============================] - 15s 19ms/step - loss: 0.1372 - accuracy: 0.9482 - val_loss: 0.4311 - val_accuracy: 0.8567\n",
            "Epoch 5/5\n",
            "782/782 [==============================] - 13s 17ms/step - loss: 0.1162 - accuracy: 0.9568 - val_loss: 0.5103 - val_accuracy: 0.8483\n"
          ]
        }
      ]
    },
    {
      "cell_type": "code",
      "source": [
        "lstm.summary()"
      ],
      "metadata": {
        "colab": {
          "base_uri": "https://localhost:8080/"
        },
        "id": "kEUrfP-WCu8l",
        "outputId": "6ed5f450-bc0a-4bfc-e38f-9d3996fcdbe2"
      },
      "execution_count": null,
      "outputs": [
        {
          "output_type": "stream",
          "name": "stdout",
          "text": [
            "Model: \"sequential\"\n",
            "_________________________________________________________________\n",
            " Layer (type)                Output Shape              Param #   \n",
            "=================================================================\n",
            " embedding (Embedding)       (None, 250, 128)          1280000   \n",
            "                                                                 \n",
            " lstm (LSTM)                 (None, 128)               131584    \n",
            "                                                                 \n",
            " dropout (Dropout)           (None, 128)               0         \n",
            "                                                                 \n",
            " batch_normalization (Batch  (None, 128)               512       \n",
            " Normalization)                                                  \n",
            "                                                                 \n",
            " dense (Dense)               (None, 1)                 129       \n",
            "                                                                 \n",
            "=================================================================\n",
            "Total params: 1412225 (5.39 MB)\n",
            "Trainable params: 1411969 (5.39 MB)\n",
            "Non-trainable params: 256 (1.00 KB)\n",
            "_________________________________________________________________\n"
          ]
        }
      ]
    },
    {
      "cell_type": "code",
      "source": [
        "ypred_lstm = predict_NN_model(lstm, xtest, ytest)"
      ],
      "metadata": {
        "colab": {
          "base_uri": "https://localhost:8080/"
        },
        "id": "bwsSl4TFvBKG",
        "outputId": "36b9640d-63b5-44ef-c793-25a6dcaae331"
      },
      "execution_count": null,
      "outputs": [
        {
          "output_type": "stream",
          "name": "stdout",
          "text": [
            "782/782 [==============================] - 4s 4ms/step\n"
          ]
        }
      ]
    },
    {
      "cell_type": "markdown",
      "source": [
        "**Train a RNN model using the data**"
      ],
      "metadata": {
        "id": "2eVUd7uJ08Fg"
      }
    },
    {
      "cell_type": "code",
      "source": [
        "rnn, rnn_hist = train_NN_model('rnn', xtrain, ytrain, xtest, ytest)"
      ],
      "metadata": {
        "colab": {
          "base_uri": "https://localhost:8080/"
        },
        "id": "1-mjGvSZuZy-",
        "outputId": "7e8e1771-795a-4c63-b9a4-18c8b1e6f49a"
      },
      "execution_count": null,
      "outputs": [
        {
          "output_type": "stream",
          "name": "stdout",
          "text": [
            "Epoch 1/5\n",
            "782/782 [==============================] - 153s 194ms/step - loss: 0.7346 - accuracy: 0.5233 - val_loss: 0.6823 - val_accuracy: 0.5506\n",
            "Epoch 2/5\n",
            "782/782 [==============================] - 131s 167ms/step - loss: 0.6224 - accuracy: 0.6447 - val_loss: 0.6321 - val_accuracy: 0.6308\n",
            "Epoch 3/5\n",
            "782/782 [==============================] - 125s 160ms/step - loss: 0.5263 - accuracy: 0.7430 - val_loss: 0.4948 - val_accuracy: 0.7836\n",
            "Epoch 4/5\n",
            "782/782 [==============================] - 125s 160ms/step - loss: 0.4759 - accuracy: 0.7850 - val_loss: 0.4977 - val_accuracy: 0.7794\n",
            "Epoch 5/5\n",
            "782/782 [==============================] - 125s 160ms/step - loss: 0.4320 - accuracy: 0.8160 - val_loss: 0.6799 - val_accuracy: 0.6363\n"
          ]
        }
      ]
    },
    {
      "cell_type": "code",
      "source": [
        "ypred_rnn = predict_NN_model(rnn, xtest, ytest)"
      ],
      "metadata": {
        "colab": {
          "base_uri": "https://localhost:8080/"
        },
        "id": "B67OXHe61Km3",
        "outputId": "0ca7932f-8e7c-4660-98b1-57c8daa122c8"
      },
      "execution_count": null,
      "outputs": [
        {
          "output_type": "stream",
          "name": "stdout",
          "text": [
            "782/782 [==============================] - 14s 18ms/step\n"
          ]
        }
      ]
    },
    {
      "cell_type": "markdown",
      "source": [
        "**Train a Bidirectional LSTM model using the data**"
      ],
      "metadata": {
        "id": "Kxsk_5_h1Cpe"
      }
    },
    {
      "cell_type": "code",
      "source": [
        "blstm, blstm_hist = train_NN_model('blstm', xtrain, ytrain, xtest, ytest)"
      ],
      "metadata": {
        "colab": {
          "base_uri": "https://localhost:8080/"
        },
        "id": "PK0xJpAUubsb",
        "outputId": "7fe4d858-1d7d-4c2f-9688-d8bf2018991b"
      },
      "execution_count": null,
      "outputs": [
        {
          "output_type": "stream",
          "name": "stdout",
          "text": [
            "Epoch 1/5\n",
            "782/782 [==============================] - 43s 52ms/step - loss: 0.4466 - accuracy: 0.7811 - val_loss: 0.7468 - val_accuracy: 0.6560\n",
            "Epoch 2/5\n",
            "782/782 [==============================] - 18s 23ms/step - loss: 0.2299 - accuracy: 0.9084 - val_loss: 0.3465 - val_accuracy: 0.8577\n",
            "Epoch 3/5\n",
            "782/782 [==============================] - 16s 21ms/step - loss: 0.1452 - accuracy: 0.9461 - val_loss: 0.3924 - val_accuracy: 0.8732\n",
            "Epoch 4/5\n",
            "782/782 [==============================] - 13s 17ms/step - loss: 0.0953 - accuracy: 0.9660 - val_loss: 0.3965 - val_accuracy: 0.8696\n",
            "Epoch 5/5\n",
            "782/782 [==============================] - 14s 18ms/step - loss: 0.0603 - accuracy: 0.9784 - val_loss: 0.5863 - val_accuracy: 0.8584\n"
          ]
        }
      ]
    },
    {
      "cell_type": "code",
      "source": [
        "ypred_blstm = predict_NN_model(blstm, xtest, ytest)"
      ],
      "metadata": {
        "colab": {
          "base_uri": "https://localhost:8080/"
        },
        "id": "aMe9qPXW1WeC",
        "outputId": "b89c1b7e-4e04-41b3-e48d-eb4d0133dc62"
      },
      "execution_count": null,
      "outputs": [
        {
          "output_type": "stream",
          "name": "stdout",
          "text": [
            "782/782 [==============================] - 3s 4ms/step\n"
          ]
        }
      ]
    },
    {
      "cell_type": "markdown",
      "source": [
        "**Train a GRU model using the data**"
      ],
      "metadata": {
        "id": "xWChSr2v1DBF"
      }
    },
    {
      "cell_type": "code",
      "source": [
        "gru, gru_hist = train_NN_model('gru', xtrain, ytrain, xtest, ytest)"
      ],
      "metadata": {
        "colab": {
          "base_uri": "https://localhost:8080/"
        },
        "id": "dbP4GLzPudoT",
        "outputId": "ad4462ad-28a4-4634-f752-dbf111d9b1dd"
      },
      "execution_count": null,
      "outputs": [
        {
          "output_type": "stream",
          "name": "stdout",
          "text": [
            "Epoch 1/5\n",
            "782/782 [==============================] - 54s 65ms/step - loss: 0.4119 - accuracy: 0.8084 - val_loss: 0.3795 - val_accuracy: 0.8610\n",
            "Epoch 2/5\n",
            "782/782 [==============================] - 24s 31ms/step - loss: 0.2476 - accuracy: 0.9037 - val_loss: 0.3635 - val_accuracy: 0.8622\n",
            "Epoch 3/5\n",
            "782/782 [==============================] - 24s 30ms/step - loss: 0.1626 - accuracy: 0.9383 - val_loss: 0.3841 - val_accuracy: 0.8601\n",
            "Epoch 4/5\n",
            "782/782 [==============================] - 22s 28ms/step - loss: 0.1184 - accuracy: 0.9565 - val_loss: 0.5278 - val_accuracy: 0.8286\n",
            "Epoch 5/5\n",
            "782/782 [==============================] - 21s 27ms/step - loss: 0.1041 - accuracy: 0.9621 - val_loss: 0.5868 - val_accuracy: 0.8548\n"
          ]
        }
      ]
    },
    {
      "cell_type": "code",
      "source": [
        "ypred_gru = predict_NN_model(gru, xtest, ytest)"
      ],
      "metadata": {
        "colab": {
          "base_uri": "https://localhost:8080/"
        },
        "id": "urGVwnaX1grO",
        "outputId": "5dfc914e-37dd-4a61-9830-393d0d35c55e"
      },
      "execution_count": null,
      "outputs": [
        {
          "output_type": "stream",
          "name": "stdout",
          "text": [
            "782/782 [==============================] - 6s 7ms/step\n"
          ]
        }
      ]
    },
    {
      "cell_type": "code",
      "source": [
        "fig, (ax1, ax2, ax3, ax4) = plt.subplots(1,4,figsize=(15, 3))\n",
        "sns.heatmap(confusion_matrix(ypred_lstm, ytest), ax = ax1, cmap='Blues', annot=True, cbar=False)\n",
        "sns.heatmap(confusion_matrix(ypred_rnn, ytest), ax = ax2, cmap='Blues', annot=True, cbar=False)\n",
        "sns.heatmap(confusion_matrix(ypred_blstm, ytest), ax = ax3, cmap='Blues', annot=True, cbar=False)\n",
        "sns.heatmap(confusion_matrix(ypred_gru, ytest), ax = ax4, cmap='Blues', annot=True, cbar=False)\n",
        "ax1.set_title('LSTM')\n",
        "ax2.set_title('RNN')\n",
        "ax3.set_title('Bidirectional LSTM')\n",
        "ax4.set_title('GRU')\n",
        "plt.show()"
      ],
      "metadata": {
        "colab": {
          "base_uri": "https://localhost:8080/",
          "height": 314
        },
        "id": "a3QWC3sB1juF",
        "outputId": "2b161718-29f3-499d-b4c4-9510b4b1b1c8"
      },
      "execution_count": null,
      "outputs": [
        {
          "output_type": "display_data",
          "data": {
            "text/plain": [
              "<Figure size 1500x300 with 4 Axes>"
            ],
            "image/png": "[encoded data removed]"
          },
          "metadata": {}
        }
      ]
    },
    {
      "cell_type": "code",
      "source": [
        "fig, (ax1, ax2, ax3, ax4) = plt.subplots(1,4,figsize=(15, 3))\n",
        "ax1.plot(lstm_hist.history['accuracy'])\n",
        "ax1.plot(lstm_hist.history['val_accuracy'])\n",
        "ax2.plot(rnn_hist.history['accuracy'])\n",
        "ax2.plot(rnn_hist.history['val_accuracy'])\n",
        "ax3.plot(blstm_hist.history['accuracy'])\n",
        "ax3.plot(blstm_hist.history['val_accuracy'])\n",
        "ax4.plot(gru_hist.history['accuracy'])\n",
        "ax4.plot(gru_hist.history['val_accuracy'])\n",
        "ax1.set_title('LSTM')\n",
        "ax2.set_title('RNN')\n",
        "ax3.set_title('Bidirectional LSTM')\n",
        "ax4.set_title('GRU')\n",
        "plt.legend(['train', 'test'], loc='upper left')\n",
        "plt.show()"
      ],
      "metadata": {
        "colab": {
          "base_uri": "https://localhost:8080/",
          "height": 314
        },
        "id": "Cg_r5uu27Npd",
        "outputId": "49e39da2-28f4-4fc7-9cfe-8eda267318bb"
      },
      "execution_count": null,
      "outputs": [
        {
          "output_type": "display_data",
          "data": {
            "text/plain": [
              "<Figure size 1500x300 with 4 Axes>"
            ],
            "image/png": "[encoded data removed]"
          },
          "metadata": {}
        }
      ]
    },
    {
      "cell_type": "code",
      "source": [
        "print('LSTM Accuracy  :', accuracy_score(ypred_lstm, ytest))\n",
        "print('RNN Accuracy   :', accuracy_score(ypred_rnn, ytest))\n",
        "print('BLSTM Accuracy :', accuracy_score(ypred_blstm, ytest))\n",
        "print('GRU Accuracy   :', accuracy_score(ypred_gru, ytest))"
      ],
      "metadata": {
        "colab": {
          "base_uri": "https://localhost:8080/"
        },
        "id": "zIBAaQZQBDlQ",
        "outputId": "bfd7134e-8742-4c9f-bc0d-da4ac5f99627"
      },
      "execution_count": null,
      "outputs": [
        {
          "output_type": "stream",
          "name": "stdout",
          "text": [
            "LSTM Accuracy  : 0.84832\n",
            "RNN Accuracy   : 0.63628\n",
            "BLSTM Accuracy : 0.85844\n",
            "GRU Accuracy   : 0.85476\n"
          ]
        }
      ]
    },
    {
      "cell_type": "markdown",
      "source": [
        "### **Section 6 : Use the designed model to print the prediction on any one sample. [5 Marks]**"
      ],
      "metadata": {
        "id": "-UJgO1vbZr1Y"
      }
    },
    {
      "cell_type": "code",
      "source": [
        "print('Sample 1    :', vector_to_sentence(xtest[200]))\n",
        "print('Class Label :', ytest[200])\n",
        "print('Prediction  :', ypred_blstm[200][0])"
      ],
      "metadata": {
        "colab": {
          "base_uri": "https://localhost:8080/"
        },
        "id": "mLBNvMeZWLxg",
        "outputId": "7a58f90a-93c5-4281-d6b2-67dc5e5f1bd9"
      },
      "execution_count": null,
      "outputs": [
        {
          "output_type": "stream",
          "name": "stdout",
          "text": [
            "Sample 1    : don't be fooled this isn't yet another tired example of the girls from outer space pretending to be the french team come to earth to collect as much as possible genre though the synopsis may suggest otherwise this movie is a gem an absolute jewel that has my life from the moment i laid eyes upon it hilarious action packed and stunningly erotic is a euro tour de force a grossly underrated classic br br stop everything you are doing and run out to rent or better yet buy this movie immediately\n",
            "Class Label : 1\n",
            "Prediction  : 1\n"
          ]
        }
      ]
    },
    {
      "cell_type": "code",
      "source": [
        "print('Sample 2    :', vector_to_sentence(xtest[51]))\n",
        "print('Class Label :', ytest[51])\n",
        "print('Prediction  :', ypred_blstm[51][0])"
      ],
      "metadata": {
        "colab": {
          "base_uri": "https://localhost:8080/"
        },
        "id": "6MqwUhK_WwQ9",
        "outputId": "72b2ee13-9def-49b1-b377-4218ee9b0aec"
      },
      "execution_count": null,
      "outputs": [
        {
          "output_type": "stream",
          "name": "stdout",
          "text": [
            "Sample 2    : i just read an extra long review on the front page of this movie on this site and he explained in full detail that this movie is only worth watching on the television show mystery science theater 3000 and yes i do find that advice really helpful i mean a movie that tries to be this good and this exciting just really is not what that movie wants to be so yes do watch this movie as seen on that show and instead of giving this movie a single star out of ten stars you can give this a ten out of ten stars until then my one star review is for the real pure version of this movie only got that now\n",
            "Class Label : 0\n",
            "Prediction  : 0\n"
          ]
        }
      ]
    },
    {
      "cell_type": "code",
      "source": [
        "print('Sample 3    :', vector_to_sentence(xtest[369]))\n",
        "print('Class Label :', ytest[369])\n",
        "print('Prediction  :', ypred_blstm[369][0])"
      ],
      "metadata": {
        "colab": {
          "base_uri": "https://localhost:8080/"
        },
        "id": "JTNy5YoNXCnD",
        "outputId": "8b739169-407c-46c8-b868-342abec77a73"
      },
      "execution_count": null,
      "outputs": [
        {
          "output_type": "stream",
          "name": "stdout",
          "text": [
            "Sample 3    : and the credits begin as the last ten minutes are beginning there are some goofs and behind the scenes stuff going on while those credits roll br br movies do tend to be short and tend to feel padded out in spite of that this is no exception with some scenes that tend to go on too long br br the story involves a poor kid in california who'd been picked on by all his classmates he'd had one shoe stolen and unable to replace it he was dubbed due to an obsession with pirates his parents gave him an for christmas with a christmas tree on the br br many of the classmates are killed and the few who remain gather together to decide what to do they're picked off one by one by who stalks around to the sound of br br the characters are pretty much all broad stereotypes like the nerd named etc there's an odd scene in which a kinky couple has sex the woman is and the man wears a large paper slice over his head this reminded me of some of the stranger sex scenes from director dream br br the picture quality is good and there are a lot of extras but basically a pretty silly movie br br oh well i guess you can never have too many christmas horror movies still there are a lot of other holidays\n",
            "Class Label : 0\n",
            "Prediction  : 0\n"
          ]
        }
      ]
    },
    {
      "cell_type": "markdown",
      "source": [
        "<hr>\n",
        "\n",
        ">**Natural Language Processing (NLP) Project 2**<br>\n",
        ">*Goal : Demonstrate the ability to build a text classifier*<br>\n",
        ">*Domain : Social media analytics* <br>\n",
        ">*Developer : Nishant Killedar*\n",
        "<br>\n",
        "\n",
        "> **CONTEXT:** Past studies in Sarcasm Detection mostly make use of Twitter datasets collected using hashtag based supervision but such datasets are noisy in terms of labels and language. Furthermore, many tweets are replies to other tweets and detecting sarcasm in these requires the availability of contextual tweets.In this hands on project, the goal is to build a model to detect whether a sentence is sarcastic or not, using Bidirectional LSTMs.\n",
        "<br>\n",
        "\n",
        "> **PROJECT OBJECTIVE**: To Build a sequential NLP classifier which can use input text parameters to determine if a sentence is sarcastic or not.\n",
        "\n",
        "<hr>"
      ],
      "metadata": {
        "id": "s1MQk2b4UWoN"
      }
    },
    {
      "cell_type": "code",
      "source": [
        "import pandas as pd\n",
        "import seaborn as sns\n",
        "import matplotlib.pyplot as plt\n",
        "import numpy as np\n",
        "from wordcloud import WordCloud, STOPWORDS\n",
        "from sklearn.model_selection import train_test_split\n",
        "from sklearn.metrics import accuracy_score,classification_report, confusion_matrix\n",
        "from tqdm import tqdm\n",
        "from keras.models import Sequential\n",
        "%tensorflow_version 2.x\n",
        "import tensorflow\n",
        "from tensorflow.keras.preprocessing.text import Tokenizer\n",
        "from tensorflow.keras.preprocessing.sequence import pad_sequences\n",
        "from tensorflow.keras.layers import Dense, Embedding, LSTM, SpatialDropout1D, Bidirectional\n",
        "from tensorflow.keras.optimizers import Adam"
      ],
      "metadata": {
        "id": "DBPiD4QSSwOM",
        "colab": {
          "base_uri": "https://localhost:8080/"
        },
        "outputId": "d8907b55-859b-4a9d-ccea-074a7b33438e"
      },
      "execution_count": null,
      "outputs": [
        {
          "output_type": "stream",
          "name": "stdout",
          "text": [
            "Colab only includes TensorFlow 2.x; %tensorflow_version has no effect.\n"
          ]
        }
      ]
    },
    {
      "cell_type": "markdown",
      "source": [
        "### **Section 1 : Read and explore the data [3 Marks]**"
      ],
      "metadata": {
        "id": "rWE-C23WjX2o"
      }
    },
    {
      "cell_type": "code",
      "source": [
        "df = pd.read_json('/content/drive/MyDrive/datasets/nlp/sarcasm/Sarcasm_Headlines_Dataset.json', lines = True)"
      ],
      "metadata": {
        "id": "-p_5GPblTKTS"
      },
      "execution_count": null,
      "outputs": []
    },
    {
      "cell_type": "code",
      "source": [
        "df.head()"
      ],
      "metadata": {
        "colab": {
          "base_uri": "https://localhost:8080/",
          "height": 206
        },
        "id": "glpVy8IZXmQF",
        "outputId": "42f38e40-8bf5-4624-d9e4-1c707a44600c"
      },
      "execution_count": null,
      "outputs": [
        {
          "output_type": "execute_result",
          "data": {
            "text/plain": [
              "   is_sarcastic                                           headline  \\\n",
              "0             1  thirtysomething scientists unveil doomsday clo...   \n",
              "1             0  dem rep. totally nails why congress is falling...   \n",
              "2             0  eat your veggies: 9 deliciously different recipes   \n",
              "3             1  inclement weather prevents liar from getting t...   \n",
              "4             1  mother comes pretty close to using word 'strea...   \n",
              "\n",
              "                                        article_link  \n",
              "0  https://www.theonion.com/thirtysomething-scien...  \n",
              "1  https://www.huffingtonpost.com/entry/donna-edw...  \n",
              "2  https://www.huffingtonpost.com/entry/eat-your-...  \n",
              "3  https://local.theonion.com/inclement-weather-p...  \n",
              "4  https://www.theonion.com/mother-comes-pretty-c...  "
            ],
            "text/html": [
              "\n",
              "  <div id=\"df-4f033ec6-119b-476c-a6b8-14c7c9a59b36\" class=\"colab-df-container\">\n",
              "    <div>\n",
              "<style scoped>\n",
              "    .dataframe tbody tr th:only-of-type {\n",
              "        vertical-align: middle;\n",
              "    }\n",
              "\n",
              "    .dataframe tbody tr th {\n",
              "        vertical-align: top;\n",
              "    }\n",
              "\n",
              "    .dataframe thead th {\n",
              "        text-align: right;\n",
              "    }\n",
              "</style>\n",
              "<table border=\"1\" class=\"dataframe\">\n",
              "  <thead>\n",
              "    <tr style=\"text-align: right;\">\n",
              "      <th></th>\n",
              "      <th>is_sarcastic</th>\n",
              "      <th>headline</th>\n",
              "      <th>article_link</th>\n",
              "    </tr>\n",
              "  </thead>\n",
              "  <tbody>\n",
              "    <tr>\n",
              "      <th>0</th>\n",
              "      <td>1</td>\n",
              "      <td>thirtysomething scientists unveil doomsday clo...</td>\n",
              "      <td>https://www.theonion.com/thirtysomething-scien...</td>\n",
              "    </tr>\n",
              "    <tr>\n",
              "      <th>1</th>\n",
              "      <td>0</td>\n",
              "      <td>dem rep. totally nails why congress is falling...</td>\n",
              "      <td>https://www.huffingtonpost.com/entry/donna-edw...</td>\n",
              "    </tr>\n",
              "    <tr>\n",
              "      <th>2</th>\n",
              "      <td>0</td>\n",
              "      <td>eat your veggies: 9 deliciously different recipes</td>\n",
              "      <td>https://www.huffingtonpost.com/entry/eat-your-...</td>\n",
              "    </tr>\n",
              "    <tr>\n",
              "      <th>3</th>\n",
              "      <td>1</td>\n",
              "      <td>inclement weather prevents liar from getting t...</td>\n",
              "      <td>https://local.theonion.com/inclement-weather-p...</td>\n",
              "    </tr>\n",
              "    <tr>\n",
              "      <th>4</th>\n",
              "      <td>1</td>\n",
              "      <td>mother comes pretty close to using word 'strea...</td>\n",
              "      <td>https://www.theonion.com/mother-comes-pretty-c...</td>\n",
              "    </tr>\n",
              "  </tbody>\n",
              "</table>\n",
              "</div>\n",
              "    <div class=\"colab-df-buttons\">\n",
              "\n",
              "  <div class=\"colab-df-container\">\n",
              "    <button class=\"colab-df-convert\" onclick=\"convertToInteractive('df-4f033ec6-119b-476c-a6b8-14c7c9a59b36')\"\n",
              "            title=\"Convert this dataframe to an interactive table.\"\n",
              "            style=\"display:none;\">\n",
              "\n",
              "  <svg xmlns=\"http://www.w3.org/2000/svg\" height=\"24px\" viewBox=\"0 -960 960 960\">\n",
              "    <path d=\"M120-120v-720h720v720H120Zm60-500h600v-160H180v160Zm220 220h160v-160H400v160Zm0 220h160v-160H400v160ZM180-400h160v-160H180v160Zm440 0h160v-160H620v160ZM180-180h160v-160H180v160Zm440 0h160v-160H620v160Z\"/>\n",
              "  </svg>\n",
              "    </button>\n",
              "\n",
              "  <style>\n",
              "    .colab-df-container {\n",
              "      display:flex;\n",
              "      gap: 12px;\n",
              "    }\n",
              "\n",
              "    .colab-df-convert {\n",
              "      background-color: #E8F0FE;\n",
              "      border: none;\n",
              "      border-radius: 50%;\n",
              "      cursor: pointer;\n",
              "      display: none;\n",
              "      fill: #1967D2;\n",
              "      height: 32px;\n",
              "      padding: 0 0 0 0;\n",
              "      width: 32px;\n",
              "    }\n",
              "\n",
              "    .colab-df-convert:hover {\n",
              "      background-color: #E2EBFA;\n",
              "      box-shadow: 0px 1px 2px rgba(60, 64, 67, 0.3), 0px 1px 3px 1px rgba(60, 64, 67, 0.15);\n",
              "      fill: #174EA6;\n",
              "    }\n",
              "\n",
              "    .colab-df-buttons div {\n",
              "      margin-bottom: 4px;\n",
              "    }\n",
              "\n",
              "    [theme=dark] .colab-df-convert {\n",
              "      background-color: #3B4455;\n",
              "      fill: #D2E3FC;\n",
              "    }\n",
              "\n",
              "    [theme=dark] .colab-df-convert:hover {\n",
              "      background-color: #434B5C;\n",
              "      box-shadow: 0px 1px 3px 1px rgba(0, 0, 0, 0.15);\n",
              "      filter: drop-shadow(0px 1px 2px rgba(0, 0, 0, 0.3));\n",
              "      fill: #FFFFFF;\n",
              "    }\n",
              "  </style>\n",
              "\n",
              "    <script>\n",
              "      const buttonEl =\n",
              "        document.querySelector('#df-4f033ec6-119b-476c-a6b8-14c7c9a59b36 button.colab-df-convert');\n",
              "      buttonEl.style.display =\n",
              "        google.colab.kernel.accessAllowed ? 'block' : 'none';\n",
              "\n",
              "      async function convertToInteractive(key) {\n",
              "        const element = document.querySelector('#df-4f033ec6-119b-476c-a6b8-14c7c9a59b36');\n",
              "        const dataTable =\n",
              "          await google.colab.kernel.invokeFunction('convertToInteractive',\n",
              "                                                    [key], {});\n",
              "        if (!dataTable) return;\n",
              "\n",
              "        const docLinkHtml = 'Like what you see? Visit the ' +\n",
              "          '<a target=\"_blank\" href=https://colab.research.google.com/notebooks/data_table.ipynb>data table notebook</a>'\n",
              "          + ' to learn more about interactive tables.';\n",
              "        element.innerHTML = '';\n",
              "        dataTable['output_type'] = 'display_data';\n",
              "        await google.colab.output.renderOutput(dataTable, element);\n",
              "        const docLink = document.createElement('div');\n",
              "        docLink.innerHTML = docLinkHtml;\n",
              "        element.appendChild(docLink);\n",
              "      }\n",
              "    </script>\n",
              "  </div>\n",
              "\n",
              "\n",
              "<div id=\"df-10526adb-0456-41aa-9c69-25ecf193ba74\">\n",
              "  <button class=\"colab-df-quickchart\" onclick=\"quickchart('df-10526adb-0456-41aa-9c69-25ecf193ba74')\"\n",
              "            title=\"Suggest charts\"\n",
              "            style=\"display:none;\">\n",
              "\n",
              "<svg xmlns=\"http://www.w3.org/2000/svg\" height=\"24px\"viewBox=\"0 0 24 24\"\n",
              "     width=\"24px\">\n",
              "    <g>\n",
              "        <path d=\"M19 3H5c-1.1 0-2 .9-2 2v14c0 1.1.9 2 2 2h14c1.1 0 2-.9 2-2V5c0-1.1-.9-2-2-2zM9 17H7v-7h2v7zm4 0h-2V7h2v10zm4 0h-2v-4h2v4z\"/>\n",
              "    </g>\n",
              "</svg>\n",
              "  </button>\n",
              "\n",
              "<style>\n",
              "  .colab-df-quickchart {\n",
              "      --bg-color: #E8F0FE;\n",
              "      --fill-color: #1967D2;\n",
              "      --hover-bg-color: #E2EBFA;\n",
              "      --hover-fill-color: #174EA6;\n",
              "      --disabled-fill-color: #AAA;\n",
              "      --disabled-bg-color: #DDD;\n",
              "  }\n",
              "\n",
              "  [theme=dark] .colab-df-quickchart {\n",
              "      --bg-color: #3B4455;\n",
              "      --fill-color: #D2E3FC;\n",
              "      --hover-bg-color: #434B5C;\n",
              "      --hover-fill-color: #FFFFFF;\n",
              "      --disabled-bg-color: #3B4455;\n",
              "      --disabled-fill-color: #666;\n",
              "  }\n",
              "\n",
              "  .colab-df-quickchart {\n",
              "    background-color: var(--bg-color);\n",
              "    border: none;\n",
              "    border-radius: 50%;\n",
              "    cursor: pointer;\n",
              "    display: none;\n",
              "    fill: var(--fill-color);\n",
              "    height: 32px;\n",
              "    padding: 0;\n",
              "    width: 32px;\n",
              "  }\n",
              "\n",
              "  .colab-df-quickchart:hover {\n",
              "    background-color: var(--hover-bg-color);\n",
              "    box-shadow: 0 1px 2px rgba(60, 64, 67, 0.3), 0 1px 3px 1px rgba(60, 64, 67, 0.15);\n",
              "    fill: var(--button-hover-fill-color);\n",
              "  }\n",
              "\n",
              "  .colab-df-quickchart-complete:disabled,\n",
              "  .colab-df-quickchart-complete:disabled:hover {\n",
              "    background-color: var(--disabled-bg-color);\n",
              "    fill: var(--disabled-fill-color);\n",
              "    box-shadow: none;\n",
              "  }\n",
              "\n",
              "  .colab-df-spinner {\n",
              "    border: 2px solid var(--fill-color);\n",
              "    border-color: transparent;\n",
              "    border-bottom-color: var(--fill-color);\n",
              "    animation:\n",
              "      spin 1s steps(1) infinite;\n",
              "  }\n",
              "\n",
              "  @keyframes spin {\n",
              "    0% {\n",
              "      border-color: transparent;\n",
              "      border-bottom-color: var(--fill-color);\n",
              "      border-left-color: var(--fill-color);\n",
              "    }\n",
              "    20% {\n",
              "      border-color: transparent;\n",
              "      border-left-color: var(--fill-color);\n",
              "      border-top-color: var(--fill-color);\n",
              "    }\n",
              "    30% {\n",
              "      border-color: transparent;\n",
              "      border-left-color: var(--fill-color);\n",
              "      border-top-color: var(--fill-color);\n",
              "      border-right-color: var(--fill-color);\n",
              "    }\n",
              "    40% {\n",
              "      border-color: transparent;\n",
              "      border-right-color: var(--fill-color);\n",
              "      border-top-color: var(--fill-color);\n",
              "    }\n",
              "    60% {\n",
              "      border-color: transparent;\n",
              "      border-right-color: var(--fill-color);\n",
              "    }\n",
              "    80% {\n",
              "      border-color: transparent;\n",
              "      border-right-color: var(--fill-color);\n",
              "      border-bottom-color: var(--fill-color);\n",
              "    }\n",
              "    90% {\n",
              "      border-color: transparent;\n",
              "      border-bottom-color: var(--fill-color);\n",
              "    }\n",
              "  }\n",
              "</style>\n",
              "\n",
              "  <script>\n",
              "    async function quickchart(key) {\n",
              "      const quickchartButtonEl =\n",
              "        document.querySelector('#' + key + ' button');\n",
              "      quickchartButtonEl.disabled = true;  // To prevent multiple clicks.\n",
              "      quickchartButtonEl.classList.add('colab-df-spinner');\n",
              "      try {\n",
              "        const charts = await google.colab.kernel.invokeFunction(\n",
              "            'suggestCharts', [key], {});\n",
              "      } catch (error) {\n",
              "        console.error('Error during call to suggestCharts:', error);\n",
              "      }\n",
              "      quickchartButtonEl.classList.remove('colab-df-spinner');\n",
              "      quickchartButtonEl.classList.add('colab-df-quickchart-complete');\n",
              "    }\n",
              "    (() => {\n",
              "      let quickchartButtonEl =\n",
              "        document.querySelector('#df-10526adb-0456-41aa-9c69-25ecf193ba74 button');\n",
              "      quickchartButtonEl.style.display =\n",
              "        google.colab.kernel.accessAllowed ? 'block' : 'none';\n",
              "    })();\n",
              "  </script>\n",
              "</div>\n",
              "\n",
              "    </div>\n",
              "  </div>\n"
            ]
          },
          "metadata": {},
          "execution_count": 37
        }
      ]
    },
    {
      "cell_type": "code",
      "source": [
        "df.shape"
      ],
      "metadata": {
        "colab": {
          "base_uri": "https://localhost:8080/"
        },
        "id": "rDBZUWXNWX-O",
        "outputId": "896557b4-0672-435a-ea28-60adb1c73bfa"
      },
      "execution_count": null,
      "outputs": [
        {
          "output_type": "execute_result",
          "data": {
            "text/plain": [
              "(28619, 3)"
            ]
          },
          "metadata": {},
          "execution_count": 38
        }
      ]
    },
    {
      "cell_type": "markdown",
      "source": [
        "We have a total of 28619 headlines from articles which is a good size dataset"
      ],
      "metadata": {
        "id": "Ok84yISUWcE1"
      }
    },
    {
      "cell_type": "code",
      "source": [
        "df.info()"
      ],
      "metadata": {
        "colab": {
          "base_uri": "https://localhost:8080/"
        },
        "id": "AStQ5Oqqat49",
        "outputId": "af7e7db7-c0d9-41a1-ca59-2050d255b12e"
      },
      "execution_count": null,
      "outputs": [
        {
          "output_type": "stream",
          "name": "stdout",
          "text": [
            "<class 'pandas.core.frame.DataFrame'>\n",
            "RangeIndex: 28619 entries, 0 to 28618\n",
            "Data columns (total 3 columns):\n",
            " #   Column        Non-Null Count  Dtype \n",
            "---  ------        --------------  ----- \n",
            " 0   is_sarcastic  28619 non-null  int64 \n",
            " 1   headline      28619 non-null  object\n",
            " 2   article_link  28619 non-null  object\n",
            "dtypes: int64(1), object(2)\n",
            "memory usage: 670.9+ KB\n"
          ]
        }
      ]
    },
    {
      "cell_type": "markdown",
      "source": [
        "> **Observations**:\n",
        "\n",
        "> Data has 28619 rows and 3 columns.<br>\n",
        "> Sarcastic label is INT, Headline/Articlee link columns are object type.<br>\n",
        "> There are no null values present in the dataset.<br>"
      ],
      "metadata": {
        "id": "YRK2uANOa3tW"
      }
    },
    {
      "cell_type": "code",
      "source": [
        "df['is_sarcastic'].value_counts(normalize=True)"
      ],
      "metadata": {
        "colab": {
          "base_uri": "https://localhost:8080/"
        },
        "id": "v5Q65pqQVGBp",
        "outputId": "66c7f13d-3fb2-4e52-f3c0-3b0113570e7f"
      },
      "execution_count": null,
      "outputs": [
        {
          "output_type": "execute_result",
          "data": {
            "text/plain": [
              "0    0.523603\n",
              "1    0.476397\n",
              "Name: is_sarcastic, dtype: float64"
            ]
          },
          "metadata": {},
          "execution_count": 40
        }
      ]
    },
    {
      "cell_type": "code",
      "source": [
        "plt.figure(figsize=(3,3))\n",
        "sns.countplot(x=df['is_sarcastic'], data=df)"
      ],
      "metadata": {
        "colab": {
          "base_uri": "https://localhost:8080/",
          "height": 328
        },
        "id": "iDbwJmoseE5-",
        "outputId": "1eb4b7aa-4251-4b25-a7e1-a542545e7089"
      },
      "execution_count": null,
      "outputs": [
        {
          "output_type": "execute_result",
          "data": {
            "text/plain": [
              "<Axes: xlabel='is_sarcastic', ylabel='count'>"
            ]
          },
          "metadata": {},
          "execution_count": 41
        },
        {
          "output_type": "display_data",
          "data": {
            "text/plain": [
              "<Figure size 300x300 with 1 Axes>"
            ],
            "image/png": "[encoded data removed]"
          },
          "metadata": {}
        }
      ]
    },
    {
      "cell_type": "markdown",
      "source": [
        "> **The dataset has a good distribution of sarcastic and non sarcastic statements which should allow the model to learn well**\n",
        "\n"
      ],
      "metadata": {
        "id": "OgiSUnILWO3D"
      }
    },
    {
      "cell_type": "code",
      "source": [
        "# Get the length & number of words in each headline\n",
        "df['length'] = df['headline'].apply(lambda x: len(x))\n",
        "df['wordcount'] = df['headline'].apply(lambda x: len(x.split()))"
      ],
      "metadata": {
        "id": "bSknfR3_XvJA"
      },
      "execution_count": null,
      "outputs": []
    },
    {
      "cell_type": "markdown",
      "source": [
        "### **Section 2 : Retain relevant columns [3 Marks]**"
      ],
      "metadata": {
        "id": "NjDjwgbvji_M"
      }
    },
    {
      "cell_type": "code",
      "source": [
        "# Drop the article link column as it is not needed for the model\n",
        "df.drop(['article_link'], axis=1, inplace=True)"
      ],
      "metadata": {
        "id": "_Aqq5b4QYBdM"
      },
      "execution_count": null,
      "outputs": []
    },
    {
      "cell_type": "code",
      "source": [
        "df.head()"
      ],
      "metadata": {
        "colab": {
          "base_uri": "https://localhost:8080/",
          "height": 206
        },
        "id": "JPHRx-BlXz_O",
        "outputId": "c7bc78c8-3690-4702-a313-20e0cac6f1e4"
      },
      "execution_count": null,
      "outputs": [
        {
          "output_type": "execute_result",
          "data": {
            "text/plain": [
              "   is_sarcastic                                           headline  length  \\\n",
              "0             1  thirtysomething scientists unveil doomsday clo...      61   \n",
              "1             0  dem rep. totally nails why congress is falling...      79   \n",
              "2             0  eat your veggies: 9 deliciously different recipes      49   \n",
              "3             1  inclement weather prevents liar from getting t...      52   \n",
              "4             1  mother comes pretty close to using word 'strea...      61   \n",
              "\n",
              "   wordcount  \n",
              "0          8  \n",
              "1         13  \n",
              "2          7  \n",
              "3          8  \n",
              "4          9  "
            ],
            "text/html": [
              "\n",
              "  <div id=\"df-11a56830-256c-42c2-8d04-3e3f49bd759b\" class=\"colab-df-container\">\n",
              "    <div>\n",
              "<style scoped>\n",
              "    .dataframe tbody tr th:only-of-type {\n",
              "        vertical-align: middle;\n",
              "    }\n",
              "\n",
              "    .dataframe tbody tr th {\n",
              "        vertical-align: top;\n",
              "    }\n",
              "\n",
              "    .dataframe thead th {\n",
              "        text-align: right;\n",
              "    }\n",
              "</style>\n",
              "<table border=\"1\" class=\"dataframe\">\n",
              "  <thead>\n",
              "    <tr style=\"text-align: right;\">\n",
              "      <th></th>\n",
              "      <th>is_sarcastic</th>\n",
              "      <th>headline</th>\n",
              "      <th>length</th>\n",
              "      <th>wordcount</th>\n",
              "    </tr>\n",
              "  </thead>\n",
              "  <tbody>\n",
              "    <tr>\n",
              "      <th>0</th>\n",
              "      <td>1</td>\n",
              "      <td>thirtysomething scientists unveil doomsday clo...</td>\n",
              "      <td>61</td>\n",
              "      <td>8</td>\n",
              "    </tr>\n",
              "    <tr>\n",
              "      <th>1</th>\n",
              "      <td>0</td>\n",
              "      <td>dem rep. totally nails why congress is falling...</td>\n",
              "      <td>79</td>\n",
              "      <td>13</td>\n",
              "    </tr>\n",
              "    <tr>\n",
              "      <th>2</th>\n",
              "      <td>0</td>\n",
              "      <td>eat your veggies: 9 deliciously different recipes</td>\n",
              "      <td>49</td>\n",
              "      <td>7</td>\n",
              "    </tr>\n",
              "    <tr>\n",
              "      <th>3</th>\n",
              "      <td>1</td>\n",
              "      <td>inclement weather prevents liar from getting t...</td>\n",
              "      <td>52</td>\n",
              "      <td>8</td>\n",
              "    </tr>\n",
              "    <tr>\n",
              "      <th>4</th>\n",
              "      <td>1</td>\n",
              "      <td>mother comes pretty close to using word 'strea...</td>\n",
              "      <td>61</td>\n",
              "      <td>9</td>\n",
              "    </tr>\n",
              "  </tbody>\n",
              "</table>\n",
              "</div>\n",
              "    <div class=\"colab-df-buttons\">\n",
              "\n",
              "  <div class=\"colab-df-container\">\n",
              "    <button class=\"colab-df-convert\" onclick=\"convertToInteractive('df-11a56830-256c-42c2-8d04-3e3f49bd759b')\"\n",
              "            title=\"Convert this dataframe to an interactive table.\"\n",
              "            style=\"display:none;\">\n",
              "\n",
              "  <svg xmlns=\"http://www.w3.org/2000/svg\" height=\"24px\" viewBox=\"0 -960 960 960\">\n",
              "    <path d=\"M120-120v-720h720v720H120Zm60-500h600v-160H180v160Zm220 220h160v-160H400v160Zm0 220h160v-160H400v160ZM180-400h160v-160H180v160Zm440 0h160v-160H620v160ZM180-180h160v-160H180v160Zm440 0h160v-160H620v160Z\"/>\n",
              "  </svg>\n",
              "    </button>\n",
              "\n",
              "  <style>\n",
              "    .colab-df-container {\n",
              "      display:flex;\n",
              "      gap: 12px;\n",
              "    }\n",
              "\n",
              "    .colab-df-convert {\n",
              "      background-color: #E8F0FE;\n",
              "      border: none;\n",
              "      border-radius: 50%;\n",
              "      cursor: pointer;\n",
              "      display: none;\n",
              "      fill: #1967D2;\n",
              "      height: 32px;\n",
              "      padding: 0 0 0 0;\n",
              "      width: 32px;\n",
              "    }\n",
              "\n",
              "    .colab-df-convert:hover {\n",
              "      background-color: #E2EBFA;\n",
              "      box-shadow: 0px 1px 2px rgba(60, 64, 67, 0.3), 0px 1px 3px 1px rgba(60, 64, 67, 0.15);\n",
              "      fill: #174EA6;\n",
              "    }\n",
              "\n",
              "    .colab-df-buttons div {\n",
              "      margin-bottom: 4px;\n",
              "    }\n",
              "\n",
              "    [theme=dark] .colab-df-convert {\n",
              "      background-color: #3B4455;\n",
              "      fill: #D2E3FC;\n",
              "    }\n",
              "\n",
              "    [theme=dark] .colab-df-convert:hover {\n",
              "      background-color: #434B5C;\n",
              "      box-shadow: 0px 1px 3px 1px rgba(0, 0, 0, 0.15);\n",
              "      filter: drop-shadow(0px 1px 2px rgba(0, 0, 0, 0.3));\n",
              "      fill: #FFFFFF;\n",
              "    }\n",
              "  </style>\n",
              "\n",
              "    <script>\n",
              "      const buttonEl =\n",
              "        document.querySelector('#df-11a56830-256c-42c2-8d04-3e3f49bd759b button.colab-df-convert');\n",
              "      buttonEl.style.display =\n",
              "        google.colab.kernel.accessAllowed ? 'block' : 'none';\n",
              "\n",
              "      async function convertToInteractive(key) {\n",
              "        const element = document.querySelector('#df-11a56830-256c-42c2-8d04-3e3f49bd759b');\n",
              "        const dataTable =\n",
              "          await google.colab.kernel.invokeFunction('convertToInteractive',\n",
              "                                                    [key], {});\n",
              "        if (!dataTable) return;\n",
              "\n",
              "        const docLinkHtml = 'Like what you see? Visit the ' +\n",
              "          '<a target=\"_blank\" href=https://colab.research.google.com/notebooks/data_table.ipynb>data table notebook</a>'\n",
              "          + ' to learn more about interactive tables.';\n",
              "        element.innerHTML = '';\n",
              "        dataTable['output_type'] = 'display_data';\n",
              "        await google.colab.output.renderOutput(dataTable, element);\n",
              "        const docLink = document.createElement('div');\n",
              "        docLink.innerHTML = docLinkHtml;\n",
              "        element.appendChild(docLink);\n",
              "      }\n",
              "    </script>\n",
              "  </div>\n",
              "\n",
              "\n",
              "<div id=\"df-5b4ea272-1621-44a5-924b-641646229fd5\">\n",
              "  <button class=\"colab-df-quickchart\" onclick=\"quickchart('df-5b4ea272-1621-44a5-924b-641646229fd5')\"\n",
              "            title=\"Suggest charts\"\n",
              "            style=\"display:none;\">\n",
              "\n",
              "<svg xmlns=\"http://www.w3.org/2000/svg\" height=\"24px\"viewBox=\"0 0 24 24\"\n",
              "     width=\"24px\">\n",
              "    <g>\n",
              "        <path d=\"M19 3H5c-1.1 0-2 .9-2 2v14c0 1.1.9 2 2 2h14c1.1 0 2-.9 2-2V5c0-1.1-.9-2-2-2zM9 17H7v-7h2v7zm4 0h-2V7h2v10zm4 0h-2v-4h2v4z\"/>\n",
              "    </g>\n",
              "</svg>\n",
              "  </button>\n",
              "\n",
              "<style>\n",
              "  .colab-df-quickchart {\n",
              "      --bg-color: #E8F0FE;\n",
              "      --fill-color: #1967D2;\n",
              "      --hover-bg-color: #E2EBFA;\n",
              "      --hover-fill-color: #174EA6;\n",
              "      --disabled-fill-color: #AAA;\n",
              "      --disabled-bg-color: #DDD;\n",
              "  }\n",
              "\n",
              "  [theme=dark] .colab-df-quickchart {\n",
              "      --bg-color: #3B4455;\n",
              "      --fill-color: #D2E3FC;\n",
              "      --hover-bg-color: #434B5C;\n",
              "      --hover-fill-color: #FFFFFF;\n",
              "      --disabled-bg-color: #3B4455;\n",
              "      --disabled-fill-color: #666;\n",
              "  }\n",
              "\n",
              "  .colab-df-quickchart {\n",
              "    background-color: var(--bg-color);\n",
              "    border: none;\n",
              "    border-radius: 50%;\n",
              "    cursor: pointer;\n",
              "    display: none;\n",
              "    fill: var(--fill-color);\n",
              "    height: 32px;\n",
              "    padding: 0;\n",
              "    width: 32px;\n",
              "  }\n",
              "\n",
              "  .colab-df-quickchart:hover {\n",
              "    background-color: var(--hover-bg-color);\n",
              "    box-shadow: 0 1px 2px rgba(60, 64, 67, 0.3), 0 1px 3px 1px rgba(60, 64, 67, 0.15);\n",
              "    fill: var(--button-hover-fill-color);\n",
              "  }\n",
              "\n",
              "  .colab-df-quickchart-complete:disabled,\n",
              "  .colab-df-quickchart-complete:disabled:hover {\n",
              "    background-color: var(--disabled-bg-color);\n",
              "    fill: var(--disabled-fill-color);\n",
              "    box-shadow: none;\n",
              "  }\n",
              "\n",
              "  .colab-df-spinner {\n",
              "    border: 2px solid var(--fill-color);\n",
              "    border-color: transparent;\n",
              "    border-bottom-color: var(--fill-color);\n",
              "    animation:\n",
              "      spin 1s steps(1) infinite;\n",
              "  }\n",
              "\n",
              "  @keyframes spin {\n",
              "    0% {\n",
              "      border-color: transparent;\n",
              "      border-bottom-color: var(--fill-color);\n",
              "      border-left-color: var(--fill-color);\n",
              "    }\n",
              "    20% {\n",
              "      border-color: transparent;\n",
              "      border-left-color: var(--fill-color);\n",
              "      border-top-color: var(--fill-color);\n",
              "    }\n",
              "    30% {\n",
              "      border-color: transparent;\n",
              "      border-left-color: var(--fill-color);\n",
              "      border-top-color: var(--fill-color);\n",
              "      border-right-color: var(--fill-color);\n",
              "    }\n",
              "    40% {\n",
              "      border-color: transparent;\n",
              "      border-right-color: var(--fill-color);\n",
              "      border-top-color: var(--fill-color);\n",
              "    }\n",
              "    60% {\n",
              "      border-color: transparent;\n",
              "      border-right-color: var(--fill-color);\n",
              "    }\n",
              "    80% {\n",
              "      border-color: transparent;\n",
              "      border-right-color: var(--fill-color);\n",
              "      border-bottom-color: var(--fill-color);\n",
              "    }\n",
              "    90% {\n",
              "      border-color: transparent;\n",
              "      border-bottom-color: var(--fill-color);\n",
              "    }\n",
              "  }\n",
              "</style>\n",
              "\n",
              "  <script>\n",
              "    async function quickchart(key) {\n",
              "      const quickchartButtonEl =\n",
              "        document.querySelector('#' + key + ' button');\n",
              "      quickchartButtonEl.disabled = true;  // To prevent multiple clicks.\n",
              "      quickchartButtonEl.classList.add('colab-df-spinner');\n",
              "      try {\n",
              "        const charts = await google.colab.kernel.invokeFunction(\n",
              "            'suggestCharts', [key], {});\n",
              "      } catch (error) {\n",
              "        console.error('Error during call to suggestCharts:', error);\n",
              "      }\n",
              "      quickchartButtonEl.classList.remove('colab-df-spinner');\n",
              "      quickchartButtonEl.classList.add('colab-df-quickchart-complete');\n",
              "    }\n",
              "    (() => {\n",
              "      let quickchartButtonEl =\n",
              "        document.querySelector('#df-5b4ea272-1621-44a5-924b-641646229fd5 button');\n",
              "      quickchartButtonEl.style.display =\n",
              "        google.colab.kernel.accessAllowed ? 'block' : 'none';\n",
              "    })();\n",
              "  </script>\n",
              "</div>\n",
              "\n",
              "    </div>\n",
              "  </div>\n"
            ]
          },
          "metadata": {},
          "execution_count": 44
        }
      ]
    },
    {
      "cell_type": "markdown",
      "source": [
        "### **Section 3 : Get length of each sentence [3 Marks]**"
      ],
      "metadata": {
        "id": "yXN9ukPgjr1n"
      }
    },
    {
      "cell_type": "code",
      "source": [
        "!pip install num2words"
      ],
      "metadata": {
        "colab": {
          "base_uri": "https://localhost:8080/"
        },
        "id": "1fRf8jGhYUeH",
        "outputId": "cc925a93-133e-483d-87ab-30bfa77d0977"
      },
      "execution_count": null,
      "outputs": [
        {
          "output_type": "stream",
          "name": "stdout",
          "text": [
            "Collecting num2words\n",
            "  Downloading num2words-0.5.13-py3-none-any.whl (143 kB)\n",
            "\u001b[?25l     \u001b[90m━━━━━━━━━━━━━━━━━━━━━━━━━━━━━━━━━━━━━━━━\u001b[0m \u001b[32m0.0/143.3 kB\u001b[0m \u001b[31m?\u001b[0m eta \u001b[36m-:--:--\u001b[0m\r\u001b[2K     \u001b[91m━━━━━━━━━━━━━━━━━━━━━━━━━━━━━━━━━━━━━\u001b[0m\u001b[90m╺\u001b[0m\u001b[90m━━\u001b[0m \u001b[32m133.1/143.3 kB\u001b[0m \u001b[31m3.8 MB/s\u001b[0m eta \u001b[36m0:00:01\u001b[0m\r\u001b[2K     \u001b[90m━━━━━━━━━━━━━━━━━━━━━━━━━━━━━━━━━━━━━━━━\u001b[0m \u001b[32m143.3/143.3 kB\u001b[0m \u001b[31m3.3 MB/s\u001b[0m eta \u001b[36m0:00:00\u001b[0m\n",
            "\u001b[?25hCollecting docopt>=0.6.2 (from num2words)\n",
            "  Downloading docopt-0.6.2.tar.gz (25 kB)\n",
            "  Preparing metadata (setup.py) ... \u001b[?25l\u001b[?25hdone\n",
            "Building wheels for collected packages: docopt\n",
            "  Building wheel for docopt (setup.py) ... \u001b[?25l\u001b[?25hdone\n",
            "  Created wheel for docopt: filename=docopt-0.6.2-py2.py3-none-any.whl size=13706 sha256=023b37cd6554a19dfdf7da95d09d7f62d9f79c95d924b750553e28ceb251d21b\n",
            "  Stored in directory: /root/.cache/pip/wheels/fc/ab/d4/5da2067ac95b36618c629a5f93f809425700506f72c9732fac\n",
            "Successfully built docopt\n",
            "Installing collected packages: docopt, num2words\n",
            "Successfully installed docopt-0.6.2 num2words-0.5.13\n"
          ]
        }
      ]
    },
    {
      "cell_type": "code",
      "source": [
        "# For headlines numbers have meaning, so converting number to words ( for e.g., 9 to nine )\n",
        "from num2words import num2words\n",
        "df['headline'] = df['headline'].apply(lambda x: ' '.join([num2words(word) if word.isdigit() else word for word in x.split()]))"
      ],
      "metadata": {
        "id": "D_kYiIJlY7MI"
      },
      "execution_count": null,
      "outputs": []
    },
    {
      "cell_type": "code",
      "source": [
        "df.head()"
      ],
      "metadata": {
        "colab": {
          "base_uri": "https://localhost:8080/",
          "height": 206
        },
        "id": "4ci5j-2AZNP-",
        "outputId": "ddd34a9b-ebcb-4d60-d087-e00699296a96"
      },
      "execution_count": null,
      "outputs": [
        {
          "output_type": "execute_result",
          "data": {
            "text/plain": [
              "   is_sarcastic                                           headline  length  \\\n",
              "0             1  thirtysomething scientists unveil doomsday clo...      61   \n",
              "1             0  dem rep. totally nails why congress is falling...      79   \n",
              "2             0  eat your veggies: nine deliciously different r...      49   \n",
              "3             1  inclement weather prevents liar from getting t...      52   \n",
              "4             1  mother comes pretty close to using word 'strea...      61   \n",
              "\n",
              "   wordcount  \n",
              "0          8  \n",
              "1         13  \n",
              "2          7  \n",
              "3          8  \n",
              "4          9  "
            ],
            "text/html": [
              "\n",
              "  <div id=\"df-ac06a9a9-b663-41ff-842c-cd08f622655e\" class=\"colab-df-container\">\n",
              "    <div>\n",
              "<style scoped>\n",
              "    .dataframe tbody tr th:only-of-type {\n",
              "        vertical-align: middle;\n",
              "    }\n",
              "\n",
              "    .dataframe tbody tr th {\n",
              "        vertical-align: top;\n",
              "    }\n",
              "\n",
              "    .dataframe thead th {\n",
              "        text-align: right;\n",
              "    }\n",
              "</style>\n",
              "<table border=\"1\" class=\"dataframe\">\n",
              "  <thead>\n",
              "    <tr style=\"text-align: right;\">\n",
              "      <th></th>\n",
              "      <th>is_sarcastic</th>\n",
              "      <th>headline</th>\n",
              "      <th>length</th>\n",
              "      <th>wordcount</th>\n",
              "    </tr>\n",
              "  </thead>\n",
              "  <tbody>\n",
              "    <tr>\n",
              "      <th>0</th>\n",
              "      <td>1</td>\n",
              "      <td>thirtysomething scientists unveil doomsday clo...</td>\n",
              "      <td>61</td>\n",
              "      <td>8</td>\n",
              "    </tr>\n",
              "    <tr>\n",
              "      <th>1</th>\n",
              "      <td>0</td>\n",
              "      <td>dem rep. totally nails why congress is falling...</td>\n",
              "      <td>79</td>\n",
              "      <td>13</td>\n",
              "    </tr>\n",
              "    <tr>\n",
              "      <th>2</th>\n",
              "      <td>0</td>\n",
              "      <td>eat your veggies: nine deliciously different r...</td>\n",
              "      <td>49</td>\n",
              "      <td>7</td>\n",
              "    </tr>\n",
              "    <tr>\n",
              "      <th>3</th>\n",
              "      <td>1</td>\n",
              "      <td>inclement weather prevents liar from getting t...</td>\n",
              "      <td>52</td>\n",
              "      <td>8</td>\n",
              "    </tr>\n",
              "    <tr>\n",
              "      <th>4</th>\n",
              "      <td>1</td>\n",
              "      <td>mother comes pretty close to using word 'strea...</td>\n",
              "      <td>61</td>\n",
              "      <td>9</td>\n",
              "    </tr>\n",
              "  </tbody>\n",
              "</table>\n",
              "</div>\n",
              "    <div class=\"colab-df-buttons\">\n",
              "\n",
              "  <div class=\"colab-df-container\">\n",
              "    <button class=\"colab-df-convert\" onclick=\"convertToInteractive('df-ac06a9a9-b663-41ff-842c-cd08f622655e')\"\n",
              "            title=\"Convert this dataframe to an interactive table.\"\n",
              "            style=\"display:none;\">\n",
              "\n",
              "  <svg xmlns=\"http://www.w3.org/2000/svg\" height=\"24px\" viewBox=\"0 -960 960 960\">\n",
              "    <path d=\"M120-120v-720h720v720H120Zm60-500h600v-160H180v160Zm220 220h160v-160H400v160Zm0 220h160v-160H400v160ZM180-400h160v-160H180v160Zm440 0h160v-160H620v160ZM180-180h160v-160H180v160Zm440 0h160v-160H620v160Z\"/>\n",
              "  </svg>\n",
              "    </button>\n",
              "\n",
              "  <style>\n",
              "    .colab-df-container {\n",
              "      display:flex;\n",
              "      gap: 12px;\n",
              "    }\n",
              "\n",
              "    .colab-df-convert {\n",
              "      background-color: #E8F0FE;\n",
              "      border: none;\n",
              "      border-radius: 50%;\n",
              "      cursor: pointer;\n",
              "      display: none;\n",
              "      fill: #1967D2;\n",
              "      height: 32px;\n",
              "      padding: 0 0 0 0;\n",
              "      width: 32px;\n",
              "    }\n",
              "\n",
              "    .colab-df-convert:hover {\n",
              "      background-color: #E2EBFA;\n",
              "      box-shadow: 0px 1px 2px rgba(60, 64, 67, 0.3), 0px 1px 3px 1px rgba(60, 64, 67, 0.15);\n",
              "      fill: #174EA6;\n",
              "    }\n",
              "\n",
              "    .colab-df-buttons div {\n",
              "      margin-bottom: 4px;\n",
              "    }\n",
              "\n",
              "    [theme=dark] .colab-df-convert {\n",
              "      background-color: #3B4455;\n",
              "      fill: #D2E3FC;\n",
              "    }\n",
              "\n",
              "    [theme=dark] .colab-df-convert:hover {\n",
              "      background-color: #434B5C;\n",
              "      box-shadow: 0px 1px 3px 1px rgba(0, 0, 0, 0.15);\n",
              "      filter: drop-shadow(0px 1px 2px rgba(0, 0, 0, 0.3));\n",
              "      fill: #FFFFFF;\n",
              "    }\n",
              "  </style>\n",
              "\n",
              "    <script>\n",
              "      const buttonEl =\n",
              "        document.querySelector('#df-ac06a9a9-b663-41ff-842c-cd08f622655e button.colab-df-convert');\n",
              "      buttonEl.style.display =\n",
              "        google.colab.kernel.accessAllowed ? 'block' : 'none';\n",
              "\n",
              "      async function convertToInteractive(key) {\n",
              "        const element = document.querySelector('#df-ac06a9a9-b663-41ff-842c-cd08f622655e');\n",
              "        const dataTable =\n",
              "          await google.colab.kernel.invokeFunction('convertToInteractive',\n",
              "                                                    [key], {});\n",
              "        if (!dataTable) return;\n",
              "\n",
              "        const docLinkHtml = 'Like what you see? Visit the ' +\n",
              "          '<a target=\"_blank\" href=https://colab.research.google.com/notebooks/data_table.ipynb>data table notebook</a>'\n",
              "          + ' to learn more about interactive tables.';\n",
              "        element.innerHTML = '';\n",
              "        dataTable['output_type'] = 'display_data';\n",
              "        await google.colab.output.renderOutput(dataTable, element);\n",
              "        const docLink = document.createElement('div');\n",
              "        docLink.innerHTML = docLinkHtml;\n",
              "        element.appendChild(docLink);\n",
              "      }\n",
              "    </script>\n",
              "  </div>\n",
              "\n",
              "\n",
              "<div id=\"df-56a6e0f6-e860-4a36-a76e-81829f80ab43\">\n",
              "  <button class=\"colab-df-quickchart\" onclick=\"quickchart('df-56a6e0f6-e860-4a36-a76e-81829f80ab43')\"\n",
              "            title=\"Suggest charts\"\n",
              "            style=\"display:none;\">\n",
              "\n",
              "<svg xmlns=\"http://www.w3.org/2000/svg\" height=\"24px\"viewBox=\"0 0 24 24\"\n",
              "     width=\"24px\">\n",
              "    <g>\n",
              "        <path d=\"M19 3H5c-1.1 0-2 .9-2 2v14c0 1.1.9 2 2 2h14c1.1 0 2-.9 2-2V5c0-1.1-.9-2-2-2zM9 17H7v-7h2v7zm4 0h-2V7h2v10zm4 0h-2v-4h2v4z\"/>\n",
              "    </g>\n",
              "</svg>\n",
              "  </button>\n",
              "\n",
              "<style>\n",
              "  .colab-df-quickchart {\n",
              "      --bg-color: #E8F0FE;\n",
              "      --fill-color: #1967D2;\n",
              "      --hover-bg-color: #E2EBFA;\n",
              "      --hover-fill-color: #174EA6;\n",
              "      --disabled-fill-color: #AAA;\n",
              "      --disabled-bg-color: #DDD;\n",
              "  }\n",
              "\n",
              "  [theme=dark] .colab-df-quickchart {\n",
              "      --bg-color: #3B4455;\n",
              "      --fill-color: #D2E3FC;\n",
              "      --hover-bg-color: #434B5C;\n",
              "      --hover-fill-color: #FFFFFF;\n",
              "      --disabled-bg-color: #3B4455;\n",
              "      --disabled-fill-color: #666;\n",
              "  }\n",
              "\n",
              "  .colab-df-quickchart {\n",
              "    background-color: var(--bg-color);\n",
              "    border: none;\n",
              "    border-radius: 50%;\n",
              "    cursor: pointer;\n",
              "    display: none;\n",
              "    fill: var(--fill-color);\n",
              "    height: 32px;\n",
              "    padding: 0;\n",
              "    width: 32px;\n",
              "  }\n",
              "\n",
              "  .colab-df-quickchart:hover {\n",
              "    background-color: var(--hover-bg-color);\n",
              "    box-shadow: 0 1px 2px rgba(60, 64, 67, 0.3), 0 1px 3px 1px rgba(60, 64, 67, 0.15);\n",
              "    fill: var(--button-hover-fill-color);\n",
              "  }\n",
              "\n",
              "  .colab-df-quickchart-complete:disabled,\n",
              "  .colab-df-quickchart-complete:disabled:hover {\n",
              "    background-color: var(--disabled-bg-color);\n",
              "    fill: var(--disabled-fill-color);\n",
              "    box-shadow: none;\n",
              "  }\n",
              "\n",
              "  .colab-df-spinner {\n",
              "    border: 2px solid var(--fill-color);\n",
              "    border-color: transparent;\n",
              "    border-bottom-color: var(--fill-color);\n",
              "    animation:\n",
              "      spin 1s steps(1) infinite;\n",
              "  }\n",
              "\n",
              "  @keyframes spin {\n",
              "    0% {\n",
              "      border-color: transparent;\n",
              "      border-bottom-color: var(--fill-color);\n",
              "      border-left-color: var(--fill-color);\n",
              "    }\n",
              "    20% {\n",
              "      border-color: transparent;\n",
              "      border-left-color: var(--fill-color);\n",
              "      border-top-color: var(--fill-color);\n",
              "    }\n",
              "    30% {\n",
              "      border-color: transparent;\n",
              "      border-left-color: var(--fill-color);\n",
              "      border-top-color: var(--fill-color);\n",
              "      border-right-color: var(--fill-color);\n",
              "    }\n",
              "    40% {\n",
              "      border-color: transparent;\n",
              "      border-right-color: var(--fill-color);\n",
              "      border-top-color: var(--fill-color);\n",
              "    }\n",
              "    60% {\n",
              "      border-color: transparent;\n",
              "      border-right-color: var(--fill-color);\n",
              "    }\n",
              "    80% {\n",
              "      border-color: transparent;\n",
              "      border-right-color: var(--fill-color);\n",
              "      border-bottom-color: var(--fill-color);\n",
              "    }\n",
              "    90% {\n",
              "      border-color: transparent;\n",
              "      border-bottom-color: var(--fill-color);\n",
              "    }\n",
              "  }\n",
              "</style>\n",
              "\n",
              "  <script>\n",
              "    async function quickchart(key) {\n",
              "      const quickchartButtonEl =\n",
              "        document.querySelector('#' + key + ' button');\n",
              "      quickchartButtonEl.disabled = true;  // To prevent multiple clicks.\n",
              "      quickchartButtonEl.classList.add('colab-df-spinner');\n",
              "      try {\n",
              "        const charts = await google.colab.kernel.invokeFunction(\n",
              "            'suggestCharts', [key], {});\n",
              "      } catch (error) {\n",
              "        console.error('Error during call to suggestCharts:', error);\n",
              "      }\n",
              "      quickchartButtonEl.classList.remove('colab-df-spinner');\n",
              "      quickchartButtonEl.classList.add('colab-df-quickchart-complete');\n",
              "    }\n",
              "    (() => {\n",
              "      let quickchartButtonEl =\n",
              "        document.querySelector('#df-56a6e0f6-e860-4a36-a76e-81829f80ab43 button');\n",
              "      quickchartButtonEl.style.display =\n",
              "        google.colab.kernel.accessAllowed ? 'block' : 'none';\n",
              "    })();\n",
              "  </script>\n",
              "</div>\n",
              "\n",
              "    </div>\n",
              "  </div>\n"
            ]
          },
          "metadata": {},
          "execution_count": 47
        }
      ]
    },
    {
      "cell_type": "code",
      "source": [
        "# checking for duplicate values\n",
        "df.duplicated().sum()"
      ],
      "metadata": {
        "colab": {
          "base_uri": "https://localhost:8080/"
        },
        "id": "235kPP1Fburp",
        "outputId": "220cd120-c961-44ff-a4f4-9c0a4fc79bcb"
      },
      "execution_count": null,
      "outputs": [
        {
          "output_type": "execute_result",
          "data": {
            "text/plain": [
              "116"
            ]
          },
          "metadata": {},
          "execution_count": 48
        }
      ]
    },
    {
      "cell_type": "markdown",
      "source": [
        "> **There are 116 duplicate records which can be dropped from the dataset**"
      ],
      "metadata": {
        "id": "qYn4uE4-b9Xj"
      }
    },
    {
      "cell_type": "code",
      "source": [
        "df.drop_duplicates(inplace = True)"
      ],
      "metadata": {
        "id": "PPnBW4rxbz5y"
      },
      "execution_count": null,
      "outputs": []
    },
    {
      "cell_type": "code",
      "source": [
        "# Create & show wordcloud of sarcastic sentences\n",
        "sarc_headlines = df[df['is_sarcastic'] == 1]\n",
        "words = ' '.join(sarc_headlines['headline'])\n",
        "cleaned_word = \" \".join([word for word in words.split()])\n",
        "wordcloud = WordCloud(stopwords = STOPWORDS,\n",
        "                      colormap = 'RdBu',\n",
        "                      background_color = 'white',\n",
        "                      width = 3000,\n",
        "                      height = 2500\n",
        "                     ).generate(cleaned_word)\n",
        "plt.figure(1, figsize = (4, 10))\n",
        "plt.imshow(wordcloud)\n",
        "plt.axis('off')\n",
        "plt.show()"
      ],
      "metadata": {
        "colab": {
          "base_uri": "https://localhost:8080/",
          "height": 295
        },
        "id": "_bbMDqh2cXLr",
        "outputId": "aec74be6-d216-4518-d9f2-a1dc6565a9ff"
      },
      "execution_count": null,
      "outputs": [
        {
          "output_type": "display_data",
          "data": {
            "text/plain": [
              "<Figure size 400x1000 with 1 Axes>"
            ],
            "image/png": "[encoded data removed]"
          },
          "metadata": {}
        }
      ]
    },
    {
      "cell_type": "markdown",
      "source": [
        "**\"new\", \"report\", \"man\", \"nation\", \"woman\", \"time\" were some of the top words in sarcastic headlines**"
      ],
      "metadata": {
        "id": "CVpk83V0dGBP"
      }
    },
    {
      "cell_type": "code",
      "source": [
        "# Create & show wordcloud of non sarcastic sentences\n",
        "non_sarc_headlines = df[df['is_sarcastic'] == 0]\n",
        "words_nsc = ' '.join(non_sarc_headlines['headline'])\n",
        "cleaned_word_nsc = \" \".join([word for word in words_nsc.split()])\n",
        "wordcloud_nsc = WordCloud(stopwords = STOPWORDS,\n",
        "                      colormap = 'RdBu',\n",
        "                      background_color = 'white',\n",
        "                      width = 3000,\n",
        "                      height = 2500\n",
        "                     ).generate(cleaned_word_nsc)\n",
        "plt.figure(1, figsize = (4, 10))\n",
        "plt.imshow(wordcloud_nsc)\n",
        "plt.axis('off')\n",
        "plt.show()"
      ],
      "metadata": {
        "colab": {
          "base_uri": "https://localhost:8080/",
          "height": 295
        },
        "id": "joildTitdbiD",
        "outputId": "49ff4fb4-4a5a-40e9-a45f-2754210916d6"
      },
      "execution_count": null,
      "outputs": [
        {
          "output_type": "display_data",
          "data": {
            "text/plain": [
              "<Figure size 400x1000 with 1 Axes>"
            ],
            "image/png": "[encoded data removed]"
          },
          "metadata": {}
        }
      ]
    },
    {
      "cell_type": "markdown",
      "source": [
        "**\"new\", \"donald\", \"trump\", \"women\", \"world\" were some of the top words in sarcastic headlines**"
      ],
      "metadata": {
        "id": "A5gTIBzECMgv"
      }
    },
    {
      "cell_type": "markdown",
      "source": [
        "### **Section 4 : Define parameters [3 Marks]**"
      ],
      "metadata": {
        "id": "cmGvZV8Ij9lX"
      }
    },
    {
      "cell_type": "code",
      "source": [
        "import nltk\n",
        "nltk.download('stopwords')\n",
        "import string\n",
        "import re\n",
        "from nltk.corpus import stopwords\n",
        "from nltk.tokenize import word_tokenize"
      ],
      "metadata": {
        "colab": {
          "base_uri": "https://localhost:8080/"
        },
        "id": "uT08NW0rZasA",
        "outputId": "db14df42-fbc3-49f5-98f7-661575dcca18"
      },
      "execution_count": null,
      "outputs": [
        {
          "output_type": "stream",
          "name": "stderr",
          "text": [
            "[nltk_data] Downloading package stopwords to /root/nltk_data...\n",
            "[nltk_data]   Unzipping corpora/stopwords.zip.\n"
          ]
        }
      ]
    },
    {
      "cell_type": "code",
      "source": [
        "max_features = 10000\n",
        "max_len = 300\n",
        "embedding_size = 128"
      ],
      "metadata": {
        "id": "3QRj9Mi0Zkx-"
      },
      "execution_count": null,
      "outputs": []
    },
    {
      "cell_type": "code",
      "source": [
        "print(\"Before applying the expression :\", df['headline'][1])\n",
        "pattern = '[^a-zA-Z0-9]'\n",
        "res = re.sub(pattern, ' ', df['headline'][1])\n",
        "\n",
        "print(\"After applying the expression :\", res)"
      ],
      "metadata": {
        "colab": {
          "base_uri": "https://localhost:8080/"
        },
        "id": "o6SBOpjDbqTy",
        "outputId": "0f4c073f-9689-4cd0-c6a6-a77f7573ea26"
      },
      "execution_count": null,
      "outputs": [
        {
          "output_type": "stream",
          "name": "stdout",
          "text": [
            "Before applying the expression : dem rep. totally nails why congress is falling short on gender, racial equality\n",
            "After applying the expression : dem rep  totally nails why congress is falling short on gender  racial equality\n"
          ]
        }
      ]
    },
    {
      "cell_type": "code",
      "source": [
        "print(\"Before applying the expression :\", res)\n",
        "pattern = '\\s+'\n",
        "resf = re.sub(pattern, ' ', res)\n",
        "\n",
        "print(\"After applying the expression :\", resf)"
      ],
      "metadata": {
        "colab": {
          "base_uri": "https://localhost:8080/"
        },
        "id": "UlhU-iPQe2lv",
        "outputId": "343b8e68-0ab7-4f2f-dd38-6b8c131d769a"
      },
      "execution_count": null,
      "outputs": [
        {
          "output_type": "stream",
          "name": "stdout",
          "text": [
            "Before applying the expression : dem rep  totally nails why congress is falling short on gender  racial equality\n",
            "After applying the expression : dem rep totally nails why congress is falling short on gender racial equality\n"
          ]
        }
      ]
    },
    {
      "cell_type": "code",
      "source": [
        "print(\"Before applying the expression :\", resf)\n",
        "pattern = '\\d+'\n",
        "resl = re.sub(pattern, ' ', resf)\n",
        "\n",
        "print(\"After applying the expression :\", resl)"
      ],
      "metadata": {
        "colab": {
          "base_uri": "https://localhost:8080/"
        },
        "id": "WxDdcFUte9To",
        "outputId": "7c04f2ed-ff48-4fa3-ddb7-5c5cccd238ea"
      },
      "execution_count": null,
      "outputs": [
        {
          "output_type": "stream",
          "name": "stdout",
          "text": [
            "Before applying the expression : dem rep totally nails why congress is falling short on gender racial equality\n",
            "After applying the expression : dem rep totally nails why congress is falling short on gender racial equality\n"
          ]
        }
      ]
    },
    {
      "cell_type": "code",
      "source": [
        "final_corpus = []\n",
        "\n",
        "for i in range(df.shape[0]):\n",
        "\n",
        "    text = re.sub('[^a-zA-Z0-9]', ' ', df['headline'].iloc[i])\n",
        "    text = text.lower()\n",
        "    text = re.sub(r'\\s+',' ',text)\n",
        "    text = re.sub(r'\\d',' ',text)\n",
        "    text = text.split()\n",
        "    text = [word for word in text if not word in stopwords.words('english')]\n",
        "    text = ' '.join(text)\n",
        "    final_corpus.append(text)\n",
        "\n",
        "df['final_text'] = final_corpus"
      ],
      "metadata": {
        "id": "PjChafHBfDLZ"
      },
      "execution_count": null,
      "outputs": []
    },
    {
      "cell_type": "code",
      "source": [
        "all_words = \" \".join(words for words in df.final_text)\n",
        "print (\"There are {} words in total.\".format(len(all_words)))"
      ],
      "metadata": {
        "colab": {
          "base_uri": "https://localhost:8080/"
        },
        "id": "C83Graz9hEKX",
        "outputId": "8cb9aad1-3cb6-4773-d75d-6a5dedd084fe"
      },
      "execution_count": null,
      "outputs": [
        {
          "output_type": "stream",
          "name": "stdout",
          "text": [
            "There are 1468907 words in total.\n"
          ]
        }
      ]
    },
    {
      "cell_type": "markdown",
      "source": [
        "### **Section 5, 6, 7, 8**\n",
        "> Section 5 : Get indices for words [3 Marks] <br>\n",
        "Section 6 : Create features and labels [3 Marks] <br>\n",
        "Section 7 : Get vocabulary size [3 Marks] <br>\n",
        "Section 8 : Create a weight matrix using GloVe embeddings [3 Marks] <br>"
      ],
      "metadata": {
        "id": "q_0XuHu3kQPB"
      }
    },
    {
      "cell_type": "code",
      "source": [
        "# load the GloVe vectors in a dictionary:\n",
        "embeddings_index = {}\n",
        "f = open(r'/content/drive/MyDrive/datasets/nlp/glove.6B/glove.6B.300d.txt', encoding=\"utf8\")\n",
        "\n",
        "for line in tqdm(f):\n",
        "    values = line.split()\n",
        "    word = values[0]\n",
        "    coefs = np.array(values[1:], dtype='float32')\n",
        "    embeddings_index[word] = coefs\n",
        "f.close()\n",
        "\n",
        "print('Found %s word vectors.' % len(embeddings_index))"
      ],
      "metadata": {
        "colab": {
          "base_uri": "https://localhost:8080/"
        },
        "id": "yRdZqYZjhxep",
        "outputId": "cb31912e-f170-46d2-a431-d0f629bda10a"
      },
      "execution_count": null,
      "outputs": [
        {
          "output_type": "stream",
          "name": "stderr",
          "text": [
            "400000it [00:24, 16073.13it/s]"
          ]
        },
        {
          "output_type": "stream",
          "name": "stdout",
          "text": [
            "Found 400000 word vectors.\n"
          ]
        },
        {
          "output_type": "stream",
          "name": "stderr",
          "text": [
            "\n"
          ]
        }
      ]
    },
    {
      "cell_type": "code",
      "source": [
        "maxLen = 300\n",
        "tokenizer = Tokenizer(num_words=5000)\n",
        "tokenizer.fit_on_texts(df['final_text'])\n",
        "words_to_index = tokenizer.word_index\n",
        "vocab_len = len(words_to_index)\n",
        "embed_vector_len = embeddings_index['first'].shape[0]\n",
        "emb_matrix = np.zeros((vocab_len, embed_vector_len))\n",
        "for word, index in words_to_index.items():\n",
        "  embedding_vector = embeddings_index.get(word)\n",
        "  if embedding_vector is not None:\n",
        "    emb_matrix[(index-1), :] = embedding_vector\n",
        "embedding_layer = Embedding(input_dim=vocab_len, output_dim=embed_vector_len, input_length=maxLen, weights=[emb_matrix], trainable=False)"
      ],
      "metadata": {
        "id": "3qXCNPHZrVQG"
      },
      "execution_count": null,
      "outputs": []
    },
    {
      "cell_type": "code",
      "source": [
        "emb_matrix.shape"
      ],
      "metadata": {
        "colab": {
          "base_uri": "https://localhost:8080/"
        },
        "id": "oe6kwHqyny6d",
        "outputId": "33966d1a-d91c-4c08-b0af-6e1c02125bb3"
      },
      "execution_count": null,
      "outputs": [
        {
          "output_type": "execute_result",
          "data": {
            "text/plain": [
              "(25775, 300)"
            ]
          },
          "metadata": {},
          "execution_count": 61
        }
      ]
    },
    {
      "cell_type": "code",
      "source": [
        "print(vocab_len)\n",
        "print(embed_vector_len)\n",
        "print(maxLen)\n",
        "print(emb_matrix.shape)"
      ],
      "metadata": {
        "colab": {
          "base_uri": "https://localhost:8080/"
        },
        "id": "RpgdPFyfRulg",
        "outputId": "ddd845ce-521b-45f5-e7cd-b4f899830026"
      },
      "execution_count": null,
      "outputs": [
        {
          "output_type": "stream",
          "name": "stdout",
          "text": [
            "25775\n",
            "300\n",
            "300\n",
            "(25775, 300)\n"
          ]
        }
      ]
    },
    {
      "cell_type": "markdown",
      "source": [
        "### **Section 9 : Define and compile a LSTM model. [3 Marks]**"
      ],
      "metadata": {
        "id": "rHD9oYZXmGmu"
      }
    },
    {
      "cell_type": "code",
      "source": [
        "model = Sequential()\n",
        "model.add(embedding_layer)\n",
        "model.add(SpatialDropout1D(0.2))\n",
        "model.add(Bidirectional(LSTM(128, recurrent_dropout = 0, unroll = False, use_bias = True)))\n",
        "model.add(Dense(2, activation = 'softmax'))"
      ],
      "metadata": {
        "id": "H-7wx74-k815"
      },
      "execution_count": null,
      "outputs": []
    },
    {
      "cell_type": "code",
      "source": [
        "# compile the model\n",
        "adam = Adam(learning_rate = 0.0001)\n",
        "model.compile(loss = 'categorical_crossentropy', optimizer = adam, metrics = ['accuracy'])"
      ],
      "metadata": {
        "id": "UNq5J0H-F_wk"
      },
      "execution_count": null,
      "outputs": []
    },
    {
      "cell_type": "code",
      "source": [
        "# creating the target feature\n",
        "y = pd.get_dummies(df['is_sarcastic'])"
      ],
      "metadata": {
        "id": "lAVj15DoZf1U"
      },
      "execution_count": null,
      "outputs": []
    },
    {
      "cell_type": "code",
      "source": [
        "y"
      ],
      "metadata": {
        "colab": {
          "base_uri": "https://localhost:8080/",
          "height": 424
        },
        "id": "svPDcY5NrESq",
        "outputId": "7cbde827-a392-4d93-e5e4-6ed4069fc091"
      },
      "execution_count": null,
      "outputs": [
        {
          "output_type": "execute_result",
          "data": {
            "text/plain": [
              "       0  1\n",
              "0      0  1\n",
              "1      1  0\n",
              "2      1  0\n",
              "3      0  1\n",
              "4      0  1\n",
              "...   .. ..\n",
              "28614  0  1\n",
              "28615  0  1\n",
              "28616  1  0\n",
              "28617  0  1\n",
              "28618  0  1\n",
              "\n",
              "[28503 rows x 2 columns]"
            ],
            "text/html": [
              "\n",
              "  <div id=\"df-0177ef3e-b851-4610-bb85-454ad15bf3ef\" class=\"colab-df-container\">\n",
              "    <div>\n",
              "<style scoped>\n",
              "    .dataframe tbody tr th:only-of-type {\n",
              "        vertical-align: middle;\n",
              "    }\n",
              "\n",
              "    .dataframe tbody tr th {\n",
              "        vertical-align: top;\n",
              "    }\n",
              "\n",
              "    .dataframe thead th {\n",
              "        text-align: right;\n",
              "    }\n",
              "</style>\n",
              "<table border=\"1\" class=\"dataframe\">\n",
              "  <thead>\n",
              "    <tr style=\"text-align: right;\">\n",
              "      <th></th>\n",
              "      <th>0</th>\n",
              "      <th>1</th>\n",
              "    </tr>\n",
              "  </thead>\n",
              "  <tbody>\n",
              "    <tr>\n",
              "      <th>0</th>\n",
              "      <td>0</td>\n",
              "      <td>1</td>\n",
              "    </tr>\n",
              "    <tr>\n",
              "      <th>1</th>\n",
              "      <td>1</td>\n",
              "      <td>0</td>\n",
              "    </tr>\n",
              "    <tr>\n",
              "      <th>2</th>\n",
              "      <td>1</td>\n",
              "      <td>0</td>\n",
              "    </tr>\n",
              "    <tr>\n",
              "      <th>3</th>\n",
              "      <td>0</td>\n",
              "      <td>1</td>\n",
              "    </tr>\n",
              "    <tr>\n",
              "      <th>4</th>\n",
              "      <td>0</td>\n",
              "      <td>1</td>\n",
              "    </tr>\n",
              "    <tr>\n",
              "      <th>...</th>\n",
              "      <td>...</td>\n",
              "      <td>...</td>\n",
              "    </tr>\n",
              "    <tr>\n",
              "      <th>28614</th>\n",
              "      <td>0</td>\n",
              "      <td>1</td>\n",
              "    </tr>\n",
              "    <tr>\n",
              "      <th>28615</th>\n",
              "      <td>0</td>\n",
              "      <td>1</td>\n",
              "    </tr>\n",
              "    <tr>\n",
              "      <th>28616</th>\n",
              "      <td>1</td>\n",
              "      <td>0</td>\n",
              "    </tr>\n",
              "    <tr>\n",
              "      <th>28617</th>\n",
              "      <td>0</td>\n",
              "      <td>1</td>\n",
              "    </tr>\n",
              "    <tr>\n",
              "      <th>28618</th>\n",
              "      <td>0</td>\n",
              "      <td>1</td>\n",
              "    </tr>\n",
              "  </tbody>\n",
              "</table>\n",
              "<p>28503 rows × 2 columns</p>\n",
              "</div>\n",
              "    <div class=\"colab-df-buttons\">\n",
              "\n",
              "  <div class=\"colab-df-container\">\n",
              "    <button class=\"colab-df-convert\" onclick=\"convertToInteractive('df-0177ef3e-b851-4610-bb85-454ad15bf3ef')\"\n",
              "            title=\"Convert this dataframe to an interactive table.\"\n",
              "            style=\"display:none;\">\n",
              "\n",
              "  <svg xmlns=\"http://www.w3.org/2000/svg\" height=\"24px\" viewBox=\"0 -960 960 960\">\n",
              "    <path d=\"M120-120v-720h720v720H120Zm60-500h600v-160H180v160Zm220 220h160v-160H400v160Zm0 220h160v-160H400v160ZM180-400h160v-160H180v160Zm440 0h160v-160H620v160ZM180-180h160v-160H180v160Zm440 0h160v-160H620v160Z\"/>\n",
              "  </svg>\n",
              "    </button>\n",
              "\n",
              "  <style>\n",
              "    .colab-df-container {\n",
              "      display:flex;\n",
              "      gap: 12px;\n",
              "    }\n",
              "\n",
              "    .colab-df-convert {\n",
              "      background-color: #E8F0FE;\n",
              "      border: none;\n",
              "      border-radius: 50%;\n",
              "      cursor: pointer;\n",
              "      display: none;\n",
              "      fill: #1967D2;\n",
              "      height: 32px;\n",
              "      padding: 0 0 0 0;\n",
              "      width: 32px;\n",
              "    }\n",
              "\n",
              "    .colab-df-convert:hover {\n",
              "      background-color: #E2EBFA;\n",
              "      box-shadow: 0px 1px 2px rgba(60, 64, 67, 0.3), 0px 1px 3px 1px rgba(60, 64, 67, 0.15);\n",
              "      fill: #174EA6;\n",
              "    }\n",
              "\n",
              "    .colab-df-buttons div {\n",
              "      margin-bottom: 4px;\n",
              "    }\n",
              "\n",
              "    [theme=dark] .colab-df-convert {\n",
              "      background-color: #3B4455;\n",
              "      fill: #D2E3FC;\n",
              "    }\n",
              "\n",
              "    [theme=dark] .colab-df-convert:hover {\n",
              "      background-color: #434B5C;\n",
              "      box-shadow: 0px 1px 3px 1px rgba(0, 0, 0, 0.15);\n",
              "      filter: drop-shadow(0px 1px 2px rgba(0, 0, 0, 0.3));\n",
              "      fill: #FFFFFF;\n",
              "    }\n",
              "  </style>\n",
              "\n",
              "    <script>\n",
              "      const buttonEl =\n",
              "        document.querySelector('#df-0177ef3e-b851-4610-bb85-454ad15bf3ef button.colab-df-convert');\n",
              "      buttonEl.style.display =\n",
              "        google.colab.kernel.accessAllowed ? 'block' : 'none';\n",
              "\n",
              "      async function convertToInteractive(key) {\n",
              "        const element = document.querySelector('#df-0177ef3e-b851-4610-bb85-454ad15bf3ef');\n",
              "        const dataTable =\n",
              "          await google.colab.kernel.invokeFunction('convertToInteractive',\n",
              "                                                    [key], {});\n",
              "        if (!dataTable) return;\n",
              "\n",
              "        const docLinkHtml = 'Like what you see? Visit the ' +\n",
              "          '<a target=\"_blank\" href=https://colab.research.google.com/notebooks/data_table.ipynb>data table notebook</a>'\n",
              "          + ' to learn more about interactive tables.';\n",
              "        element.innerHTML = '';\n",
              "        dataTable['output_type'] = 'display_data';\n",
              "        await google.colab.output.renderOutput(dataTable, element);\n",
              "        const docLink = document.createElement('div');\n",
              "        docLink.innerHTML = docLinkHtml;\n",
              "        element.appendChild(docLink);\n",
              "      }\n",
              "    </script>\n",
              "  </div>\n",
              "\n",
              "\n",
              "<div id=\"df-279ea59f-a90a-436d-ab60-7cdd832310c6\">\n",
              "  <button class=\"colab-df-quickchart\" onclick=\"quickchart('df-279ea59f-a90a-436d-ab60-7cdd832310c6')\"\n",
              "            title=\"Suggest charts\"\n",
              "            style=\"display:none;\">\n",
              "\n",
              "<svg xmlns=\"http://www.w3.org/2000/svg\" height=\"24px\"viewBox=\"0 0 24 24\"\n",
              "     width=\"24px\">\n",
              "    <g>\n",
              "        <path d=\"M19 3H5c-1.1 0-2 .9-2 2v14c0 1.1.9 2 2 2h14c1.1 0 2-.9 2-2V5c0-1.1-.9-2-2-2zM9 17H7v-7h2v7zm4 0h-2V7h2v10zm4 0h-2v-4h2v4z\"/>\n",
              "    </g>\n",
              "</svg>\n",
              "  </button>\n",
              "\n",
              "<style>\n",
              "  .colab-df-quickchart {\n",
              "      --bg-color: #E8F0FE;\n",
              "      --fill-color: #1967D2;\n",
              "      --hover-bg-color: #E2EBFA;\n",
              "      --hover-fill-color: #174EA6;\n",
              "      --disabled-fill-color: #AAA;\n",
              "      --disabled-bg-color: #DDD;\n",
              "  }\n",
              "\n",
              "  [theme=dark] .colab-df-quickchart {\n",
              "      --bg-color: #3B4455;\n",
              "      --fill-color: #D2E3FC;\n",
              "      --hover-bg-color: #434B5C;\n",
              "      --hover-fill-color: #FFFFFF;\n",
              "      --disabled-bg-color: #3B4455;\n",
              "      --disabled-fill-color: #666;\n",
              "  }\n",
              "\n",
              "  .colab-df-quickchart {\n",
              "    background-color: var(--bg-color);\n",
              "    border: none;\n",
              "    border-radius: 50%;\n",
              "    cursor: pointer;\n",
              "    display: none;\n",
              "    fill: var(--fill-color);\n",
              "    height: 32px;\n",
              "    padding: 0;\n",
              "    width: 32px;\n",
              "  }\n",
              "\n",
              "  .colab-df-quickchart:hover {\n",
              "    background-color: var(--hover-bg-color);\n",
              "    box-shadow: 0 1px 2px rgba(60, 64, 67, 0.3), 0 1px 3px 1px rgba(60, 64, 67, 0.15);\n",
              "    fill: var(--button-hover-fill-color);\n",
              "  }\n",
              "\n",
              "  .colab-df-quickchart-complete:disabled,\n",
              "  .colab-df-quickchart-complete:disabled:hover {\n",
              "    background-color: var(--disabled-bg-color);\n",
              "    fill: var(--disabled-fill-color);\n",
              "    box-shadow: none;\n",
              "  }\n",
              "\n",
              "  .colab-df-spinner {\n",
              "    border: 2px solid var(--fill-color);\n",
              "    border-color: transparent;\n",
              "    border-bottom-color: var(--fill-color);\n",
              "    animation:\n",
              "      spin 1s steps(1) infinite;\n",
              "  }\n",
              "\n",
              "  @keyframes spin {\n",
              "    0% {\n",
              "      border-color: transparent;\n",
              "      border-bottom-color: var(--fill-color);\n",
              "      border-left-color: var(--fill-color);\n",
              "    }\n",
              "    20% {\n",
              "      border-color: transparent;\n",
              "      border-left-color: var(--fill-color);\n",
              "      border-top-color: var(--fill-color);\n",
              "    }\n",
              "    30% {\n",
              "      border-color: transparent;\n",
              "      border-left-color: var(--fill-color);\n",
              "      border-top-color: var(--fill-color);\n",
              "      border-right-color: var(--fill-color);\n",
              "    }\n",
              "    40% {\n",
              "      border-color: transparent;\n",
              "      border-right-color: var(--fill-color);\n",
              "      border-top-color: var(--fill-color);\n",
              "    }\n",
              "    60% {\n",
              "      border-color: transparent;\n",
              "      border-right-color: var(--fill-color);\n",
              "    }\n",
              "    80% {\n",
              "      border-color: transparent;\n",
              "      border-right-color: var(--fill-color);\n",
              "      border-bottom-color: var(--fill-color);\n",
              "    }\n",
              "    90% {\n",
              "      border-color: transparent;\n",
              "      border-bottom-color: var(--fill-color);\n",
              "    }\n",
              "  }\n",
              "</style>\n",
              "\n",
              "  <script>\n",
              "    async function quickchart(key) {\n",
              "      const quickchartButtonEl =\n",
              "        document.querySelector('#' + key + ' button');\n",
              "      quickchartButtonEl.disabled = true;  // To prevent multiple clicks.\n",
              "      quickchartButtonEl.classList.add('colab-df-spinner');\n",
              "      try {\n",
              "        const charts = await google.colab.kernel.invokeFunction(\n",
              "            'suggestCharts', [key], {});\n",
              "      } catch (error) {\n",
              "        console.error('Error during call to suggestCharts:', error);\n",
              "      }\n",
              "      quickchartButtonEl.classList.remove('colab-df-spinner');\n",
              "      quickchartButtonEl.classList.add('colab-df-quickchart-complete');\n",
              "    }\n",
              "    (() => {\n",
              "      let quickchartButtonEl =\n",
              "        document.querySelector('#df-279ea59f-a90a-436d-ab60-7cdd832310c6 button');\n",
              "      quickchartButtonEl.style.display =\n",
              "        google.colab.kernel.accessAllowed ? 'block' : 'none';\n",
              "    })();\n",
              "  </script>\n",
              "</div>\n",
              "\n",
              "  <div id=\"id_96e5ad1c-3794-4b0f-894a-2cc75927cad2\">\n",
              "    <style>\n",
              "      .colab-df-generate {\n",
              "        background-color: #E8F0FE;\n",
              "        border: none;\n",
              "        border-radius: 50%;\n",
              "        cursor: pointer;\n",
              "        display: none;\n",
              "        fill: #1967D2;\n",
              "        height: 32px;\n",
              "        padding: 0 0 0 0;\n",
              "        width: 32px;\n",
              "      }\n",
              "\n",
              "      .colab-df-generate:hover {\n",
              "        background-color: #E2EBFA;\n",
              "        box-shadow: 0px 1px 2px rgba(60, 64, 67, 0.3), 0px 1px 3px 1px rgba(60, 64, 67, 0.15);\n",
              "        fill: #174EA6;\n",
              "      }\n",
              "\n",
              "      [theme=dark] .colab-df-generate {\n",
              "        background-color: #3B4455;\n",
              "        fill: #D2E3FC;\n",
              "      }\n",
              "\n",
              "      [theme=dark] .colab-df-generate:hover {\n",
              "        background-color: #434B5C;\n",
              "        box-shadow: 0px 1px 3px 1px rgba(0, 0, 0, 0.15);\n",
              "        filter: drop-shadow(0px 1px 2px rgba(0, 0, 0, 0.3));\n",
              "        fill: #FFFFFF;\n",
              "      }\n",
              "    </style>\n",
              "    <button class=\"colab-df-generate\" onclick=\"generateWithVariable('y')\"\n",
              "            title=\"Generate code using this dataframe.\"\n",
              "            style=\"display:none;\">\n",
              "\n",
              "  <svg xmlns=\"http://www.w3.org/2000/svg\" height=\"24px\"viewBox=\"0 0 24 24\"\n",
              "       width=\"24px\">\n",
              "    <path d=\"M7,19H8.4L18.45,9,17,7.55,7,17.6ZM5,21V16.75L18.45,3.32a2,2,0,0,1,2.83,0l1.4,1.43a1.91,1.91,0,0,1,.58,1.4,1.91,1.91,0,0,1-.58,1.4L9.25,21ZM18.45,9,17,7.55Zm-12,3A5.31,5.31,0,0,0,4.9,8.1,5.31,5.31,0,0,0,1,6.5,5.31,5.31,0,0,0,4.9,4.9,5.31,5.31,0,0,0,6.5,1,5.31,5.31,0,0,0,8.1,4.9,5.31,5.31,0,0,0,12,6.5,5.46,5.46,0,0,0,6.5,12Z\"/>\n",
              "  </svg>\n",
              "    </button>\n",
              "    <script>\n",
              "      (() => {\n",
              "      const buttonEl =\n",
              "        document.querySelector('#id_96e5ad1c-3794-4b0f-894a-2cc75927cad2 button.colab-df-generate');\n",
              "      buttonEl.style.display =\n",
              "        google.colab.kernel.accessAllowed ? 'block' : 'none';\n",
              "\n",
              "      buttonEl.onclick = () => {\n",
              "        google.colab.notebook.generateWithVariable('y');\n",
              "      }\n",
              "      })();\n",
              "    </script>\n",
              "  </div>\n",
              "\n",
              "    </div>\n",
              "  </div>\n"
            ]
          },
          "metadata": {},
          "execution_count": 66
        }
      ]
    },
    {
      "cell_type": "code",
      "source": [
        "df.final_text.values"
      ],
      "metadata": {
        "colab": {
          "base_uri": "https://localhost:8080/"
        },
        "id": "B7kV9727bjKe",
        "outputId": "9b9b04cf-21f1-408e-9cc8-b1b21008a93e"
      },
      "execution_count": null,
      "outputs": [
        {
          "output_type": "execute_result",
          "data": {
            "text/plain": [
              "array(['thirtysomething scientists unveil doomsday clock hair loss',\n",
              "       'dem rep totally nails congress falling short gender racial equality',\n",
              "       'eat veggies nine deliciously different recipes', ...,\n",
              "       'beautiful acceptance speech week came queer korean',\n",
              "       'mars probe destroyed orbiting spielberg gates space palace',\n",
              "       'dad clarifies food stop'], dtype=object)"
            ]
          },
          "metadata": {},
          "execution_count": 67
        }
      ]
    },
    {
      "cell_type": "code",
      "source": [
        "xtrain, xvalid, ytrain, yvalid = train_test_split(df.final_text.values, y,\n",
        "                                                  stratify = df.is_sarcastic.values,\n",
        "                                                  random_state = 42,\n",
        "                                                  test_size = 0.2, shuffle = True)"
      ],
      "metadata": {
        "id": "Qm--OP7Ejwt_"
      },
      "execution_count": null,
      "outputs": []
    },
    {
      "cell_type": "code",
      "source": [
        "xtrain"
      ],
      "metadata": {
        "colab": {
          "base_uri": "https://localhost:8080/"
        },
        "id": "8v3L6cbifikr",
        "outputId": "97d102e0-dea4-4403-984a-16ed6f4e3768"
      },
      "execution_count": null,
      "outputs": [
        {
          "output_type": "execute_result",
          "data": {
            "text/plain": [
              "array(['gobbler games brutal hunger games parody need see',\n",
              "       'politicians think microphone start getting real',\n",
              "       'mike pence training vice presidential debate hitting punching bag climate change study taped front',\n",
              "       ..., 'divorce life reconciliation',\n",
              "       'ai weiwei commemorates drowned refugees berlin film festival',\n",
              "       'vin diesel reveals groot dance guardians galaxy sequel'],\n",
              "      dtype=object)"
            ]
          },
          "metadata": {},
          "execution_count": 69
        }
      ]
    },
    {
      "cell_type": "code",
      "source": [
        "xtrain_indices = tokenizer.texts_to_sequences(xtrain)\n",
        "xtrain_indices = pad_sequences(xtrain_indices, maxlen=maxLen, padding='post')"
      ],
      "metadata": {
        "id": "u4sDCs4dG-dI"
      },
      "execution_count": null,
      "outputs": []
    },
    {
      "cell_type": "code",
      "source": [
        "model.summary()"
      ],
      "metadata": {
        "colab": {
          "base_uri": "https://localhost:8080/"
        },
        "id": "OtJ_DxAMIP8E",
        "outputId": "31d1997e-32d7-4196-932d-e33a43cb2931"
      },
      "execution_count": null,
      "outputs": [
        {
          "output_type": "stream",
          "name": "stdout",
          "text": [
            "Model: \"sequential_4\"\n",
            "_________________________________________________________________\n",
            " Layer (type)                Output Shape              Param #   \n",
            "=================================================================\n",
            " embedding_4 (Embedding)     (None, 300, 300)          7732500   \n",
            "                                                                 \n",
            " spatial_dropout1d (Spatial  (None, 300, 300)          0         \n",
            " Dropout1D)                                                      \n",
            "                                                                 \n",
            " bidirectional_1 (Bidirecti  (None, 256)               439296    \n",
            " onal)                                                           \n",
            "                                                                 \n",
            " dense_4 (Dense)             (None, 2)                 514       \n",
            "                                                                 \n",
            "=================================================================\n",
            "Total params: 8172310 (31.17 MB)\n",
            "Trainable params: 439810 (1.68 MB)\n",
            "Non-trainable params: 7732500 (29.50 MB)\n",
            "_________________________________________________________________\n"
          ]
        }
      ]
    },
    {
      "cell_type": "code",
      "source": [
        "xtrain_indices.shape"
      ],
      "metadata": {
        "colab": {
          "base_uri": "https://localhost:8080/"
        },
        "id": "6TQ-GNrqITK3",
        "outputId": "45bbfa81-275c-4cc1-8184-1c2bcfad7463"
      },
      "execution_count": null,
      "outputs": [
        {
          "output_type": "execute_result",
          "data": {
            "text/plain": [
              "(22802, 300)"
            ]
          },
          "metadata": {},
          "execution_count": 72
        }
      ]
    },
    {
      "cell_type": "markdown",
      "source": [
        "### **Section 10 : Fit the model and check the validation accuracy [3 Marks]**"
      ],
      "metadata": {
        "id": "BpjF5aUxmTAk"
      }
    },
    {
      "cell_type": "code",
      "source": [
        "model.fit(xtrain_indices, ytrain, batch_size=64, epochs=15)"
      ],
      "metadata": {
        "colab": {
          "base_uri": "https://localhost:8080/"
        },
        "id": "O2zYVlgWID10",
        "outputId": "2472e70c-0b12-4467-93b6-375867806b89"
      },
      "execution_count": null,
      "outputs": [
        {
          "output_type": "stream",
          "name": "stdout",
          "text": [
            "Epoch 1/15\n",
            "357/357 [==============================] - 15s 32ms/step - loss: 0.6727 - accuracy: 0.5836\n",
            "Epoch 2/15\n",
            "357/357 [==============================] - 12s 33ms/step - loss: 0.6421 - accuracy: 0.6281\n",
            "Epoch 3/15\n",
            "357/357 [==============================] - 12s 33ms/step - loss: 0.6262 - accuracy: 0.6459\n",
            "Epoch 4/15\n",
            "357/357 [==============================] - 12s 33ms/step - loss: 0.6133 - accuracy: 0.6580\n",
            "Epoch 5/15\n",
            "357/357 [==============================] - 12s 33ms/step - loss: 0.6030 - accuracy: 0.6660\n",
            "Epoch 6/15\n",
            "357/357 [==============================] - 12s 33ms/step - loss: 0.5968 - accuracy: 0.6741\n",
            "Epoch 7/15\n",
            "357/357 [==============================] - 12s 32ms/step - loss: 0.5876 - accuracy: 0.6776\n",
            "Epoch 8/15\n",
            "357/357 [==============================] - 12s 32ms/step - loss: 0.5783 - accuracy: 0.6912\n",
            "Epoch 9/15\n",
            "357/357 [==============================] - 12s 33ms/step - loss: 0.5706 - accuracy: 0.6959\n",
            "Epoch 10/15\n",
            "357/357 [==============================] - 12s 33ms/step - loss: 0.5626 - accuracy: 0.7027\n",
            "Epoch 11/15\n",
            "357/357 [==============================] - 12s 33ms/step - loss: 0.5539 - accuracy: 0.7089\n",
            "Epoch 12/15\n",
            "357/357 [==============================] - 12s 33ms/step - loss: 0.5470 - accuracy: 0.7144\n",
            "Epoch 13/15\n",
            "357/357 [==============================] - 12s 33ms/step - loss: 0.5382 - accuracy: 0.7209\n",
            "Epoch 14/15\n",
            "357/357 [==============================] - 12s 33ms/step - loss: 0.5267 - accuracy: 0.7338\n",
            "Epoch 15/15\n",
            "357/357 [==============================] - 12s 33ms/step - loss: 0.5180 - accuracy: 0.7415\n"
          ]
        },
        {
          "output_type": "execute_result",
          "data": {
            "text/plain": [
              "<keras.src.callbacks.History at 0x7d8b26320df0>"
            ]
          },
          "metadata": {},
          "execution_count": 73
        }
      ]
    },
    {
      "cell_type": "code",
      "source": [
        "xtest_indices = tokenizer.texts_to_sequences(xvalid)\n",
        "xtest_indices = pad_sequences(xtest_indices, maxlen=maxLen, padding='post')"
      ],
      "metadata": {
        "id": "NU44L577QnaB"
      },
      "execution_count": null,
      "outputs": []
    },
    {
      "cell_type": "code",
      "source": [
        "ypred = model.predict(xtest_indices)"
      ],
      "metadata": {
        "colab": {
          "base_uri": "https://localhost:8080/"
        },
        "id": "gqQbjVrEQ55t",
        "outputId": "1f78ffbf-43c7-4146-81d8-bfda3922731e"
      },
      "execution_count": null,
      "outputs": [
        {
          "output_type": "stream",
          "name": "stdout",
          "text": [
            "179/179 [==============================] - 2s 8ms/step\n"
          ]
        }
      ]
    },
    {
      "cell_type": "code",
      "source": [
        "pd.set_option('display.max_rows', 500)\n",
        "pd.set_option('display.max_columns', 500)\n",
        "pd.set_option('display.width', 1000)"
      ],
      "metadata": {
        "id": "Y8aNzhk_UDTV"
      },
      "execution_count": null,
      "outputs": []
    },
    {
      "cell_type": "code",
      "source": [
        "ypreds = ypred[:,1].round().astype(int)"
      ],
      "metadata": {
        "id": "uRAb0HBfUWe8"
      },
      "execution_count": null,
      "outputs": []
    },
    {
      "cell_type": "code",
      "source": [
        "yvalids = yvalid.iloc[:,1].values"
      ],
      "metadata": {
        "id": "dE6FHYhRrrOq"
      },
      "execution_count": null,
      "outputs": []
    },
    {
      "cell_type": "code",
      "source": [
        "print(classification_report(yvalids, ypreds))"
      ],
      "metadata": {
        "colab": {
          "base_uri": "https://localhost:8080/"
        },
        "id": "SQcPX7zfsDDa",
        "outputId": "0b992745-a6b3-4d60-8ad5-b6e17441a106"
      },
      "execution_count": null,
      "outputs": [
        {
          "output_type": "stream",
          "name": "stdout",
          "text": [
            "              precision    recall  f1-score   support\n",
            "\n",
            "           0       0.72      0.76      0.74      2990\n",
            "           1       0.72      0.67      0.69      2711\n",
            "\n",
            "    accuracy                           0.72      5701\n",
            "   macro avg       0.72      0.71      0.71      5701\n",
            "weighted avg       0.72      0.72      0.71      5701\n",
            "\n"
          ]
        }
      ]
    },
    {
      "cell_type": "code",
      "source": [
        "plt.figure(figsize=(4, 3))\n",
        "sns.heatmap(confusion_matrix(ypreds, yvalids), cmap='Blues', annot=True, cbar=False)\n",
        "plt.title('Bidirectional LSTM')\n",
        "plt.show()"
      ],
      "metadata": {
        "colab": {
          "base_uri": "https://localhost:8080/",
          "height": 314
        },
        "id": "MPuSpGrDsUTb",
        "outputId": "696cf8f9-a976-4e06-b962-c3f61d0e09df"
      },
      "execution_count": null,
      "outputs": [
        {
          "output_type": "display_data",
          "data": {
            "text/plain": [
              "<Figure size 400x300 with 1 Axes>"
            ],
            "image/png": "[encoded data removed]"
          },
          "metadata": {}
        }
      ]
    },
    {
      "cell_type": "code",
      "source": [
        "print(xvalid[320])\n",
        "if ypreds[320] == 1:\n",
        "  print('Predicted : Sarcastic')\n",
        "else:\n",
        "  print('Predicted : Not Sarcastic')\n",
        "if yvalids[320] == 1:\n",
        "  print('Actual : Sarcastic')\n",
        "else:\n",
        "  print('Actual : Not Sarcastic')"
      ],
      "metadata": {
        "colab": {
          "base_uri": "https://localhost:8080/"
        },
        "id": "cFbw66fbs-J9",
        "outputId": "8419002d-1eaa-4572-f985-216acde0851e"
      },
      "execution_count": null,
      "outputs": [
        {
          "output_type": "stream",
          "name": "stdout",
          "text": [
            "mccain speechwriter trying write lines lead creepy smile\n",
            "Predicted : Sarcastic\n",
            "Actual : Sarcastic\n"
          ]
        }
      ]
    },
    {
      "cell_type": "code",
      "source": [
        "xtest_index = tokenizer.texts_to_sequences('Looks like it is going to rain today')"
      ],
      "metadata": {
        "id": "b1BOMMZ1u7pl"
      },
      "execution_count": null,
      "outputs": []
    },
    {
      "cell_type": "code",
      "source": [
        "xtest_index"
      ],
      "metadata": {
        "colab": {
          "base_uri": "https://localhost:8080/"
        },
        "id": "bfd5bPjevjbV",
        "outputId": "17a37806-bf1c-4439-e1df-39222680c165"
      },
      "execution_count": null,
      "outputs": [
        {
          "output_type": "execute_result",
          "data": {
            "text/plain": [
              "[[1564],\n",
              " [],\n",
              " [],\n",
              " [520],\n",
              " [],\n",
              " [],\n",
              " [1564],\n",
              " [],\n",
              " [520],\n",
              " [695],\n",
              " [],\n",
              " [],\n",
              " [],\n",
              " [],\n",
              " [],\n",
              " [],\n",
              " [],\n",
              " [1381],\n",
              " [],\n",
              " [],\n",
              " [738],\n",
              " [1381],\n",
              " [],\n",
              " [],\n",
              " [],\n",
              " [],\n",
              " [1180],\n",
              " [],\n",
              " [],\n",
              " [738],\n",
              " [],\n",
              " [],\n",
              " [],\n",
              " [],\n",
              " [],\n",
              " []]"
            ]
          },
          "metadata": {},
          "execution_count": 83
        }
      ]
    },
    {
      "cell_type": "code",
      "source": [
        "xtest_index = pad_sequences(xtest_index, maxlen=maxLen, padding='post')\n",
        "ypred2 = model.predict(xtest_index)\n",
        "ypreds2 = ypred2[:,1].round().astype(int)\n",
        "print(ypreds2)"
      ],
      "metadata": {
        "id": "hLFpgtCFvvkQ",
        "colab": {
          "base_uri": "https://localhost:8080/"
        },
        "outputId": "649f37e1-5bf6-4398-fc63-4d9c7a8a479c"
      },
      "execution_count": null,
      "outputs": [
        {
          "output_type": "stream",
          "name": "stdout",
          "text": [
            "2/2 [==============================] - 0s 9ms/step\n",
            "[0 0 0 0 0 0 0 0 0 0 0 0 0 0 0 0 0 0 0 0 0 0 0 0 0 0 0 0 0 0 0 0 0 0 0 0]\n"
          ]
        }
      ]
    },
    {
      "cell_type": "code",
      "source": [
        "%%shell\n",
        "jupyter nbconvert --to html '/content/NLP_Project.ipynb'"
      ],
      "metadata": {
        "colab": {
          "base_uri": "https://localhost:8080/"
        },
        "id": "D6WUPemhrOF7",
        "outputId": "68e397cf-f77b-490e-b93c-cddc554dfb44"
      },
      "execution_count": null,
      "outputs": [
        {
          "output_type": "stream",
          "name": "stdout",
          "text": [
            "[NbConvertApp] Converting notebook /content/NLP_Project.ipynb to html\n",
            "[NbConvertApp] Writing 1221300 bytes to /content/NLP_Project.html\n"
          ]
        },
        {
          "output_type": "execute_result",
          "data": {
            "text/plain": []
          },
          "metadata": {},
          "execution_count": 85
        }
      ]
    }
  ]
}