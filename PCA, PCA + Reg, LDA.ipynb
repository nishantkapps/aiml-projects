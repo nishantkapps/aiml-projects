{
 "cells": [
  {
   "cell_type": "code",
   "execution_count": 82,
   "metadata": {},
   "outputs": [],
   "source": [
    "# Walmart"
   ]
  },
  {
   "cell_type": "code",
   "execution_count": 83,
   "metadata": {},
   "outputs": [],
   "source": [
    "import pandas as pd"
   ]
  },
  {
   "cell_type": "code",
   "execution_count": 84,
   "metadata": {},
   "outputs": [],
   "source": [
    "df=pd.read_csv(\"Walmart.csv\")"
   ]
  },
  {
   "cell_type": "code",
   "execution_count": 85,
   "metadata": {},
   "outputs": [
    {
     "data": {
      "text/html": [
       "<div>\n",
       "<style scoped>\n",
       "    .dataframe tbody tr th:only-of-type {\n",
       "        vertical-align: middle;\n",
       "    }\n",
       "\n",
       "    .dataframe tbody tr th {\n",
       "        vertical-align: top;\n",
       "    }\n",
       "\n",
       "    .dataframe thead th {\n",
       "        text-align: right;\n",
       "    }\n",
       "</style>\n",
       "<table border=\"1\" class=\"dataframe\">\n",
       "  <thead>\n",
       "    <tr style=\"text-align: right;\">\n",
       "      <th></th>\n",
       "      <th>Respondent</th>\n",
       "      <th>Product_Quality</th>\n",
       "      <th>E_Commerce</th>\n",
       "      <th>Technical_Support</th>\n",
       "      <th>Complaint_Resolution</th>\n",
       "      <th>Advertising</th>\n",
       "      <th>Product_Line</th>\n",
       "      <th>Salesforce_Image</th>\n",
       "      <th>Competitive_Pricing</th>\n",
       "      <th>Warranty&amp;Claims</th>\n",
       "      <th>Packaging</th>\n",
       "      <th>Order&amp;Billing</th>\n",
       "      <th>Price_Flexibility</th>\n",
       "      <th>Delivery_Speed</th>\n",
       "    </tr>\n",
       "  </thead>\n",
       "  <tbody>\n",
       "    <tr>\n",
       "      <th>0</th>\n",
       "      <td>1</td>\n",
       "      <td>8.5</td>\n",
       "      <td>3.9</td>\n",
       "      <td>2.5</td>\n",
       "      <td>5.9</td>\n",
       "      <td>4.8</td>\n",
       "      <td>4.9</td>\n",
       "      <td>6.0</td>\n",
       "      <td>6.8</td>\n",
       "      <td>4.7</td>\n",
       "      <td>4.3</td>\n",
       "      <td>5.0</td>\n",
       "      <td>5.1</td>\n",
       "      <td>3.7</td>\n",
       "    </tr>\n",
       "    <tr>\n",
       "      <th>1</th>\n",
       "      <td>2</td>\n",
       "      <td>8.2</td>\n",
       "      <td>2.7</td>\n",
       "      <td>5.1</td>\n",
       "      <td>7.2</td>\n",
       "      <td>3.4</td>\n",
       "      <td>7.9</td>\n",
       "      <td>3.1</td>\n",
       "      <td>5.3</td>\n",
       "      <td>5.5</td>\n",
       "      <td>4.0</td>\n",
       "      <td>3.9</td>\n",
       "      <td>4.3</td>\n",
       "      <td>4.9</td>\n",
       "    </tr>\n",
       "    <tr>\n",
       "      <th>2</th>\n",
       "      <td>3</td>\n",
       "      <td>9.2</td>\n",
       "      <td>3.4</td>\n",
       "      <td>5.6</td>\n",
       "      <td>5.6</td>\n",
       "      <td>5.4</td>\n",
       "      <td>7.4</td>\n",
       "      <td>5.8</td>\n",
       "      <td>4.5</td>\n",
       "      <td>6.2</td>\n",
       "      <td>4.6</td>\n",
       "      <td>5.4</td>\n",
       "      <td>4.0</td>\n",
       "      <td>4.5</td>\n",
       "    </tr>\n",
       "    <tr>\n",
       "      <th>3</th>\n",
       "      <td>4</td>\n",
       "      <td>6.4</td>\n",
       "      <td>3.3</td>\n",
       "      <td>7.0</td>\n",
       "      <td>3.7</td>\n",
       "      <td>4.7</td>\n",
       "      <td>4.7</td>\n",
       "      <td>4.5</td>\n",
       "      <td>8.8</td>\n",
       "      <td>7.0</td>\n",
       "      <td>3.6</td>\n",
       "      <td>4.3</td>\n",
       "      <td>4.1</td>\n",
       "      <td>3.0</td>\n",
       "    </tr>\n",
       "    <tr>\n",
       "      <th>4</th>\n",
       "      <td>5</td>\n",
       "      <td>9.0</td>\n",
       "      <td>3.4</td>\n",
       "      <td>5.2</td>\n",
       "      <td>4.6</td>\n",
       "      <td>2.2</td>\n",
       "      <td>6.0</td>\n",
       "      <td>4.5</td>\n",
       "      <td>6.8</td>\n",
       "      <td>6.1</td>\n",
       "      <td>4.5</td>\n",
       "      <td>4.5</td>\n",
       "      <td>3.5</td>\n",
       "      <td>3.5</td>\n",
       "    </tr>\n",
       "  </tbody>\n",
       "</table>\n",
       "</div>"
      ],
      "text/plain": [
       "   Respondent  Product_Quality  E_Commerce  Technical_Support  \\\n",
       "0           1              8.5         3.9                2.5   \n",
       "1           2              8.2         2.7                5.1   \n",
       "2           3              9.2         3.4                5.6   \n",
       "3           4              6.4         3.3                7.0   \n",
       "4           5              9.0         3.4                5.2   \n",
       "\n",
       "   Complaint_Resolution  Advertising  Product_Line  Salesforce_Image  \\\n",
       "0                   5.9          4.8           4.9               6.0   \n",
       "1                   7.2          3.4           7.9               3.1   \n",
       "2                   5.6          5.4           7.4               5.8   \n",
       "3                   3.7          4.7           4.7               4.5   \n",
       "4                   4.6          2.2           6.0               4.5   \n",
       "\n",
       "   Competitive_Pricing  Warranty&Claims  Packaging  Order&Billing  \\\n",
       "0                  6.8              4.7        4.3            5.0   \n",
       "1                  5.3              5.5        4.0            3.9   \n",
       "2                  4.5              6.2        4.6            5.4   \n",
       "3                  8.8              7.0        3.6            4.3   \n",
       "4                  6.8              6.1        4.5            4.5   \n",
       "\n",
       "   Price_Flexibility  Delivery_Speed  \n",
       "0                5.1             3.7  \n",
       "1                4.3             4.9  \n",
       "2                4.0             4.5  \n",
       "3                4.1             3.0  \n",
       "4                3.5             3.5  "
      ]
     },
     "execution_count": 85,
     "metadata": {},
     "output_type": "execute_result"
    }
   ],
   "source": [
    "df.head()"
   ]
  },
  {
   "cell_type": "code",
   "execution_count": 86,
   "metadata": {},
   "outputs": [
    {
     "data": {
      "text/plain": [
       "(200, 14)"
      ]
     },
     "execution_count": 86,
     "metadata": {},
     "output_type": "execute_result"
    }
   ],
   "source": [
    "df.shape"
   ]
  },
  {
   "cell_type": "markdown",
   "metadata": {},
   "source": [
    "# Scaling data is mandatory if they have different scale of measurement\n",
    "### Not standadising data as they all have same scale of measurement\n"
   ]
  },
  {
   "cell_type": "code",
   "execution_count": 87,
   "metadata": {},
   "outputs": [],
   "source": [
    "x=df[['Product_Quality','Product_Line']]"
   ]
  },
  {
   "cell_type": "code",
   "execution_count": 88,
   "metadata": {},
   "outputs": [
    {
     "data": {
      "text/html": [
       "<div>\n",
       "<style scoped>\n",
       "    .dataframe tbody tr th:only-of-type {\n",
       "        vertical-align: middle;\n",
       "    }\n",
       "\n",
       "    .dataframe tbody tr th {\n",
       "        vertical-align: top;\n",
       "    }\n",
       "\n",
       "    .dataframe thead th {\n",
       "        text-align: right;\n",
       "    }\n",
       "</style>\n",
       "<table border=\"1\" class=\"dataframe\">\n",
       "  <thead>\n",
       "    <tr style=\"text-align: right;\">\n",
       "      <th></th>\n",
       "      <th>Product_Quality</th>\n",
       "      <th>Product_Line</th>\n",
       "    </tr>\n",
       "  </thead>\n",
       "  <tbody>\n",
       "    <tr>\n",
       "      <th>0</th>\n",
       "      <td>8.5</td>\n",
       "      <td>4.9</td>\n",
       "    </tr>\n",
       "    <tr>\n",
       "      <th>1</th>\n",
       "      <td>8.2</td>\n",
       "      <td>7.9</td>\n",
       "    </tr>\n",
       "    <tr>\n",
       "      <th>2</th>\n",
       "      <td>9.2</td>\n",
       "      <td>7.4</td>\n",
       "    </tr>\n",
       "    <tr>\n",
       "      <th>3</th>\n",
       "      <td>6.4</td>\n",
       "      <td>4.7</td>\n",
       "    </tr>\n",
       "    <tr>\n",
       "      <th>4</th>\n",
       "      <td>9.0</td>\n",
       "      <td>6.0</td>\n",
       "    </tr>\n",
       "    <tr>\n",
       "      <th>...</th>\n",
       "      <td>...</td>\n",
       "      <td>...</td>\n",
       "    </tr>\n",
       "    <tr>\n",
       "      <th>195</th>\n",
       "      <td>7.6</td>\n",
       "      <td>6.6</td>\n",
       "    </tr>\n",
       "    <tr>\n",
       "      <th>196</th>\n",
       "      <td>5.9</td>\n",
       "      <td>5.9</td>\n",
       "    </tr>\n",
       "    <tr>\n",
       "      <th>197</th>\n",
       "      <td>9.7</td>\n",
       "      <td>7.6</td>\n",
       "    </tr>\n",
       "    <tr>\n",
       "      <th>198</th>\n",
       "      <td>5.5</td>\n",
       "      <td>5.7</td>\n",
       "    </tr>\n",
       "    <tr>\n",
       "      <th>199</th>\n",
       "      <td>9.7</td>\n",
       "      <td>7.6</td>\n",
       "    </tr>\n",
       "  </tbody>\n",
       "</table>\n",
       "<p>200 rows × 2 columns</p>\n",
       "</div>"
      ],
      "text/plain": [
       "     Product_Quality  Product_Line\n",
       "0                8.5           4.9\n",
       "1                8.2           7.9\n",
       "2                9.2           7.4\n",
       "3                6.4           4.7\n",
       "4                9.0           6.0\n",
       "..               ...           ...\n",
       "195              7.6           6.6\n",
       "196              5.9           5.9\n",
       "197              9.7           7.6\n",
       "198              5.5           5.7\n",
       "199              9.7           7.6\n",
       "\n",
       "[200 rows x 2 columns]"
      ]
     },
     "execution_count": 88,
     "metadata": {},
     "output_type": "execute_result"
    }
   ],
   "source": [
    "x"
   ]
  },
  {
   "cell_type": "code",
   "execution_count": 89,
   "metadata": {},
   "outputs": [],
   "source": [
    "# build PCA\n",
    "from sklearn.decomposition import PCA"
   ]
  },
  {
   "cell_type": "code",
   "execution_count": 90,
   "metadata": {},
   "outputs": [
    {
     "data": {
      "text/plain": [
       "PCA()"
      ]
     },
     "execution_count": 90,
     "metadata": {},
     "output_type": "execute_result"
    }
   ],
   "source": [
    "pcaModel=PCA()\n",
    "pcaModel.fit(x)"
   ]
  },
  {
   "cell_type": "code",
   "execution_count": 91,
   "metadata": {},
   "outputs": [
    {
     "data": {
      "text/plain": [
       "array([2.75628888, 0.89199152])"
      ]
     },
     "execution_count": 91,
     "metadata": {},
     "output_type": "execute_result"
    }
   ],
   "source": [
    "# check for explained variance or eigenvalues\n",
    "pcaModel.explained_variance_"
   ]
  },
  {
   "cell_type": "code",
   "execution_count": 92,
   "metadata": {},
   "outputs": [
    {
     "data": {
      "text/plain": [
       "array([0.75550357, 0.24449643])"
      ]
     },
     "execution_count": 92,
     "metadata": {},
     "output_type": "execute_result"
    }
   ],
   "source": [
    "pcaModel.explained_variance_ratio_"
   ]
  },
  {
   "cell_type": "code",
   "execution_count": 93,
   "metadata": {},
   "outputs": [
    {
     "data": {
      "text/plain": [
       "array([75.55035742, 24.44964258])"
      ]
     },
     "execution_count": 93,
     "metadata": {},
     "output_type": "execute_result"
    }
   ],
   "source": [
    "pcaModel.explained_variance_ratio_*100"
   ]
  },
  {
   "cell_type": "code",
   "execution_count": 94,
   "metadata": {},
   "outputs": [],
   "source": [
    "import numpy as np"
   ]
  },
  {
   "cell_type": "code",
   "execution_count": 95,
   "metadata": {},
   "outputs": [
    {
     "data": {
      "text/plain": [
       "array([ 75.55035742, 100.        ])"
      ]
     },
     "execution_count": 95,
     "metadata": {},
     "output_type": "execute_result"
    }
   ],
   "source": [
    "np.cumsum(pcaModel.explained_variance_ratio_*100)"
   ]
  },
  {
   "cell_type": "code",
   "execution_count": 96,
   "metadata": {},
   "outputs": [
    {
     "data": {
      "text/plain": [
       "array([[-0.7399445 , -0.67266792],\n",
       "       [ 0.67266792, -0.7399445 ]])"
      ]
     },
     "execution_count": 96,
     "metadata": {},
     "output_type": "execute_result"
    }
   ],
   "source": [
    "pcaModel.components_"
   ]
  },
  {
   "cell_type": "code",
   "execution_count": 97,
   "metadata": {},
   "outputs": [
    {
     "data": {
      "text/plain": [
       "PCA(n_components=1)"
      ]
     },
     "execution_count": 97,
     "metadata": {},
     "output_type": "execute_result"
    }
   ],
   "source": [
    "pcaModel1=PCA(n_components=1)\n",
    "pcaModel1.fit(x)"
   ]
  },
  {
   "cell_type": "code",
   "execution_count": 98,
   "metadata": {},
   "outputs": [
    {
     "data": {
      "text/plain": [
       "array([[-0.7399445 , -0.67266792]])"
      ]
     },
     "execution_count": 98,
     "metadata": {},
     "output_type": "execute_result"
    }
   ],
   "source": [
    "pcaModel1.components_"
   ]
  },
  {
   "cell_type": "code",
   "execution_count": 99,
   "metadata": {},
   "outputs": [
    {
     "name": "stderr",
     "output_type": "stream",
     "text": [
      "/usr/local/lib/python3.7/site-packages/ipykernel_launcher.py:1: SettingWithCopyWarning: \n",
      "A value is trying to be set on a copy of a slice from a DataFrame.\n",
      "Try using .loc[row_indexer,col_indexer] = value instead\n",
      "\n",
      "See the caveats in the documentation: https://pandas.pydata.org/pandas-docs/stable/user_guide/indexing.html#returning-a-view-versus-a-copy\n",
      "  \"\"\"Entry point for launching an IPython kernel.\n"
     ]
    }
   ],
   "source": [
    "x['C1']=pcaModel1.transform(x).flatten()"
   ]
  },
  {
   "cell_type": "code",
   "execution_count": 100,
   "metadata": {},
   "outputs": [
    {
     "data": {
      "text/html": [
       "<div>\n",
       "<style scoped>\n",
       "    .dataframe tbody tr th:only-of-type {\n",
       "        vertical-align: middle;\n",
       "    }\n",
       "\n",
       "    .dataframe tbody tr th {\n",
       "        vertical-align: top;\n",
       "    }\n",
       "\n",
       "    .dataframe thead th {\n",
       "        text-align: right;\n",
       "    }\n",
       "</style>\n",
       "<table border=\"1\" class=\"dataframe\">\n",
       "  <thead>\n",
       "    <tr style=\"text-align: right;\">\n",
       "      <th></th>\n",
       "      <th>Product_Quality</th>\n",
       "      <th>Product_Line</th>\n",
       "      <th>C1</th>\n",
       "    </tr>\n",
       "  </thead>\n",
       "  <tbody>\n",
       "    <tr>\n",
       "      <th>0</th>\n",
       "      <td>8.5</td>\n",
       "      <td>4.9</td>\n",
       "      <td>0.167085</td>\n",
       "    </tr>\n",
       "    <tr>\n",
       "      <th>1</th>\n",
       "      <td>8.2</td>\n",
       "      <td>7.9</td>\n",
       "      <td>-1.628936</td>\n",
       "    </tr>\n",
       "    <tr>\n",
       "      <th>2</th>\n",
       "      <td>9.2</td>\n",
       "      <td>7.4</td>\n",
       "      <td>-2.032546</td>\n",
       "    </tr>\n",
       "    <tr>\n",
       "      <th>3</th>\n",
       "      <td>6.4</td>\n",
       "      <td>4.7</td>\n",
       "      <td>1.855502</td>\n",
       "    </tr>\n",
       "    <tr>\n",
       "      <th>4</th>\n",
       "      <td>9.0</td>\n",
       "      <td>6.0</td>\n",
       "      <td>-0.942822</td>\n",
       "    </tr>\n",
       "    <tr>\n",
       "      <th>...</th>\n",
       "      <td>...</td>\n",
       "      <td>...</td>\n",
       "      <td>...</td>\n",
       "    </tr>\n",
       "    <tr>\n",
       "      <th>195</th>\n",
       "      <td>7.6</td>\n",
       "      <td>6.6</td>\n",
       "      <td>-0.310501</td>\n",
       "    </tr>\n",
       "    <tr>\n",
       "      <th>196</th>\n",
       "      <td>5.9</td>\n",
       "      <td>5.9</td>\n",
       "      <td>1.418273</td>\n",
       "    </tr>\n",
       "    <tr>\n",
       "      <th>197</th>\n",
       "      <td>9.7</td>\n",
       "      <td>7.6</td>\n",
       "      <td>-2.537052</td>\n",
       "    </tr>\n",
       "    <tr>\n",
       "      <th>198</th>\n",
       "      <td>5.5</td>\n",
       "      <td>5.7</td>\n",
       "      <td>1.848784</td>\n",
       "    </tr>\n",
       "    <tr>\n",
       "      <th>199</th>\n",
       "      <td>9.7</td>\n",
       "      <td>7.6</td>\n",
       "      <td>-2.537052</td>\n",
       "    </tr>\n",
       "  </tbody>\n",
       "</table>\n",
       "<p>200 rows × 3 columns</p>\n",
       "</div>"
      ],
      "text/plain": [
       "     Product_Quality  Product_Line        C1\n",
       "0                8.5           4.9  0.167085\n",
       "1                8.2           7.9 -1.628936\n",
       "2                9.2           7.4 -2.032546\n",
       "3                6.4           4.7  1.855502\n",
       "4                9.0           6.0 -0.942822\n",
       "..               ...           ...       ...\n",
       "195              7.6           6.6 -0.310501\n",
       "196              5.9           5.9  1.418273\n",
       "197              9.7           7.6 -2.537052\n",
       "198              5.5           5.7  1.848784\n",
       "199              9.7           7.6 -2.537052\n",
       "\n",
       "[200 rows x 3 columns]"
      ]
     },
     "execution_count": 100,
     "metadata": {},
     "output_type": "execute_result"
    }
   ],
   "source": [
    "x"
   ]
  },
  {
   "cell_type": "code",
   "execution_count": 101,
   "metadata": {},
   "outputs": [],
   "source": [
    "# build model with all features\n",
    "x=df.iloc[:,1:]"
   ]
  },
  {
   "cell_type": "code",
   "execution_count": 102,
   "metadata": {},
   "outputs": [
    {
     "data": {
      "text/html": [
       "<div>\n",
       "<style scoped>\n",
       "    .dataframe tbody tr th:only-of-type {\n",
       "        vertical-align: middle;\n",
       "    }\n",
       "\n",
       "    .dataframe tbody tr th {\n",
       "        vertical-align: top;\n",
       "    }\n",
       "\n",
       "    .dataframe thead th {\n",
       "        text-align: right;\n",
       "    }\n",
       "</style>\n",
       "<table border=\"1\" class=\"dataframe\">\n",
       "  <thead>\n",
       "    <tr style=\"text-align: right;\">\n",
       "      <th></th>\n",
       "      <th>Product_Quality</th>\n",
       "      <th>E_Commerce</th>\n",
       "      <th>Technical_Support</th>\n",
       "      <th>Complaint_Resolution</th>\n",
       "      <th>Advertising</th>\n",
       "      <th>Product_Line</th>\n",
       "      <th>Salesforce_Image</th>\n",
       "      <th>Competitive_Pricing</th>\n",
       "      <th>Warranty&amp;Claims</th>\n",
       "      <th>Packaging</th>\n",
       "      <th>Order&amp;Billing</th>\n",
       "      <th>Price_Flexibility</th>\n",
       "      <th>Delivery_Speed</th>\n",
       "    </tr>\n",
       "  </thead>\n",
       "  <tbody>\n",
       "    <tr>\n",
       "      <th>0</th>\n",
       "      <td>8.5</td>\n",
       "      <td>3.9</td>\n",
       "      <td>2.5</td>\n",
       "      <td>5.9</td>\n",
       "      <td>4.8</td>\n",
       "      <td>4.9</td>\n",
       "      <td>6.0</td>\n",
       "      <td>6.8</td>\n",
       "      <td>4.7</td>\n",
       "      <td>4.3</td>\n",
       "      <td>5.0</td>\n",
       "      <td>5.1</td>\n",
       "      <td>3.7</td>\n",
       "    </tr>\n",
       "    <tr>\n",
       "      <th>1</th>\n",
       "      <td>8.2</td>\n",
       "      <td>2.7</td>\n",
       "      <td>5.1</td>\n",
       "      <td>7.2</td>\n",
       "      <td>3.4</td>\n",
       "      <td>7.9</td>\n",
       "      <td>3.1</td>\n",
       "      <td>5.3</td>\n",
       "      <td>5.5</td>\n",
       "      <td>4.0</td>\n",
       "      <td>3.9</td>\n",
       "      <td>4.3</td>\n",
       "      <td>4.9</td>\n",
       "    </tr>\n",
       "    <tr>\n",
       "      <th>2</th>\n",
       "      <td>9.2</td>\n",
       "      <td>3.4</td>\n",
       "      <td>5.6</td>\n",
       "      <td>5.6</td>\n",
       "      <td>5.4</td>\n",
       "      <td>7.4</td>\n",
       "      <td>5.8</td>\n",
       "      <td>4.5</td>\n",
       "      <td>6.2</td>\n",
       "      <td>4.6</td>\n",
       "      <td>5.4</td>\n",
       "      <td>4.0</td>\n",
       "      <td>4.5</td>\n",
       "    </tr>\n",
       "    <tr>\n",
       "      <th>3</th>\n",
       "      <td>6.4</td>\n",
       "      <td>3.3</td>\n",
       "      <td>7.0</td>\n",
       "      <td>3.7</td>\n",
       "      <td>4.7</td>\n",
       "      <td>4.7</td>\n",
       "      <td>4.5</td>\n",
       "      <td>8.8</td>\n",
       "      <td>7.0</td>\n",
       "      <td>3.6</td>\n",
       "      <td>4.3</td>\n",
       "      <td>4.1</td>\n",
       "      <td>3.0</td>\n",
       "    </tr>\n",
       "    <tr>\n",
       "      <th>4</th>\n",
       "      <td>9.0</td>\n",
       "      <td>3.4</td>\n",
       "      <td>5.2</td>\n",
       "      <td>4.6</td>\n",
       "      <td>2.2</td>\n",
       "      <td>6.0</td>\n",
       "      <td>4.5</td>\n",
       "      <td>6.8</td>\n",
       "      <td>6.1</td>\n",
       "      <td>4.5</td>\n",
       "      <td>4.5</td>\n",
       "      <td>3.5</td>\n",
       "      <td>3.5</td>\n",
       "    </tr>\n",
       "  </tbody>\n",
       "</table>\n",
       "</div>"
      ],
      "text/plain": [
       "   Product_Quality  E_Commerce  Technical_Support  Complaint_Resolution  \\\n",
       "0              8.5         3.9                2.5                   5.9   \n",
       "1              8.2         2.7                5.1                   7.2   \n",
       "2              9.2         3.4                5.6                   5.6   \n",
       "3              6.4         3.3                7.0                   3.7   \n",
       "4              9.0         3.4                5.2                   4.6   \n",
       "\n",
       "   Advertising  Product_Line  Salesforce_Image  Competitive_Pricing  \\\n",
       "0          4.8           4.9               6.0                  6.8   \n",
       "1          3.4           7.9               3.1                  5.3   \n",
       "2          5.4           7.4               5.8                  4.5   \n",
       "3          4.7           4.7               4.5                  8.8   \n",
       "4          2.2           6.0               4.5                  6.8   \n",
       "\n",
       "   Warranty&Claims  Packaging  Order&Billing  Price_Flexibility  \\\n",
       "0              4.7        4.3            5.0                5.1   \n",
       "1              5.5        4.0            3.9                4.3   \n",
       "2              6.2        4.6            5.4                4.0   \n",
       "3              7.0        3.6            4.3                4.1   \n",
       "4              6.1        4.5            4.5                3.5   \n",
       "\n",
       "   Delivery_Speed  \n",
       "0             3.7  \n",
       "1             4.9  \n",
       "2             4.5  \n",
       "3             3.0  \n",
       "4             3.5  "
      ]
     },
     "execution_count": 102,
     "metadata": {},
     "output_type": "execute_result"
    }
   ],
   "source": [
    "x.head()"
   ]
  },
  {
   "cell_type": "code",
   "execution_count": 103,
   "metadata": {},
   "outputs": [
    {
     "data": {
      "text/plain": [
       "(200, 13)"
      ]
     },
     "execution_count": 103,
     "metadata": {},
     "output_type": "execute_result"
    }
   ],
   "source": [
    "x.shape"
   ]
  },
  {
   "cell_type": "code",
   "execution_count": 104,
   "metadata": {},
   "outputs": [
    {
     "data": {
      "text/plain": [
       "PCA()"
      ]
     },
     "execution_count": 104,
     "metadata": {},
     "output_type": "execute_result"
    }
   ],
   "source": [
    "pcaModel=PCA()\n",
    "pcaModel.fit(x)"
   ]
  },
  {
   "cell_type": "code",
   "execution_count": 105,
   "metadata": {},
   "outputs": [
    {
     "data": {
      "text/plain": [
       "array([5.03307718, 4.17009745, 3.01231876, 2.08232407, 1.7598727 ,\n",
       "       1.21633739, 0.73686911, 0.56591811, 0.27123224, 0.18682994,\n",
       "       0.1684795 , 0.14154236, 0.00786803])"
      ]
     },
     "execution_count": 105,
     "metadata": {},
     "output_type": "execute_result"
    }
   ],
   "source": [
    "pcaModel.explained_variance_"
   ]
  },
  {
   "cell_type": "code",
   "execution_count": 106,
   "metadata": {},
   "outputs": [
    {
     "data": {
      "text/plain": [
       "array([0.26007016, 0.2154781 , 0.15565313, 0.10759826, 0.09093649,\n",
       "       0.06285083, 0.03807565, 0.02924223, 0.01401517, 0.00965391,\n",
       "       0.00870571, 0.0073138 , 0.00040656])"
      ]
     },
     "execution_count": 106,
     "metadata": {},
     "output_type": "execute_result"
    }
   ],
   "source": [
    "pcaModel.explained_variance_ratio_"
   ]
  },
  {
   "cell_type": "code",
   "execution_count": 107,
   "metadata": {},
   "outputs": [
    {
     "data": {
      "text/plain": [
       "array([26.00701604, 21.54781009, 15.56531314, 10.75982617,  9.09364906,\n",
       "        6.28508266,  3.80756465,  2.92422327,  1.40151661,  0.96539136,\n",
       "        0.87057061,  0.73138048,  0.04065587])"
      ]
     },
     "execution_count": 107,
     "metadata": {},
     "output_type": "execute_result"
    }
   ],
   "source": [
    "pcaModel.explained_variance_ratio_*100"
   ]
  },
  {
   "cell_type": "code",
   "execution_count": 108,
   "metadata": {},
   "outputs": [
    {
     "data": {
      "text/plain": [
       "array([ 26.00701604,  47.55482614,  63.12013928,  73.87996544,\n",
       "        82.9736145 ,  89.25869716,  93.06626181,  95.99048508,\n",
       "        97.39200169,  98.35739305,  99.22796366,  99.95934413,\n",
       "       100.        ])"
      ]
     },
     "execution_count": 108,
     "metadata": {},
     "output_type": "execute_result"
    }
   ],
   "source": [
    "np.cumsum(pcaModel.explained_variance_ratio_*100)"
   ]
  },
  {
   "cell_type": "code",
   "execution_count": 109,
   "metadata": {},
   "outputs": [
    {
     "data": {
      "text/plain": [
       "PCA(n_components=8)"
      ]
     },
     "execution_count": 109,
     "metadata": {},
     "output_type": "execute_result"
    }
   ],
   "source": [
    "pcaModel8=PCA(n_components=8)\n",
    "pcaModel8.fit(x)"
   ]
  },
  {
   "cell_type": "code",
   "execution_count": 110,
   "metadata": {},
   "outputs": [
    {
     "data": {
      "text/html": [
       "<div>\n",
       "<style scoped>\n",
       "    .dataframe tbody tr th:only-of-type {\n",
       "        vertical-align: middle;\n",
       "    }\n",
       "\n",
       "    .dataframe tbody tr th {\n",
       "        vertical-align: top;\n",
       "    }\n",
       "\n",
       "    .dataframe thead th {\n",
       "        text-align: right;\n",
       "    }\n",
       "</style>\n",
       "<table border=\"1\" class=\"dataframe\">\n",
       "  <thead>\n",
       "    <tr style=\"text-align: right;\">\n",
       "      <th></th>\n",
       "      <th>Product_Quality</th>\n",
       "      <th>E_Commerce</th>\n",
       "      <th>Technical_Support</th>\n",
       "      <th>Complaint_Resolution</th>\n",
       "      <th>Advertising</th>\n",
       "      <th>Product_Line</th>\n",
       "      <th>Salesforce_Image</th>\n",
       "      <th>Competitive_Pricing</th>\n",
       "      <th>Warranty&amp;Claims</th>\n",
       "      <th>Packaging</th>\n",
       "      <th>Order&amp;Billing</th>\n",
       "      <th>Price_Flexibility</th>\n",
       "      <th>Delivery_Speed</th>\n",
       "    </tr>\n",
       "  </thead>\n",
       "  <tbody>\n",
       "    <tr>\n",
       "      <th>C1</th>\n",
       "      <td>-0.430251</td>\n",
       "      <td>0.006899</td>\n",
       "      <td>-0.312715</td>\n",
       "      <td>-0.233400</td>\n",
       "      <td>-0.012857</td>\n",
       "      <td>-0.492678</td>\n",
       "      <td>0.017316</td>\n",
       "      <td>0.521613</td>\n",
       "      <td>-0.171361</td>\n",
       "      <td>-0.158096</td>\n",
       "      <td>-0.148671</td>\n",
       "      <td>0.227478</td>\n",
       "      <td>-0.138147</td>\n",
       "    </tr>\n",
       "    <tr>\n",
       "      <th>C2</th>\n",
       "      <td>0.196277</td>\n",
       "      <td>-0.200681</td>\n",
       "      <td>-0.268891</td>\n",
       "      <td>-0.404501</td>\n",
       "      <td>-0.322217</td>\n",
       "      <td>-0.092655</td>\n",
       "      <td>-0.365899</td>\n",
       "      <td>-0.298209</td>\n",
       "      <td>-0.151451</td>\n",
       "      <td>-0.047960</td>\n",
       "      <td>-0.287778</td>\n",
       "      <td>-0.412694</td>\n",
       "      <td>-0.267749</td>\n",
       "    </tr>\n",
       "    <tr>\n",
       "      <th>C3</th>\n",
       "      <td>0.099156</td>\n",
       "      <td>0.044335</td>\n",
       "      <td>-0.776101</td>\n",
       "      <td>0.198956</td>\n",
       "      <td>0.137399</td>\n",
       "      <td>0.173937</td>\n",
       "      <td>0.063635</td>\n",
       "      <td>-0.100831</td>\n",
       "      <td>-0.339734</td>\n",
       "      <td>0.341353</td>\n",
       "      <td>0.146381</td>\n",
       "      <td>0.097343</td>\n",
       "      <td>0.141752</td>\n",
       "    </tr>\n",
       "    <tr>\n",
       "      <th>C4</th>\n",
       "      <td>0.076198</td>\n",
       "      <td>0.118380</td>\n",
       "      <td>-0.213915</td>\n",
       "      <td>0.119406</td>\n",
       "      <td>0.112076</td>\n",
       "      <td>0.192348</td>\n",
       "      <td>0.132366</td>\n",
       "      <td>-0.074622</td>\n",
       "      <td>-0.114659</td>\n",
       "      <td>-0.905005</td>\n",
       "      <td>0.039584</td>\n",
       "      <td>-0.106043</td>\n",
       "      <td>0.050216</td>\n",
       "    </tr>\n",
       "    <tr>\n",
       "      <th>C5</th>\n",
       "      <td>0.211077</td>\n",
       "      <td>0.329201</td>\n",
       "      <td>0.005544</td>\n",
       "      <td>-0.365592</td>\n",
       "      <td>0.503231</td>\n",
       "      <td>-0.080994</td>\n",
       "      <td>0.516619</td>\n",
       "      <td>-0.003806</td>\n",
       "      <td>0.027400</td>\n",
       "      <td>0.142961</td>\n",
       "      <td>-0.213090</td>\n",
       "      <td>-0.290146</td>\n",
       "      <td>-0.189454</td>\n",
       "    </tr>\n",
       "    <tr>\n",
       "      <th>C6</th>\n",
       "      <td>-0.605727</td>\n",
       "      <td>-0.004132</td>\n",
       "      <td>0.021772</td>\n",
       "      <td>-0.044879</td>\n",
       "      <td>0.172338</td>\n",
       "      <td>-0.164791</td>\n",
       "      <td>0.087911</td>\n",
       "      <td>-0.739646</td>\n",
       "      <td>-0.023072</td>\n",
       "      <td>-0.016549</td>\n",
       "      <td>-0.016125</td>\n",
       "      <td>0.132980</td>\n",
       "      <td>-0.013345</td>\n",
       "    </tr>\n",
       "    <tr>\n",
       "      <th>C7</th>\n",
       "      <td>0.585560</td>\n",
       "      <td>-0.029479</td>\n",
       "      <td>0.050344</td>\n",
       "      <td>-0.007888</td>\n",
       "      <td>0.085386</td>\n",
       "      <td>-0.553143</td>\n",
       "      <td>-0.041339</td>\n",
       "      <td>-0.247509</td>\n",
       "      <td>-0.054845</td>\n",
       "      <td>-0.107283</td>\n",
       "      <td>0.113421</td>\n",
       "      <td>0.499968</td>\n",
       "      <td>-0.008766</td>\n",
       "    </tr>\n",
       "    <tr>\n",
       "      <th>C8</th>\n",
       "      <td>-0.007170</td>\n",
       "      <td>-0.386772</td>\n",
       "      <td>0.087039</td>\n",
       "      <td>-0.027190</td>\n",
       "      <td>0.734403</td>\n",
       "      <td>0.127772</td>\n",
       "      <td>-0.485203</td>\n",
       "      <td>0.108120</td>\n",
       "      <td>-0.100807</td>\n",
       "      <td>-0.031539</td>\n",
       "      <td>-0.158686</td>\n",
       "      <td>0.024758</td>\n",
       "      <td>0.047997</td>\n",
       "    </tr>\n",
       "  </tbody>\n",
       "</table>\n",
       "</div>"
      ],
      "text/plain": [
       "    Product_Quality  E_Commerce  Technical_Support  Complaint_Resolution  \\\n",
       "C1        -0.430251    0.006899          -0.312715             -0.233400   \n",
       "C2         0.196277   -0.200681          -0.268891             -0.404501   \n",
       "C3         0.099156    0.044335          -0.776101              0.198956   \n",
       "C4         0.076198    0.118380          -0.213915              0.119406   \n",
       "C5         0.211077    0.329201           0.005544             -0.365592   \n",
       "C6        -0.605727   -0.004132           0.021772             -0.044879   \n",
       "C7         0.585560   -0.029479           0.050344             -0.007888   \n",
       "C8        -0.007170   -0.386772           0.087039             -0.027190   \n",
       "\n",
       "    Advertising  Product_Line  Salesforce_Image  Competitive_Pricing  \\\n",
       "C1    -0.012857     -0.492678          0.017316             0.521613   \n",
       "C2    -0.322217     -0.092655         -0.365899            -0.298209   \n",
       "C3     0.137399      0.173937          0.063635            -0.100831   \n",
       "C4     0.112076      0.192348          0.132366            -0.074622   \n",
       "C5     0.503231     -0.080994          0.516619            -0.003806   \n",
       "C6     0.172338     -0.164791          0.087911            -0.739646   \n",
       "C7     0.085386     -0.553143         -0.041339            -0.247509   \n",
       "C8     0.734403      0.127772         -0.485203             0.108120   \n",
       "\n",
       "    Warranty&Claims  Packaging  Order&Billing  Price_Flexibility  \\\n",
       "C1        -0.171361  -0.158096      -0.148671           0.227478   \n",
       "C2        -0.151451  -0.047960      -0.287778          -0.412694   \n",
       "C3        -0.339734   0.341353       0.146381           0.097343   \n",
       "C4        -0.114659  -0.905005       0.039584          -0.106043   \n",
       "C5         0.027400   0.142961      -0.213090          -0.290146   \n",
       "C6        -0.023072  -0.016549      -0.016125           0.132980   \n",
       "C7        -0.054845  -0.107283       0.113421           0.499968   \n",
       "C8        -0.100807  -0.031539      -0.158686           0.024758   \n",
       "\n",
       "    Delivery_Speed  \n",
       "C1       -0.138147  \n",
       "C2       -0.267749  \n",
       "C3        0.141752  \n",
       "C4        0.050216  \n",
       "C5       -0.189454  \n",
       "C6       -0.013345  \n",
       "C7       -0.008766  \n",
       "C8        0.047997  "
      ]
     },
     "execution_count": 110,
     "metadata": {},
     "output_type": "execute_result"
    }
   ],
   "source": [
    "pd.DataFrame(pcaModel8.components_,columns=x.columns,index=[\"C1\",'C2','C3','C4',\"C5\",'C6','C7','C8'])"
   ]
  },
  {
   "cell_type": "code",
   "execution_count": 111,
   "metadata": {},
   "outputs": [
    {
     "data": {
      "text/html": [
       "<div>\n",
       "<style scoped>\n",
       "    .dataframe tbody tr th:only-of-type {\n",
       "        vertical-align: middle;\n",
       "    }\n",
       "\n",
       "    .dataframe tbody tr th {\n",
       "        vertical-align: top;\n",
       "    }\n",
       "\n",
       "    .dataframe thead th {\n",
       "        text-align: right;\n",
       "    }\n",
       "</style>\n",
       "<table border=\"1\" class=\"dataframe\">\n",
       "  <thead>\n",
       "    <tr style=\"text-align: right;\">\n",
       "      <th></th>\n",
       "      <th>Product_Quality</th>\n",
       "      <th>E_Commerce</th>\n",
       "      <th>Technical_Support</th>\n",
       "      <th>Complaint_Resolution</th>\n",
       "      <th>Advertising</th>\n",
       "      <th>Product_Line</th>\n",
       "      <th>Salesforce_Image</th>\n",
       "      <th>Competitive_Pricing</th>\n",
       "      <th>Warranty&amp;Claims</th>\n",
       "      <th>Packaging</th>\n",
       "      <th>Order&amp;Billing</th>\n",
       "      <th>Price_Flexibility</th>\n",
       "      <th>Delivery_Speed</th>\n",
       "    </tr>\n",
       "  </thead>\n",
       "  <tbody>\n",
       "    <tr>\n",
       "      <th>0</th>\n",
       "      <td>8.5</td>\n",
       "      <td>3.9</td>\n",
       "      <td>2.5</td>\n",
       "      <td>5.9</td>\n",
       "      <td>4.8</td>\n",
       "      <td>4.9</td>\n",
       "      <td>6.0</td>\n",
       "      <td>6.8</td>\n",
       "      <td>4.7</td>\n",
       "      <td>4.3</td>\n",
       "      <td>5.0</td>\n",
       "      <td>5.1</td>\n",
       "      <td>3.7</td>\n",
       "    </tr>\n",
       "    <tr>\n",
       "      <th>1</th>\n",
       "      <td>8.2</td>\n",
       "      <td>2.7</td>\n",
       "      <td>5.1</td>\n",
       "      <td>7.2</td>\n",
       "      <td>3.4</td>\n",
       "      <td>7.9</td>\n",
       "      <td>3.1</td>\n",
       "      <td>5.3</td>\n",
       "      <td>5.5</td>\n",
       "      <td>4.0</td>\n",
       "      <td>3.9</td>\n",
       "      <td>4.3</td>\n",
       "      <td>4.9</td>\n",
       "    </tr>\n",
       "    <tr>\n",
       "      <th>2</th>\n",
       "      <td>9.2</td>\n",
       "      <td>3.4</td>\n",
       "      <td>5.6</td>\n",
       "      <td>5.6</td>\n",
       "      <td>5.4</td>\n",
       "      <td>7.4</td>\n",
       "      <td>5.8</td>\n",
       "      <td>4.5</td>\n",
       "      <td>6.2</td>\n",
       "      <td>4.6</td>\n",
       "      <td>5.4</td>\n",
       "      <td>4.0</td>\n",
       "      <td>4.5</td>\n",
       "    </tr>\n",
       "  </tbody>\n",
       "</table>\n",
       "</div>"
      ],
      "text/plain": [
       "   Product_Quality  E_Commerce  Technical_Support  Complaint_Resolution  \\\n",
       "0              8.5         3.9                2.5                   5.9   \n",
       "1              8.2         2.7                5.1                   7.2   \n",
       "2              9.2         3.4                5.6                   5.6   \n",
       "\n",
       "   Advertising  Product_Line  Salesforce_Image  Competitive_Pricing  \\\n",
       "0          4.8           4.9               6.0                  6.8   \n",
       "1          3.4           7.9               3.1                  5.3   \n",
       "2          5.4           7.4               5.8                  4.5   \n",
       "\n",
       "   Warranty&Claims  Packaging  Order&Billing  Price_Flexibility  \\\n",
       "0              4.7        4.3            5.0                5.1   \n",
       "1              5.5        4.0            3.9                4.3   \n",
       "2              6.2        4.6            5.4                4.0   \n",
       "\n",
       "   Delivery_Speed  \n",
       "0             3.7  \n",
       "1             4.9  \n",
       "2             4.5  "
      ]
     },
     "execution_count": 111,
     "metadata": {},
     "output_type": "execute_result"
    }
   ],
   "source": [
    "x.head(3)"
   ]
  },
  {
   "cell_type": "code",
   "execution_count": 112,
   "metadata": {},
   "outputs": [
    {
     "data": {
      "text/html": [
       "<div>\n",
       "<style scoped>\n",
       "    .dataframe tbody tr th:only-of-type {\n",
       "        vertical-align: middle;\n",
       "    }\n",
       "\n",
       "    .dataframe tbody tr th {\n",
       "        vertical-align: top;\n",
       "    }\n",
       "\n",
       "    .dataframe thead th {\n",
       "        text-align: right;\n",
       "    }\n",
       "</style>\n",
       "<table border=\"1\" class=\"dataframe\">\n",
       "  <thead>\n",
       "    <tr style=\"text-align: right;\">\n",
       "      <th></th>\n",
       "      <th>C1</th>\n",
       "      <th>C2</th>\n",
       "      <th>C3</th>\n",
       "      <th>C4</th>\n",
       "      <th>C5</th>\n",
       "      <th>C6</th>\n",
       "      <th>C7</th>\n",
       "      <th>C8</th>\n",
       "    </tr>\n",
       "  </thead>\n",
       "  <tbody>\n",
       "    <tr>\n",
       "      <th>0</th>\n",
       "      <td>1.261857</td>\n",
       "      <td>0.035032</td>\n",
       "      <td>2.612028</td>\n",
       "      <td>1.666938</td>\n",
       "      <td>0.306171</td>\n",
       "      <td>0.139477</td>\n",
       "      <td>1.365607</td>\n",
       "      <td>-0.213154</td>\n",
       "    </tr>\n",
       "    <tr>\n",
       "      <th>1</th>\n",
       "      <td>-2.300377</td>\n",
       "      <td>0.892197</td>\n",
       "      <td>0.623032</td>\n",
       "      <td>1.530609</td>\n",
       "      <td>-2.834839</td>\n",
       "      <td>0.325148</td>\n",
       "      <td>-0.488818</td>\n",
       "      <td>1.185301</td>\n",
       "    </tr>\n",
       "    <tr>\n",
       "      <th>2</th>\n",
       "      <td>-3.109430</td>\n",
       "      <td>-0.222265</td>\n",
       "      <td>0.587819</td>\n",
       "      <td>1.384567</td>\n",
       "      <td>0.587419</td>\n",
       "      <td>0.970545</td>\n",
       "      <td>0.568521</td>\n",
       "      <td>0.648647</td>\n",
       "    </tr>\n",
       "    <tr>\n",
       "      <th>3</th>\n",
       "      <td>2.074414</td>\n",
       "      <td>-0.086868</td>\n",
       "      <td>-3.217971</td>\n",
       "      <td>0.226088</td>\n",
       "      <td>0.212849</td>\n",
       "      <td>-0.138574</td>\n",
       "      <td>-0.557674</td>\n",
       "      <td>1.173456</td>\n",
       "    </tr>\n",
       "    <tr>\n",
       "      <th>4</th>\n",
       "      <td>-0.565644</td>\n",
       "      <td>1.954175</td>\n",
       "      <td>-0.640682</td>\n",
       "      <td>0.432996</td>\n",
       "      <td>-0.759454</td>\n",
       "      <td>-1.043056</td>\n",
       "      <td>0.097709</td>\n",
       "      <td>-0.911400</td>\n",
       "    </tr>\n",
       "    <tr>\n",
       "      <th>...</th>\n",
       "      <td>...</td>\n",
       "      <td>...</td>\n",
       "      <td>...</td>\n",
       "      <td>...</td>\n",
       "      <td>...</td>\n",
       "      <td>...</td>\n",
       "      <td>...</td>\n",
       "      <td>...</td>\n",
       "    </tr>\n",
       "    <tr>\n",
       "      <th>195</th>\n",
       "      <td>-0.716244</td>\n",
       "      <td>1.615277</td>\n",
       "      <td>4.007326</td>\n",
       "      <td>-0.106590</td>\n",
       "      <td>0.598246</td>\n",
       "      <td>1.964789</td>\n",
       "      <td>-0.405601</td>\n",
       "      <td>0.183772</td>\n",
       "    </tr>\n",
       "    <tr>\n",
       "      <th>196</th>\n",
       "      <td>1.765342</td>\n",
       "      <td>-3.558113</td>\n",
       "      <td>3.171253</td>\n",
       "      <td>-0.800679</td>\n",
       "      <td>-2.527507</td>\n",
       "      <td>0.287694</td>\n",
       "      <td>-0.195743</td>\n",
       "      <td>-1.253719</td>\n",
       "    </tr>\n",
       "    <tr>\n",
       "      <th>197</th>\n",
       "      <td>-3.175512</td>\n",
       "      <td>-1.643683</td>\n",
       "      <td>-1.297863</td>\n",
       "      <td>0.508503</td>\n",
       "      <td>1.567962</td>\n",
       "      <td>-1.110793</td>\n",
       "      <td>-0.223519</td>\n",
       "      <td>0.335275</td>\n",
       "    </tr>\n",
       "    <tr>\n",
       "      <th>198</th>\n",
       "      <td>-0.102231</td>\n",
       "      <td>-5.255834</td>\n",
       "      <td>-0.309380</td>\n",
       "      <td>0.200532</td>\n",
       "      <td>1.219923</td>\n",
       "      <td>2.851427</td>\n",
       "      <td>0.171285</td>\n",
       "      <td>-0.526349</td>\n",
       "    </tr>\n",
       "    <tr>\n",
       "      <th>199</th>\n",
       "      <td>-1.767066</td>\n",
       "      <td>-0.688252</td>\n",
       "      <td>-1.074384</td>\n",
       "      <td>4.534409</td>\n",
       "      <td>1.159135</td>\n",
       "      <td>-1.082030</td>\n",
       "      <td>0.065181</td>\n",
       "      <td>0.257742</td>\n",
       "    </tr>\n",
       "  </tbody>\n",
       "</table>\n",
       "<p>200 rows × 8 columns</p>\n",
       "</div>"
      ],
      "text/plain": [
       "           C1        C2        C3        C4        C5        C6        C7  \\\n",
       "0    1.261857  0.035032  2.612028  1.666938  0.306171  0.139477  1.365607   \n",
       "1   -2.300377  0.892197  0.623032  1.530609 -2.834839  0.325148 -0.488818   \n",
       "2   -3.109430 -0.222265  0.587819  1.384567  0.587419  0.970545  0.568521   \n",
       "3    2.074414 -0.086868 -3.217971  0.226088  0.212849 -0.138574 -0.557674   \n",
       "4   -0.565644  1.954175 -0.640682  0.432996 -0.759454 -1.043056  0.097709   \n",
       "..        ...       ...       ...       ...       ...       ...       ...   \n",
       "195 -0.716244  1.615277  4.007326 -0.106590  0.598246  1.964789 -0.405601   \n",
       "196  1.765342 -3.558113  3.171253 -0.800679 -2.527507  0.287694 -0.195743   \n",
       "197 -3.175512 -1.643683 -1.297863  0.508503  1.567962 -1.110793 -0.223519   \n",
       "198 -0.102231 -5.255834 -0.309380  0.200532  1.219923  2.851427  0.171285   \n",
       "199 -1.767066 -0.688252 -1.074384  4.534409  1.159135 -1.082030  0.065181   \n",
       "\n",
       "           C8  \n",
       "0   -0.213154  \n",
       "1    1.185301  \n",
       "2    0.648647  \n",
       "3    1.173456  \n",
       "4   -0.911400  \n",
       "..        ...  \n",
       "195  0.183772  \n",
       "196 -1.253719  \n",
       "197  0.335275  \n",
       "198 -0.526349  \n",
       "199  0.257742  \n",
       "\n",
       "[200 rows x 8 columns]"
      ]
     },
     "execution_count": 112,
     "metadata": {},
     "output_type": "execute_result"
    }
   ],
   "source": [
    "# compressed data\n",
    "pd.DataFrame(pcaModel8.transform(x),columns=[\"C1\",'C2','C3','C4',\"C5\",'C6','C7','C8'])"
   ]
  },
  {
   "cell_type": "markdown",
   "metadata": {},
   "source": [
    "# PCA & Regression"
   ]
  },
  {
   "cell_type": "code",
   "execution_count": 113,
   "metadata": {},
   "outputs": [
    {
     "data": {
      "text/plain": [
       "(506, 13)"
      ]
     },
     "execution_count": 113,
     "metadata": {},
     "output_type": "execute_result"
    }
   ],
   "source": [
    "bt=pd.read_csv(\"boston.csv\")\n",
    "bt.shape"
   ]
  },
  {
   "cell_type": "code",
   "execution_count": 114,
   "metadata": {},
   "outputs": [],
   "source": [
    "x=bt.drop(columns=\"HOUSEPRICE\")\n",
    "y=bt.HOUSEPRICE"
   ]
  },
  {
   "cell_type": "code",
   "execution_count": 115,
   "metadata": {},
   "outputs": [],
   "source": [
    "from sklearn.model_selection import train_test_split"
   ]
  },
  {
   "cell_type": "code",
   "execution_count": 116,
   "metadata": {},
   "outputs": [],
   "source": [
    "x_train,x_test,y_train,y_test=train_test_split(x,y,random_state=8)"
   ]
  },
  {
   "cell_type": "code",
   "execution_count": 117,
   "metadata": {},
   "outputs": [],
   "source": [
    "from sklearn.preprocessing import StandardScaler"
   ]
  },
  {
   "cell_type": "code",
   "execution_count": 118,
   "metadata": {},
   "outputs": [],
   "source": [
    "st=StandardScaler()\n",
    "st.fit(x_train)\n",
    "x_train_std=st.transform(x_train)\n",
    "x_test_std=st.transform(x_test)"
   ]
  },
  {
   "cell_type": "code",
   "execution_count": 119,
   "metadata": {},
   "outputs": [
    {
     "data": {
      "text/plain": [
       "PCA()"
      ]
     },
     "execution_count": 119,
     "metadata": {},
     "output_type": "execute_result"
    }
   ],
   "source": [
    "# PCA on train data\n",
    "btPCAModel=PCA()\n",
    "btPCAModel.fit(x_train_std)"
   ]
  },
  {
   "cell_type": "code",
   "execution_count": 120,
   "metadata": {},
   "outputs": [
    {
     "data": {
      "text/plain": [
       "array([ 50.59039415,  61.76585595,  71.42944438,  78.13596652,\n",
       "        83.75615416,  88.49249556,  91.88676448,  94.2613985 ,\n",
       "        96.24031173,  97.9725462 ,  99.4135102 , 100.        ])"
      ]
     },
     "execution_count": 120,
     "metadata": {},
     "output_type": "execute_result"
    }
   ],
   "source": [
    "np.cumsum(btPCAModel.explained_variance_ratio_*100)"
   ]
  },
  {
   "cell_type": "code",
   "execution_count": 121,
   "metadata": {},
   "outputs": [],
   "source": [
    "btPCAModel7=PCA(n_components=7)\n",
    "btPCAModel7.fit(x_train_std)\n",
    "x_train_cmp=btPCAModel7.transform(x_train_std)"
   ]
  },
  {
   "cell_type": "code",
   "execution_count": 122,
   "metadata": {},
   "outputs": [],
   "source": [
    "# regression model"
   ]
  },
  {
   "cell_type": "code",
   "execution_count": 123,
   "metadata": {},
   "outputs": [],
   "source": [
    "from sklearn.linear_model import LinearRegression"
   ]
  },
  {
   "cell_type": "code",
   "execution_count": 124,
   "metadata": {},
   "outputs": [],
   "source": [
    "model=LinearRegression()"
   ]
  },
  {
   "cell_type": "code",
   "execution_count": 125,
   "metadata": {},
   "outputs": [
    {
     "data": {
      "text/plain": [
       "LinearRegression()"
      ]
     },
     "execution_count": 125,
     "metadata": {},
     "output_type": "execute_result"
    }
   ],
   "source": [
    "model.fit(x_train_cmp,y_train)"
   ]
  },
  {
   "cell_type": "code",
   "execution_count": 126,
   "metadata": {},
   "outputs": [
    {
     "data": {
      "text/plain": [
       "0.7085741517448935"
      ]
     },
     "execution_count": 126,
     "metadata": {},
     "output_type": "execute_result"
    }
   ],
   "source": [
    "model.score(x_train_cmp,y_train)"
   ]
  },
  {
   "cell_type": "code",
   "execution_count": 127,
   "metadata": {},
   "outputs": [
    {
     "data": {
      "text/plain": [
       "(127, 12)"
      ]
     },
     "execution_count": 127,
     "metadata": {},
     "output_type": "execute_result"
    }
   ],
   "source": [
    "# check the score on test dataset\n",
    "x_test_std.shape"
   ]
  },
  {
   "cell_type": "code",
   "execution_count": 128,
   "metadata": {},
   "outputs": [],
   "source": [
    "x_test_cmp=btPCAModel7.transform(x_test_std)"
   ]
  },
  {
   "cell_type": "code",
   "execution_count": 129,
   "metadata": {},
   "outputs": [
    {
     "data": {
      "text/plain": [
       "0.6672127542633564"
      ]
     },
     "execution_count": 129,
     "metadata": {},
     "output_type": "execute_result"
    }
   ],
   "source": [
    "model.score(x_test_cmp,y_test)"
   ]
  },
  {
   "cell_type": "markdown",
   "metadata": {
    "tags": []
   },
   "source": [
    "# LDA"
   ]
  },
  {
   "cell_type": "code",
   "execution_count": 130,
   "metadata": {},
   "outputs": [],
   "source": [
    "ird=pd.read_csv(\"ird.csv\")"
   ]
  },
  {
   "cell_type": "code",
   "execution_count": 131,
   "metadata": {},
   "outputs": [
    {
     "data": {
      "text/html": [
       "<div>\n",
       "<style scoped>\n",
       "    .dataframe tbody tr th:only-of-type {\n",
       "        vertical-align: middle;\n",
       "    }\n",
       "\n",
       "    .dataframe tbody tr th {\n",
       "        vertical-align: top;\n",
       "    }\n",
       "\n",
       "    .dataframe thead th {\n",
       "        text-align: right;\n",
       "    }\n",
       "</style>\n",
       "<table border=\"1\" class=\"dataframe\">\n",
       "  <thead>\n",
       "    <tr style=\"text-align: right;\">\n",
       "      <th></th>\n",
       "      <th>slno</th>\n",
       "      <th>Sepal.Length</th>\n",
       "      <th>Sepal.Width</th>\n",
       "      <th>Petal.Length</th>\n",
       "      <th>Petal.Width</th>\n",
       "      <th>Species</th>\n",
       "    </tr>\n",
       "  </thead>\n",
       "  <tbody>\n",
       "    <tr>\n",
       "      <th>0</th>\n",
       "      <td>1</td>\n",
       "      <td>5.1</td>\n",
       "      <td>3.5</td>\n",
       "      <td>1.4</td>\n",
       "      <td>0.2</td>\n",
       "      <td>0</td>\n",
       "    </tr>\n",
       "    <tr>\n",
       "      <th>1</th>\n",
       "      <td>2</td>\n",
       "      <td>4.9</td>\n",
       "      <td>3.0</td>\n",
       "      <td>1.4</td>\n",
       "      <td>0.2</td>\n",
       "      <td>0</td>\n",
       "    </tr>\n",
       "    <tr>\n",
       "      <th>2</th>\n",
       "      <td>3</td>\n",
       "      <td>4.7</td>\n",
       "      <td>3.2</td>\n",
       "      <td>1.3</td>\n",
       "      <td>0.2</td>\n",
       "      <td>0</td>\n",
       "    </tr>\n",
       "    <tr>\n",
       "      <th>3</th>\n",
       "      <td>4</td>\n",
       "      <td>4.6</td>\n",
       "      <td>3.1</td>\n",
       "      <td>1.5</td>\n",
       "      <td>0.2</td>\n",
       "      <td>0</td>\n",
       "    </tr>\n",
       "    <tr>\n",
       "      <th>4</th>\n",
       "      <td>5</td>\n",
       "      <td>5.0</td>\n",
       "      <td>3.6</td>\n",
       "      <td>1.4</td>\n",
       "      <td>0.2</td>\n",
       "      <td>0</td>\n",
       "    </tr>\n",
       "    <tr>\n",
       "      <th>...</th>\n",
       "      <td>...</td>\n",
       "      <td>...</td>\n",
       "      <td>...</td>\n",
       "      <td>...</td>\n",
       "      <td>...</td>\n",
       "      <td>...</td>\n",
       "    </tr>\n",
       "    <tr>\n",
       "      <th>145</th>\n",
       "      <td>146</td>\n",
       "      <td>6.7</td>\n",
       "      <td>3.0</td>\n",
       "      <td>5.2</td>\n",
       "      <td>2.3</td>\n",
       "      <td>2</td>\n",
       "    </tr>\n",
       "    <tr>\n",
       "      <th>146</th>\n",
       "      <td>147</td>\n",
       "      <td>6.3</td>\n",
       "      <td>2.5</td>\n",
       "      <td>5.0</td>\n",
       "      <td>1.9</td>\n",
       "      <td>2</td>\n",
       "    </tr>\n",
       "    <tr>\n",
       "      <th>147</th>\n",
       "      <td>148</td>\n",
       "      <td>6.5</td>\n",
       "      <td>3.0</td>\n",
       "      <td>5.2</td>\n",
       "      <td>2.0</td>\n",
       "      <td>2</td>\n",
       "    </tr>\n",
       "    <tr>\n",
       "      <th>148</th>\n",
       "      <td>149</td>\n",
       "      <td>6.2</td>\n",
       "      <td>3.4</td>\n",
       "      <td>5.4</td>\n",
       "      <td>2.3</td>\n",
       "      <td>2</td>\n",
       "    </tr>\n",
       "    <tr>\n",
       "      <th>149</th>\n",
       "      <td>150</td>\n",
       "      <td>5.9</td>\n",
       "      <td>3.0</td>\n",
       "      <td>5.1</td>\n",
       "      <td>1.8</td>\n",
       "      <td>2</td>\n",
       "    </tr>\n",
       "  </tbody>\n",
       "</table>\n",
       "<p>150 rows × 6 columns</p>\n",
       "</div>"
      ],
      "text/plain": [
       "     slno  Sepal.Length  Sepal.Width  Petal.Length  Petal.Width  Species\n",
       "0       1           5.1          3.5           1.4          0.2        0\n",
       "1       2           4.9          3.0           1.4          0.2        0\n",
       "2       3           4.7          3.2           1.3          0.2        0\n",
       "3       4           4.6          3.1           1.5          0.2        0\n",
       "4       5           5.0          3.6           1.4          0.2        0\n",
       "..    ...           ...          ...           ...          ...      ...\n",
       "145   146           6.7          3.0           5.2          2.3        2\n",
       "146   147           6.3          2.5           5.0          1.9        2\n",
       "147   148           6.5          3.0           5.2          2.0        2\n",
       "148   149           6.2          3.4           5.4          2.3        2\n",
       "149   150           5.9          3.0           5.1          1.8        2\n",
       "\n",
       "[150 rows x 6 columns]"
      ]
     },
     "execution_count": 131,
     "metadata": {},
     "output_type": "execute_result"
    }
   ],
   "source": [
    "ird"
   ]
  },
  {
   "cell_type": "code",
   "execution_count": 132,
   "metadata": {},
   "outputs": [],
   "source": [
    "x=ird.iloc[:,1:-1]\n",
    "y=ird.Species"
   ]
  },
  {
   "cell_type": "code",
   "execution_count": 133,
   "metadata": {},
   "outputs": [],
   "source": [
    "x_train,x_test,y_train,y_test=train_test_split(x,y,random_state=8)"
   ]
  },
  {
   "cell_type": "code",
   "execution_count": 134,
   "metadata": {},
   "outputs": [],
   "source": [
    "from sklearn.discriminant_analysis import LinearDiscriminantAnalysis"
   ]
  },
  {
   "cell_type": "code",
   "execution_count": 135,
   "metadata": {},
   "outputs": [],
   "source": [
    "lda=LinearDiscriminantAnalysis()"
   ]
  },
  {
   "cell_type": "code",
   "execution_count": 136,
   "metadata": {},
   "outputs": [
    {
     "data": {
      "text/plain": [
       "LinearDiscriminantAnalysis()"
      ]
     },
     "execution_count": 136,
     "metadata": {},
     "output_type": "execute_result"
    }
   ],
   "source": [
    "lda.fit(x_train,y_train)"
   ]
  },
  {
   "cell_type": "code",
   "execution_count": 137,
   "metadata": {},
   "outputs": [
    {
     "data": {
      "text/plain": [
       "array([0.986005, 0.013995])"
      ]
     },
     "execution_count": 137,
     "metadata": {},
     "output_type": "execute_result"
    }
   ],
   "source": [
    "lda.explained_variance_ratio_"
   ]
  },
  {
   "cell_type": "code",
   "execution_count": 141,
   "metadata": {},
   "outputs": [
    {
     "data": {
      "text/plain": [
       "0.9821428571428571"
      ]
     },
     "execution_count": 141,
     "metadata": {},
     "output_type": "execute_result"
    }
   ],
   "source": [
    "lda1.score(x_train,y_train)"
   ]
  },
  {
   "cell_type": "code",
   "execution_count": 142,
   "metadata": {},
   "outputs": [
    {
     "data": {
      "text/plain": [
       "0.9473684210526315"
      ]
     },
     "execution_count": 142,
     "metadata": {},
     "output_type": "execute_result"
    }
   ],
   "source": [
    "lda1.score(x_test,y_test)"
   ]
  },
  {
   "cell_type": "code",
   "execution_count": 153,
   "metadata": {},
   "outputs": [
    {
     "data": {
      "image/png": "[encoded data removed]",
      "text/plain": [
       "<Figure size 766.375x720 with 20 Axes>"
      ]
     },
     "metadata": {},
     "output_type": "display_data"
    }
   ],
   "source": [
    "style.use('seaborn')\n",
    "sns.pairplot(data=ird.drop(columns=\"slno\"),hue='Species',palette=['red','green','blue'])\n",
    "plt.show()"
   ]
  },
  {
   "cell_type": "code",
   "execution_count": 150,
   "metadata": {},
   "outputs": [],
   "source": [
    "c1=lda.transform(x_train)[:,0]\n",
    "c2=lda.transform(x_train)[:,1]"
   ]
  },
  {
   "cell_type": "code",
   "execution_count": 152,
   "metadata": {},
   "outputs": [
    {
     "data": {
      "image/png": "[encoded data removed]",
      "text/plain": [
       "<Figure size 1008x432 with 1 Axes>"
      ]
     },
     "metadata": {},
     "output_type": "display_data"
    }
   ],
   "source": [
    "plt.figure(figsize=(14,6))\n",
    "sns.scatterplot(x=c1,y=c2,hue=y_train,palette=['red','green','blue'])\n",
    "plt.show()"
   ]
  },
  {
   "cell_type": "code",
   "execution_count": 154,
   "metadata": {},
   "outputs": [],
   "source": [
    "x_train_cmp=lda.transform(x_train)"
   ]
  },
  {
   "cell_type": "code",
   "execution_count": 155,
   "metadata": {},
   "outputs": [],
   "source": [
    "from sklearn.linear_model import LogisticRegression"
   ]
  },
  {
   "cell_type": "code",
   "execution_count": 156,
   "metadata": {},
   "outputs": [
    {
     "data": {
      "text/plain": [
       "LogisticRegression()"
      ]
     },
     "execution_count": 156,
     "metadata": {},
     "output_type": "execute_result"
    }
   ],
   "source": [
    "lmModel=LogisticRegression()\n",
    "lmModel.fit(x_train_cmp,y_train)"
   ]
  },
  {
   "cell_type": "code",
   "execution_count": 157,
   "metadata": {},
   "outputs": [
    {
     "data": {
      "text/plain": [
       "0.9821428571428571"
      ]
     },
     "execution_count": 157,
     "metadata": {},
     "output_type": "execute_result"
    }
   ],
   "source": [
    "lmModel.score(x_train_cmp,y_train)"
   ]
  },
  {
   "cell_type": "code",
   "execution_count": 159,
   "metadata": {},
   "outputs": [],
   "source": [
    "from mlxtend.plotting import plot_decision_regions"
   ]
  },
  {
   "cell_type": "code",
   "execution_count": 161,
   "metadata": {},
   "outputs": [
    {
     "data": {
      "image/png": "[encoded data removed]",
      "text/plain": [
       "<Figure size 1008x432 with 1 Axes>"
      ]
     },
     "metadata": {},
     "output_type": "display_data"
    }
   ],
   "source": [
    "plt.figure(figsize=(14,6))\n",
    "plot_decision_regions(x_train_cmp,y_train.values,clf=lmModel)\n",
    "plt.show()"
   ]
  },
  {
   "cell_type": "code",
   "execution_count": 162,
   "metadata": {},
   "outputs": [],
   "source": [
    "# Extract 1 component"
   ]
  },
  {
   "cell_type": "code",
   "execution_count": 163,
   "metadata": {},
   "outputs": [
    {
     "data": {
      "text/plain": [
       "LinearDiscriminantAnalysis(n_components=1)"
      ]
     },
     "execution_count": 163,
     "metadata": {},
     "output_type": "execute_result"
    }
   ],
   "source": [
    "lda1=LinearDiscriminantAnalysis(n_components=1)\n",
    "lda1.fit(x_train,y_train)"
   ]
  },
  {
   "cell_type": "code",
   "execution_count": 164,
   "metadata": {},
   "outputs": [],
   "source": [
    "x_train_cmp=lda1.transform(x_train)"
   ]
  },
  {
   "cell_type": "code",
   "execution_count": 168,
   "metadata": {},
   "outputs": [],
   "source": [
    "cmp_one=x_train_cmp.flatten()"
   ]
  },
  {
   "cell_type": "code",
   "execution_count": 169,
   "metadata": {},
   "outputs": [
    {
     "data": {
      "image/png": "[encoded data removed]",
      "text/plain": [
       "<Figure size 1008x432 with 1 Axes>"
      ]
     },
     "metadata": {},
     "output_type": "display_data"
    }
   ],
   "source": [
    "plt.figure(figsize=(14,6))\n",
    "sns.scatterplot(x=cmp_one,y=y_train,hue=y_train,palette=['red','green','blue'])\n",
    "plt.show()"
   ]
  },
  {
   "cell_type": "code",
   "execution_count": null,
   "metadata": {},
   "outputs": [],
   "source": []
  },
  {
   "cell_type": "code",
   "execution_count": null,
   "metadata": {},
   "outputs": [],
   "source": []
  }
 ],
 "metadata": {
  "kernelspec": {
   "display_name": "Python 3 (ipykernel)",
   "language": "python",
   "name": "python3"
  },
  "language_info": {
   "codemirror_mode": {
    "name": "ipython",
    "version": 3
   },
   "file_extension": ".py",
   "mimetype": "text/x-python",
   "name": "python",
   "nbconvert_exporter": "python",
   "pygments_lexer": "ipython3",
   "version": "3.9.7"
  }
 },
 "nbformat": 4,
 "nbformat_minor": 4
}
