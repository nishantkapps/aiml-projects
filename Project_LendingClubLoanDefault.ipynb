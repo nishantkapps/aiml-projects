{
  "nbformat": 4,
  "nbformat_minor": 0,
  "metadata": {
    "colab": {
      "provenance": [],
      "mount_file_id": "1m2Vroy3ovGGYu_vXoa0WvTPBXLfP8FfA",
      "authorship_tag": "ABX9TyNvBETTZOQLnK6VyY0FlQVO",
      "include_colab_link": true
    },
    "kernelspec": {
      "name": "python3",
      "display_name": "Python 3"
    },
    "language_info": {
      "name": "python"
    }
  },
  "cells": [
    {
      "cell_type": "markdown",
      "metadata": {
        "id": "view-in-github",
        "colab_type": "text"
      },
      "source": [
        "<a href=\"https://colab.research.google.com/github/nishantkapps/aiml-projects/blob/main/Project_LendingClubLoanDefault.ipynb\" target=\"_parent\"><img src=\"https://colab.research.google.com/assets/colab-badge.svg\" alt=\"Open In Colab\"/></a>"
      ]
    },
    {
      "cell_type": "code",
      "execution_count": null,
      "metadata": {
        "id": "PXEmJP9L9K4q"
      },
      "outputs": [],
      "source": [
        "import tensorflow as tf\n",
        "import pandas as pd\n",
        "import os\n",
        "from keras import Sequential\n",
        "from keras.layers import Dense\n",
        "import numpy as np\n",
        "import matplotlib.pyplot as plt\n",
        "from sklearn.preprocessing import StandardScaler\n",
        "from sklearn.preprocessing import MinMaxScaler\n",
        "from sklearn.model_selection import train_test_split\n",
        "from keras.callbacks import EarlyStopping\n",
        "from sklearn.metrics import confusion_matrix, classification_report\n",
        "from sklearn.preprocessing import LabelEncoder\n",
        "import seaborn as sns\n",
        "%matplotlib inline"
      ]
    },
    {
      "cell_type": "code",
      "source": [
        "tf.random.set_seed(5)\n",
        "df = pd.read_csv('/content/drive/MyDrive/datasets/loan_data.csv')"
      ],
      "metadata": {
        "id": "Lsz5KUoK96z0"
      },
      "execution_count": null,
      "outputs": []
    },
    {
      "cell_type": "code",
      "source": [
        "df.head()"
      ],
      "metadata": {
        "colab": {
          "base_uri": "https://localhost:8080/",
          "height": 270
        },
        "id": "wq3KwdpA-QW6",
        "outputId": "839ef70e-bd0c-48d2-d08d-bfdf0d95adae"
      },
      "execution_count": null,
      "outputs": [
        {
          "output_type": "execute_result",
          "data": {
            "text/plain": [
              "   credit.policy             purpose  int.rate  installment  log.annual.inc  \\\n",
              "0              1  debt_consolidation    0.1189       829.10       11.350407   \n",
              "1              1         credit_card    0.1071       228.22       11.082143   \n",
              "2              1  debt_consolidation    0.1357       366.86       10.373491   \n",
              "3              1  debt_consolidation    0.1008       162.34       11.350407   \n",
              "4              1         credit_card    0.1426       102.92       11.299732   \n",
              "\n",
              "     dti  fico  days.with.cr.line  revol.bal  revol.util  inq.last.6mths  \\\n",
              "0  19.48   737        5639.958333      28854        52.1               0   \n",
              "1  14.29   707        2760.000000      33623        76.7               0   \n",
              "2  11.63   682        4710.000000       3511        25.6               1   \n",
              "3   8.10   712        2699.958333      33667        73.2               1   \n",
              "4  14.97   667        4066.000000       4740        39.5               0   \n",
              "\n",
              "   delinq.2yrs  pub.rec  not.fully.paid  \n",
              "0            0        0               0  \n",
              "1            0        0               0  \n",
              "2            0        0               0  \n",
              "3            0        0               0  \n",
              "4            1        0               0  "
            ],
            "text/html": [
              "\n",
              "  <div id=\"df-3c49311b-a09a-49b3-8f8f-96ff416690d9\">\n",
              "    <div class=\"colab-df-container\">\n",
              "      <div>\n",
              "<style scoped>\n",
              "    .dataframe tbody tr th:only-of-type {\n",
              "        vertical-align: middle;\n",
              "    }\n",
              "\n",
              "    .dataframe tbody tr th {\n",
              "        vertical-align: top;\n",
              "    }\n",
              "\n",
              "    .dataframe thead th {\n",
              "        text-align: right;\n",
              "    }\n",
              "</style>\n",
              "<table border=\"1\" class=\"dataframe\">\n",
              "  <thead>\n",
              "    <tr style=\"text-align: right;\">\n",
              "      <th></th>\n",
              "      <th>credit.policy</th>\n",
              "      <th>purpose</th>\n",
              "      <th>int.rate</th>\n",
              "      <th>installment</th>\n",
              "      <th>log.annual.inc</th>\n",
              "      <th>dti</th>\n",
              "      <th>fico</th>\n",
              "      <th>days.with.cr.line</th>\n",
              "      <th>revol.bal</th>\n",
              "      <th>revol.util</th>\n",
              "      <th>inq.last.6mths</th>\n",
              "      <th>delinq.2yrs</th>\n",
              "      <th>pub.rec</th>\n",
              "      <th>not.fully.paid</th>\n",
              "    </tr>\n",
              "  </thead>\n",
              "  <tbody>\n",
              "    <tr>\n",
              "      <th>0</th>\n",
              "      <td>1</td>\n",
              "      <td>debt_consolidation</td>\n",
              "      <td>0.1189</td>\n",
              "      <td>829.10</td>\n",
              "      <td>11.350407</td>\n",
              "      <td>19.48</td>\n",
              "      <td>737</td>\n",
              "      <td>5639.958333</td>\n",
              "      <td>28854</td>\n",
              "      <td>52.1</td>\n",
              "      <td>0</td>\n",
              "      <td>0</td>\n",
              "      <td>0</td>\n",
              "      <td>0</td>\n",
              "    </tr>\n",
              "    <tr>\n",
              "      <th>1</th>\n",
              "      <td>1</td>\n",
              "      <td>credit_card</td>\n",
              "      <td>0.1071</td>\n",
              "      <td>228.22</td>\n",
              "      <td>11.082143</td>\n",
              "      <td>14.29</td>\n",
              "      <td>707</td>\n",
              "      <td>2760.000000</td>\n",
              "      <td>33623</td>\n",
              "      <td>76.7</td>\n",
              "      <td>0</td>\n",
              "      <td>0</td>\n",
              "      <td>0</td>\n",
              "      <td>0</td>\n",
              "    </tr>\n",
              "    <tr>\n",
              "      <th>2</th>\n",
              "      <td>1</td>\n",
              "      <td>debt_consolidation</td>\n",
              "      <td>0.1357</td>\n",
              "      <td>366.86</td>\n",
              "      <td>10.373491</td>\n",
              "      <td>11.63</td>\n",
              "      <td>682</td>\n",
              "      <td>4710.000000</td>\n",
              "      <td>3511</td>\n",
              "      <td>25.6</td>\n",
              "      <td>1</td>\n",
              "      <td>0</td>\n",
              "      <td>0</td>\n",
              "      <td>0</td>\n",
              "    </tr>\n",
              "    <tr>\n",
              "      <th>3</th>\n",
              "      <td>1</td>\n",
              "      <td>debt_consolidation</td>\n",
              "      <td>0.1008</td>\n",
              "      <td>162.34</td>\n",
              "      <td>11.350407</td>\n",
              "      <td>8.10</td>\n",
              "      <td>712</td>\n",
              "      <td>2699.958333</td>\n",
              "      <td>33667</td>\n",
              "      <td>73.2</td>\n",
              "      <td>1</td>\n",
              "      <td>0</td>\n",
              "      <td>0</td>\n",
              "      <td>0</td>\n",
              "    </tr>\n",
              "    <tr>\n",
              "      <th>4</th>\n",
              "      <td>1</td>\n",
              "      <td>credit_card</td>\n",
              "      <td>0.1426</td>\n",
              "      <td>102.92</td>\n",
              "      <td>11.299732</td>\n",
              "      <td>14.97</td>\n",
              "      <td>667</td>\n",
              "      <td>4066.000000</td>\n",
              "      <td>4740</td>\n",
              "      <td>39.5</td>\n",
              "      <td>0</td>\n",
              "      <td>1</td>\n",
              "      <td>0</td>\n",
              "      <td>0</td>\n",
              "    </tr>\n",
              "  </tbody>\n",
              "</table>\n",
              "</div>\n",
              "      <button class=\"colab-df-convert\" onclick=\"convertToInteractive('df-3c49311b-a09a-49b3-8f8f-96ff416690d9')\"\n",
              "              title=\"Convert this dataframe to an interactive table.\"\n",
              "              style=\"display:none;\">\n",
              "        \n",
              "  <svg xmlns=\"http://www.w3.org/2000/svg\" height=\"24px\"viewBox=\"0 0 24 24\"\n",
              "       width=\"24px\">\n",
              "    <path d=\"M0 0h24v24H0V0z\" fill=\"none\"/>\n",
              "    <path d=\"M18.56 5.44l.94 2.06.94-2.06 2.06-.94-2.06-.94-.94-2.06-.94 2.06-2.06.94zm-11 1L8.5 8.5l.94-2.06 2.06-.94-2.06-.94L8.5 2.5l-.94 2.06-2.06.94zm10 10l.94 2.06.94-2.06 2.06-.94-2.06-.94-.94-2.06-.94 2.06-2.06.94z\"/><path d=\"M17.41 7.96l-1.37-1.37c-.4-.4-.92-.59-1.43-.59-.52 0-1.04.2-1.43.59L10.3 9.45l-7.72 7.72c-.78.78-.78 2.05 0 2.83L4 21.41c.39.39.9.59 1.41.59.51 0 1.02-.2 1.41-.59l7.78-7.78 2.81-2.81c.8-.78.8-2.07 0-2.86zM5.41 20L4 18.59l7.72-7.72 1.47 1.35L5.41 20z\"/>\n",
              "  </svg>\n",
              "      </button>\n",
              "      \n",
              "  <style>\n",
              "    .colab-df-container {\n",
              "      display:flex;\n",
              "      flex-wrap:wrap;\n",
              "      gap: 12px;\n",
              "    }\n",
              "\n",
              "    .colab-df-convert {\n",
              "      background-color: #E8F0FE;\n",
              "      border: none;\n",
              "      border-radius: 50%;\n",
              "      cursor: pointer;\n",
              "      display: none;\n",
              "      fill: #1967D2;\n",
              "      height: 32px;\n",
              "      padding: 0 0 0 0;\n",
              "      width: 32px;\n",
              "    }\n",
              "\n",
              "    .colab-df-convert:hover {\n",
              "      background-color: #E2EBFA;\n",
              "      box-shadow: 0px 1px 2px rgba(60, 64, 67, 0.3), 0px 1px 3px 1px rgba(60, 64, 67, 0.15);\n",
              "      fill: #174EA6;\n",
              "    }\n",
              "\n",
              "    [theme=dark] .colab-df-convert {\n",
              "      background-color: #3B4455;\n",
              "      fill: #D2E3FC;\n",
              "    }\n",
              "\n",
              "    [theme=dark] .colab-df-convert:hover {\n",
              "      background-color: #434B5C;\n",
              "      box-shadow: 0px 1px 3px 1px rgba(0, 0, 0, 0.15);\n",
              "      filter: drop-shadow(0px 1px 2px rgba(0, 0, 0, 0.3));\n",
              "      fill: #FFFFFF;\n",
              "    }\n",
              "  </style>\n",
              "\n",
              "      <script>\n",
              "        const buttonEl =\n",
              "          document.querySelector('#df-3c49311b-a09a-49b3-8f8f-96ff416690d9 button.colab-df-convert');\n",
              "        buttonEl.style.display =\n",
              "          google.colab.kernel.accessAllowed ? 'block' : 'none';\n",
              "\n",
              "        async function convertToInteractive(key) {\n",
              "          const element = document.querySelector('#df-3c49311b-a09a-49b3-8f8f-96ff416690d9');\n",
              "          const dataTable =\n",
              "            await google.colab.kernel.invokeFunction('convertToInteractive',\n",
              "                                                     [key], {});\n",
              "          if (!dataTable) return;\n",
              "\n",
              "          const docLinkHtml = 'Like what you see? Visit the ' +\n",
              "            '<a target=\"_blank\" href=https://colab.research.google.com/notebooks/data_table.ipynb>data table notebook</a>'\n",
              "            + ' to learn more about interactive tables.';\n",
              "          element.innerHTML = '';\n",
              "          dataTable['output_type'] = 'display_data';\n",
              "          await google.colab.output.renderOutput(dataTable, element);\n",
              "          const docLink = document.createElement('div');\n",
              "          docLink.innerHTML = docLinkHtml;\n",
              "          element.appendChild(docLink);\n",
              "        }\n",
              "      </script>\n",
              "    </div>\n",
              "  </div>\n",
              "  "
            ]
          },
          "metadata": {},
          "execution_count": 3
        }
      ]
    },
    {
      "cell_type": "code",
      "source": [
        "df['credit.policy'].value_counts()"
      ],
      "metadata": {
        "colab": {
          "base_uri": "https://localhost:8080/"
        },
        "id": "NwdSerqKHBsy",
        "outputId": "53fea846-df55-4f94-a3b5-55287acabb7c"
      },
      "execution_count": null,
      "outputs": [
        {
          "output_type": "execute_result",
          "data": {
            "text/plain": [
              "1    7710\n",
              "0    1868\n",
              "Name: credit.policy, dtype: int64"
            ]
          },
          "metadata": {},
          "execution_count": 4
        }
      ]
    },
    {
      "cell_type": "code",
      "source": [
        "class_weights = { 1:2, 0:8 }"
      ],
      "metadata": {
        "id": "WUaV9yKlHbZ6"
      },
      "execution_count": null,
      "outputs": []
    },
    {
      "cell_type": "code",
      "source": [
        "# Scaling & feature engineering\n",
        "plt.figure(figsize=(14,10))\n",
        "sns.heatmap(df.corr(), annot=True)"
      ],
      "metadata": {
        "colab": {
          "base_uri": "https://localhost:8080/",
          "height": 684
        },
        "id": "i344MtRUHyWa",
        "outputId": "df53ba55-37d2-4ed8-f8ef-84803a4e4660"
      },
      "execution_count": null,
      "outputs": [
        {
          "output_type": "execute_result",
          "data": {
            "text/plain": [
              "<matplotlib.axes._subplots.AxesSubplot at 0x7fd7cb9e3810>"
            ]
          },
          "metadata": {},
          "execution_count": 6
        },
        {
          "output_type": "display_data",
          "data": {
            "text/plain": [
              "<Figure size 1008x720 with 2 Axes>"
            ],
            "image/png": "[encoded data removed]"
          },
          "metadata": {
            "needs_background": "light"
          }
        }
      ]
    },
    {
      "cell_type": "markdown",
      "source": [
        "From the heatmap, the following can be deciphered\n",
        "\n",
        "\n",
        "1.   Interest rate and fico are highly correlated\n",
        "2.   fico and revol.util are highly correlated\n",
        "3.   credit.policy is highly correlated to inq.last.6months ( so, this will be the principal component\n",
        "\n",
        "For now, we will retain all the columns and proceed with scaling and building the model. We can remove fico as it is correlated with 2 of the columns as a second / improvement step\n",
        "\n",
        "\n",
        "\n"
      ],
      "metadata": {
        "id": "c5Vi4DYOIrIu"
      }
    },
    {
      "cell_type": "markdown",
      "source": [
        "### **Section 1 : Run the model without removing any columns**"
      ],
      "metadata": {
        "id": "cTqcxjQwyER6"
      }
    },
    {
      "cell_type": "code",
      "source": [
        "# Feature Transformation\n",
        "x = df.iloc[:,1:].values\n",
        "y = df.iloc[:,0].values"
      ],
      "metadata": {
        "id": "O4UduT17Jg9v"
      },
      "execution_count": null,
      "outputs": []
    },
    {
      "cell_type": "code",
      "source": [
        "# Label Encoding for \"purpose\" feature in dataset\n",
        "le = LabelEncoder()\n",
        "x[:,0]=le.fit_transform(x[:,0])"
      ],
      "metadata": {
        "id": "LzI1N22VKJHn"
      },
      "execution_count": null,
      "outputs": []
    },
    {
      "cell_type": "code",
      "source": [
        "# Scaling the dataset\n",
        "# As this is a binary classification problem, we will use StandardScaler for X variables\n",
        "ss = StandardScaler()\n",
        "xscl = ss.fit_transform(x)"
      ],
      "metadata": {
        "id": "hL65VYa5LwRO"
      },
      "execution_count": null,
      "outputs": []
    },
    {
      "cell_type": "code",
      "source": [
        "# Train test split\n",
        "x_train, x_test, y_train, y_test = train_test_split(xscl, y, random_state=23, train_size=0.8)"
      ],
      "metadata": {
        "id": "4HwwqgWtMOkI"
      },
      "execution_count": null,
      "outputs": []
    },
    {
      "cell_type": "code",
      "source": [
        "x_train.shape"
      ],
      "metadata": {
        "colab": {
          "base_uri": "https://localhost:8080/"
        },
        "id": "7rQ_Azt-Mbtd",
        "outputId": "2a9e2766-4b1f-4ae3-e68e-83f82dd86e95"
      },
      "execution_count": null,
      "outputs": [
        {
          "output_type": "execute_result",
          "data": {
            "text/plain": [
              "(7662, 13)"
            ]
          },
          "metadata": {},
          "execution_count": 11
        }
      ]
    },
    {
      "cell_type": "code",
      "source": [
        "# Model Architecture for a deep learning ( ANN model )\n",
        "mdl = tf.keras.models.Sequential()\n",
        "mdl.add(tf.keras.layers.Dense(units=7,activation=\"relu\",input_shape=(13,)))\n",
        "mdl.add(tf.keras.layers.Dense(units=7,activation=\"relu\"))\n",
        "mdl.add(tf.keras.layers.Dense(units=1,activation=\"sigmoid\"))"
      ],
      "metadata": {
        "id": "zyZ9k9f5MACc"
      },
      "execution_count": null,
      "outputs": []
    },
    {
      "cell_type": "code",
      "source": [
        "# Compile ANN model\n",
        "mdl.compile(optimizer=\"rmsprop\",loss=\"binary_crossentropy\", metrics=['accuracy'])"
      ],
      "metadata": {
        "id": "EW9qv3XZM4Xg"
      },
      "execution_count": null,
      "outputs": []
    },
    {
      "cell_type": "code",
      "source": [
        "es = tf.keras.callbacks.EarlyStopping(patience=30,)"
      ],
      "metadata": {
        "id": "VXL0vP7eNK9u"
      },
      "execution_count": null,
      "outputs": []
    },
    {
      "cell_type": "code",
      "source": [
        "# Fit the model\n",
        "mdl_history = mdl.fit(x_train, y_train, epochs=1000, callbacks=[es], class_weight=class_weights, validation_data=(x_test,y_test))"
      ],
      "metadata": {
        "id": "03XLzblxNC1G",
        "colab": {
          "base_uri": "https://localhost:8080/"
        },
        "outputId": "6b1d0f17-7dd2-4e07-d380-6b3ef7f4d429"
      },
      "execution_count": null,
      "outputs": [
        {
          "output_type": "stream",
          "name": "stdout",
          "text": [
            "Epoch 1/1000\n",
            "240/240 [==============================] - 2s 6ms/step - loss: 1.9393 - accuracy: 0.7137 - val_loss: 0.4662 - val_accuracy: 0.8142\n",
            "Epoch 2/1000\n",
            "240/240 [==============================] - 1s 4ms/step - loss: 1.4193 - accuracy: 0.7993 - val_loss: 0.3771 - val_accuracy: 0.8340\n",
            "Epoch 3/1000\n",
            "240/240 [==============================] - 1s 4ms/step - loss: 1.2336 - accuracy: 0.8188 - val_loss: 0.3393 - val_accuracy: 0.8523\n",
            "Epoch 4/1000\n",
            "240/240 [==============================] - 1s 4ms/step - loss: 1.1652 - accuracy: 0.8298 - val_loss: 0.3020 - val_accuracy: 0.8711\n",
            "Epoch 5/1000\n",
            "240/240 [==============================] - 1s 5ms/step - loss: 1.1251 - accuracy: 0.8440 - val_loss: 0.3056 - val_accuracy: 0.8737\n",
            "Epoch 6/1000\n",
            "240/240 [==============================] - 1s 5ms/step - loss: 1.0942 - accuracy: 0.8510 - val_loss: 0.2988 - val_accuracy: 0.8763\n",
            "Epoch 7/1000\n",
            "240/240 [==============================] - 2s 6ms/step - loss: 1.0628 - accuracy: 0.8579 - val_loss: 0.2774 - val_accuracy: 0.8894\n",
            "Epoch 8/1000\n",
            "240/240 [==============================] - 1s 4ms/step - loss: 1.0401 - accuracy: 0.8622 - val_loss: 0.2693 - val_accuracy: 0.8909\n",
            "Epoch 9/1000\n",
            "240/240 [==============================] - 1s 5ms/step - loss: 1.0204 - accuracy: 0.8690 - val_loss: 0.2770 - val_accuracy: 0.8862\n",
            "Epoch 10/1000\n",
            "240/240 [==============================] - 1s 5ms/step - loss: 1.0023 - accuracy: 0.8697 - val_loss: 0.2498 - val_accuracy: 0.9003\n",
            "Epoch 11/1000\n",
            "240/240 [==============================] - 1s 4ms/step - loss: 0.9803 - accuracy: 0.8773 - val_loss: 0.2559 - val_accuracy: 0.8956\n",
            "Epoch 12/1000\n",
            "240/240 [==============================] - 1s 5ms/step - loss: 0.9624 - accuracy: 0.8774 - val_loss: 0.2498 - val_accuracy: 0.8993\n",
            "Epoch 13/1000\n",
            "240/240 [==============================] - 1s 4ms/step - loss: 0.9457 - accuracy: 0.8789 - val_loss: 0.2483 - val_accuracy: 0.8987\n",
            "Epoch 14/1000\n",
            "240/240 [==============================] - 2s 7ms/step - loss: 0.9310 - accuracy: 0.8812 - val_loss: 0.2491 - val_accuracy: 0.8977\n",
            "Epoch 15/1000\n",
            "240/240 [==============================] - 1s 5ms/step - loss: 0.9229 - accuracy: 0.8814 - val_loss: 0.2551 - val_accuracy: 0.8972\n",
            "Epoch 16/1000\n",
            "240/240 [==============================] - 1s 6ms/step - loss: 0.9086 - accuracy: 0.8812 - val_loss: 0.2388 - val_accuracy: 0.9055\n",
            "Epoch 17/1000\n",
            "240/240 [==============================] - 1s 6ms/step - loss: 0.8933 - accuracy: 0.8849 - val_loss: 0.2463 - val_accuracy: 0.9014\n",
            "Epoch 18/1000\n",
            "240/240 [==============================] - 1s 4ms/step - loss: 0.8774 - accuracy: 0.8854 - val_loss: 0.2594 - val_accuracy: 0.8956\n",
            "Epoch 19/1000\n",
            "240/240 [==============================] - 1s 5ms/step - loss: 0.8653 - accuracy: 0.8854 - val_loss: 0.2289 - val_accuracy: 0.9102\n",
            "Epoch 20/1000\n",
            "240/240 [==============================] - 2s 7ms/step - loss: 0.8544 - accuracy: 0.8885 - val_loss: 0.2271 - val_accuracy: 0.9087\n",
            "Epoch 21/1000\n",
            "240/240 [==============================] - 1s 4ms/step - loss: 0.8472 - accuracy: 0.8906 - val_loss: 0.2397 - val_accuracy: 0.9066\n",
            "Epoch 22/1000\n",
            "240/240 [==============================] - 1s 3ms/step - loss: 0.8352 - accuracy: 0.8914 - val_loss: 0.2295 - val_accuracy: 0.9097\n",
            "Epoch 23/1000\n",
            "240/240 [==============================] - 1s 2ms/step - loss: 0.8276 - accuracy: 0.8948 - val_loss: 0.2299 - val_accuracy: 0.9081\n",
            "Epoch 24/1000\n",
            "240/240 [==============================] - 1s 3ms/step - loss: 0.8228 - accuracy: 0.8968 - val_loss: 0.2409 - val_accuracy: 0.9050\n",
            "Epoch 25/1000\n",
            "240/240 [==============================] - 1s 2ms/step - loss: 0.8152 - accuracy: 0.8939 - val_loss: 0.2318 - val_accuracy: 0.9113\n",
            "Epoch 26/1000\n",
            "240/240 [==============================] - 1s 2ms/step - loss: 0.8038 - accuracy: 0.8977 - val_loss: 0.2178 - val_accuracy: 0.9181\n",
            "Epoch 27/1000\n",
            "240/240 [==============================] - 1s 2ms/step - loss: 0.8013 - accuracy: 0.8981 - val_loss: 0.2194 - val_accuracy: 0.9175\n",
            "Epoch 28/1000\n",
            "240/240 [==============================] - 1s 2ms/step - loss: 0.7944 - accuracy: 0.8992 - val_loss: 0.2148 - val_accuracy: 0.9191\n",
            "Epoch 29/1000\n",
            "240/240 [==============================] - 1s 3ms/step - loss: 0.7881 - accuracy: 0.8998 - val_loss: 0.2111 - val_accuracy: 0.9212\n",
            "Epoch 30/1000\n",
            "240/240 [==============================] - 1s 2ms/step - loss: 0.7814 - accuracy: 0.9013 - val_loss: 0.2159 - val_accuracy: 0.9181\n",
            "Epoch 31/1000\n",
            "240/240 [==============================] - 1s 3ms/step - loss: 0.7784 - accuracy: 0.9035 - val_loss: 0.2160 - val_accuracy: 0.9196\n",
            "Epoch 32/1000\n",
            "240/240 [==============================] - 1s 3ms/step - loss: 0.7726 - accuracy: 0.9039 - val_loss: 0.2168 - val_accuracy: 0.9191\n",
            "Epoch 33/1000\n",
            "240/240 [==============================] - 1s 2ms/step - loss: 0.7662 - accuracy: 0.9033 - val_loss: 0.2186 - val_accuracy: 0.9186\n",
            "Epoch 34/1000\n",
            "240/240 [==============================] - 1s 2ms/step - loss: 0.7598 - accuracy: 0.9056 - val_loss: 0.2239 - val_accuracy: 0.9144\n",
            "Epoch 35/1000\n",
            "240/240 [==============================] - 1s 2ms/step - loss: 0.7471 - accuracy: 0.9045 - val_loss: 0.2073 - val_accuracy: 0.9212\n",
            "Epoch 36/1000\n",
            "240/240 [==============================] - 1s 2ms/step - loss: 0.7537 - accuracy: 0.9063 - val_loss: 0.2258 - val_accuracy: 0.9154\n",
            "Epoch 37/1000\n",
            "240/240 [==============================] - 1s 2ms/step - loss: 0.7471 - accuracy: 0.9047 - val_loss: 0.2106 - val_accuracy: 0.9233\n",
            "Epoch 38/1000\n",
            "240/240 [==============================] - 1s 3ms/step - loss: 0.7403 - accuracy: 0.9086 - val_loss: 0.2185 - val_accuracy: 0.9170\n",
            "Epoch 39/1000\n",
            "240/240 [==============================] - 1s 4ms/step - loss: 0.7326 - accuracy: 0.9060 - val_loss: 0.2181 - val_accuracy: 0.9175\n",
            "Epoch 40/1000\n",
            "240/240 [==============================] - 1s 4ms/step - loss: 0.7291 - accuracy: 0.9089 - val_loss: 0.2168 - val_accuracy: 0.9212\n",
            "Epoch 41/1000\n",
            "240/240 [==============================] - 1s 3ms/step - loss: 0.7223 - accuracy: 0.9116 - val_loss: 0.2108 - val_accuracy: 0.9228\n",
            "Epoch 42/1000\n",
            "240/240 [==============================] - 1s 2ms/step - loss: 0.7191 - accuracy: 0.9109 - val_loss: 0.2229 - val_accuracy: 0.9118\n",
            "Epoch 43/1000\n",
            "240/240 [==============================] - 1s 2ms/step - loss: 0.7158 - accuracy: 0.9106 - val_loss: 0.1973 - val_accuracy: 0.9290\n",
            "Epoch 44/1000\n",
            "240/240 [==============================] - 1s 3ms/step - loss: 0.7166 - accuracy: 0.9111 - val_loss: 0.2052 - val_accuracy: 0.9254\n",
            "Epoch 45/1000\n",
            "240/240 [==============================] - 1s 3ms/step - loss: 0.7106 - accuracy: 0.9105 - val_loss: 0.2022 - val_accuracy: 0.9243\n",
            "Epoch 46/1000\n",
            "240/240 [==============================] - 1s 3ms/step - loss: 0.7050 - accuracy: 0.9116 - val_loss: 0.2090 - val_accuracy: 0.9233\n",
            "Epoch 47/1000\n",
            "240/240 [==============================] - 1s 2ms/step - loss: 0.7035 - accuracy: 0.9101 - val_loss: 0.2099 - val_accuracy: 0.9217\n",
            "Epoch 48/1000\n",
            "240/240 [==============================] - 1s 2ms/step - loss: 0.6969 - accuracy: 0.9137 - val_loss: 0.1998 - val_accuracy: 0.9280\n",
            "Epoch 49/1000\n",
            "240/240 [==============================] - 1s 2ms/step - loss: 0.6933 - accuracy: 0.9145 - val_loss: 0.2013 - val_accuracy: 0.9280\n",
            "Epoch 50/1000\n",
            "240/240 [==============================] - 1s 3ms/step - loss: 0.6888 - accuracy: 0.9137 - val_loss: 0.2011 - val_accuracy: 0.9264\n",
            "Epoch 51/1000\n",
            "240/240 [==============================] - 1s 3ms/step - loss: 0.6834 - accuracy: 0.9154 - val_loss: 0.1969 - val_accuracy: 0.9275\n",
            "Epoch 52/1000\n",
            "240/240 [==============================] - 1s 3ms/step - loss: 0.6826 - accuracy: 0.9179 - val_loss: 0.2106 - val_accuracy: 0.9259\n",
            "Epoch 53/1000\n",
            "240/240 [==============================] - 1s 2ms/step - loss: 0.6753 - accuracy: 0.9167 - val_loss: 0.2018 - val_accuracy: 0.9259\n",
            "Epoch 54/1000\n",
            "240/240 [==============================] - 1s 3ms/step - loss: 0.6688 - accuracy: 0.9182 - val_loss: 0.1940 - val_accuracy: 0.9280\n",
            "Epoch 55/1000\n",
            "240/240 [==============================] - 1s 3ms/step - loss: 0.6633 - accuracy: 0.9196 - val_loss: 0.1861 - val_accuracy: 0.9348\n",
            "Epoch 56/1000\n",
            "240/240 [==============================] - 1s 2ms/step - loss: 0.6607 - accuracy: 0.9213 - val_loss: 0.1896 - val_accuracy: 0.9301\n",
            "Epoch 57/1000\n",
            "240/240 [==============================] - 1s 3ms/step - loss: 0.6559 - accuracy: 0.9229 - val_loss: 0.1956 - val_accuracy: 0.9269\n",
            "Epoch 58/1000\n",
            "240/240 [==============================] - 1s 2ms/step - loss: 0.6472 - accuracy: 0.9218 - val_loss: 0.2022 - val_accuracy: 0.9248\n",
            "Epoch 59/1000\n",
            "240/240 [==============================] - 1s 2ms/step - loss: 0.6424 - accuracy: 0.9243 - val_loss: 0.1883 - val_accuracy: 0.9342\n",
            "Epoch 60/1000\n",
            "240/240 [==============================] - 1s 2ms/step - loss: 0.6345 - accuracy: 0.9269 - val_loss: 0.2050 - val_accuracy: 0.9275\n",
            "Epoch 61/1000\n",
            "240/240 [==============================] - 1s 2ms/step - loss: 0.6266 - accuracy: 0.9253 - val_loss: 0.1769 - val_accuracy: 0.9379\n",
            "Epoch 62/1000\n",
            "240/240 [==============================] - 1s 2ms/step - loss: 0.6179 - accuracy: 0.9276 - val_loss: 0.1652 - val_accuracy: 0.9436\n",
            "Epoch 63/1000\n",
            "240/240 [==============================] - 1s 3ms/step - loss: 0.6157 - accuracy: 0.9299 - val_loss: 0.1842 - val_accuracy: 0.9384\n",
            "Epoch 64/1000\n",
            "240/240 [==============================] - 1s 2ms/step - loss: 0.6048 - accuracy: 0.9328 - val_loss: 0.1836 - val_accuracy: 0.9374\n",
            "Epoch 65/1000\n",
            "240/240 [==============================] - 1s 2ms/step - loss: 0.6006 - accuracy: 0.9312 - val_loss: 0.1875 - val_accuracy: 0.9332\n",
            "Epoch 66/1000\n",
            "240/240 [==============================] - 1s 3ms/step - loss: 0.5885 - accuracy: 0.9359 - val_loss: 0.1713 - val_accuracy: 0.9415\n",
            "Epoch 67/1000\n",
            "240/240 [==============================] - 1s 3ms/step - loss: 0.5846 - accuracy: 0.9355 - val_loss: 0.1819 - val_accuracy: 0.9405\n",
            "Epoch 68/1000\n",
            "240/240 [==============================] - 1s 2ms/step - loss: 0.5770 - accuracy: 0.9380 - val_loss: 0.1666 - val_accuracy: 0.9426\n",
            "Epoch 69/1000\n",
            "240/240 [==============================] - 1s 2ms/step - loss: 0.5686 - accuracy: 0.9388 - val_loss: 0.1724 - val_accuracy: 0.9426\n",
            "Epoch 70/1000\n",
            "240/240 [==============================] - 1s 3ms/step - loss: 0.5611 - accuracy: 0.9400 - val_loss: 0.1774 - val_accuracy: 0.9415\n",
            "Epoch 71/1000\n",
            "240/240 [==============================] - 1s 2ms/step - loss: 0.5548 - accuracy: 0.9393 - val_loss: 0.1658 - val_accuracy: 0.9442\n",
            "Epoch 72/1000\n",
            "240/240 [==============================] - 1s 2ms/step - loss: 0.5470 - accuracy: 0.9426 - val_loss: 0.1665 - val_accuracy: 0.9431\n",
            "Epoch 73/1000\n",
            "240/240 [==============================] - 1s 3ms/step - loss: 0.5380 - accuracy: 0.9441 - val_loss: 0.1662 - val_accuracy: 0.9452\n",
            "Epoch 74/1000\n",
            "240/240 [==============================] - 1s 2ms/step - loss: 0.5326 - accuracy: 0.9451 - val_loss: 0.1611 - val_accuracy: 0.9468\n",
            "Epoch 75/1000\n",
            "240/240 [==============================] - 1s 3ms/step - loss: 0.5246 - accuracy: 0.9468 - val_loss: 0.1672 - val_accuracy: 0.9462\n",
            "Epoch 76/1000\n",
            "240/240 [==============================] - 1s 2ms/step - loss: 0.5190 - accuracy: 0.9464 - val_loss: 0.1609 - val_accuracy: 0.9489\n",
            "Epoch 77/1000\n",
            "240/240 [==============================] - 1s 2ms/step - loss: 0.5115 - accuracy: 0.9482 - val_loss: 0.1538 - val_accuracy: 0.9509\n",
            "Epoch 78/1000\n",
            "240/240 [==============================] - 1s 2ms/step - loss: 0.5054 - accuracy: 0.9495 - val_loss: 0.1576 - val_accuracy: 0.9483\n",
            "Epoch 79/1000\n",
            "240/240 [==============================] - 1s 3ms/step - loss: 0.4956 - accuracy: 0.9499 - val_loss: 0.1434 - val_accuracy: 0.9535\n",
            "Epoch 80/1000\n",
            "240/240 [==============================] - 1s 2ms/step - loss: 0.4905 - accuracy: 0.9518 - val_loss: 0.1458 - val_accuracy: 0.9509\n",
            "Epoch 81/1000\n",
            "240/240 [==============================] - 1s 2ms/step - loss: 0.4855 - accuracy: 0.9514 - val_loss: 0.1435 - val_accuracy: 0.9530\n",
            "Epoch 82/1000\n",
            "240/240 [==============================] - 1s 3ms/step - loss: 0.4790 - accuracy: 0.9535 - val_loss: 0.1533 - val_accuracy: 0.9509\n",
            "Epoch 83/1000\n",
            "240/240 [==============================] - 1s 3ms/step - loss: 0.4718 - accuracy: 0.9537 - val_loss: 0.1427 - val_accuracy: 0.9509\n",
            "Epoch 84/1000\n",
            "240/240 [==============================] - 1s 2ms/step - loss: 0.4686 - accuracy: 0.9551 - val_loss: 0.1426 - val_accuracy: 0.9530\n",
            "Epoch 85/1000\n",
            "240/240 [==============================] - 1s 2ms/step - loss: 0.4603 - accuracy: 0.9554 - val_loss: 0.1486 - val_accuracy: 0.9515\n",
            "Epoch 86/1000\n",
            "240/240 [==============================] - 1s 2ms/step - loss: 0.4566 - accuracy: 0.9569 - val_loss: 0.1621 - val_accuracy: 0.9436\n",
            "Epoch 87/1000\n",
            "240/240 [==============================] - 1s 2ms/step - loss: 0.4529 - accuracy: 0.9585 - val_loss: 0.1465 - val_accuracy: 0.9499\n",
            "Epoch 88/1000\n",
            "240/240 [==============================] - 1s 2ms/step - loss: 0.4468 - accuracy: 0.9578 - val_loss: 0.1466 - val_accuracy: 0.9504\n",
            "Epoch 89/1000\n",
            "240/240 [==============================] - 1s 3ms/step - loss: 0.4423 - accuracy: 0.9588 - val_loss: 0.1338 - val_accuracy: 0.9567\n",
            "Epoch 90/1000\n",
            "240/240 [==============================] - 1s 2ms/step - loss: 0.4358 - accuracy: 0.9593 - val_loss: 0.1457 - val_accuracy: 0.9499\n",
            "Epoch 91/1000\n",
            "240/240 [==============================] - 1s 2ms/step - loss: 0.4328 - accuracy: 0.9584 - val_loss: 0.1304 - val_accuracy: 0.9603\n",
            "Epoch 92/1000\n",
            "240/240 [==============================] - 1s 2ms/step - loss: 0.4263 - accuracy: 0.9589 - val_loss: 0.1286 - val_accuracy: 0.9582\n",
            "Epoch 93/1000\n",
            "240/240 [==============================] - 1s 3ms/step - loss: 0.4214 - accuracy: 0.9605 - val_loss: 0.1204 - val_accuracy: 0.9598\n",
            "Epoch 94/1000\n",
            "240/240 [==============================] - 1s 3ms/step - loss: 0.4170 - accuracy: 0.9608 - val_loss: 0.1405 - val_accuracy: 0.9520\n",
            "Epoch 95/1000\n",
            "240/240 [==============================] - 1s 3ms/step - loss: 0.4100 - accuracy: 0.9637 - val_loss: 0.1333 - val_accuracy: 0.9520\n",
            "Epoch 96/1000\n",
            "240/240 [==============================] - 1s 2ms/step - loss: 0.4090 - accuracy: 0.9608 - val_loss: 0.1306 - val_accuracy: 0.9567\n",
            "Epoch 97/1000\n",
            "240/240 [==============================] - 1s 3ms/step - loss: 0.4012 - accuracy: 0.9622 - val_loss: 0.1311 - val_accuracy: 0.9541\n",
            "Epoch 98/1000\n",
            "240/240 [==============================] - 1s 2ms/step - loss: 0.3991 - accuracy: 0.9622 - val_loss: 0.1262 - val_accuracy: 0.9603\n",
            "Epoch 99/1000\n",
            "240/240 [==============================] - 1s 3ms/step - loss: 0.3966 - accuracy: 0.9644 - val_loss: 0.1281 - val_accuracy: 0.9567\n",
            "Epoch 100/1000\n",
            "240/240 [==============================] - 1s 2ms/step - loss: 0.3891 - accuracy: 0.9650 - val_loss: 0.1280 - val_accuracy: 0.9556\n",
            "Epoch 101/1000\n",
            "240/240 [==============================] - 1s 2ms/step - loss: 0.3854 - accuracy: 0.9632 - val_loss: 0.1224 - val_accuracy: 0.9609\n",
            "Epoch 102/1000\n",
            "240/240 [==============================] - 1s 2ms/step - loss: 0.3811 - accuracy: 0.9652 - val_loss: 0.1206 - val_accuracy: 0.9619\n",
            "Epoch 103/1000\n",
            "240/240 [==============================] - 1s 2ms/step - loss: 0.3772 - accuracy: 0.9667 - val_loss: 0.1127 - val_accuracy: 0.9656\n",
            "Epoch 104/1000\n",
            "240/240 [==============================] - 1s 3ms/step - loss: 0.3737 - accuracy: 0.9657 - val_loss: 0.1275 - val_accuracy: 0.9572\n",
            "Epoch 105/1000\n",
            "240/240 [==============================] - 1s 2ms/step - loss: 0.3710 - accuracy: 0.9657 - val_loss: 0.1229 - val_accuracy: 0.9603\n",
            "Epoch 106/1000\n",
            "240/240 [==============================] - 1s 3ms/step - loss: 0.3703 - accuracy: 0.9653 - val_loss: 0.1201 - val_accuracy: 0.9603\n",
            "Epoch 107/1000\n",
            "240/240 [==============================] - 1s 3ms/step - loss: 0.3639 - accuracy: 0.9668 - val_loss: 0.1154 - val_accuracy: 0.9614\n",
            "Epoch 108/1000\n",
            "240/240 [==============================] - 1s 2ms/step - loss: 0.3618 - accuracy: 0.9682 - val_loss: 0.1145 - val_accuracy: 0.9635\n",
            "Epoch 109/1000\n",
            "240/240 [==============================] - 1s 3ms/step - loss: 0.3589 - accuracy: 0.9682 - val_loss: 0.1143 - val_accuracy: 0.9645\n",
            "Epoch 110/1000\n",
            "240/240 [==============================] - 1s 3ms/step - loss: 0.3575 - accuracy: 0.9689 - val_loss: 0.1132 - val_accuracy: 0.9671\n",
            "Epoch 111/1000\n",
            "240/240 [==============================] - 1s 2ms/step - loss: 0.3521 - accuracy: 0.9691 - val_loss: 0.1096 - val_accuracy: 0.9671\n",
            "Epoch 112/1000\n",
            "240/240 [==============================] - 1s 3ms/step - loss: 0.3552 - accuracy: 0.9683 - val_loss: 0.1168 - val_accuracy: 0.9635\n",
            "Epoch 113/1000\n",
            "240/240 [==============================] - 1s 2ms/step - loss: 0.3481 - accuracy: 0.9702 - val_loss: 0.1179 - val_accuracy: 0.9629\n",
            "Epoch 114/1000\n",
            "240/240 [==============================] - 1s 2ms/step - loss: 0.3464 - accuracy: 0.9693 - val_loss: 0.1090 - val_accuracy: 0.9671\n",
            "Epoch 115/1000\n",
            "240/240 [==============================] - 1s 2ms/step - loss: 0.3417 - accuracy: 0.9691 - val_loss: 0.1192 - val_accuracy: 0.9593\n",
            "Epoch 116/1000\n",
            "240/240 [==============================] - 1s 2ms/step - loss: 0.3403 - accuracy: 0.9687 - val_loss: 0.1061 - val_accuracy: 0.9687\n",
            "Epoch 117/1000\n",
            "240/240 [==============================] - 1s 3ms/step - loss: 0.3393 - accuracy: 0.9709 - val_loss: 0.1147 - val_accuracy: 0.9624\n",
            "Epoch 118/1000\n",
            "240/240 [==============================] - 1s 2ms/step - loss: 0.3364 - accuracy: 0.9705 - val_loss: 0.1144 - val_accuracy: 0.9624\n",
            "Epoch 119/1000\n",
            "240/240 [==============================] - 1s 3ms/step - loss: 0.3353 - accuracy: 0.9725 - val_loss: 0.1139 - val_accuracy: 0.9650\n",
            "Epoch 120/1000\n",
            "240/240 [==============================] - 1s 2ms/step - loss: 0.3305 - accuracy: 0.9702 - val_loss: 0.1049 - val_accuracy: 0.9729\n",
            "Epoch 121/1000\n",
            "240/240 [==============================] - 1s 2ms/step - loss: 0.3319 - accuracy: 0.9721 - val_loss: 0.1107 - val_accuracy: 0.9687\n",
            "Epoch 122/1000\n",
            "240/240 [==============================] - 1s 2ms/step - loss: 0.3306 - accuracy: 0.9710 - val_loss: 0.1094 - val_accuracy: 0.9682\n",
            "Epoch 123/1000\n",
            "240/240 [==============================] - 1s 3ms/step - loss: 0.3295 - accuracy: 0.9714 - val_loss: 0.1084 - val_accuracy: 0.9682\n",
            "Epoch 124/1000\n",
            "240/240 [==============================] - 1s 2ms/step - loss: 0.3265 - accuracy: 0.9719 - val_loss: 0.1060 - val_accuracy: 0.9703\n",
            "Epoch 125/1000\n",
            "240/240 [==============================] - 1s 2ms/step - loss: 0.3285 - accuracy: 0.9717 - val_loss: 0.1132 - val_accuracy: 0.9656\n",
            "Epoch 126/1000\n",
            "240/240 [==============================] - 1s 3ms/step - loss: 0.3247 - accuracy: 0.9725 - val_loss: 0.1136 - val_accuracy: 0.9635\n",
            "Epoch 127/1000\n",
            "240/240 [==============================] - 1s 2ms/step - loss: 0.3218 - accuracy: 0.9736 - val_loss: 0.1042 - val_accuracy: 0.9718\n",
            "Epoch 128/1000\n",
            "240/240 [==============================] - 1s 2ms/step - loss: 0.3177 - accuracy: 0.9726 - val_loss: 0.1040 - val_accuracy: 0.9734\n",
            "Epoch 129/1000\n",
            "240/240 [==============================] - 1s 3ms/step - loss: 0.3173 - accuracy: 0.9734 - val_loss: 0.1049 - val_accuracy: 0.9687\n",
            "Epoch 130/1000\n",
            "240/240 [==============================] - 1s 3ms/step - loss: 0.3181 - accuracy: 0.9730 - val_loss: 0.1075 - val_accuracy: 0.9676\n",
            "Epoch 131/1000\n",
            "240/240 [==============================] - 1s 2ms/step - loss: 0.3181 - accuracy: 0.9735 - val_loss: 0.1101 - val_accuracy: 0.9692\n",
            "Epoch 132/1000\n",
            "240/240 [==============================] - 1s 2ms/step - loss: 0.3135 - accuracy: 0.9727 - val_loss: 0.1004 - val_accuracy: 0.9723\n",
            "Epoch 133/1000\n",
            "240/240 [==============================] - 1s 2ms/step - loss: 0.3122 - accuracy: 0.9729 - val_loss: 0.0999 - val_accuracy: 0.9734\n",
            "Epoch 134/1000\n",
            "240/240 [==============================] - 1s 3ms/step - loss: 0.3113 - accuracy: 0.9749 - val_loss: 0.1134 - val_accuracy: 0.9676\n",
            "Epoch 135/1000\n",
            "240/240 [==============================] - 1s 3ms/step - loss: 0.3133 - accuracy: 0.9740 - val_loss: 0.1040 - val_accuracy: 0.9708\n",
            "Epoch 136/1000\n",
            "240/240 [==============================] - 1s 2ms/step - loss: 0.3114 - accuracy: 0.9735 - val_loss: 0.1075 - val_accuracy: 0.9703\n",
            "Epoch 137/1000\n",
            "240/240 [==============================] - 1s 3ms/step - loss: 0.3085 - accuracy: 0.9740 - val_loss: 0.1082 - val_accuracy: 0.9682\n",
            "Epoch 138/1000\n",
            "240/240 [==============================] - 1s 2ms/step - loss: 0.3097 - accuracy: 0.9727 - val_loss: 0.1087 - val_accuracy: 0.9692\n",
            "Epoch 139/1000\n",
            "240/240 [==============================] - 1s 2ms/step - loss: 0.3116 - accuracy: 0.9736 - val_loss: 0.1100 - val_accuracy: 0.9687\n",
            "Epoch 140/1000\n",
            "240/240 [==============================] - 1s 3ms/step - loss: 0.3118 - accuracy: 0.9739 - val_loss: 0.1083 - val_accuracy: 0.9687\n",
            "Epoch 141/1000\n",
            "240/240 [==============================] - 1s 3ms/step - loss: 0.3051 - accuracy: 0.9743 - val_loss: 0.1053 - val_accuracy: 0.9703\n",
            "Epoch 142/1000\n",
            "240/240 [==============================] - 1s 3ms/step - loss: 0.3023 - accuracy: 0.9734 - val_loss: 0.0954 - val_accuracy: 0.9755\n",
            "Epoch 143/1000\n",
            "240/240 [==============================] - 1s 3ms/step - loss: 0.3096 - accuracy: 0.9738 - val_loss: 0.1046 - val_accuracy: 0.9697\n",
            "Epoch 144/1000\n",
            "240/240 [==============================] - 1s 2ms/step - loss: 0.3016 - accuracy: 0.9744 - val_loss: 0.1069 - val_accuracy: 0.9687\n",
            "Epoch 145/1000\n",
            "240/240 [==============================] - 1s 2ms/step - loss: 0.3061 - accuracy: 0.9738 - val_loss: 0.1028 - val_accuracy: 0.9718\n",
            "Epoch 146/1000\n",
            "240/240 [==============================] - 1s 2ms/step - loss: 0.3031 - accuracy: 0.9743 - val_loss: 0.1068 - val_accuracy: 0.9676\n",
            "Epoch 147/1000\n",
            "240/240 [==============================] - 1s 3ms/step - loss: 0.3049 - accuracy: 0.9752 - val_loss: 0.1136 - val_accuracy: 0.9687\n",
            "Epoch 148/1000\n",
            "240/240 [==============================] - 1s 2ms/step - loss: 0.3046 - accuracy: 0.9748 - val_loss: 0.1104 - val_accuracy: 0.9676\n",
            "Epoch 149/1000\n",
            "240/240 [==============================] - 1s 3ms/step - loss: 0.2997 - accuracy: 0.9752 - val_loss: 0.1155 - val_accuracy: 0.9682\n",
            "Epoch 150/1000\n",
            "240/240 [==============================] - 1s 4ms/step - loss: 0.2974 - accuracy: 0.9749 - val_loss: 0.1099 - val_accuracy: 0.9682\n",
            "Epoch 151/1000\n",
            "240/240 [==============================] - 1s 4ms/step - loss: 0.2986 - accuracy: 0.9765 - val_loss: 0.1150 - val_accuracy: 0.9676\n",
            "Epoch 152/1000\n",
            "240/240 [==============================] - 1s 4ms/step - loss: 0.2992 - accuracy: 0.9752 - val_loss: 0.1047 - val_accuracy: 0.9703\n",
            "Epoch 153/1000\n",
            "240/240 [==============================] - 1s 3ms/step - loss: 0.2968 - accuracy: 0.9756 - val_loss: 0.1076 - val_accuracy: 0.9687\n",
            "Epoch 154/1000\n",
            "240/240 [==============================] - 1s 5ms/step - loss: 0.2990 - accuracy: 0.9760 - val_loss: 0.1022 - val_accuracy: 0.9723\n",
            "Epoch 155/1000\n",
            "240/240 [==============================] - 1s 3ms/step - loss: 0.2955 - accuracy: 0.9752 - val_loss: 0.1024 - val_accuracy: 0.9749\n",
            "Epoch 156/1000\n",
            "240/240 [==============================] - 1s 4ms/step - loss: 0.2991 - accuracy: 0.9755 - val_loss: 0.1190 - val_accuracy: 0.9687\n",
            "Epoch 157/1000\n",
            "240/240 [==============================] - 1s 5ms/step - loss: 0.2966 - accuracy: 0.9756 - val_loss: 0.1086 - val_accuracy: 0.9697\n",
            "Epoch 158/1000\n",
            "240/240 [==============================] - 1s 3ms/step - loss: 0.2961 - accuracy: 0.9757 - val_loss: 0.1096 - val_accuracy: 0.9718\n",
            "Epoch 159/1000\n",
            "240/240 [==============================] - 1s 3ms/step - loss: 0.2965 - accuracy: 0.9761 - val_loss: 0.0981 - val_accuracy: 0.9718\n",
            "Epoch 160/1000\n",
            "240/240 [==============================] - 1s 2ms/step - loss: 0.2957 - accuracy: 0.9774 - val_loss: 0.1106 - val_accuracy: 0.9713\n",
            "Epoch 161/1000\n",
            "240/240 [==============================] - 1s 2ms/step - loss: 0.2933 - accuracy: 0.9772 - val_loss: 0.1087 - val_accuracy: 0.9713\n",
            "Epoch 162/1000\n",
            "240/240 [==============================] - 1s 2ms/step - loss: 0.2934 - accuracy: 0.9772 - val_loss: 0.1053 - val_accuracy: 0.9744\n",
            "Epoch 163/1000\n",
            "240/240 [==============================] - 1s 3ms/step - loss: 0.2915 - accuracy: 0.9761 - val_loss: 0.1077 - val_accuracy: 0.9723\n",
            "Epoch 164/1000\n",
            "240/240 [==============================] - 1s 3ms/step - loss: 0.2896 - accuracy: 0.9769 - val_loss: 0.1047 - val_accuracy: 0.9723\n",
            "Epoch 165/1000\n",
            "240/240 [==============================] - 1s 2ms/step - loss: 0.2918 - accuracy: 0.9761 - val_loss: 0.1091 - val_accuracy: 0.9708\n",
            "Epoch 166/1000\n",
            "240/240 [==============================] - 1s 3ms/step - loss: 0.2886 - accuracy: 0.9773 - val_loss: 0.1067 - val_accuracy: 0.9729\n",
            "Epoch 167/1000\n",
            "240/240 [==============================] - 1s 3ms/step - loss: 0.2898 - accuracy: 0.9785 - val_loss: 0.0958 - val_accuracy: 0.9739\n",
            "Epoch 168/1000\n",
            "240/240 [==============================] - 1s 2ms/step - loss: 0.2893 - accuracy: 0.9762 - val_loss: 0.0980 - val_accuracy: 0.9723\n",
            "Epoch 169/1000\n",
            "240/240 [==============================] - 1s 2ms/step - loss: 0.2849 - accuracy: 0.9778 - val_loss: 0.1073 - val_accuracy: 0.9723\n",
            "Epoch 170/1000\n",
            "240/240 [==============================] - 1s 3ms/step - loss: 0.2879 - accuracy: 0.9777 - val_loss: 0.1055 - val_accuracy: 0.9729\n",
            "Epoch 171/1000\n",
            "240/240 [==============================] - 1s 3ms/step - loss: 0.2877 - accuracy: 0.9770 - val_loss: 0.1025 - val_accuracy: 0.9749\n",
            "Epoch 172/1000\n",
            "240/240 [==============================] - 1s 3ms/step - loss: 0.2885 - accuracy: 0.9777 - val_loss: 0.1027 - val_accuracy: 0.9734\n"
          ]
        }
      ]
    },
    {
      "cell_type": "code",
      "source": [
        "plt.plot(mdl_history.history['accuracy'])\n",
        "plt.plot(mdl_history.history['val_accuracy'])\n",
        "plt.legend('train', 'test')"
      ],
      "metadata": {
        "id": "sO1xYEA-OEpz",
        "colab": {
          "base_uri": "https://localhost:8080/",
          "height": 560
        },
        "outputId": "76fcc4d0-9a3d-4643-eb7b-7c5660e8cff2"
      },
      "execution_count": null,
      "outputs": [
        {
          "output_type": "stream",
          "name": "stderr",
          "text": [
            "/usr/local/lib/python3.7/dist-packages/ipykernel_launcher.py:3: UserWarning: Legend does not support 't' instances.\n",
            "A proxy artist may be used instead.\n",
            "See: http://matplotlib.org/users/legend_guide.html#creating-artists-specifically-for-adding-to-the-legend-aka-proxy-artists\n",
            "  This is separate from the ipykernel package so we can avoid doing imports until\n",
            "/usr/local/lib/python3.7/dist-packages/ipykernel_launcher.py:3: UserWarning: Legend does not support 'r' instances.\n",
            "A proxy artist may be used instead.\n",
            "See: http://matplotlib.org/users/legend_guide.html#creating-artists-specifically-for-adding-to-the-legend-aka-proxy-artists\n",
            "  This is separate from the ipykernel package so we can avoid doing imports until\n",
            "/usr/local/lib/python3.7/dist-packages/ipykernel_launcher.py:3: UserWarning: Legend does not support 'a' instances.\n",
            "A proxy artist may be used instead.\n",
            "See: http://matplotlib.org/users/legend_guide.html#creating-artists-specifically-for-adding-to-the-legend-aka-proxy-artists\n",
            "  This is separate from the ipykernel package so we can avoid doing imports until\n",
            "/usr/local/lib/python3.7/dist-packages/ipykernel_launcher.py:3: UserWarning: Legend does not support 'i' instances.\n",
            "A proxy artist may be used instead.\n",
            "See: http://matplotlib.org/users/legend_guide.html#creating-artists-specifically-for-adding-to-the-legend-aka-proxy-artists\n",
            "  This is separate from the ipykernel package so we can avoid doing imports until\n"
          ]
        },
        {
          "output_type": "execute_result",
          "data": {
            "text/plain": [
              "<matplotlib.legend.Legend at 0x7fd74d1db4d0>"
            ]
          },
          "metadata": {},
          "execution_count": 16
        },
        {
          "output_type": "display_data",
          "data": {
            "text/plain": [
              "<Figure size 432x288 with 1 Axes>"
            ],
            "image/png": "[encoded data removed]"
          },
          "metadata": {
            "needs_background": "light"
          }
        }
      ]
    },
    {
      "cell_type": "code",
      "source": [
        "y_pred = mdl.predict(x_test)"
      ],
      "metadata": {
        "id": "3a4la5OiUPV6"
      },
      "execution_count": null,
      "outputs": []
    },
    {
      "cell_type": "code",
      "source": [
        "y_pred = (y_pred>0.5).astype(int)"
      ],
      "metadata": {
        "id": "jGwuUGAxVIJp"
      },
      "execution_count": null,
      "outputs": []
    },
    {
      "cell_type": "code",
      "source": [
        "print(confusion_matrix(y_test,y_pred))"
      ],
      "metadata": {
        "colab": {
          "base_uri": "https://localhost:8080/"
        },
        "id": "Z0WwJiJNVY0C",
        "outputId": "c8a05cb9-cc66-4456-f9c6-ba24a306b030"
      },
      "execution_count": null,
      "outputs": [
        {
          "output_type": "stream",
          "name": "stdout",
          "text": [
            "[[ 369   19]\n",
            " [  32 1496]]\n"
          ]
        }
      ]
    },
    {
      "cell_type": "code",
      "source": [
        "print(classification_report(y_test, y_pred))"
      ],
      "metadata": {
        "colab": {
          "base_uri": "https://localhost:8080/"
        },
        "id": "KEmJlj4ZVjvI",
        "outputId": "20e0cdf6-c8cc-4f4f-bfc1-408881a18e57"
      },
      "execution_count": null,
      "outputs": [
        {
          "output_type": "stream",
          "name": "stdout",
          "text": [
            "              precision    recall  f1-score   support\n",
            "\n",
            "           0       0.92      0.95      0.94       388\n",
            "           1       0.99      0.98      0.98      1528\n",
            "\n",
            "    accuracy                           0.97      1916\n",
            "   macro avg       0.95      0.97      0.96      1916\n",
            "weighted avg       0.97      0.97      0.97      1916\n",
            "\n"
          ]
        }
      ]
    },
    {
      "cell_type": "markdown",
      "source": [
        "### **Section 2 : Run the model after removing \"fico\" column from the data given that it is highly correlated**"
      ],
      "metadata": {
        "id": "YWcYAUcMuaYI"
      }
    },
    {
      "cell_type": "code",
      "source": [
        "df.columns"
      ],
      "metadata": {
        "colab": {
          "base_uri": "https://localhost:8080/"
        },
        "id": "zrt4R-6nusa_",
        "outputId": "7d4904cf-4664-4335-b9a9-c142e4bebfd7"
      },
      "execution_count": null,
      "outputs": [
        {
          "output_type": "execute_result",
          "data": {
            "text/plain": [
              "Index(['credit.policy', 'purpose', 'int.rate', 'installment', 'log.annual.inc',\n",
              "       'dti', 'fico', 'days.with.cr.line', 'revol.bal', 'revol.util',\n",
              "       'inq.last.6mths', 'delinq.2yrs', 'pub.rec', 'not.fully.paid'],\n",
              "      dtype='object')"
            ]
          },
          "metadata": {},
          "execution_count": 21
        }
      ]
    },
    {
      "cell_type": "code",
      "source": [
        "df.drop(columns='fico',inplace=True)"
      ],
      "metadata": {
        "id": "-46XUa33vFgN"
      },
      "execution_count": null,
      "outputs": []
    },
    {
      "cell_type": "code",
      "source": [
        "# Feature Transformation\n",
        "x2 = df.iloc[:,1:].values\n",
        "y2 = df.iloc[:,0].values"
      ],
      "metadata": {
        "id": "kNXzk4OBvUYx"
      },
      "execution_count": null,
      "outputs": []
    },
    {
      "cell_type": "code",
      "source": [
        "# Label Encoding for \"purpose\" feature in dataset\n",
        "le = LabelEncoder()\n",
        "x2[:,0]=le.fit_transform(x2[:,0])"
      ],
      "metadata": {
        "id": "rF8NeoSHvUYx"
      },
      "execution_count": null,
      "outputs": []
    },
    {
      "cell_type": "code",
      "source": [
        "# Scaling the dataset\n",
        "# As this is a binary classification problem, we will use StandardScaler for X variables\n",
        "ss = StandardScaler()\n",
        "xscl2 = ss.fit_transform(x2)"
      ],
      "metadata": {
        "id": "OG-7yXeWvUYx"
      },
      "execution_count": null,
      "outputs": []
    },
    {
      "cell_type": "code",
      "source": [
        "# Train test split\n",
        "x_train2, x_test2, y_train, y_test = train_test_split(xscl2, y, random_state=23, train_size=0.8)"
      ],
      "metadata": {
        "id": "bGyyDlTevUYx"
      },
      "execution_count": null,
      "outputs": []
    },
    {
      "cell_type": "code",
      "source": [
        "x_train2.shape"
      ],
      "metadata": {
        "colab": {
          "base_uri": "https://localhost:8080/"
        },
        "outputId": "fedf7faf-a33f-46ce-b131-5330ae368c67",
        "id": "EmBj0528vUYx"
      },
      "execution_count": null,
      "outputs": [
        {
          "output_type": "execute_result",
          "data": {
            "text/plain": [
              "(7662, 12)"
            ]
          },
          "metadata": {},
          "execution_count": 27
        }
      ]
    },
    {
      "cell_type": "code",
      "source": [
        "x_test2.shape"
      ],
      "metadata": {
        "colab": {
          "base_uri": "https://localhost:8080/"
        },
        "id": "BuP3plCQxCJl",
        "outputId": "3e71cbfd-41a6-4c65-dac8-3313be1488fb"
      },
      "execution_count": null,
      "outputs": [
        {
          "output_type": "execute_result",
          "data": {
            "text/plain": [
              "(1916, 12)"
            ]
          },
          "metadata": {},
          "execution_count": 28
        }
      ]
    },
    {
      "cell_type": "code",
      "source": [
        "# Model Architecture for a deep learning ( ANN model )\n",
        "mdl2 = tf.keras.models.Sequential()\n",
        "mdl2.add(tf.keras.layers.Dense(units=7,activation=\"relu\",input_shape=(12,)))\n",
        "mdl2.add(tf.keras.layers.Dense(units=7,activation=\"relu\"))\n",
        "mdl2.add(tf.keras.layers.Dense(units=1,activation=\"sigmoid\"))"
      ],
      "metadata": {
        "id": "9uzFIZNbwHiN"
      },
      "execution_count": null,
      "outputs": []
    },
    {
      "cell_type": "code",
      "source": [
        "# Compile ANN model\n",
        "mdl2.compile(optimizer=\"rmsprop\",loss=\"binary_crossentropy\", metrics=['accuracy'])"
      ],
      "metadata": {
        "id": "22mj7bJZwHmO"
      },
      "execution_count": null,
      "outputs": []
    },
    {
      "cell_type": "code",
      "source": [
        "es2 = tf.keras.callbacks.EarlyStopping(patience=30,)"
      ],
      "metadata": {
        "id": "tiXG8nOiwHpE"
      },
      "execution_count": null,
      "outputs": []
    },
    {
      "cell_type": "code",
      "source": [
        "# Fit the model\n",
        "mdl_history2 = mdl2.fit(x_train2, y_train, epochs=1000, callbacks=[es2], class_weight=class_weights, validation_data=(x_test2,y_test))"
      ],
      "metadata": {
        "colab": {
          "base_uri": "https://localhost:8080/"
        },
        "id": "l3EecSnfvouf",
        "outputId": "18565116-0f15-41e6-c107-040b971bfbda"
      },
      "execution_count": null,
      "outputs": [
        {
          "output_type": "stream",
          "name": "stdout",
          "text": [
            "Epoch 1/1000\n",
            "240/240 [==============================] - 1s 3ms/step - loss: 2.0600 - accuracy: 0.5429 - val_loss: 0.6397 - val_accuracy: 0.6926\n",
            "Epoch 2/1000\n",
            "240/240 [==============================] - 1s 2ms/step - loss: 1.6297 - accuracy: 0.7539 - val_loss: 0.4680 - val_accuracy: 0.8340\n",
            "Epoch 3/1000\n",
            "240/240 [==============================] - 1s 3ms/step - loss: 1.3317 - accuracy: 0.8237 - val_loss: 0.3844 - val_accuracy: 0.8497\n",
            "Epoch 4/1000\n",
            "240/240 [==============================] - 1s 3ms/step - loss: 1.2344 - accuracy: 0.8369 - val_loss: 0.3449 - val_accuracy: 0.8648\n",
            "Epoch 5/1000\n",
            "240/240 [==============================] - 1s 2ms/step - loss: 1.1936 - accuracy: 0.8422 - val_loss: 0.3385 - val_accuracy: 0.8622\n",
            "Epoch 6/1000\n",
            "240/240 [==============================] - 1s 3ms/step - loss: 1.1717 - accuracy: 0.8469 - val_loss: 0.3398 - val_accuracy: 0.8554\n",
            "Epoch 7/1000\n",
            "240/240 [==============================] - 1s 2ms/step - loss: 1.1514 - accuracy: 0.8457 - val_loss: 0.3239 - val_accuracy: 0.8612\n",
            "Epoch 8/1000\n",
            "240/240 [==============================] - 1s 2ms/step - loss: 1.1366 - accuracy: 0.8485 - val_loss: 0.3220 - val_accuracy: 0.8596\n",
            "Epoch 9/1000\n",
            "240/240 [==============================] - 1s 2ms/step - loss: 1.1246 - accuracy: 0.8508 - val_loss: 0.3302 - val_accuracy: 0.8575\n",
            "Epoch 10/1000\n",
            "240/240 [==============================] - 1s 2ms/step - loss: 1.1142 - accuracy: 0.8483 - val_loss: 0.3113 - val_accuracy: 0.8685\n",
            "Epoch 11/1000\n",
            "240/240 [==============================] - 1s 3ms/step - loss: 1.1037 - accuracy: 0.8528 - val_loss: 0.3123 - val_accuracy: 0.8680\n",
            "Epoch 12/1000\n",
            "240/240 [==============================] - 1s 3ms/step - loss: 1.0966 - accuracy: 0.8504 - val_loss: 0.3173 - val_accuracy: 0.8659\n",
            "Epoch 13/1000\n",
            "240/240 [==============================] - 1s 3ms/step - loss: 1.0879 - accuracy: 0.8500 - val_loss: 0.3110 - val_accuracy: 0.8700\n",
            "Epoch 14/1000\n",
            "240/240 [==============================] - 1s 2ms/step - loss: 1.0797 - accuracy: 0.8534 - val_loss: 0.3147 - val_accuracy: 0.8695\n",
            "Epoch 15/1000\n",
            "240/240 [==============================] - 1s 3ms/step - loss: 1.0738 - accuracy: 0.8541 - val_loss: 0.3211 - val_accuracy: 0.8690\n",
            "Epoch 16/1000\n",
            "240/240 [==============================] - 1s 2ms/step - loss: 1.0664 - accuracy: 0.8549 - val_loss: 0.3086 - val_accuracy: 0.8784\n",
            "Epoch 17/1000\n",
            "240/240 [==============================] - 1s 2ms/step - loss: 1.0582 - accuracy: 0.8532 - val_loss: 0.3183 - val_accuracy: 0.8737\n",
            "Epoch 18/1000\n",
            "240/240 [==============================] - 1s 2ms/step - loss: 1.0488 - accuracy: 0.8546 - val_loss: 0.3160 - val_accuracy: 0.8753\n",
            "Epoch 19/1000\n",
            "240/240 [==============================] - 1s 2ms/step - loss: 1.0443 - accuracy: 0.8545 - val_loss: 0.2917 - val_accuracy: 0.8873\n",
            "Epoch 20/1000\n",
            "240/240 [==============================] - 1s 2ms/step - loss: 1.0382 - accuracy: 0.8590 - val_loss: 0.2954 - val_accuracy: 0.8873\n",
            "Epoch 21/1000\n",
            "240/240 [==============================] - 1s 2ms/step - loss: 1.0338 - accuracy: 0.8609 - val_loss: 0.3040 - val_accuracy: 0.8815\n",
            "Epoch 22/1000\n",
            "240/240 [==============================] - 1s 2ms/step - loss: 1.0260 - accuracy: 0.8598 - val_loss: 0.3069 - val_accuracy: 0.8805\n",
            "Epoch 23/1000\n",
            "240/240 [==============================] - 1s 3ms/step - loss: 1.0205 - accuracy: 0.8583 - val_loss: 0.2970 - val_accuracy: 0.8820\n",
            "Epoch 24/1000\n",
            "240/240 [==============================] - 1s 2ms/step - loss: 1.0178 - accuracy: 0.8619 - val_loss: 0.3132 - val_accuracy: 0.8753\n",
            "Epoch 25/1000\n",
            "240/240 [==============================] - 1s 2ms/step - loss: 1.0139 - accuracy: 0.8635 - val_loss: 0.3055 - val_accuracy: 0.8794\n",
            "Epoch 26/1000\n",
            "240/240 [==============================] - 1s 2ms/step - loss: 1.0074 - accuracy: 0.8617 - val_loss: 0.2869 - val_accuracy: 0.8873\n",
            "Epoch 27/1000\n",
            "240/240 [==============================] - 1s 2ms/step - loss: 1.0023 - accuracy: 0.8645 - val_loss: 0.2860 - val_accuracy: 0.8847\n",
            "Epoch 28/1000\n",
            "240/240 [==============================] - 1s 2ms/step - loss: 0.9990 - accuracy: 0.8670 - val_loss: 0.2875 - val_accuracy: 0.8862\n",
            "Epoch 29/1000\n",
            "240/240 [==============================] - 1s 2ms/step - loss: 0.9956 - accuracy: 0.8645 - val_loss: 0.2874 - val_accuracy: 0.8852\n",
            "Epoch 30/1000\n",
            "240/240 [==============================] - 1s 2ms/step - loss: 0.9895 - accuracy: 0.8637 - val_loss: 0.2877 - val_accuracy: 0.8857\n",
            "Epoch 31/1000\n",
            "240/240 [==============================] - 1s 3ms/step - loss: 0.9889 - accuracy: 0.8667 - val_loss: 0.2910 - val_accuracy: 0.8836\n",
            "Epoch 32/1000\n",
            "240/240 [==============================] - 1s 2ms/step - loss: 0.9845 - accuracy: 0.8658 - val_loss: 0.2857 - val_accuracy: 0.8867\n",
            "Epoch 33/1000\n",
            "240/240 [==============================] - 1s 2ms/step - loss: 0.9820 - accuracy: 0.8712 - val_loss: 0.3004 - val_accuracy: 0.8794\n",
            "Epoch 34/1000\n",
            "240/240 [==============================] - 1s 3ms/step - loss: 0.9776 - accuracy: 0.8704 - val_loss: 0.3073 - val_accuracy: 0.8779\n",
            "Epoch 35/1000\n",
            "240/240 [==============================] - 1s 3ms/step - loss: 0.9715 - accuracy: 0.8694 - val_loss: 0.2840 - val_accuracy: 0.8883\n",
            "Epoch 36/1000\n",
            "240/240 [==============================] - 1s 2ms/step - loss: 0.9744 - accuracy: 0.8716 - val_loss: 0.2955 - val_accuracy: 0.8831\n",
            "Epoch 37/1000\n",
            "240/240 [==============================] - 1s 3ms/step - loss: 0.9699 - accuracy: 0.8720 - val_loss: 0.2893 - val_accuracy: 0.8867\n",
            "Epoch 38/1000\n",
            "240/240 [==============================] - 1s 3ms/step - loss: 0.9665 - accuracy: 0.8744 - val_loss: 0.2920 - val_accuracy: 0.8878\n",
            "Epoch 39/1000\n",
            "240/240 [==============================] - 1s 3ms/step - loss: 0.9633 - accuracy: 0.8731 - val_loss: 0.2995 - val_accuracy: 0.8826\n",
            "Epoch 40/1000\n",
            "240/240 [==============================] - 1s 2ms/step - loss: 0.9618 - accuracy: 0.8722 - val_loss: 0.2841 - val_accuracy: 0.8878\n",
            "Epoch 41/1000\n",
            "240/240 [==============================] - 1s 3ms/step - loss: 0.9576 - accuracy: 0.8739 - val_loss: 0.2880 - val_accuracy: 0.8873\n",
            "Epoch 42/1000\n",
            "240/240 [==============================] - 1s 2ms/step - loss: 0.9564 - accuracy: 0.8771 - val_loss: 0.2987 - val_accuracy: 0.8805\n",
            "Epoch 43/1000\n",
            "240/240 [==============================] - 1s 2ms/step - loss: 0.9542 - accuracy: 0.8714 - val_loss: 0.2720 - val_accuracy: 0.8899\n",
            "Epoch 44/1000\n",
            "240/240 [==============================] - 1s 2ms/step - loss: 0.9538 - accuracy: 0.8760 - val_loss: 0.2807 - val_accuracy: 0.8920\n",
            "Epoch 45/1000\n",
            "240/240 [==============================] - 1s 3ms/step - loss: 0.9525 - accuracy: 0.8761 - val_loss: 0.2722 - val_accuracy: 0.8920\n",
            "Epoch 46/1000\n",
            "240/240 [==============================] - 1s 3ms/step - loss: 0.9495 - accuracy: 0.8777 - val_loss: 0.2848 - val_accuracy: 0.8894\n",
            "Epoch 47/1000\n",
            "240/240 [==============================] - 1s 3ms/step - loss: 0.9488 - accuracy: 0.8768 - val_loss: 0.2843 - val_accuracy: 0.8888\n",
            "Epoch 48/1000\n",
            "240/240 [==============================] - 1s 3ms/step - loss: 0.9444 - accuracy: 0.8773 - val_loss: 0.2825 - val_accuracy: 0.8904\n",
            "Epoch 49/1000\n",
            "240/240 [==============================] - 1s 3ms/step - loss: 0.9454 - accuracy: 0.8747 - val_loss: 0.2747 - val_accuracy: 0.8935\n",
            "Epoch 50/1000\n",
            "240/240 [==============================] - 1s 3ms/step - loss: 0.9444 - accuracy: 0.8785 - val_loss: 0.2839 - val_accuracy: 0.8899\n",
            "Epoch 51/1000\n",
            "240/240 [==============================] - 1s 3ms/step - loss: 0.9432 - accuracy: 0.8797 - val_loss: 0.2786 - val_accuracy: 0.8883\n",
            "Epoch 52/1000\n",
            "240/240 [==============================] - 1s 3ms/step - loss: 0.9444 - accuracy: 0.8761 - val_loss: 0.2845 - val_accuracy: 0.8878\n",
            "Epoch 53/1000\n",
            "240/240 [==============================] - 1s 2ms/step - loss: 0.9417 - accuracy: 0.8771 - val_loss: 0.2739 - val_accuracy: 0.8946\n",
            "Epoch 54/1000\n",
            "240/240 [==============================] - 1s 2ms/step - loss: 0.9413 - accuracy: 0.8801 - val_loss: 0.2856 - val_accuracy: 0.8904\n",
            "Epoch 55/1000\n",
            "240/240 [==============================] - 1s 2ms/step - loss: 0.9401 - accuracy: 0.8808 - val_loss: 0.2696 - val_accuracy: 0.8956\n",
            "Epoch 56/1000\n",
            "240/240 [==============================] - 1s 3ms/step - loss: 0.9390 - accuracy: 0.8784 - val_loss: 0.2781 - val_accuracy: 0.8920\n",
            "Epoch 57/1000\n",
            "240/240 [==============================] - 1s 3ms/step - loss: 0.9390 - accuracy: 0.8790 - val_loss: 0.2710 - val_accuracy: 0.8977\n",
            "Epoch 58/1000\n",
            "240/240 [==============================] - 1s 3ms/step - loss: 0.9351 - accuracy: 0.8791 - val_loss: 0.3058 - val_accuracy: 0.8732\n",
            "Epoch 59/1000\n",
            "240/240 [==============================] - 1s 3ms/step - loss: 0.9378 - accuracy: 0.8772 - val_loss: 0.2847 - val_accuracy: 0.8857\n",
            "Epoch 60/1000\n",
            "240/240 [==============================] - 1s 3ms/step - loss: 0.9344 - accuracy: 0.8782 - val_loss: 0.3003 - val_accuracy: 0.8784\n",
            "Epoch 61/1000\n",
            "240/240 [==============================] - 1s 3ms/step - loss: 0.9343 - accuracy: 0.8755 - val_loss: 0.2666 - val_accuracy: 0.8972\n",
            "Epoch 62/1000\n",
            "240/240 [==============================] - 1s 2ms/step - loss: 0.9316 - accuracy: 0.8803 - val_loss: 0.2507 - val_accuracy: 0.9003\n",
            "Epoch 63/1000\n",
            "240/240 [==============================] - 1s 2ms/step - loss: 0.9353 - accuracy: 0.8823 - val_loss: 0.2770 - val_accuracy: 0.8894\n",
            "Epoch 64/1000\n",
            "240/240 [==============================] - 1s 2ms/step - loss: 0.9301 - accuracy: 0.8812 - val_loss: 0.2795 - val_accuracy: 0.8894\n",
            "Epoch 65/1000\n",
            "240/240 [==============================] - 1s 2ms/step - loss: 0.9312 - accuracy: 0.8804 - val_loss: 0.2823 - val_accuracy: 0.8914\n",
            "Epoch 66/1000\n",
            "240/240 [==============================] - 1s 2ms/step - loss: 0.9293 - accuracy: 0.8808 - val_loss: 0.2730 - val_accuracy: 0.8935\n",
            "Epoch 67/1000\n",
            "240/240 [==============================] - 1s 2ms/step - loss: 0.9300 - accuracy: 0.8765 - val_loss: 0.2856 - val_accuracy: 0.8867\n",
            "Epoch 68/1000\n",
            "240/240 [==============================] - 1s 3ms/step - loss: 0.9288 - accuracy: 0.8777 - val_loss: 0.2713 - val_accuracy: 0.8951\n",
            "Epoch 69/1000\n",
            "240/240 [==============================] - 1s 2ms/step - loss: 0.9293 - accuracy: 0.8776 - val_loss: 0.2719 - val_accuracy: 0.8946\n",
            "Epoch 70/1000\n",
            "240/240 [==============================] - 1s 3ms/step - loss: 0.9282 - accuracy: 0.8802 - val_loss: 0.2819 - val_accuracy: 0.8909\n",
            "Epoch 71/1000\n",
            "240/240 [==============================] - 1s 2ms/step - loss: 0.9254 - accuracy: 0.8786 - val_loss: 0.2715 - val_accuracy: 0.8967\n",
            "Epoch 72/1000\n",
            "240/240 [==============================] - 1s 2ms/step - loss: 0.9250 - accuracy: 0.8797 - val_loss: 0.2834 - val_accuracy: 0.8852\n",
            "Epoch 73/1000\n",
            "240/240 [==============================] - 1s 2ms/step - loss: 0.9279 - accuracy: 0.8776 - val_loss: 0.2769 - val_accuracy: 0.8883\n",
            "Epoch 74/1000\n",
            "240/240 [==============================] - 1s 2ms/step - loss: 0.9240 - accuracy: 0.8782 - val_loss: 0.2760 - val_accuracy: 0.8946\n",
            "Epoch 75/1000\n",
            "240/240 [==============================] - 1s 2ms/step - loss: 0.9257 - accuracy: 0.8819 - val_loss: 0.2932 - val_accuracy: 0.8820\n",
            "Epoch 76/1000\n",
            "240/240 [==============================] - 1s 2ms/step - loss: 0.9250 - accuracy: 0.8776 - val_loss: 0.2746 - val_accuracy: 0.8899\n",
            "Epoch 77/1000\n",
            "240/240 [==============================] - 1s 3ms/step - loss: 0.9260 - accuracy: 0.8802 - val_loss: 0.2792 - val_accuracy: 0.8904\n",
            "Epoch 78/1000\n",
            "240/240 [==============================] - 1s 2ms/step - loss: 0.9253 - accuracy: 0.8793 - val_loss: 0.2801 - val_accuracy: 0.8930\n",
            "Epoch 79/1000\n",
            "240/240 [==============================] - 1s 3ms/step - loss: 0.9225 - accuracy: 0.8799 - val_loss: 0.2757 - val_accuracy: 0.8930\n",
            "Epoch 80/1000\n",
            "240/240 [==============================] - 1s 2ms/step - loss: 0.9238 - accuracy: 0.8827 - val_loss: 0.2722 - val_accuracy: 0.8935\n",
            "Epoch 81/1000\n",
            "240/240 [==============================] - 1s 2ms/step - loss: 0.9217 - accuracy: 0.8795 - val_loss: 0.2716 - val_accuracy: 0.8946\n",
            "Epoch 82/1000\n",
            "240/240 [==============================] - 1s 3ms/step - loss: 0.9212 - accuracy: 0.8835 - val_loss: 0.2946 - val_accuracy: 0.8847\n",
            "Epoch 83/1000\n",
            "240/240 [==============================] - 1s 3ms/step - loss: 0.9176 - accuracy: 0.8793 - val_loss: 0.2573 - val_accuracy: 0.8993\n",
            "Epoch 84/1000\n",
            "240/240 [==============================] - 1s 3ms/step - loss: 0.9212 - accuracy: 0.8806 - val_loss: 0.2606 - val_accuracy: 0.8977\n",
            "Epoch 85/1000\n",
            "240/240 [==============================] - 1s 3ms/step - loss: 0.9192 - accuracy: 0.8820 - val_loss: 0.2857 - val_accuracy: 0.8888\n",
            "Epoch 86/1000\n",
            "240/240 [==============================] - 1s 3ms/step - loss: 0.9179 - accuracy: 0.8827 - val_loss: 0.3217 - val_accuracy: 0.8669\n",
            "Epoch 87/1000\n",
            "240/240 [==============================] - 1s 3ms/step - loss: 0.9179 - accuracy: 0.8795 - val_loss: 0.2807 - val_accuracy: 0.8935\n",
            "Epoch 88/1000\n",
            "240/240 [==============================] - 1s 2ms/step - loss: 0.9161 - accuracy: 0.8824 - val_loss: 0.2917 - val_accuracy: 0.8779\n",
            "Epoch 89/1000\n",
            "240/240 [==============================] - 1s 2ms/step - loss: 0.9179 - accuracy: 0.8823 - val_loss: 0.2761 - val_accuracy: 0.8857\n",
            "Epoch 90/1000\n",
            "240/240 [==============================] - 1s 3ms/step - loss: 0.9177 - accuracy: 0.8821 - val_loss: 0.3000 - val_accuracy: 0.8773\n",
            "Epoch 91/1000\n",
            "240/240 [==============================] - 1s 2ms/step - loss: 0.9166 - accuracy: 0.8816 - val_loss: 0.2835 - val_accuracy: 0.8873\n",
            "Epoch 92/1000\n",
            "240/240 [==============================] - 1s 2ms/step - loss: 0.9084 - accuracy: 0.8836 - val_loss: 0.2705 - val_accuracy: 0.8867\n"
          ]
        }
      ]
    },
    {
      "cell_type": "code",
      "source": [
        "plt.plot(mdl_history2.history['accuracy'])\n",
        "plt.plot(mdl_history2.history['val_accuracy'])\n",
        "plt.legend('train', 'test')"
      ],
      "metadata": {
        "colab": {
          "base_uri": "https://localhost:8080/",
          "height": 560
        },
        "outputId": "50ffeec6-014f-427d-9ecf-036e901d5e27",
        "id": "-YdEgjODvouf"
      },
      "execution_count": null,
      "outputs": [
        {
          "output_type": "stream",
          "name": "stderr",
          "text": [
            "/usr/local/lib/python3.7/dist-packages/ipykernel_launcher.py:3: UserWarning: Legend does not support 't' instances.\n",
            "A proxy artist may be used instead.\n",
            "See: http://matplotlib.org/users/legend_guide.html#creating-artists-specifically-for-adding-to-the-legend-aka-proxy-artists\n",
            "  This is separate from the ipykernel package so we can avoid doing imports until\n",
            "/usr/local/lib/python3.7/dist-packages/ipykernel_launcher.py:3: UserWarning: Legend does not support 'r' instances.\n",
            "A proxy artist may be used instead.\n",
            "See: http://matplotlib.org/users/legend_guide.html#creating-artists-specifically-for-adding-to-the-legend-aka-proxy-artists\n",
            "  This is separate from the ipykernel package so we can avoid doing imports until\n",
            "/usr/local/lib/python3.7/dist-packages/ipykernel_launcher.py:3: UserWarning: Legend does not support 'a' instances.\n",
            "A proxy artist may be used instead.\n",
            "See: http://matplotlib.org/users/legend_guide.html#creating-artists-specifically-for-adding-to-the-legend-aka-proxy-artists\n",
            "  This is separate from the ipykernel package so we can avoid doing imports until\n",
            "/usr/local/lib/python3.7/dist-packages/ipykernel_launcher.py:3: UserWarning: Legend does not support 'i' instances.\n",
            "A proxy artist may be used instead.\n",
            "See: http://matplotlib.org/users/legend_guide.html#creating-artists-specifically-for-adding-to-the-legend-aka-proxy-artists\n",
            "  This is separate from the ipykernel package so we can avoid doing imports until\n"
          ]
        },
        {
          "output_type": "execute_result",
          "data": {
            "text/plain": [
              "<matplotlib.legend.Legend at 0x7fd74ce0b6d0>"
            ]
          },
          "metadata": {},
          "execution_count": 33
        },
        {
          "output_type": "display_data",
          "data": {
            "text/plain": [
              "<Figure size 432x288 with 1 Axes>"
            ],
            "image/png": "[encoded data removed]"
          },
          "metadata": {
            "needs_background": "light"
          }
        }
      ]
    },
    {
      "cell_type": "code",
      "source": [
        "y_pred2 = mdl2.predict(x_test2)"
      ],
      "metadata": {
        "id": "n2JeZfi7w20s"
      },
      "execution_count": null,
      "outputs": []
    },
    {
      "cell_type": "code",
      "source": [
        "y_pred2 = (y_pred2>0.5).astype(int)"
      ],
      "metadata": {
        "id": "BvG6TG5aw20t"
      },
      "execution_count": null,
      "outputs": []
    },
    {
      "cell_type": "code",
      "source": [
        "print(confusion_matrix(y_test,y_pred2))"
      ],
      "metadata": {
        "colab": {
          "base_uri": "https://localhost:8080/"
        },
        "outputId": "af61d241-84d0-4520-9c50-6986d848ea76",
        "id": "CN3Q3_kqw20t"
      },
      "execution_count": null,
      "outputs": [
        {
          "output_type": "stream",
          "name": "stdout",
          "text": [
            "[[ 329   59]\n",
            " [ 158 1370]]\n"
          ]
        }
      ]
    },
    {
      "cell_type": "code",
      "source": [
        "print(classification_report(y_test, y_pred2))"
      ],
      "metadata": {
        "colab": {
          "base_uri": "https://localhost:8080/"
        },
        "outputId": "6c3de1e6-860e-4f20-9427-556dd1373dda",
        "id": "OXVelRmaw20t"
      },
      "execution_count": null,
      "outputs": [
        {
          "output_type": "stream",
          "name": "stdout",
          "text": [
            "              precision    recall  f1-score   support\n",
            "\n",
            "           0       0.68      0.85      0.75       388\n",
            "           1       0.96      0.90      0.93      1528\n",
            "\n",
            "    accuracy                           0.89      1916\n",
            "   macro avg       0.82      0.87      0.84      1916\n",
            "weighted avg       0.90      0.89      0.89      1916\n",
            "\n"
          ]
        }
      ]
    },
    {
      "cell_type": "markdown",
      "source": [
        "### **Results & Inference**\n",
        "\n",
        "The accuracy, precision have both reduced significantly by removing the column fico - this indicates fico informs the model significantly, so we may have to look at other columns. However, the model with all columns performed well on test data with a higher accuracy as we saw earlier, so we will go with that model"
      ],
      "metadata": {
        "id": "Qk5uzrexxUp4"
      }
    }
  ]
}