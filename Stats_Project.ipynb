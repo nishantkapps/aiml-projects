{
  "nbformat": 4,
  "nbformat_minor": 0,
  "metadata": {
    "colab": {
      "provenance": [],
      "toc_visible": true,
      "collapsed_sections": [
        "oxlN1y0uCyfl",
        "n628ovX7qkbQ",
        "EYoAuWFoakX3",
        "OsN8F2KMGtbl",
        "DDW_5cdUgdIF"
      ],
      "mount_file_id": "1ae3yTEEqazktHcf-w82TXOQAAksq6m0O",
      "authorship_tag": "ABX9TyNATIgAApma0wqAE7AOLbps",
      "include_colab_link": true
    },
    "kernelspec": {
      "name": "python3",
      "display_name": "Python 3"
    },
    "language_info": {
      "name": "python"
    }
  },
  "cells": [
    {
      "cell_type": "markdown",
      "metadata": {
        "id": "view-in-github",
        "colab_type": "text"
      },
      "source": [
        "<a href=\"https://colab.research.google.com/github/nishantkapps/aiml-projects/blob/main/Stats_Project.ipynb\" target=\"_parent\"><img src=\"https://colab.research.google.com/assets/colab-badge.svg\" alt=\"Open In Colab\"/></a>"
      ]
    },
    {
      "cell_type": "code",
      "execution_count": 1,
      "metadata": {
        "id": "AfYf4-U07zGm"
      },
      "outputs": [],
      "source": [
        "import pandas as pd\n",
        "import numpy as np\n",
        "import seaborn as sns\n",
        "import matplotlib.pyplot as plt\n",
        "%matplotlib inline\n",
        "import scipy.stats as stat\n",
        "from numpy import random \n",
        "from scipy.stats import binom\n",
        "from scipy.stats import poisson\n",
        "import math as math"
      ]
    },
    {
      "cell_type": "code",
      "source": [
        "from IPython.core.display import HTML\n",
        "def css_styling():\n",
        "    styles = open(\"/content/drive/MyDrive/Colab Notebooks/style.css\", \"r\").read()\n",
        "    return HTML(styles)\n",
        "css_styling()"
      ],
      "metadata": {
        "id": "9W3IOAXZwsfI"
      },
      "execution_count": null,
      "outputs": []
    },
    {
      "cell_type": "code",
      "source": [
        "com = pd.read_csv('/content/drive/MyDrive/datasets/DS+-+Part3+-+CompanyX_EU.csv')"
      ],
      "metadata": {
        "id": "R_lbefbbB31u"
      },
      "execution_count": 3,
      "outputs": []
    },
    {
      "cell_type": "markdown",
      "source": [
        "> #### **Part 1 : Question 1**\n",
        "> #### <font color='green'>Please refer the table below to answer below questions:</font> [2 Marks]\n",
        "\n",
        "Planned to Purchase Product A | Actually placed order for Product A - Yes | Actually placed order for Product A - No | Total\n",
        "---   | --- | ---  | ---\n",
        "Yes   | 400 |  100 |  500\n",
        "No    | 200 | 1300 | 1500\n",
        "Total | 600 | 1400 | 2000\n"
      ],
      "metadata": {
        "id": "oxlN1y0uCyfl"
      }
    },
    {
      "cell_type": "markdown",
      "source": [
        "<hr>\n",
        "<ul>\n",
        "<li>\n",
        "<font color='brown'>1.A. Refer above table and find the joint probability of the people who planned to purchase and actually placed an order.[1 Mark]</font> "
      ],
      "metadata": {
        "id": "c4HvI4LNdFLw"
      }
    },
    {
      "cell_type": "code",
      "source": [
        "nPA = 400        # nPA : number of people who planned to order & actually placed an order\n",
        "nT = 2000        # nT : total number of people \n",
        "pA = nPA / nT    # joint probability\n",
        "pA"
      ],
      "metadata": {
        "colab": {
          "base_uri": "https://localhost:8080/"
        },
        "id": "ZYhVl1b3okHf",
        "outputId": "2f38368e-c492-45df-838d-35d82f41e9d4"
      },
      "execution_count": 4,
      "outputs": [
        {
          "output_type": "execute_result",
          "data": {
            "text/plain": [
              "0.2"
            ]
          },
          "metadata": {},
          "execution_count": 4
        }
      ]
    },
    {
      "cell_type": "markdown",
      "source": [
        "<hr>\n",
        "<ul><li>\n",
        "<font color='brown'> 1.B. Refer to the above table and find the joint probability of the people who planned to purchase and actually placed an order, given that people planned to purchase. [1 Mark] </font> <br><hr>\n",
        "\n",
        "<i>\n",
        "Set A : People who actually placed an order, Set B : People who planned to purchase <br>\n",
        "Conditional probability of (A) given (B), P(A|B) = P(AandB) / P(B) </i>"
      ],
      "metadata": {
        "id": "HS6VbYxjqSS6"
      }
    },
    {
      "cell_type": "code",
      "source": [
        "pAnB = 400/2000    # pAnB : probability of A and B ( From the table )\n",
        "pB   = 500/2000    # pB : probability of B ( From the table)\n",
        "pAgB = pAnB/pB     # pAgB : probability of A given B\n",
        "pAgB"
      ],
      "metadata": {
        "colab": {
          "base_uri": "https://localhost:8080/"
        },
        "id": "onOq8iUWpgWw",
        "outputId": "f3e0a220-9171-4514-e58a-46eadc937aba"
      },
      "execution_count": 5,
      "outputs": [
        {
          "output_type": "execute_result",
          "data": {
            "text/plain": [
              "0.8"
            ]
          },
          "metadata": {},
          "execution_count": 5
        }
      ]
    },
    {
      "cell_type": "markdown",
      "source": [
        "> #### **Part 1 : Question 2**\n",
        "> #### <font color='green'>An electrical manufacturing company conducts quality checks at specified periods on the products it manufactures. Historically, the failure rate for the manufactured item is 5%. Suppose a random sample of 10 manufactured items is selected. Answer the following questions.</font> [4 Marks]\n",
        "\n",
        "\n",
        "---\n",
        "\n",
        "<i>\n",
        "We can use the binomial probability distribution to determine the probability of k failures/successes in n samples. In the given example, we have a sample size of n=10 & a failure probability p=0.05 (5%). This can be passed to the binom pmf / cdf functions in the stats package to answer all questions</i>"
      ],
      "metadata": {
        "id": "n628ovX7qkbQ"
      }
    },
    {
      "cell_type": "code",
      "source": [
        "p = 0.05\n",
        "n = 10\n",
        "pbar = 1-p"
      ],
      "metadata": {
        "id": "ehMqt-Mvq71H"
      },
      "execution_count": 6,
      "outputs": []
    },
    {
      "cell_type": "markdown",
      "source": [
        "<hr>\n",
        "<ul><li>\n",
        "<font color='brown'>2.A. Probability that none of the items are defective? [1 Mark]</font>"
      ],
      "metadata": {
        "id": "HFP-CpNsZZl2"
      }
    },
    {
      "cell_type": "code",
      "source": [
        "k=0\n",
        "p1 = binom.pmf(k, n, p)\n",
        "print ('Probability that none of the items are defective is',str(np.around(p1,4)))"
      ],
      "metadata": {
        "colab": {
          "base_uri": "https://localhost:8080/"
        },
        "id": "VLqbOTEzWvCn",
        "outputId": "16b46bf5-4cbb-444e-84b9-ed34353225b6"
      },
      "execution_count": 7,
      "outputs": [
        {
          "output_type": "stream",
          "name": "stdout",
          "text": [
            "Probability that none of the items are defective is 0.5987\n"
          ]
        }
      ]
    },
    {
      "cell_type": "code",
      "source": [
        "k=19\n",
        "n=30\n",
        "p=0.5\n",
        "p1 = binom.cdf(k, n, p)\n",
        "1-p1"
      ],
      "metadata": {
        "colab": {
          "base_uri": "https://localhost:8080/"
        },
        "id": "edv8QA-27nlD",
        "outputId": "cd985324-f0a3-4d5d-96a0-538f5b1673f6"
      },
      "execution_count": 8,
      "outputs": [
        {
          "output_type": "execute_result",
          "data": {
            "text/plain": [
              "0.04936857335269451"
            ]
          },
          "metadata": {},
          "execution_count": 8
        }
      ]
    },
    {
      "cell_type": "code",
      "source": [
        "mu = 75000\n",
        "sigma = 12000 \n",
        "q = (sigma*sigma/mu)\n",
        "q"
      ],
      "metadata": {
        "colab": {
          "base_uri": "https://localhost:8080/"
        },
        "id": "WXRwGP-u8f6E",
        "outputId": "2d088272-ff9a-4715-e2ee-57851138c7da"
      },
      "execution_count": 9,
      "outputs": [
        {
          "output_type": "execute_result",
          "data": {
            "text/plain": [
              "1920.0"
            ]
          },
          "metadata": {},
          "execution_count": 9
        }
      ]
    },
    {
      "cell_type": "markdown",
      "source": [
        "<hr>\n",
        "<ul><li>\n",
        "<font color='brown'>2.B. Probability that exactly one of the items is defective? [1 Mark]</font>"
      ],
      "metadata": {
        "id": "u9DTFz3AYf9E"
      }
    },
    {
      "cell_type": "code",
      "source": [
        "k=1\n",
        "p2 = binom.pmf(k, n, p)\n",
        "print ('Probability that exactly one of the items is defective is',str(np.around(p2,4)))"
      ],
      "metadata": {
        "colab": {
          "base_uri": "https://localhost:8080/"
        },
        "id": "fyCCTIH9W82P",
        "outputId": "bf7f6b41-1f73-48f0-8e98-0037b8325fbd"
      },
      "execution_count": 10,
      "outputs": [
        {
          "output_type": "stream",
          "name": "stdout",
          "text": [
            "Probability that exactly one of the items is defective is 0.0\n"
          ]
        }
      ]
    },
    {
      "cell_type": "markdown",
      "source": [
        "<hr>\n",
        "<ul><li>\n",
        "<font color='brown'>2.C. Probability that two or fewer of the items are defective? [1 Mark]</font>"
      ],
      "metadata": {
        "id": "1SpHUK00YmaI"
      }
    },
    {
      "cell_type": "code",
      "source": [
        "k=2\n",
        "p3 = binom.cdf(k, n, p)\n",
        "print ('Probability that two or fewer of the items are defective is',str(np.around(p3,4)))"
      ],
      "metadata": {
        "colab": {
          "base_uri": "https://localhost:8080/"
        },
        "id": "TEXLx8TxXAIl",
        "outputId": "97aa174e-536a-4fcf-9e45-c5573ff0980b"
      },
      "execution_count": 11,
      "outputs": [
        {
          "output_type": "stream",
          "name": "stdout",
          "text": [
            "Probability that two or fewer of the items are defective is 0.0\n"
          ]
        }
      ]
    },
    {
      "cell_type": "markdown",
      "source": [
        "<hr>\n",
        "<ul><li>\n",
        "<font color='brown'>2.D. Probability that three or more of the items are defective? [1 Mark]</font>"
      ],
      "metadata": {
        "id": "j6ZmBTv-Yr23"
      }
    },
    {
      "cell_type": "code",
      "source": [
        "k=3\n",
        "p4 = 1 - binom.cdf(k, n, p)\n",
        "print ('Probability that three or more of the items are defective is',str(np.around(p4,4)))"
      ],
      "metadata": {
        "colab": {
          "base_uri": "https://localhost:8080/"
        },
        "id": "OXlmX02KXcfV",
        "outputId": "f3659675-3031-41cd-9b24-70fa173afd12"
      },
      "execution_count": 12,
      "outputs": [
        {
          "output_type": "stream",
          "name": "stdout",
          "text": [
            "Probability that three or more of the items are defective is 1.0\n"
          ]
        }
      ]
    },
    {
      "cell_type": "markdown",
      "source": [
        "> #### **Part 1 : Question 3**\n",
        "> #### <font color='green'>3. A car salesman sells on an average 3 cars per week.</font> [3 Marks]"
      ],
      "metadata": {
        "id": "EYoAuWFoakX3"
      }
    },
    {
      "cell_type": "markdown",
      "source": [
        "<hr>\n",
        "<ul><li>\n",
        "<font color='brown'>3.A. What is Probability that in a given week he will sell some cars? [1 Mark]</font>"
      ],
      "metadata": {
        "id": "5igtbMkEcxip"
      }
    },
    {
      "cell_type": "code",
      "source": [
        "l = 3\n",
        "k = 0\n",
        "p = 1 - poisson.pmf(k, l)\n",
        "print ('Probability that the car salesman will sell some cars this week is',str(np.around(p,4)))"
      ],
      "metadata": {
        "colab": {
          "base_uri": "https://localhost:8080/"
        },
        "id": "tZFhEPw6CFuC",
        "outputId": "ed4af643-ded2-4616-c4da-7859af07c8a8"
      },
      "execution_count": 13,
      "outputs": [
        {
          "output_type": "stream",
          "name": "stdout",
          "text": [
            "Probability that the car salesman will sell some cars this week is 0.9502\n"
          ]
        }
      ]
    },
    {
      "cell_type": "code",
      "source": [
        "l = 5\n",
        "k = 3\n",
        "p = poisson.pmf(k,l)\n",
        "p"
      ],
      "metadata": {
        "colab": {
          "base_uri": "https://localhost:8080/"
        },
        "id": "luefCAR7AOuk",
        "outputId": "7e5edb22-0909-4dd9-f226-e2e9b010c21a"
      },
      "execution_count": 14,
      "outputs": [
        {
          "output_type": "execute_result",
          "data": {
            "text/plain": [
              "0.1403738958142805"
            ]
          },
          "metadata": {},
          "execution_count": 14
        }
      ]
    },
    {
      "cell_type": "markdown",
      "source": [
        "<hr>\n",
        "<ul><li>\n",
        "3.B. What is Probability that in a given week he will sell 2 or more but less than 5 cars? [1 Mark]"
      ],
      "metadata": {
        "id": "Te03iGjTCp9E"
      }
    },
    {
      "cell_type": "code",
      "source": [
        "l = 3\n",
        "k1 = 2\n",
        "k2 = 4\n",
        "p1 = poisson.cdf(k1, l) # probability of selling more than 2 cars\n",
        "p2 = poisson.cdf(k2, l) # probability of selling more than 4 cars\n",
        "p = p2-p1 # probability of selling more than 2 but less than 5 cars\n",
        "print ('Probability that the car salesman will sell more than 2 and less than 5 cars in a given week is',str(np.around(p,4)))"
      ],
      "metadata": {
        "colab": {
          "base_uri": "https://localhost:8080/"
        },
        "id": "YPjhvmlvCkiZ",
        "outputId": "cab9e1f6-736e-4afa-9edb-8b6d3c7778fd"
      },
      "execution_count": 15,
      "outputs": [
        {
          "output_type": "stream",
          "name": "stdout",
          "text": [
            "Probability that the car salesman will sell more than 2 and less than 5 cars in a given week is 0.3921\n"
          ]
        }
      ]
    },
    {
      "cell_type": "markdown",
      "source": [
        "<hr>\n",
        "<ul><li>\n",
        "3.C. Plot the poisson distribution function for cumulative probability of cars sold per-week vs number of cars sold per week. [1 Mark]"
      ],
      "metadata": {
        "id": "Ms3xHz_EDX50"
      }
    },
    {
      "cell_type": "code",
      "source": [
        "l = 3\n",
        "k = np.arange(1,15,1)\n",
        "p = poisson.pmf(k,l)\n",
        "plt.plot(p,'D-')\n",
        "plt.title('Poisson Distribution')\n",
        "plt.xlabel('Number of cars sold per week')\n",
        "plt.ylabel('Cumulative Probability');"
      ],
      "metadata": {
        "colab": {
          "base_uri": "https://localhost:8080/",
          "height": 0
        },
        "id": "uBmE3M-rDfMn",
        "outputId": "24f82bbd-bdb3-4953-e94b-43a484f8244f"
      },
      "execution_count": 16,
      "outputs": [
        {
          "output_type": "display_data",
          "data": {
            "text/plain": [
              "<Figure size 640x480 with 1 Axes>"
            ],
            "image/png": "[encoded data removed]"
          },
          "metadata": {}
        }
      ]
    },
    {
      "cell_type": "markdown",
      "source": [
        "> #### **Part 1 : Question 4**\n",
        "> #### <font color='green'> Accuracy in understanding orders for a speech based bot at a restaurant is important for the Company X which has designed, marketed and launched the product for a contactless delivery due to the COVID-19 pandemic. Recognition accuracy that measures the percentage of orders that are taken correctly is 86.8%. Suppose that you place an order with the bot and two friends of yours independently place orders with the same bot. Answer the following questions. [3 Marks]</font>\n",
        "<hr>\n",
        "<ul><li>\n",
        "4.A. What is the probability that all three orders will be recognised correctly? [1 Mark]"
      ],
      "metadata": {
        "id": "OsN8F2KMGtbl"
      }
    },
    {
      "cell_type": "code",
      "source": [
        "# Function to calculate combination (nCk)\n",
        "def nCk(n, k):\n",
        "  return math.comb(n,k)"
      ],
      "metadata": {
        "id": "QV7Y8taLe2Fd"
      },
      "execution_count": 17,
      "outputs": []
    },
    {
      "cell_type": "code",
      "source": [
        "def Pk(p, n, k):\n",
        "  return nCk(n,k) * (p**k) * ((1-p)**(n-k))"
      ],
      "metadata": {
        "id": "6phc-UNdfEVE"
      },
      "execution_count": 18,
      "outputs": []
    },
    {
      "cell_type": "code",
      "source": [
        "p = 0.868\n",
        "n = 3\n",
        "k = 3\n",
        "\n",
        "prob = Pk(p, n, k)\n",
        "print('Probability of recognizing 3 orders correctly is',str(np.around(prob,4)))"
      ],
      "metadata": {
        "colab": {
          "base_uri": "https://localhost:8080/"
        },
        "id": "Hy1-bEORG6ws",
        "outputId": "b690c558-0182-4d6c-d115-2a0568b3a662"
      },
      "execution_count": 19,
      "outputs": [
        {
          "output_type": "stream",
          "name": "stdout",
          "text": [
            "Probability of recognizing 3 orders correctly is 0.654\n"
          ]
        }
      ]
    },
    {
      "cell_type": "markdown",
      "source": [
        "<hr>\n",
        "<ul><li>\n",
        "4.B. What is the probability that none of the three orders will be recognised correctly? [1 Mark]"
      ],
      "metadata": {
        "id": "IxSOuh_WfnQd"
      }
    },
    {
      "cell_type": "code",
      "source": [
        "p = 0.868\n",
        "n = 3\n",
        "k = 0\n",
        "\n",
        "prob = Pk(p, n, k)\n",
        "print('Probability of not recognizing any order correctly is',str(np.around(prob,4)))"
      ],
      "metadata": {
        "colab": {
          "base_uri": "https://localhost:8080/"
        },
        "id": "9dblDPFifxNc",
        "outputId": "80754245-cce6-4367-ee0b-92f3d2c7b5de"
      },
      "execution_count": 20,
      "outputs": [
        {
          "output_type": "stream",
          "name": "stdout",
          "text": [
            "Probability of not recognizing any order correctly is 0.0023\n"
          ]
        }
      ]
    },
    {
      "cell_type": "markdown",
      "source": [
        "<hr>\n",
        "<ul><li>\n",
        "4.C. What is the probability that at least two of the three orders will be recognised correctly? [1 Mark]"
      ],
      "metadata": {
        "id": "VE136NWJf7ZC"
      }
    },
    {
      "cell_type": "code",
      "source": [
        "p = 0.868\n",
        "n = 3\n",
        "\n",
        "# probability that 2 orders will be recognized correctly\n",
        "k = 2\n",
        "prob1 = Pk(p, n, k)\n",
        "\n",
        "# probability that 3 orders will be recognized correctly\n",
        "k = 3\n",
        "prob2 = Pk(p, n, k)\n",
        "\n",
        "# probability that atleast 2 orders will be recognized correctly \n",
        "prob = prob1 + prob2\n",
        "print('Probability of recognizing atleast 2 orders correctly is',str(np.around(prob,4)))"
      ],
      "metadata": {
        "colab": {
          "base_uri": "https://localhost:8080/"
        },
        "id": "9nNYz1A8gAsS",
        "outputId": "ead25bec-2b7c-47af-d5c2-97d927a94fdb"
      },
      "execution_count": 21,
      "outputs": [
        {
          "output_type": "stream",
          "name": "stdout",
          "text": [
            "Probability of recognizing atleast 2 orders correctly is 0.9523\n"
          ]
        }
      ]
    },
    {
      "cell_type": "markdown",
      "source": [
        "> #### **Part 1 : Question 5**\n",
        "> #### <font color='green'> Explain 1 real life industry scenario (other than the ones mentioned above) where you can use the concepts learnt in this module of Applied Statistics to get data driven business solution.** [3 Marks] </font>"
      ],
      "metadata": {
        "id": "DDW_5cdUgdIF"
      }
    },
    {
      "cell_type": "markdown",
      "source": [],
      "metadata": {
        "id": "fv9ciEGqgsY_"
      }
    },
    {
      "cell_type": "markdown",
      "source": [
        "Part 2"
      ],
      "metadata": {
        "id": "a-8bH8O6zXSB"
      }
    },
    {
      "cell_type": "markdown",
      "source": [
        "> ### Part 2 : Question 1\n",
        "> Read the data set, clean the data and prepare final dataset to be used for analysis. [10 Marks]\n"
      ],
      "metadata": {
        "id": "vqnsnxNFjtqI"
      }
    },
    {
      "cell_type": "code",
      "source": [
        "bb = pd.read_csv('/content/drive/MyDrive/datasets/DS+-+Part2+-+Basketball.csv')"
      ],
      "metadata": {
        "id": "-FyKIpXnczua"
      },
      "execution_count": 38,
      "outputs": []
    },
    {
      "cell_type": "code",
      "source": [
        "bb.columns"
      ],
      "metadata": {
        "colab": {
          "base_uri": "https://localhost:8080/"
        },
        "id": "tRN3f7haeoHx",
        "outputId": "db957172-2a43-4fde-f341-b05ee30dea9b"
      },
      "execution_count": 39,
      "outputs": [
        {
          "output_type": "execute_result",
          "data": {
            "text/plain": [
              "Index(['Team', 'Tournament', 'Score', 'PlayedGames', 'WonGames', 'DrawnGames',\n",
              "       'LostGames', 'BasketScored', 'BasketGiven', 'TournamentChampion',\n",
              "       'Runner-up', 'TeamLaunch', 'HighestPositionHeld'],\n",
              "      dtype='object')"
            ]
          },
          "metadata": {},
          "execution_count": 39
        }
      ]
    },
    {
      "cell_type": "code",
      "source": [
        "bb = bb.replace('-', np.NaN)"
      ],
      "metadata": {
        "id": "WwIdk8Nofh4N"
      },
      "execution_count": 40,
      "outputs": []
    },
    {
      "cell_type": "code",
      "source": [
        "bb.info()"
      ],
      "metadata": {
        "colab": {
          "base_uri": "https://localhost:8080/"
        },
        "id": "OlRS-g80ketU",
        "outputId": "debb4c3c-6621-4f6e-e71e-6ed9e97acbd2"
      },
      "execution_count": 41,
      "outputs": [
        {
          "output_type": "stream",
          "name": "stdout",
          "text": [
            "<class 'pandas.core.frame.DataFrame'>\n",
            "RangeIndex: 61 entries, 0 to 60\n",
            "Data columns (total 13 columns):\n",
            " #   Column               Non-Null Count  Dtype \n",
            "---  ------               --------------  ----- \n",
            " 0   Team                 61 non-null     object\n",
            " 1   Tournament           61 non-null     int64 \n",
            " 2   Score                60 non-null     object\n",
            " 3   PlayedGames          60 non-null     object\n",
            " 4   WonGames             60 non-null     object\n",
            " 5   DrawnGames           60 non-null     object\n",
            " 6   LostGames            60 non-null     object\n",
            " 7   BasketScored         60 non-null     object\n",
            " 8   BasketGiven          60 non-null     object\n",
            " 9   TournamentChampion   9 non-null      object\n",
            " 10  Runner-up            13 non-null     object\n",
            " 11  TeamLaunch           61 non-null     object\n",
            " 12  HighestPositionHeld  61 non-null     int64 \n",
            "dtypes: int64(2), object(11)\n",
            "memory usage: 6.3+ KB\n"
          ]
        }
      ]
    },
    {
      "cell_type": "code",
      "source": [
        "bbcln = bb.drop(columns=['TournamentChampion', 'Runner-up'])"
      ],
      "metadata": {
        "id": "W2-KnZgonju2"
      },
      "execution_count": 42,
      "outputs": []
    },
    {
      "cell_type": "code",
      "source": [
        "i = bbcln[bbcln['Score'].isna()].index"
      ],
      "metadata": {
        "id": "TjEB40btnvme"
      },
      "execution_count": 43,
      "outputs": []
    },
    {
      "cell_type": "code",
      "source": [
        "# Team 61 has played only 1 tournament and there is no data for this team \n",
        "# Best to delete this row from the analysis & include when more details are available\n",
        "bbcln.drop(i, inplace=True)"
      ],
      "metadata": {
        "id": "97F6b-q9n5Bq"
      },
      "execution_count": 44,
      "outputs": []
    },
    {
      "cell_type": "code",
      "source": [
        "bbcln.info()"
      ],
      "metadata": {
        "colab": {
          "base_uri": "https://localhost:8080/"
        },
        "id": "wnEeSj3boijx",
        "outputId": "89cae137-890b-4521-ed35-376affca92d1"
      },
      "execution_count": 45,
      "outputs": [
        {
          "output_type": "stream",
          "name": "stdout",
          "text": [
            "<class 'pandas.core.frame.DataFrame'>\n",
            "RangeIndex: 60 entries, 0 to 59\n",
            "Data columns (total 11 columns):\n",
            " #   Column               Non-Null Count  Dtype \n",
            "---  ------               --------------  ----- \n",
            " 0   Team                 60 non-null     object\n",
            " 1   Tournament           60 non-null     int64 \n",
            " 2   Score                60 non-null     object\n",
            " 3   PlayedGames          60 non-null     object\n",
            " 4   WonGames             60 non-null     object\n",
            " 5   DrawnGames           60 non-null     object\n",
            " 6   LostGames            60 non-null     object\n",
            " 7   BasketScored         60 non-null     object\n",
            " 8   BasketGiven          60 non-null     object\n",
            " 9   TeamLaunch           60 non-null     object\n",
            " 10  HighestPositionHeld  60 non-null     int64 \n",
            "dtypes: int64(2), object(9)\n",
            "memory usage: 5.3+ KB\n"
          ]
        }
      ]
    },
    {
      "cell_type": "code",
      "source": [
        "bbcln = bbcln.astype('int', errors='ignore')"
      ],
      "metadata": {
        "id": "p6r79HWZooxZ"
      },
      "execution_count": 46,
      "outputs": []
    },
    {
      "cell_type": "code",
      "source": [
        "bbcln['TeamLaunch'].unique()"
      ],
      "metadata": {
        "colab": {
          "base_uri": "https://localhost:8080/"
        },
        "id": "3Ux8WoKyoxln",
        "outputId": "ed6498dc-1ef8-43e8-99c9-4f84c12afa0e"
      },
      "execution_count": 47,
      "outputs": [
        {
          "output_type": "execute_result",
          "data": {
            "text/plain": [
              "array(['1929', '1931to32', '1934-35', '1939-40', '1932-33', '1941to42',\n",
              "       '1948-49', '1944_45', '1935-36', '1949_50', '1933to34', '1960-61',\n",
              "       '1951-52', '1998-99', '1941-42', '1977-78', '1959-60', '2004to05',\n",
              "       '1961-62', '1940-41', '1930-31', '1963-64', '1974-75', '1943-44',\n",
              "       '1987-88', '1991_92', '2007-08', '1962-63', '1994-95', '1978-79',\n",
              "       '1971-72', '1999to00', '2014-15', '1990-91', '1947-48', '1996-97',\n",
              "       '1995-96', '1945-46', '1953-54', '1979-80', '1950-51', '2016_17',\n",
              "       '2009-10', '1956-57', '1951~52', '1955-56'], dtype=object)"
            ]
          },
          "metadata": {},
          "execution_count": 47
        }
      ]
    },
    {
      "cell_type": "code",
      "source": [
        "# Consider only the first year provide in Team Launch Range as the Launch Year\n",
        "bbcln['TeamLaunch'] = bbcln['TeamLaunch'].str[:4]"
      ],
      "metadata": {
        "id": "8AotdRFNpe_2"
      },
      "execution_count": 48,
      "outputs": []
    },
    {
      "cell_type": "code",
      "source": [
        "bbcln = bbcln.astype('int', errors='ignore')"
      ],
      "metadata": {
        "id": "sMFTfICSpyW2"
      },
      "execution_count": 49,
      "outputs": []
    },
    {
      "cell_type": "code",
      "source": [
        "bbcln['Score'] = bbcln['Score'].astype('int')\n",
        "bbcln['PlayedGames'] = bbcln['PlayedGames'].astype('int')\n",
        "bbcln['WonGames'] = bbcln['WonGames'].astype('int')\n",
        "bbcln['DrawnGames'] = bbcln['DrawnGames'].astype('int')\n",
        "bbcln['LostGames'] = bbcln['LostGames'].astype('int')\n",
        "bbcln['BasketScored'] = bbcln['BasketScored'].astype('int')\n",
        "bbcln['BasketGiven'] = bbcln['BasketGiven'].astype('int')"
      ],
      "metadata": {
        "id": "gjuR6YAlp9lF"
      },
      "execution_count": 50,
      "outputs": []
    },
    {
      "cell_type": "code",
      "source": [
        "bbcln.describe()"
      ],
      "metadata": {
        "colab": {
          "base_uri": "https://localhost:8080/",
          "height": 364
        },
        "id": "A7ok2fXNhYjA",
        "outputId": "863b3d2d-5de4-4c63-f390-2d2c7beeb67a"
      },
      "execution_count": 51,
      "outputs": [
        {
          "output_type": "execute_result",
          "data": {
            "text/plain": [
              "       Tournament        Score  PlayedGames     WonGames  DrawnGames  \\\n",
              "count   60.000000    60.000000    60.000000    60.000000   60.000000   \n",
              "mean    24.383333   916.450000   810.100000   309.033333  192.083333   \n",
              "std     26.884620  1138.342899   877.465393   408.481395  201.985508   \n",
              "min      1.000000    14.000000    30.000000     5.000000    4.000000   \n",
              "25%      4.000000   104.250000   115.500000    34.750000   26.250000   \n",
              "50%     12.000000   395.500000   424.500000   124.000000   98.500000   \n",
              "75%     39.000000  1360.500000  1345.500000   432.750000  331.500000   \n",
              "max     86.000000  4385.000000  2762.000000  1647.000000  633.000000   \n",
              "\n",
              "         LostGames  BasketScored  BasketGiven   TeamLaunch  \\\n",
              "count    60.000000     60.000000    60.000000    60.000000   \n",
              "mean    308.816667   1159.350000  1159.233333  1957.950000   \n",
              "std     294.508639   1512.063948  1163.946914    26.646732   \n",
              "min      15.000000     34.000000    55.000000  1929.000000   \n",
              "25%      62.750000    154.500000   236.000000  1934.750000   \n",
              "50%     197.500000    444.000000   632.500000  1950.500000   \n",
              "75%     563.500000   1669.750000  2001.250000  1977.250000   \n",
              "max    1070.000000   5947.000000  3889.000000  2016.000000   \n",
              "\n",
              "       HighestPositionHeld  \n",
              "count            60.000000  \n",
              "mean              7.050000  \n",
              "std               5.315232  \n",
              "min               1.000000  \n",
              "25%               3.000000  \n",
              "50%               6.000000  \n",
              "75%              10.000000  \n",
              "max              20.000000  "
            ],
            "text/html": [
              "\n",
              "  <div id=\"df-181690bd-53fb-47a3-a474-60c9d200f969\">\n",
              "    <div class=\"colab-df-container\">\n",
              "      <div>\n",
              "<style scoped>\n",
              "    .dataframe tbody tr th:only-of-type {\n",
              "        vertical-align: middle;\n",
              "    }\n",
              "\n",
              "    .dataframe tbody tr th {\n",
              "        vertical-align: top;\n",
              "    }\n",
              "\n",
              "    .dataframe thead th {\n",
              "        text-align: right;\n",
              "    }\n",
              "</style>\n",
              "<table border=\"1\" class=\"dataframe\">\n",
              "  <thead>\n",
              "    <tr style=\"text-align: right;\">\n",
              "      <th></th>\n",
              "      <th>Tournament</th>\n",
              "      <th>Score</th>\n",
              "      <th>PlayedGames</th>\n",
              "      <th>WonGames</th>\n",
              "      <th>DrawnGames</th>\n",
              "      <th>LostGames</th>\n",
              "      <th>BasketScored</th>\n",
              "      <th>BasketGiven</th>\n",
              "      <th>TeamLaunch</th>\n",
              "      <th>HighestPositionHeld</th>\n",
              "    </tr>\n",
              "  </thead>\n",
              "  <tbody>\n",
              "    <tr>\n",
              "      <th>count</th>\n",
              "      <td>60.000000</td>\n",
              "      <td>60.000000</td>\n",
              "      <td>60.000000</td>\n",
              "      <td>60.000000</td>\n",
              "      <td>60.000000</td>\n",
              "      <td>60.000000</td>\n",
              "      <td>60.000000</td>\n",
              "      <td>60.000000</td>\n",
              "      <td>60.000000</td>\n",
              "      <td>60.000000</td>\n",
              "    </tr>\n",
              "    <tr>\n",
              "      <th>mean</th>\n",
              "      <td>24.383333</td>\n",
              "      <td>916.450000</td>\n",
              "      <td>810.100000</td>\n",
              "      <td>309.033333</td>\n",
              "      <td>192.083333</td>\n",
              "      <td>308.816667</td>\n",
              "      <td>1159.350000</td>\n",
              "      <td>1159.233333</td>\n",
              "      <td>1957.950000</td>\n",
              "      <td>7.050000</td>\n",
              "    </tr>\n",
              "    <tr>\n",
              "      <th>std</th>\n",
              "      <td>26.884620</td>\n",
              "      <td>1138.342899</td>\n",
              "      <td>877.465393</td>\n",
              "      <td>408.481395</td>\n",
              "      <td>201.985508</td>\n",
              "      <td>294.508639</td>\n",
              "      <td>1512.063948</td>\n",
              "      <td>1163.946914</td>\n",
              "      <td>26.646732</td>\n",
              "      <td>5.315232</td>\n",
              "    </tr>\n",
              "    <tr>\n",
              "      <th>min</th>\n",
              "      <td>1.000000</td>\n",
              "      <td>14.000000</td>\n",
              "      <td>30.000000</td>\n",
              "      <td>5.000000</td>\n",
              "      <td>4.000000</td>\n",
              "      <td>15.000000</td>\n",
              "      <td>34.000000</td>\n",
              "      <td>55.000000</td>\n",
              "      <td>1929.000000</td>\n",
              "      <td>1.000000</td>\n",
              "    </tr>\n",
              "    <tr>\n",
              "      <th>25%</th>\n",
              "      <td>4.000000</td>\n",
              "      <td>104.250000</td>\n",
              "      <td>115.500000</td>\n",
              "      <td>34.750000</td>\n",
              "      <td>26.250000</td>\n",
              "      <td>62.750000</td>\n",
              "      <td>154.500000</td>\n",
              "      <td>236.000000</td>\n",
              "      <td>1934.750000</td>\n",
              "      <td>3.000000</td>\n",
              "    </tr>\n",
              "    <tr>\n",
              "      <th>50%</th>\n",
              "      <td>12.000000</td>\n",
              "      <td>395.500000</td>\n",
              "      <td>424.500000</td>\n",
              "      <td>124.000000</td>\n",
              "      <td>98.500000</td>\n",
              "      <td>197.500000</td>\n",
              "      <td>444.000000</td>\n",
              "      <td>632.500000</td>\n",
              "      <td>1950.500000</td>\n",
              "      <td>6.000000</td>\n",
              "    </tr>\n",
              "    <tr>\n",
              "      <th>75%</th>\n",
              "      <td>39.000000</td>\n",
              "      <td>1360.500000</td>\n",
              "      <td>1345.500000</td>\n",
              "      <td>432.750000</td>\n",
              "      <td>331.500000</td>\n",
              "      <td>563.500000</td>\n",
              "      <td>1669.750000</td>\n",
              "      <td>2001.250000</td>\n",
              "      <td>1977.250000</td>\n",
              "      <td>10.000000</td>\n",
              "    </tr>\n",
              "    <tr>\n",
              "      <th>max</th>\n",
              "      <td>86.000000</td>\n",
              "      <td>4385.000000</td>\n",
              "      <td>2762.000000</td>\n",
              "      <td>1647.000000</td>\n",
              "      <td>633.000000</td>\n",
              "      <td>1070.000000</td>\n",
              "      <td>5947.000000</td>\n",
              "      <td>3889.000000</td>\n",
              "      <td>2016.000000</td>\n",
              "      <td>20.000000</td>\n",
              "    </tr>\n",
              "  </tbody>\n",
              "</table>\n",
              "</div>\n",
              "      <button class=\"colab-df-convert\" onclick=\"convertToInteractive('df-181690bd-53fb-47a3-a474-60c9d200f969')\"\n",
              "              title=\"Convert this dataframe to an interactive table.\"\n",
              "              style=\"display:none;\">\n",
              "        \n",
              "  <svg xmlns=\"http://www.w3.org/2000/svg\" height=\"24px\"viewBox=\"0 0 24 24\"\n",
              "       width=\"24px\">\n",
              "    <path d=\"M0 0h24v24H0V0z\" fill=\"none\"/>\n",
              "    <path d=\"M18.56 5.44l.94 2.06.94-2.06 2.06-.94-2.06-.94-.94-2.06-.94 2.06-2.06.94zm-11 1L8.5 8.5l.94-2.06 2.06-.94-2.06-.94L8.5 2.5l-.94 2.06-2.06.94zm10 10l.94 2.06.94-2.06 2.06-.94-2.06-.94-.94-2.06-.94 2.06-2.06.94z\"/><path d=\"M17.41 7.96l-1.37-1.37c-.4-.4-.92-.59-1.43-.59-.52 0-1.04.2-1.43.59L10.3 9.45l-7.72 7.72c-.78.78-.78 2.05 0 2.83L4 21.41c.39.39.9.59 1.41.59.51 0 1.02-.2 1.41-.59l7.78-7.78 2.81-2.81c.8-.78.8-2.07 0-2.86zM5.41 20L4 18.59l7.72-7.72 1.47 1.35L5.41 20z\"/>\n",
              "  </svg>\n",
              "      </button>\n",
              "      \n",
              "  <style>\n",
              "    .colab-df-container {\n",
              "      display:flex;\n",
              "      flex-wrap:wrap;\n",
              "      gap: 12px;\n",
              "    }\n",
              "\n",
              "    .colab-df-convert {\n",
              "      background-color: #E8F0FE;\n",
              "      border: none;\n",
              "      border-radius: 50%;\n",
              "      cursor: pointer;\n",
              "      display: none;\n",
              "      fill: #1967D2;\n",
              "      height: 32px;\n",
              "      padding: 0 0 0 0;\n",
              "      width: 32px;\n",
              "    }\n",
              "\n",
              "    .colab-df-convert:hover {\n",
              "      background-color: #E2EBFA;\n",
              "      box-shadow: 0px 1px 2px rgba(60, 64, 67, 0.3), 0px 1px 3px 1px rgba(60, 64, 67, 0.15);\n",
              "      fill: #174EA6;\n",
              "    }\n",
              "\n",
              "    [theme=dark] .colab-df-convert {\n",
              "      background-color: #3B4455;\n",
              "      fill: #D2E3FC;\n",
              "    }\n",
              "\n",
              "    [theme=dark] .colab-df-convert:hover {\n",
              "      background-color: #434B5C;\n",
              "      box-shadow: 0px 1px 3px 1px rgba(0, 0, 0, 0.15);\n",
              "      filter: drop-shadow(0px 1px 2px rgba(0, 0, 0, 0.3));\n",
              "      fill: #FFFFFF;\n",
              "    }\n",
              "  </style>\n",
              "\n",
              "      <script>\n",
              "        const buttonEl =\n",
              "          document.querySelector('#df-181690bd-53fb-47a3-a474-60c9d200f969 button.colab-df-convert');\n",
              "        buttonEl.style.display =\n",
              "          google.colab.kernel.accessAllowed ? 'block' : 'none';\n",
              "\n",
              "        async function convertToInteractive(key) {\n",
              "          const element = document.querySelector('#df-181690bd-53fb-47a3-a474-60c9d200f969');\n",
              "          const dataTable =\n",
              "            await google.colab.kernel.invokeFunction('convertToInteractive',\n",
              "                                                     [key], {});\n",
              "          if (!dataTable) return;\n",
              "\n",
              "          const docLinkHtml = 'Like what you see? Visit the ' +\n",
              "            '<a target=\"_blank\" href=https://colab.research.google.com/notebooks/data_table.ipynb>data table notebook</a>'\n",
              "            + ' to learn more about interactive tables.';\n",
              "          element.innerHTML = '';\n",
              "          dataTable['output_type'] = 'display_data';\n",
              "          await google.colab.output.renderOutput(dataTable, element);\n",
              "          const docLink = document.createElement('div');\n",
              "          docLink.innerHTML = docLinkHtml;\n",
              "          element.appendChild(docLink);\n",
              "        }\n",
              "      </script>\n",
              "    </div>\n",
              "  </div>\n",
              "  "
            ]
          },
          "metadata": {},
          "execution_count": 51
        }
      ]
    },
    {
      "cell_type": "markdown",
      "source": [
        "> ### Part 2 : Question 2\n",
        "> Perform detailed statistical analysis and EDA using univariate, bi-variate and multivariate EDA techniques to get data driven insights on recommending which teams they can approach which will be a deal win for them. Also as a data and statistics expert you have to develop a detailed performance report using this data. [10 Marks]"
      ],
      "metadata": {
        "id": "4o-7Smehj5Q3"
      }
    },
    {
      "cell_type": "code",
      "source": [
        "# Univariate analysis of all columns \n",
        "\n",
        "numcols = bbcln.select_dtypes(include=np.number).columns.tolist()\n",
        "sns.set(font_scale=0.7)\n",
        "fig, ax = plt.subplots(2,5,figsize=(14,5))\n",
        "plt.subplots_adjust(hspace=0.4)\n",
        "for i, col in enumerate(numcols):  \n",
        "  sns.histplot(bbcln[col], kde=True, ax=ax[i//5,i%5])\n",
        "plt.show()"
      ],
      "metadata": {
        "id": "h41qT2h7ue1N",
        "colab": {
          "base_uri": "https://localhost:8080/",
          "height": 306
        },
        "outputId": "ca4184db-80c4-4d9a-efe7-13c57e4e88b7"
      },
      "execution_count": 36,
      "outputs": [
        {
          "output_type": "display_data",
          "data": {
            "text/plain": [
              "<Figure size 1400x500 with 10 Axes>"
            ],
            "image/png": "[encoded data removed]"
          },
          "metadata": {}
        }
      ]
    },
    {
      "cell_type": "markdown",
      "source": [
        "**More than half the teams (33-34) have played < 20 tournaments, however only 5-6 teams were launched after 2000. This shows that there are approx 20 teams that have been around for more than 20 years and have played less than 20 tournaments.**\n",
        "\n",
        "<hr>\n",
        "<ul><li>\n",
        "A short list of good teams can be identified by filtering for teams that have played more than 20 tournaments, or those that have < 20 tournaments but were in the top 10 positions and were launched after 1990 - this gives us 26 teams."
      ],
      "metadata": {
        "id": "GfOCo0yzVmrJ"
      }
    },
    {
      "cell_type": "code",
      "source": [
        "bbgoodteams = bbcln[((bbcln['Tournament']<20)&(bbcln['TeamLaunch']>1990)&(bbcln['HighestPositionHeld']<10))|(bbcln['Tournament']>20)]"
      ],
      "metadata": {
        "id": "wt1vOeE2WT_C"
      },
      "execution_count": 37,
      "outputs": []
    },
    {
      "cell_type": "code",
      "source": [],
      "metadata": {
        "id": "NVTMF4FV100f"
      },
      "execution_count": null,
      "outputs": []
    },
    {
      "cell_type": "markdown",
      "source": [
        "\n",
        "\n",
        "> Indented block\n",
        "\n"
      ],
      "metadata": {
        "id": "GpNvyZZh1769"
      }
    },
    {
      "cell_type": "markdown",
      "source": [],
      "metadata": {
        "id": "yGC0uCA72HBs"
      }
    }
  ]
}