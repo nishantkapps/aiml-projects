{
  "nbformat": 4,
  "nbformat_minor": 0,
  "metadata": {
    "colab": {
      "provenance": [],
      "authorship_tag": "ABX9TyPlRXa1dopXwt3H/4XxDrPC",
      "include_colab_link": true
    },
    "kernelspec": {
      "name": "python3",
      "display_name": "Python 3"
    },
    "language_info": {
      "name": "python"
    }
  },
  "cells": [
    {
      "cell_type": "markdown",
      "metadata": {
        "id": "view-in-github",
        "colab_type": "text"
      },
      "source": [
        "<a href=\"https://colab.research.google.com/github/nishantkapps/aiml-projects/blob/main/TimeSeriesForecasting.ipynb\" target=\"_parent\"><img src=\"https://colab.research.google.com/assets/colab-badge.svg\" alt=\"Open In Colab\"/></a>"
      ]
    },
    {
      "cell_type": "code",
      "execution_count": null,
      "metadata": {
        "id": "z2EDwIxiN0YC"
      },
      "outputs": [],
      "source": [
        "from pandas import DataFrame\n",
        "from pandas import Series\n",
        "from pandas import concat\n",
        "from pandas import read_csv\n",
        "from pandas import datetime\n",
        "from sklearn.metrics import mean_squared_error\n",
        "from sklearn.preprocessing import MinMaxScaler\n",
        "from keras.models import Sequential\n",
        "from keras.layers import Dense\n",
        "from keras.layers import LSTM\n",
        "from math import sqrt\n",
        "import matplotlib\n",
        "# be able to save images on server\n",
        "matplotlib.use('Agg')\n",
        "from matplotlib import pyplot\n",
        "import numpy"
      ]
    },
    {
      "cell_type": "code",
      "source": [
        "# date-time parsing function for loading the dataset\n",
        "def parser(x):\n",
        "\treturn datetime.strptime('190'+x, '%Y-%m')"
      ],
      "metadata": {
        "id": "zlla5P9PN6Eg"
      },
      "execution_count": null,
      "outputs": []
    },
    {
      "cell_type": "code",
      "source": [
        "# frame a sequence as a supervised learning problem\n",
        "def timeseries_to_supervised(data, lag=1):\n",
        "\tdf = DataFrame(data)\n",
        "\tcolumns = [df.shift(i) for i in range(1, lag+1)]\n",
        "\tcolumns.append(df)\n",
        "\tdf = concat(columns, axis=1)\n",
        "\tdf = df.drop(0)\n",
        "\treturn df"
      ],
      "metadata": {
        "id": "cE3FJvsdN9fu"
      },
      "execution_count": null,
      "outputs": []
    },
    {
      "cell_type": "code",
      "source": [
        "# create a differenced series\n",
        "def difference(dataset, interval=1):\n",
        "\tdiff = list()\n",
        "\tfor i in range(interval, len(dataset)):\n",
        "\t\tvalue = dataset[i] - dataset[i - interval]\n",
        "\t\tdiff.append(value)\n",
        "\treturn Series(diff)"
      ],
      "metadata": {
        "id": "Ga5snivpOAnH"
      },
      "execution_count": null,
      "outputs": []
    },
    {
      "cell_type": "code",
      "source": [
        "# invert differenced value\n",
        "def inverse_difference(history, yhat, interval=1):\n",
        "\treturn yhat + history[-interval]"
      ],
      "metadata": {
        "id": "9R8XbYOrOGwG"
      },
      "execution_count": null,
      "outputs": []
    },
    {
      "cell_type": "code",
      "source": [
        "# scale train and test data to [-1, 1]\n",
        "def scale(train, test):\n",
        "\t# fit scaler\n",
        "\tscaler = MinMaxScaler(feature_range=(-1, 1))\n",
        "\tscaler = scaler.fit(train)\n",
        "\t# transform train\n",
        "\ttrain = train.reshape(train.shape[0], train.shape[1])\n",
        "\ttrain_scaled = scaler.transform(train)\n",
        "\t# transform test\n",
        "\ttest = test.reshape(test.shape[0], test.shape[1])\n",
        "\ttest_scaled = scaler.transform(test)\n",
        "\treturn scaler, train_scaled, test_scaled"
      ],
      "metadata": {
        "id": "ZCVagglXOJg_"
      },
      "execution_count": null,
      "outputs": []
    },
    {
      "cell_type": "code",
      "source": [
        "# inverse scaling for a forecasted value\n",
        "def invert_scale(scaler, X, yhat):\n",
        "\tnew_row = [x for x in X] + [yhat]\n",
        "\tarray = numpy.array(new_row)\n",
        "\tarray = array.reshape(1, len(array))\n",
        "\tinverted = scaler.inverse_transform(array)\n",
        "\treturn inverted[0, -1]"
      ],
      "metadata": {
        "id": "7X_fIg_aOMh6"
      },
      "execution_count": null,
      "outputs": []
    },
    {
      "cell_type": "code",
      "source": [
        "# fit an LSTM network to training data\n",
        "def fit_lstm(train, batch_size, nb_epoch, neurons):\n",
        "\tX, y = train[:, 0:-1], train[:, -1]\n",
        "\tX = X.reshape(X.shape[0], 1, X.shape[1])\n",
        "\tmodel = Sequential()\n",
        "\tmodel.add(LSTM(neurons, batch_input_shape=(batch_size, X.shape[1], X.shape[2]), stateful=True))\n",
        "\tmodel.add(Dense(1))\n",
        "\tmodel.compile(loss='mean_squared_error', optimizer='adam')\n",
        "\tfor i in range(nb_epoch):\n",
        "\t\tmodel.fit(X, y, epochs=1, batch_size=batch_size, verbose=0, shuffle=False)\n",
        "\t\tmodel.reset_states()\n",
        "\treturn model"
      ],
      "metadata": {
        "id": "LqGsrloQORNb"
      },
      "execution_count": null,
      "outputs": []
    },
    {
      "cell_type": "code",
      "source": [
        "# run a repeated experiment\n",
        "def experiment(repeats, series, epochs):\n",
        "\t# transform data to be stationary\n",
        "\traw_values = series.values\n",
        "\tdiff_values = difference(raw_values, 1)\n",
        "\t# transform data to be supervised learning\n",
        "\tsupervised = timeseries_to_supervised(diff_values, 1)\n",
        "\tsupervised_values = supervised.values\n",
        "\t# split data into train and test-sets\n",
        "\ttrain, test = supervised_values[0:-12], supervised_values[-12:]\n",
        "\t# transform the scale of the data\n",
        "\tscaler, train_scaled, test_scaled = scale(train, test)\n",
        "\t# run experiment\n",
        "\terror_scores = list()\n",
        "\tfor r in range(repeats):\n",
        "\t\t# fit the model\n",
        "\t\tbatch_size = 4\n",
        "\t\ttrain_trimmed = train_scaled[2:, :]\n",
        "\t\tlstm_model = fit_lstm(train_trimmed, batch_size, epochs, 1)\n",
        "\t\t# forecast the entire training dataset to build up state for forecasting\n",
        "\t\ttrain_reshaped = train_trimmed[:, 0].reshape(len(train_trimmed), 1, 1)\n",
        "\t\tlstm_model.predict(train_reshaped, batch_size=batch_size)\n",
        "\t\t# forecast test dataset\n",
        "\t\ttest_reshaped = test_scaled[:,0:-1]\n",
        "\t\ttest_reshaped = test_reshaped.reshape(len(test_reshaped), 1, 1)\n",
        "\t\toutput = lstm_model.predict(test_reshaped, batch_size=batch_size)\n",
        "\t\tpredictions = list()\n",
        "\t\tfor i in range(len(output)):\n",
        "\t\t\tyhat = output[i,0]\n",
        "\t\t\tX = test_scaled[i, 0:-1]\n",
        "\t\t\t# invert scaling\n",
        "\t\t\tyhat = invert_scale(scaler, X, yhat)\n",
        "\t\t\t# invert differencing\n",
        "\t\t\tyhat = inverse_difference(raw_values, yhat, len(test_scaled)+1-i)\n",
        "\t\t\t# store forecast\n",
        "\t\t\tpredictions.append(yhat)\n",
        "\t\t# report performance\n",
        "\t\trmse = sqrt(mean_squared_error(raw_values[-12:], predictions))\n",
        "\t\tprint('%d) Test RMSE: %.3f' % (r+1, rmse))\n",
        "\t\terror_scores.append(rmse)\n",
        "\treturn error_scores"
      ],
      "metadata": {
        "id": "g3D0wA7QOUFq"
      },
      "execution_count": null,
      "outputs": []
    },
    {
      "cell_type": "code",
      "source": [
        "# load dataset\n",
        "series = read_csv('shampoo-sales.csv', header=0, parse_dates=[0], index_col=0, squeeze=True, date_parser=parser)\n",
        "# experiment\n",
        "repeats = 30\n",
        "results = DataFrame()\n",
        "# vary training epochs\n",
        "epochs = [500, 1000, 2000, 4000, 6000]\n",
        "for e in epochs:\n",
        "\tresults[str(e)] = experiment(repeats, series, e)\n",
        "# summarize results\n",
        "print(results.describe())\n",
        "# save boxplot\n",
        "results.boxplot()\n",
        "pyplot.savefig('boxplot_epochs.png')"
      ],
      "metadata": {
        "id": "h-1YFzKqOXDL"
      },
      "execution_count": null,
      "outputs": []
    }
  ]
}